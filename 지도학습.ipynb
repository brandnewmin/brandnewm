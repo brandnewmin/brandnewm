{
  "nbformat": 4,
  "nbformat_minor": 0,
  "metadata": {
    "colab": {
      "name": "지도학습.ipynb",
      "provenance": [],
      "collapsed_sections": [
        "ZjHqOhpMf0F3"
      ],
      "toc_visible": true,
      "authorship_tag": "ABX9TyPp7VNEJbay4+ziIRuLRRdh",
      "include_colab_link": true
    },
    "kernelspec": {
      "name": "python3",
      "display_name": "Python 3"
    },
    "language_info": {
      "name": "python"
    }
  },
  "cells": [
    {
      "cell_type": "markdown",
      "metadata": {
        "id": "view-in-github",
        "colab_type": "text"
      },
      "source": [
        "<a href=\"https://colab.research.google.com/github/brandnewmin/brandnewm/blob/master/%EC%A7%80%EB%8F%84%ED%95%99%EC%8A%B5.ipynb\" target=\"_parent\"><img src=\"https://colab.research.google.com/assets/colab-badge.svg\" alt=\"Open In Colab\"/></a>"
      ]
    },
    {
      "cell_type": "markdown",
      "source": [
        "1. 데이터 적재 : 데이터 불러오기\n",
        "2. 훈련 데이터와 테스트 데이터로 나누기\n",
        "3. 데이터 살펴보기 : 산점도\n",
        "4. 모델링 : K-NN 분류기\n",
        "5. 모델 예측하기\n",
        "6. 모델 평가하기"
      ],
      "metadata": {
        "id": "hvi2pp6qARft"
      }
    },
    {
      "cell_type": "code",
      "source": [
        "!sudo apt-get install -y fonts-nanum\n",
        "!sudo fc-cache -fv\n",
        "!rm ~/.cache/matplotlib -rf"
      ],
      "metadata": {
        "colab": {
          "base_uri": "https://localhost:8080/"
        },
        "id": "29Z_6qVXCNti",
        "outputId": "dff8a3b5-5d18-49ca-8808-ed63a68abbe9"
      },
      "execution_count": 1,
      "outputs": [
        {
          "output_type": "stream",
          "name": "stdout",
          "text": [
            "Reading package lists... Done\n",
            "Building dependency tree       \n",
            "Reading state information... Done\n",
            "The following NEW packages will be installed:\n",
            "  fonts-nanum\n",
            "0 upgraded, 1 newly installed, 0 to remove and 37 not upgraded.\n",
            "Need to get 9,604 kB of archives.\n",
            "After this operation, 29.5 MB of additional disk space will be used.\n",
            "Get:1 http://archive.ubuntu.com/ubuntu bionic/universe amd64 fonts-nanum all 20170925-1 [9,604 kB]\n",
            "Fetched 9,604 kB in 1s (10.2 MB/s)\n",
            "debconf: unable to initialize frontend: Dialog\n",
            "debconf: (No usable dialog-like program is installed, so the dialog based frontend cannot be used. at /usr/share/perl5/Debconf/FrontEnd/Dialog.pm line 76, <> line 1.)\n",
            "debconf: falling back to frontend: Readline\n",
            "debconf: unable to initialize frontend: Readline\n",
            "debconf: (This frontend requires a controlling tty.)\n",
            "debconf: falling back to frontend: Teletype\n",
            "dpkg-preconfigure: unable to re-open stdin: \n",
            "Selecting previously unselected package fonts-nanum.\n",
            "(Reading database ... 155225 files and directories currently installed.)\n",
            "Preparing to unpack .../fonts-nanum_20170925-1_all.deb ...\n",
            "Unpacking fonts-nanum (20170925-1) ...\n",
            "Setting up fonts-nanum (20170925-1) ...\n",
            "Processing triggers for fontconfig (2.12.6-0ubuntu2) ...\n",
            "/usr/share/fonts: caching, new cache contents: 0 fonts, 1 dirs\n",
            "/usr/share/fonts/truetype: caching, new cache contents: 0 fonts, 3 dirs\n",
            "/usr/share/fonts/truetype/humor-sans: caching, new cache contents: 1 fonts, 0 dirs\n",
            "/usr/share/fonts/truetype/liberation: caching, new cache contents: 16 fonts, 0 dirs\n",
            "/usr/share/fonts/truetype/nanum: caching, new cache contents: 10 fonts, 0 dirs\n",
            "/usr/local/share/fonts: caching, new cache contents: 0 fonts, 0 dirs\n",
            "/root/.local/share/fonts: skipping, no such directory\n",
            "/root/.fonts: skipping, no such directory\n",
            "/var/cache/fontconfig: cleaning cache directory\n",
            "/root/.cache/fontconfig: not cleaning non-existent cache directory\n",
            "/root/.fontconfig: not cleaning non-existent cache directory\n",
            "fc-cache: succeeded\n"
          ]
        }
      ]
    },
    {
      "cell_type": "markdown",
      "source": [
        "# CHAPTER 2. 지도 학습"
      ],
      "metadata": {
        "id": "3ff7XeJaAplp"
      }
    },
    {
      "cell_type": "code",
      "source": [
        "pip install mglearn"
      ],
      "metadata": {
        "colab": {
          "base_uri": "https://localhost:8080/"
        },
        "id": "JZYMJkz-CHtE",
        "outputId": "8e7013cb-a669-448b-fc89-ec996a8bb18c"
      },
      "execution_count": 1,
      "outputs": [
        {
          "output_type": "stream",
          "name": "stdout",
          "text": [
            "Collecting mglearn\n",
            "  Downloading mglearn-0.1.9.tar.gz (540 kB)\n",
            "\u001b[?25l\r\u001b[K     |▋                               | 10 kB 23.9 MB/s eta 0:00:01\r\u001b[K     |█▏                              | 20 kB 30.9 MB/s eta 0:00:01\r\u001b[K     |█▉                              | 30 kB 37.1 MB/s eta 0:00:01\r\u001b[K     |██▍                             | 40 kB 36.8 MB/s eta 0:00:01\r\u001b[K     |███                             | 51 kB 36.9 MB/s eta 0:00:01\r\u001b[K     |███▋                            | 61 kB 26.5 MB/s eta 0:00:01\r\u001b[K     |████▎                           | 71 kB 23.9 MB/s eta 0:00:01\r\u001b[K     |████▉                           | 81 kB 24.8 MB/s eta 0:00:01\r\u001b[K     |█████▌                          | 92 kB 26.4 MB/s eta 0:00:01\r\u001b[K     |██████                          | 102 kB 28.0 MB/s eta 0:00:01\r\u001b[K     |██████▊                         | 112 kB 28.0 MB/s eta 0:00:01\r\u001b[K     |███████▎                        | 122 kB 28.0 MB/s eta 0:00:01\r\u001b[K     |███████▉                        | 133 kB 28.0 MB/s eta 0:00:01\r\u001b[K     |████████▌                       | 143 kB 28.0 MB/s eta 0:00:01\r\u001b[K     |█████████                       | 153 kB 28.0 MB/s eta 0:00:01\r\u001b[K     |█████████▊                      | 163 kB 28.0 MB/s eta 0:00:01\r\u001b[K     |██████████▎                     | 174 kB 28.0 MB/s eta 0:00:01\r\u001b[K     |███████████                     | 184 kB 28.0 MB/s eta 0:00:01\r\u001b[K     |███████████▌                    | 194 kB 28.0 MB/s eta 0:00:01\r\u001b[K     |████████████▏                   | 204 kB 28.0 MB/s eta 0:00:01\r\u001b[K     |████████████▊                   | 215 kB 28.0 MB/s eta 0:00:01\r\u001b[K     |█████████████▍                  | 225 kB 28.0 MB/s eta 0:00:01\r\u001b[K     |██████████████                  | 235 kB 28.0 MB/s eta 0:00:01\r\u001b[K     |██████████████▋                 | 245 kB 28.0 MB/s eta 0:00:01\r\u001b[K     |███████████████▏                | 256 kB 28.0 MB/s eta 0:00:01\r\u001b[K     |███████████████▊                | 266 kB 28.0 MB/s eta 0:00:01\r\u001b[K     |████████████████▍               | 276 kB 28.0 MB/s eta 0:00:01\r\u001b[K     |█████████████████               | 286 kB 28.0 MB/s eta 0:00:01\r\u001b[K     |█████████████████▋              | 296 kB 28.0 MB/s eta 0:00:01\r\u001b[K     |██████████████████▏             | 307 kB 28.0 MB/s eta 0:00:01\r\u001b[K     |██████████████████▉             | 317 kB 28.0 MB/s eta 0:00:01\r\u001b[K     |███████████████████▍            | 327 kB 28.0 MB/s eta 0:00:01\r\u001b[K     |████████████████████            | 337 kB 28.0 MB/s eta 0:00:01\r\u001b[K     |████████████████████▋           | 348 kB 28.0 MB/s eta 0:00:01\r\u001b[K     |█████████████████████▎          | 358 kB 28.0 MB/s eta 0:00:01\r\u001b[K     |█████████████████████▉          | 368 kB 28.0 MB/s eta 0:00:01\r\u001b[K     |██████████████████████▌         | 378 kB 28.0 MB/s eta 0:00:01\r\u001b[K     |███████████████████████         | 389 kB 28.0 MB/s eta 0:00:01\r\u001b[K     |███████████████████████▋        | 399 kB 28.0 MB/s eta 0:00:01\r\u001b[K     |████████████████████████▎       | 409 kB 28.0 MB/s eta 0:00:01\r\u001b[K     |████████████████████████▉       | 419 kB 28.0 MB/s eta 0:00:01\r\u001b[K     |█████████████████████████▌      | 430 kB 28.0 MB/s eta 0:00:01\r\u001b[K     |██████████████████████████      | 440 kB 28.0 MB/s eta 0:00:01\r\u001b[K     |██████████████████████████▊     | 450 kB 28.0 MB/s eta 0:00:01\r\u001b[K     |███████████████████████████▎    | 460 kB 28.0 MB/s eta 0:00:01\r\u001b[K     |████████████████████████████    | 471 kB 28.0 MB/s eta 0:00:01\r\u001b[K     |████████████████████████████▌   | 481 kB 28.0 MB/s eta 0:00:01\r\u001b[K     |█████████████████████████████▏  | 491 kB 28.0 MB/s eta 0:00:01\r\u001b[K     |█████████████████████████████▊  | 501 kB 28.0 MB/s eta 0:00:01\r\u001b[K     |██████████████████████████████▍ | 512 kB 28.0 MB/s eta 0:00:01\r\u001b[K     |███████████████████████████████ | 522 kB 28.0 MB/s eta 0:00:01\r\u001b[K     |███████████████████████████████▌| 532 kB 28.0 MB/s eta 0:00:01\r\u001b[K     |████████████████████████████████| 540 kB 28.0 MB/s \n",
            "\u001b[?25hRequirement already satisfied: numpy in /usr/local/lib/python3.7/dist-packages (from mglearn) (1.19.5)\n",
            "Requirement already satisfied: matplotlib in /usr/local/lib/python3.7/dist-packages (from mglearn) (3.2.2)\n",
            "Requirement already satisfied: scikit-learn in /usr/local/lib/python3.7/dist-packages (from mglearn) (1.0.1)\n",
            "Requirement already satisfied: pandas in /usr/local/lib/python3.7/dist-packages (from mglearn) (1.1.5)\n",
            "Requirement already satisfied: pillow in /usr/local/lib/python3.7/dist-packages (from mglearn) (7.1.2)\n",
            "Requirement already satisfied: cycler in /usr/local/lib/python3.7/dist-packages (from mglearn) (0.11.0)\n",
            "Requirement already satisfied: imageio in /usr/local/lib/python3.7/dist-packages (from mglearn) (2.4.1)\n",
            "Requirement already satisfied: joblib in /usr/local/lib/python3.7/dist-packages (from mglearn) (1.1.0)\n",
            "Requirement already satisfied: kiwisolver>=1.0.1 in /usr/local/lib/python3.7/dist-packages (from matplotlib->mglearn) (1.3.2)\n",
            "Requirement already satisfied: pyparsing!=2.0.4,!=2.1.2,!=2.1.6,>=2.0.1 in /usr/local/lib/python3.7/dist-packages (from matplotlib->mglearn) (3.0.6)\n",
            "Requirement already satisfied: python-dateutil>=2.1 in /usr/local/lib/python3.7/dist-packages (from matplotlib->mglearn) (2.8.2)\n",
            "Requirement already satisfied: six>=1.5 in /usr/local/lib/python3.7/dist-packages (from python-dateutil>=2.1->matplotlib->mglearn) (1.15.0)\n",
            "Requirement already satisfied: pytz>=2017.2 in /usr/local/lib/python3.7/dist-packages (from pandas->mglearn) (2018.9)\n",
            "Requirement already satisfied: scipy>=1.1.0 in /usr/local/lib/python3.7/dist-packages (from scikit-learn->mglearn) (1.4.1)\n",
            "Requirement already satisfied: threadpoolctl>=2.0.0 in /usr/local/lib/python3.7/dist-packages (from scikit-learn->mglearn) (3.0.0)\n",
            "Building wheels for collected packages: mglearn\n",
            "  Building wheel for mglearn (setup.py) ... \u001b[?25l\u001b[?25hdone\n",
            "  Created wheel for mglearn: filename=mglearn-0.1.9-py2.py3-none-any.whl size=582637 sha256=bf88f7a2287ad7b49a3dd04152812413bce5f9f48141d2eb8d24c4f0199f1829\n",
            "  Stored in directory: /root/.cache/pip/wheels/f1/17/e1/1720d6dcd70187b6b6c3750cb3508798f2b1d57c9d3214b08b\n",
            "Successfully built mglearn\n",
            "Installing collected packages: mglearn\n",
            "Successfully installed mglearn-0.1.9\n"
          ]
        }
      ]
    },
    {
      "cell_type": "code",
      "source": [
        "from IPython.display import display\n",
        "import numpy as np\n",
        "import pandas as pd\n",
        "import matplotlib.pyplot as plt\n",
        "import mglearn\n",
        "\n",
        "plt.rc('font', family='NanumBarunGothic') "
      ],
      "metadata": {
        "id": "GCdD24m9BtXj"
      },
      "execution_count": 2,
      "outputs": []
    },
    {
      "cell_type": "code",
      "execution_count": null,
      "metadata": {
        "colab": {
          "base_uri": "https://localhost:8080/",
          "height": 426
        },
        "id": "khDcfDv-9L8P",
        "outputId": "49b8e207-e377-40e3-df85-232acd90a91a"
      },
      "outputs": [
        {
          "output_type": "stream",
          "name": "stderr",
          "text": [
            "/usr/local/lib/python3.7/dist-packages/sklearn/utils/deprecation.py:87: FutureWarning: Function make_blobs is deprecated; Please import make_blobs directly from scikit-learn\n",
            "  warnings.warn(msg, category=FutureWarning)\n",
            "/usr/local/lib/python3.7/dist-packages/matplotlib/backends/backend_agg.py:214: RuntimeWarning: Glyph 8722 missing from current font.\n",
            "  font.set_text(s, 0.0, flags=flags)\n",
            "/usr/local/lib/python3.7/dist-packages/matplotlib/backends/backend_agg.py:183: RuntimeWarning: Glyph 8722 missing from current font.\n",
            "  font.set_text(s, 0, flags=flags)\n"
          ]
        },
        {
          "output_type": "stream",
          "name": "stdout",
          "text": [
            "X.shape : (26, 2)\n"
          ]
        },
        {
          "output_type": "display_data",
          "data": {
            "image/png": "[encoded data removed]",
            "text/plain": [
              "<Figure size 432x288 with 1 Axes>"
            ]
          },
          "metadata": {
            "needs_background": "light"
          }
        }
      ],
      "source": [
        "# 2.3.1 (58쪽)\n",
        "X, y = mglearn.datasets.make_forge()\n",
        "mglearn.discrete_scatter(X[:,0], X[:,1], y)\n",
        "plt.legend(['클래스 0','클래스 1'], loc = 4)\n",
        "plt.xlabel('첫번째 특성')\n",
        "plt.ylabel('두번째 특성')\n",
        "print('X.shape :', X.shape)"
      ]
    },
    {
      "cell_type": "code",
      "source": [
        "#mglearn.datasets.make_forge()"
      ],
      "metadata": {
        "colab": {
          "base_uri": "https://localhost:8080/"
        },
        "id": "mJbbU3H5BsP3",
        "outputId": "2e1e6aff-324f-4cc0-a899-7b567d6fbe5b"
      },
      "execution_count": null,
      "outputs": [
        {
          "output_type": "stream",
          "name": "stderr",
          "text": [
            "/usr/local/lib/python3.7/dist-packages/sklearn/utils/deprecation.py:87: FutureWarning: Function make_blobs is deprecated; Please import make_blobs directly from scikit-learn\n",
            "  warnings.warn(msg, category=FutureWarning)\n"
          ]
        },
        {
          "output_type": "execute_result",
          "data": {
            "text/plain": [
              "(array([[ 9.96346605,  4.59676542],\n",
              "        [11.0329545 , -0.16816717],\n",
              "        [11.54155807,  5.21116083],\n",
              "        [ 8.69289001,  1.54322016],\n",
              "        [ 8.1062269 ,  4.28695977],\n",
              "        [ 8.30988863,  4.80623966],\n",
              "        [11.93027136,  4.64866327],\n",
              "        [ 9.67284681, -0.20283165],\n",
              "        [ 8.34810316,  5.13415623],\n",
              "        [ 8.67494727,  4.47573059],\n",
              "        [ 9.17748385,  5.09283177],\n",
              "        [10.24028948,  2.45544401],\n",
              "        [ 8.68937095,  1.48709629],\n",
              "        [ 8.92229526, -0.63993225],\n",
              "        [ 9.49123469,  4.33224792],\n",
              "        [ 9.25694192,  5.13284858],\n",
              "        [ 7.99815287,  4.8525051 ],\n",
              "        [ 8.18378052,  1.29564214],\n",
              "        [ 8.7337095 ,  2.49162431],\n",
              "        [ 9.32298256,  5.09840649],\n",
              "        [10.06393839,  0.99078055],\n",
              "        [ 9.50048972, -0.26430318],\n",
              "        [ 8.34468785,  1.63824349],\n",
              "        [ 9.50169345,  1.93824624],\n",
              "        [ 9.15072323,  5.49832246],\n",
              "        [11.563957  ,  1.3389402 ]]),\n",
              " array([1, 0, 1, 0, 0, 1, 1, 0, 1, 1, 1, 1, 0, 0, 1, 1, 1, 0, 0, 1, 0, 0,\n",
              "        0, 0, 1, 0]))"
            ]
          },
          "metadata": {},
          "execution_count": 5
        }
      ]
    },
    {
      "cell_type": "code",
      "source": [
        "#type(mglearn.datasets.make_forge())"
      ],
      "metadata": {
        "colab": {
          "base_uri": "https://localhost:8080/"
        },
        "id": "S-8s3SxFCuB4",
        "outputId": "16ac41eb-4d37-41c8-bc22-e65c1d1f6e27"
      },
      "execution_count": null,
      "outputs": [
        {
          "output_type": "stream",
          "name": "stderr",
          "text": [
            "/usr/local/lib/python3.7/dist-packages/sklearn/utils/deprecation.py:87: FutureWarning: Function make_blobs is deprecated; Please import make_blobs directly from scikit-learn\n",
            "  warnings.warn(msg, category=FutureWarning)\n"
          ]
        },
        {
          "output_type": "execute_result",
          "data": {
            "text/plain": [
              "tuple"
            ]
          },
          "metadata": {},
          "execution_count": 6
        }
      ]
    },
    {
      "cell_type": "code",
      "source": [
        "# print( X[:,0], len(X), len(y) )"
      ],
      "metadata": {
        "colab": {
          "base_uri": "https://localhost:8080/"
        },
        "id": "PyYtyG9ICw93",
        "outputId": "c00177a1-c7df-4a7d-9b42-7e69ec02760f"
      },
      "execution_count": null,
      "outputs": [
        {
          "output_type": "stream",
          "name": "stdout",
          "text": [
            "[ 9.96346605 11.0329545  11.54155807  8.69289001  8.1062269   8.30988863\n",
            " 11.93027136  9.67284681  8.34810316  8.67494727  9.17748385 10.24028948\n",
            "  8.68937095  8.92229526  9.49123469  9.25694192  7.99815287  8.18378052\n",
            "  8.7337095   9.32298256 10.06393839  9.50048972  8.34468785  9.50169345\n",
            "  9.15072323 11.563957  ] 26 26\n"
          ]
        }
      ]
    },
    {
      "cell_type": "markdown",
      "source": [
        "## 회귀 알고리즘을 위한 wave 데이터셋 - p.59"
      ],
      "metadata": {
        "id": "Boaj1YjYDmyB"
      }
    },
    {
      "cell_type": "code",
      "source": [
        "X,y = mglearn.datasets.make_wave(n_samples = 40)\n",
        "plt.plot(X,y,'o')\n",
        "plt.ylim(-3,3)\n",
        "plt.xlabel('feature')\n",
        "plt.ylabel('target')\n",
        "# 선형성 확인"
      ],
      "metadata": {
        "colab": {
          "base_uri": "https://localhost:8080/",
          "height": 356
        },
        "id": "TlacNjERC0gh",
        "outputId": "64b67e80-eaaa-4cd3-b284-206e75e2bb59"
      },
      "execution_count": null,
      "outputs": [
        {
          "output_type": "execute_result",
          "data": {
            "text/plain": [
              "Text(0, 0.5, 'target')"
            ]
          },
          "metadata": {},
          "execution_count": 4
        },
        {
          "output_type": "stream",
          "name": "stderr",
          "text": [
            "/usr/local/lib/python3.7/dist-packages/matplotlib/backends/backend_agg.py:214: RuntimeWarning: Glyph 8722 missing from current font.\n",
            "  font.set_text(s, 0.0, flags=flags)\n",
            "/usr/local/lib/python3.7/dist-packages/matplotlib/backends/backend_agg.py:183: RuntimeWarning: Glyph 8722 missing from current font.\n",
            "  font.set_text(s, 0, flags=flags)\n"
          ]
        },
        {
          "output_type": "display_data",
          "data": {
            "image/png": "[encoded data removed]",
            "text/plain": [
              "<Figure size 432x288 with 1 Axes>"
            ]
          },
          "metadata": {
            "needs_background": "light"
          }
        }
      ]
    },
    {
      "cell_type": "markdown",
      "source": [
        "## load_breast_cancer"
      ],
      "metadata": {
        "id": "Wrbe6WFMEGIV"
      }
    },
    {
      "cell_type": "code",
      "source": [
        "from sklearn.datasets import load_breast_cancer\n",
        "\n",
        "cancer = load_breast_cancer()\n",
        "print(' cancer.keys() :\\n', cancer.keys())"
      ],
      "metadata": {
        "colab": {
          "base_uri": "https://localhost:8080/"
        },
        "id": "jTzwwQ3ID5ow",
        "outputId": "0c62173b-8d8e-44c3-ee14-588ef1a1ce36"
      },
      "execution_count": null,
      "outputs": [
        {
          "output_type": "stream",
          "name": "stdout",
          "text": [
            " cancer.keys() :\n",
            " dict_keys(['data', 'target', 'frame', 'target_names', 'DESCR', 'feature_names', 'filename', 'data_module'])\n"
          ]
        }
      ]
    },
    {
      "cell_type": "code",
      "source": [
        "# type(cancer)"
      ],
      "metadata": {
        "colab": {
          "base_uri": "https://localhost:8080/"
        },
        "id": "PiY6QWuEEY2n",
        "outputId": "0c0d43ef-48a3-4ead-fe2d-65add35a502e"
      },
      "execution_count": null,
      "outputs": [
        {
          "output_type": "execute_result",
          "data": {
            "text/plain": [
              "sklearn.utils.Bunch"
            ]
          },
          "metadata": {},
          "execution_count": 17
        }
      ]
    },
    {
      "cell_type": "code",
      "source": [
        "# cancer"
      ],
      "metadata": {
        "colab": {
          "base_uri": "https://localhost:8080/"
        },
        "id": "eo22c9rIEge8",
        "outputId": "10d7f45b-6c0a-4dfa-e6a9-da29a938a699"
      },
      "execution_count": null,
      "outputs": [
        {
          "output_type": "execute_result",
          "data": {
            "text/plain": [
              "{'DESCR': '.. _breast_cancer_dataset:\\n\\nBreast cancer wisconsin (diagnostic) dataset\\n--------------------------------------------\\n\\n**Data Set Characteristics:**\\n\\n    :Number of Instances: 569\\n\\n    :Number of Attributes: 30 numeric, predictive attributes and the class\\n\\n    :Attribute Information:\\n        - radius (mean of distances from center to points on the perimeter)\\n        - texture (standard deviation of gray-scale values)\\n        - perimeter\\n        - area\\n        - smoothness (local variation in radius lengths)\\n        - compactness (perimeter^2 / area - 1.0)\\n        - concavity (severity of concave portions of the contour)\\n        - concave points (number of concave portions of the contour)\\n        - symmetry\\n        - fractal dimension (\"coastline approximation\" - 1)\\n\\n        The mean, standard error, and \"worst\" or largest (mean of the three\\n        worst/largest values) of these features were computed for each image,\\n        resulting in 30 features.  For instance, field 0 is Mean Radius, field\\n        10 is Radius SE, field 20 is Worst Radius.\\n\\n        - class:\\n                - WDBC-Malignant\\n                - WDBC-Benign\\n\\n    :Summary Statistics:\\n\\n    ===================================== ====== ======\\n                                           Min    Max\\n    ===================================== ====== ======\\n    radius (mean):                        6.981  28.11\\n    texture (mean):                       9.71   39.28\\n    perimeter (mean):                     43.79  188.5\\n    area (mean):                          143.5  2501.0\\n    smoothness (mean):                    0.053  0.163\\n    compactness (mean):                   0.019  0.345\\n    concavity (mean):                     0.0    0.427\\n    concave points (mean):                0.0    0.201\\n    symmetry (mean):                      0.106  0.304\\n    fractal dimension (mean):             0.05   0.097\\n    radius (standard error):              0.112  2.873\\n    texture (standard error):             0.36   4.885\\n    perimeter (standard error):           0.757  21.98\\n    area (standard error):                6.802  542.2\\n    smoothness (standard error):          0.002  0.031\\n    compactness (standard error):         0.002  0.135\\n    concavity (standard error):           0.0    0.396\\n    concave points (standard error):      0.0    0.053\\n    symmetry (standard error):            0.008  0.079\\n    fractal dimension (standard error):   0.001  0.03\\n    radius (worst):                       7.93   36.04\\n    texture (worst):                      12.02  49.54\\n    perimeter (worst):                    50.41  251.2\\n    area (worst):                         185.2  4254.0\\n    smoothness (worst):                   0.071  0.223\\n    compactness (worst):                  0.027  1.058\\n    concavity (worst):                    0.0    1.252\\n    concave points (worst):               0.0    0.291\\n    symmetry (worst):                     0.156  0.664\\n    fractal dimension (worst):            0.055  0.208\\n    ===================================== ====== ======\\n\\n    :Missing Attribute Values: None\\n\\n    :Class Distribution: 212 - Malignant, 357 - Benign\\n\\n    :Creator:  Dr. William H. Wolberg, W. Nick Street, Olvi L. Mangasarian\\n\\n    :Donor: Nick Street\\n\\n    :Date: November, 1995\\n\\nThis is a copy of UCI ML Breast Cancer Wisconsin (Diagnostic) datasets.\\nhttps://goo.gl/U2Uwz2\\n\\nFeatures are computed from a digitized image of a fine needle\\naspirate (FNA) of a breast mass.  They describe\\ncharacteristics of the cell nuclei present in the image.\\n\\nSeparating plane described above was obtained using\\nMultisurface Method-Tree (MSM-T) [K. P. Bennett, \"Decision Tree\\nConstruction Via Linear Programming.\" Proceedings of the 4th\\nMidwest Artificial Intelligence and Cognitive Science Society,\\npp. 97-101, 1992], a classification method which uses linear\\nprogramming to construct a decision tree.  Relevant features\\nwere selected using an exhaustive search in the space of 1-4\\nfeatures and 1-3 separating planes.\\n\\nThe actual linear program used to obtain the separating plane\\nin the 3-dimensional space is that described in:\\n[K. P. Bennett and O. L. Mangasarian: \"Robust Linear\\nProgramming Discrimination of Two Linearly Inseparable Sets\",\\nOptimization Methods and Software 1, 1992, 23-34].\\n\\nThis database is also available through the UW CS ftp server:\\n\\nftp ftp.cs.wisc.edu\\ncd math-prog/cpo-dataset/machine-learn/WDBC/\\n\\n.. topic:: References\\n\\n   - W.N. Street, W.H. Wolberg and O.L. Mangasarian. Nuclear feature extraction \\n     for breast tumor diagnosis. IS&T/SPIE 1993 International Symposium on \\n     Electronic Imaging: Science and Technology, volume 1905, pages 861-870,\\n     San Jose, CA, 1993.\\n   - O.L. Mangasarian, W.N. Street and W.H. Wolberg. Breast cancer diagnosis and \\n     prognosis via linear programming. Operations Research, 43(4), pages 570-577, \\n     July-August 1995.\\n   - W.H. Wolberg, W.N. Street, and O.L. Mangasarian. Machine learning techniques\\n     to diagnose breast cancer from fine-needle aspirates. Cancer Letters 77 (1994) \\n     163-171.',\n",
              " 'data': array([[1.799e+01, 1.038e+01, 1.228e+02, ..., 2.654e-01, 4.601e-01,\n",
              "         1.189e-01],\n",
              "        [2.057e+01, 1.777e+01, 1.329e+02, ..., 1.860e-01, 2.750e-01,\n",
              "         8.902e-02],\n",
              "        [1.969e+01, 2.125e+01, 1.300e+02, ..., 2.430e-01, 3.613e-01,\n",
              "         8.758e-02],\n",
              "        ...,\n",
              "        [1.660e+01, 2.808e+01, 1.083e+02, ..., 1.418e-01, 2.218e-01,\n",
              "         7.820e-02],\n",
              "        [2.060e+01, 2.933e+01, 1.401e+02, ..., 2.650e-01, 4.087e-01,\n",
              "         1.240e-01],\n",
              "        [7.760e+00, 2.454e+01, 4.792e+01, ..., 0.000e+00, 2.871e-01,\n",
              "         7.039e-02]]),\n",
              " 'data_module': 'sklearn.datasets.data',\n",
              " 'feature_names': array(['mean radius', 'mean texture', 'mean perimeter', 'mean area',\n",
              "        'mean smoothness', 'mean compactness', 'mean concavity',\n",
              "        'mean concave points', 'mean symmetry', 'mean fractal dimension',\n",
              "        'radius error', 'texture error', 'perimeter error', 'area error',\n",
              "        'smoothness error', 'compactness error', 'concavity error',\n",
              "        'concave points error', 'symmetry error',\n",
              "        'fractal dimension error', 'worst radius', 'worst texture',\n",
              "        'worst perimeter', 'worst area', 'worst smoothness',\n",
              "        'worst compactness', 'worst concavity', 'worst concave points',\n",
              "        'worst symmetry', 'worst fractal dimension'], dtype='<U23'),\n",
              " 'filename': 'breast_cancer.csv',\n",
              " 'frame': None,\n",
              " 'target': array([0, 0, 0, 0, 0, 0, 0, 0, 0, 0, 0, 0, 0, 0, 0, 0, 0, 0, 0, 1, 1, 1,\n",
              "        0, 0, 0, 0, 0, 0, 0, 0, 0, 0, 0, 0, 0, 0, 0, 1, 0, 0, 0, 0, 0, 0,\n",
              "        0, 0, 1, 0, 1, 1, 1, 1, 1, 0, 0, 1, 0, 0, 1, 1, 1, 1, 0, 1, 0, 0,\n",
              "        1, 1, 1, 1, 0, 1, 0, 0, 1, 0, 1, 0, 0, 1, 1, 1, 0, 0, 1, 0, 0, 0,\n",
              "        1, 1, 1, 0, 1, 1, 0, 0, 1, 1, 1, 0, 0, 1, 1, 1, 1, 0, 1, 1, 0, 1,\n",
              "        1, 1, 1, 1, 1, 1, 1, 0, 0, 0, 1, 0, 0, 1, 1, 1, 0, 0, 1, 0, 1, 0,\n",
              "        0, 1, 0, 0, 1, 1, 0, 1, 1, 0, 1, 1, 1, 1, 0, 1, 1, 1, 1, 1, 1, 1,\n",
              "        1, 1, 0, 1, 1, 1, 1, 0, 0, 1, 0, 1, 1, 0, 0, 1, 1, 0, 0, 1, 1, 1,\n",
              "        1, 0, 1, 1, 0, 0, 0, 1, 0, 1, 0, 1, 1, 1, 0, 1, 1, 0, 0, 1, 0, 0,\n",
              "        0, 0, 1, 0, 0, 0, 1, 0, 1, 0, 1, 1, 0, 1, 0, 0, 0, 0, 1, 1, 0, 0,\n",
              "        1, 1, 1, 0, 1, 1, 1, 1, 1, 0, 0, 1, 1, 0, 1, 1, 0, 0, 1, 0, 1, 1,\n",
              "        1, 1, 0, 1, 1, 1, 1, 1, 0, 1, 0, 0, 0, 0, 0, 0, 0, 0, 0, 0, 0, 0,\n",
              "        0, 0, 1, 1, 1, 1, 1, 1, 0, 1, 0, 1, 1, 0, 1, 1, 0, 1, 0, 0, 1, 1,\n",
              "        1, 1, 1, 1, 1, 1, 1, 1, 1, 1, 1, 0, 1, 1, 0, 1, 0, 1, 1, 1, 1, 1,\n",
              "        1, 1, 1, 1, 1, 1, 1, 1, 1, 0, 1, 1, 1, 0, 1, 0, 1, 1, 1, 1, 0, 0,\n",
              "        0, 1, 1, 1, 1, 0, 1, 0, 1, 0, 1, 1, 1, 0, 1, 1, 1, 1, 1, 1, 1, 0,\n",
              "        0, 0, 1, 1, 1, 1, 1, 1, 1, 1, 1, 1, 1, 0, 0, 1, 0, 0, 0, 1, 0, 0,\n",
              "        1, 1, 1, 1, 1, 0, 1, 1, 1, 1, 1, 0, 1, 1, 1, 0, 1, 1, 0, 0, 1, 1,\n",
              "        1, 1, 1, 1, 0, 1, 1, 1, 1, 1, 1, 1, 0, 1, 1, 1, 1, 1, 0, 1, 1, 0,\n",
              "        1, 1, 1, 1, 1, 1, 1, 1, 1, 1, 1, 1, 0, 1, 0, 0, 1, 0, 1, 1, 1, 1,\n",
              "        1, 0, 1, 1, 0, 1, 0, 1, 1, 0, 1, 0, 1, 1, 1, 1, 1, 1, 1, 1, 0, 0,\n",
              "        1, 1, 1, 1, 1, 1, 0, 1, 1, 1, 1, 1, 1, 1, 1, 1, 1, 0, 1, 1, 1, 1,\n",
              "        1, 1, 1, 0, 1, 0, 1, 1, 0, 1, 1, 1, 1, 1, 0, 0, 1, 0, 1, 0, 1, 1,\n",
              "        1, 1, 1, 0, 1, 1, 0, 1, 0, 1, 0, 0, 1, 1, 1, 0, 1, 1, 1, 1, 1, 1,\n",
              "        1, 1, 1, 1, 1, 0, 1, 0, 0, 1, 1, 1, 1, 1, 1, 1, 1, 1, 1, 1, 1, 1,\n",
              "        1, 1, 1, 1, 1, 1, 1, 1, 1, 1, 1, 1, 0, 0, 0, 0, 0, 0, 1]),\n",
              " 'target_names': array(['malignant', 'benign'], dtype='<U9')}"
            ]
          },
          "metadata": {},
          "execution_count": 18
        }
      ]
    },
    {
      "cell_type": "code",
      "source": [
        "print(\"유방암 데이터의 형태 :\", cancer.data.shape)"
      ],
      "metadata": {
        "colab": {
          "base_uri": "https://localhost:8080/"
        },
        "id": "iGwDzlQREtpK",
        "outputId": "675215b0-317d-475b-e5bc-5fbc56f41b5f"
      },
      "execution_count": null,
      "outputs": [
        {
          "output_type": "stream",
          "name": "stdout",
          "text": [
            "유방암 데이터의 형태 : (569, 30)\n"
          ]
        }
      ]
    },
    {
      "cell_type": "code",
      "source": [
        "print('클래스 별 샘플 개수 : \\n',\n",
        "      {n : v for n, v in zip(cancer.target_names, np.bincount(cancer.target))})"
      ],
      "metadata": {
        "id": "mOduDcMxE6Ma",
        "colab": {
          "base_uri": "https://localhost:8080/"
        },
        "outputId": "1543d344-5e25-4d25-cc2c-d5a03de0b750"
      },
      "execution_count": null,
      "outputs": [
        {
          "output_type": "stream",
          "name": "stdout",
          "text": [
            "클래스 별 샘플 개수 : \n",
            " {'malignant': 212, 'benign': 357}\n"
          ]
        }
      ]
    },
    {
      "cell_type": "code",
      "source": [
        "print('특성 이름 :\\n', cancer.feature_names)"
      ],
      "metadata": {
        "colab": {
          "base_uri": "https://localhost:8080/"
        },
        "id": "GZPDvN8Vkwbq",
        "outputId": "084eeb7a-3c4e-463c-eaf3-9d14beb9b022"
      },
      "execution_count": null,
      "outputs": [
        {
          "output_type": "stream",
          "name": "stdout",
          "text": [
            "특성 이름 :\n",
            " ['mean radius' 'mean texture' 'mean perimeter' 'mean area'\n",
            " 'mean smoothness' 'mean compactness' 'mean concavity'\n",
            " 'mean concave points' 'mean symmetry' 'mean fractal dimension'\n",
            " 'radius error' 'texture error' 'perimeter error' 'area error'\n",
            " 'smoothness error' 'compactness error' 'concavity error'\n",
            " 'concave points error' 'symmetry error' 'fractal dimension error'\n",
            " 'worst radius' 'worst texture' 'worst perimeter' 'worst area'\n",
            " 'worst smoothness' 'worst compactness' 'worst concavity'\n",
            " 'worst concave points' 'worst symmetry' 'worst fractal dimension']\n"
          ]
        }
      ]
    },
    {
      "cell_type": "markdown",
      "source": [
        "## 회귀 알고리즘을 위한 보스턴 주택가격 - p.62"
      ],
      "metadata": {
        "id": "bbtag_IPlHIb"
      }
    },
    {
      "cell_type": "code",
      "source": [
        "# 다양한 특성(범죄율, 찰스강 인접도, 고속도로 접근성 등의 정보)을 이용해 보스턴 주변의 주택 평균 가격 예측하기\n",
        "\n",
        "## 데이터 적재\n",
        "from sklearn.datasets import load_boston\n",
        "boston = load_boston()\n",
        "print('데이터  형태 : ', boston.data.shape)"
      ],
      "metadata": {
        "colab": {
          "base_uri": "https://localhost:8080/"
        },
        "id": "bdUjIblbk_uB",
        "outputId": "1112708b-06a4-4ae0-e4c1-3933568590da"
      },
      "execution_count": null,
      "outputs": [
        {
          "output_type": "stream",
          "name": "stdout",
          "text": [
            "데이터  형태 :  (506, 13)\n"
          ]
        },
        {
          "output_type": "stream",
          "name": "stderr",
          "text": [
            "/usr/local/lib/python3.7/dist-packages/sklearn/utils/deprecation.py:87: FutureWarning: Function load_boston is deprecated; `load_boston` is deprecated in 1.0 and will be removed in 1.2.\n",
            "\n",
            "    The Boston housing prices dataset has an ethical problem. You can refer to\n",
            "    the documentation of this function for further details.\n",
            "\n",
            "    The scikit-learn maintainers therefore strongly discourage the use of this\n",
            "    dataset unless the purpose of the code is to study and educate about\n",
            "    ethical issues in data science and machine learning.\n",
            "\n",
            "    In this special case, you can fetch the dataset from the original\n",
            "    source::\n",
            "\n",
            "        import pandas as pd\n",
            "        import numpy as np\n",
            "\n",
            "\n",
            "        data_url = \"http://lib.stat.cmu.edu/datasets/boston\"\n",
            "        raw_df = pd.read_csv(data_url, sep=\"\\s+\", skiprows=22, header=None)\n",
            "        data = np.hstack([raw_df.values[::2, :], raw_df.values[1::2, :2]])\n",
            "        target = raw_df.values[1::2, 2]\n",
            "\n",
            "    Alternative datasets include the California housing dataset (i.e.\n",
            "    :func:`~sklearn.datasets.fetch_california_housing`) and the Ames housing\n",
            "    dataset. You can load the datasets as follows::\n",
            "\n",
            "        from sklearn.datasets import fetch_california_housing\n",
            "        housing = fetch_california_housing()\n",
            "\n",
            "    for the California housing dataset and::\n",
            "\n",
            "        from sklearn.datasets import fetch_openml\n",
            "        housing = fetch_openml(name=\"house_prices\", as_frame=True)\n",
            "\n",
            "    for the Ames housing dataset.\n",
            "    \n",
            "  warnings.warn(msg, category=FutureWarning)\n"
          ]
        }
      ]
    },
    {
      "cell_type": "code",
      "source": [
        "# boston"
      ],
      "metadata": {
        "colab": {
          "base_uri": "https://localhost:8080/"
        },
        "id": "b9PqJqlZldRQ",
        "outputId": "43019dcb-6f7e-4afb-a5e3-de360de0acf8"
      },
      "execution_count": null,
      "outputs": [
        {
          "output_type": "execute_result",
          "data": {
            "text/plain": [
              "{'DESCR': \".. _boston_dataset:\\n\\nBoston house prices dataset\\n---------------------------\\n\\n**Data Set Characteristics:**  \\n\\n    :Number of Instances: 506 \\n\\n    :Number of Attributes: 13 numeric/categorical predictive. Median Value (attribute 14) is usually the target.\\n\\n    :Attribute Information (in order):\\n        - CRIM     per capita crime rate by town\\n        - ZN       proportion of residential land zoned for lots over 25,000 sq.ft.\\n        - INDUS    proportion of non-retail business acres per town\\n        - CHAS     Charles River dummy variable (= 1 if tract bounds river; 0 otherwise)\\n        - NOX      nitric oxides concentration (parts per 10 million)\\n        - RM       average number of rooms per dwelling\\n        - AGE      proportion of owner-occupied units built prior to 1940\\n        - DIS      weighted distances to five Boston employment centres\\n        - RAD      index of accessibility to radial highways\\n        - TAX      full-value property-tax rate per $10,000\\n        - PTRATIO  pupil-teacher ratio by town\\n        - B        1000(Bk - 0.63)^2 where Bk is the proportion of black people by town\\n        - LSTAT    % lower status of the population\\n        - MEDV     Median value of owner-occupied homes in $1000's\\n\\n    :Missing Attribute Values: None\\n\\n    :Creator: Harrison, D. and Rubinfeld, D.L.\\n\\nThis is a copy of UCI ML housing dataset.\\nhttps://archive.ics.uci.edu/ml/machine-learning-databases/housing/\\n\\n\\nThis dataset was taken from the StatLib library which is maintained at Carnegie Mellon University.\\n\\nThe Boston house-price data of Harrison, D. and Rubinfeld, D.L. 'Hedonic\\nprices and the demand for clean air', J. Environ. Economics & Management,\\nvol.5, 81-102, 1978.   Used in Belsley, Kuh & Welsch, 'Regression diagnostics\\n...', Wiley, 1980.   N.B. Various transformations are used in the table on\\npages 244-261 of the latter.\\n\\nThe Boston house-price data has been used in many machine learning papers that address regression\\nproblems.   \\n     \\n.. topic:: References\\n\\n   - Belsley, Kuh & Welsch, 'Regression diagnostics: Identifying Influential Data and Sources of Collinearity', Wiley, 1980. 244-261.\\n   - Quinlan,R. (1993). Combining Instance-Based and Model-Based Learning. In Proceedings on the Tenth International Conference of Machine Learning, 236-243, University of Massachusetts, Amherst. Morgan Kaufmann.\\n\",\n",
              " 'data': array([[6.3200e-03, 1.8000e+01, 2.3100e+00, ..., 1.5300e+01, 3.9690e+02,\n",
              "         4.9800e+00],\n",
              "        [2.7310e-02, 0.0000e+00, 7.0700e+00, ..., 1.7800e+01, 3.9690e+02,\n",
              "         9.1400e+00],\n",
              "        [2.7290e-02, 0.0000e+00, 7.0700e+00, ..., 1.7800e+01, 3.9283e+02,\n",
              "         4.0300e+00],\n",
              "        ...,\n",
              "        [6.0760e-02, 0.0000e+00, 1.1930e+01, ..., 2.1000e+01, 3.9690e+02,\n",
              "         5.6400e+00],\n",
              "        [1.0959e-01, 0.0000e+00, 1.1930e+01, ..., 2.1000e+01, 3.9345e+02,\n",
              "         6.4800e+00],\n",
              "        [4.7410e-02, 0.0000e+00, 1.1930e+01, ..., 2.1000e+01, 3.9690e+02,\n",
              "         7.8800e+00]]),\n",
              " 'data_module': 'sklearn.datasets.data',\n",
              " 'feature_names': array(['CRIM', 'ZN', 'INDUS', 'CHAS', 'NOX', 'RM', 'AGE', 'DIS', 'RAD',\n",
              "        'TAX', 'PTRATIO', 'B', 'LSTAT'], dtype='<U7'),\n",
              " 'filename': 'boston_house_prices.csv',\n",
              " 'target': array([24. , 21.6, 34.7, 33.4, 36.2, 28.7, 22.9, 27.1, 16.5, 18.9, 15. ,\n",
              "        18.9, 21.7, 20.4, 18.2, 19.9, 23.1, 17.5, 20.2, 18.2, 13.6, 19.6,\n",
              "        15.2, 14.5, 15.6, 13.9, 16.6, 14.8, 18.4, 21. , 12.7, 14.5, 13.2,\n",
              "        13.1, 13.5, 18.9, 20. , 21. , 24.7, 30.8, 34.9, 26.6, 25.3, 24.7,\n",
              "        21.2, 19.3, 20. , 16.6, 14.4, 19.4, 19.7, 20.5, 25. , 23.4, 18.9,\n",
              "        35.4, 24.7, 31.6, 23.3, 19.6, 18.7, 16. , 22.2, 25. , 33. , 23.5,\n",
              "        19.4, 22. , 17.4, 20.9, 24.2, 21.7, 22.8, 23.4, 24.1, 21.4, 20. ,\n",
              "        20.8, 21.2, 20.3, 28. , 23.9, 24.8, 22.9, 23.9, 26.6, 22.5, 22.2,\n",
              "        23.6, 28.7, 22.6, 22. , 22.9, 25. , 20.6, 28.4, 21.4, 38.7, 43.8,\n",
              "        33.2, 27.5, 26.5, 18.6, 19.3, 20.1, 19.5, 19.5, 20.4, 19.8, 19.4,\n",
              "        21.7, 22.8, 18.8, 18.7, 18.5, 18.3, 21.2, 19.2, 20.4, 19.3, 22. ,\n",
              "        20.3, 20.5, 17.3, 18.8, 21.4, 15.7, 16.2, 18. , 14.3, 19.2, 19.6,\n",
              "        23. , 18.4, 15.6, 18.1, 17.4, 17.1, 13.3, 17.8, 14. , 14.4, 13.4,\n",
              "        15.6, 11.8, 13.8, 15.6, 14.6, 17.8, 15.4, 21.5, 19.6, 15.3, 19.4,\n",
              "        17. , 15.6, 13.1, 41.3, 24.3, 23.3, 27. , 50. , 50. , 50. , 22.7,\n",
              "        25. , 50. , 23.8, 23.8, 22.3, 17.4, 19.1, 23.1, 23.6, 22.6, 29.4,\n",
              "        23.2, 24.6, 29.9, 37.2, 39.8, 36.2, 37.9, 32.5, 26.4, 29.6, 50. ,\n",
              "        32. , 29.8, 34.9, 37. , 30.5, 36.4, 31.1, 29.1, 50. , 33.3, 30.3,\n",
              "        34.6, 34.9, 32.9, 24.1, 42.3, 48.5, 50. , 22.6, 24.4, 22.5, 24.4,\n",
              "        20. , 21.7, 19.3, 22.4, 28.1, 23.7, 25. , 23.3, 28.7, 21.5, 23. ,\n",
              "        26.7, 21.7, 27.5, 30.1, 44.8, 50. , 37.6, 31.6, 46.7, 31.5, 24.3,\n",
              "        31.7, 41.7, 48.3, 29. , 24. , 25.1, 31.5, 23.7, 23.3, 22. , 20.1,\n",
              "        22.2, 23.7, 17.6, 18.5, 24.3, 20.5, 24.5, 26.2, 24.4, 24.8, 29.6,\n",
              "        42.8, 21.9, 20.9, 44. , 50. , 36. , 30.1, 33.8, 43.1, 48.8, 31. ,\n",
              "        36.5, 22.8, 30.7, 50. , 43.5, 20.7, 21.1, 25.2, 24.4, 35.2, 32.4,\n",
              "        32. , 33.2, 33.1, 29.1, 35.1, 45.4, 35.4, 46. , 50. , 32.2, 22. ,\n",
              "        20.1, 23.2, 22.3, 24.8, 28.5, 37.3, 27.9, 23.9, 21.7, 28.6, 27.1,\n",
              "        20.3, 22.5, 29. , 24.8, 22. , 26.4, 33.1, 36.1, 28.4, 33.4, 28.2,\n",
              "        22.8, 20.3, 16.1, 22.1, 19.4, 21.6, 23.8, 16.2, 17.8, 19.8, 23.1,\n",
              "        21. , 23.8, 23.1, 20.4, 18.5, 25. , 24.6, 23. , 22.2, 19.3, 22.6,\n",
              "        19.8, 17.1, 19.4, 22.2, 20.7, 21.1, 19.5, 18.5, 20.6, 19. , 18.7,\n",
              "        32.7, 16.5, 23.9, 31.2, 17.5, 17.2, 23.1, 24.5, 26.6, 22.9, 24.1,\n",
              "        18.6, 30.1, 18.2, 20.6, 17.8, 21.7, 22.7, 22.6, 25. , 19.9, 20.8,\n",
              "        16.8, 21.9, 27.5, 21.9, 23.1, 50. , 50. , 50. , 50. , 50. , 13.8,\n",
              "        13.8, 15. , 13.9, 13.3, 13.1, 10.2, 10.4, 10.9, 11.3, 12.3,  8.8,\n",
              "         7.2, 10.5,  7.4, 10.2, 11.5, 15.1, 23.2,  9.7, 13.8, 12.7, 13.1,\n",
              "        12.5,  8.5,  5. ,  6.3,  5.6,  7.2, 12.1,  8.3,  8.5,  5. , 11.9,\n",
              "        27.9, 17.2, 27.5, 15. , 17.2, 17.9, 16.3,  7. ,  7.2,  7.5, 10.4,\n",
              "         8.8,  8.4, 16.7, 14.2, 20.8, 13.4, 11.7,  8.3, 10.2, 10.9, 11. ,\n",
              "         9.5, 14.5, 14.1, 16.1, 14.3, 11.7, 13.4,  9.6,  8.7,  8.4, 12.8,\n",
              "        10.5, 17.1, 18.4, 15.4, 10.8, 11.8, 14.9, 12.6, 14.1, 13. , 13.4,\n",
              "        15.2, 16.1, 17.8, 14.9, 14.1, 12.7, 13.5, 14.9, 20. , 16.4, 17.7,\n",
              "        19.5, 20.2, 21.4, 19.9, 19. , 19.1, 19.1, 20.1, 19.9, 19.6, 23.2,\n",
              "        29.8, 13.8, 13.3, 16.7, 12. , 14.6, 21.4, 23. , 23.7, 25. , 21.8,\n",
              "        20.6, 21.2, 19.1, 20.6, 15.2,  7. ,  8.1, 13.6, 20.1, 21.8, 24.5,\n",
              "        23.1, 19.7, 18.3, 21.2, 17.5, 16.8, 22.4, 20.6, 23.9, 22. , 11.9])}"
            ]
          },
          "metadata": {},
          "execution_count": 12
        }
      ]
    },
    {
      "cell_type": "code",
      "source": [
        "# 특성 공학(feature engineering)이 반영된 데이터셋\n",
        "## 특성 공학이란? 특성(feature)끼리 곱도 특성으로 생각하는 개념\n",
        "\n",
        "# 데이터 적재\n",
        "X, y = mglearn.datasets.load_extended_boston()\n",
        "print('X shape : ',X.shape)"
      ],
      "metadata": {
        "colab": {
          "base_uri": "https://localhost:8080/"
        },
        "id": "Rw6vHcCMlrNR",
        "outputId": "0a8236a6-f18f-4ee2-925b-10101019935f"
      },
      "execution_count": null,
      "outputs": [
        {
          "output_type": "stream",
          "name": "stdout",
          "text": [
            "X shape :  (506, 104)\n"
          ]
        },
        {
          "output_type": "stream",
          "name": "stderr",
          "text": [
            "/usr/local/lib/python3.7/dist-packages/sklearn/utils/deprecation.py:87: FutureWarning: Function load_boston is deprecated; `load_boston` is deprecated in 1.0 and will be removed in 1.2.\n",
            "\n",
            "    The Boston housing prices dataset has an ethical problem. You can refer to\n",
            "    the documentation of this function for further details.\n",
            "\n",
            "    The scikit-learn maintainers therefore strongly discourage the use of this\n",
            "    dataset unless the purpose of the code is to study and educate about\n",
            "    ethical issues in data science and machine learning.\n",
            "\n",
            "    In this special case, you can fetch the dataset from the original\n",
            "    source::\n",
            "\n",
            "        import pandas as pd\n",
            "        import numpy as np\n",
            "\n",
            "\n",
            "        data_url = \"http://lib.stat.cmu.edu/datasets/boston\"\n",
            "        raw_df = pd.read_csv(data_url, sep=\"\\s+\", skiprows=22, header=None)\n",
            "        data = np.hstack([raw_df.values[::2, :], raw_df.values[1::2, :2]])\n",
            "        target = raw_df.values[1::2, 2]\n",
            "\n",
            "    Alternative datasets include the California housing dataset (i.e.\n",
            "    :func:`~sklearn.datasets.fetch_california_housing`) and the Ames housing\n",
            "    dataset. You can load the datasets as follows::\n",
            "\n",
            "        from sklearn.datasets import fetch_california_housing\n",
            "        housing = fetch_california_housing()\n",
            "\n",
            "    for the California housing dataset and::\n",
            "\n",
            "        from sklearn.datasets import fetch_openml\n",
            "        housing = fetch_openml(name=\"house_prices\", as_frame=True)\n",
            "\n",
            "    for the Ames housing dataset.\n",
            "    \n",
            "  warnings.warn(msg, category=FutureWarning)\n"
          ]
        }
      ]
    },
    {
      "cell_type": "code",
      "source": [
        "# mglearn.datasets.load_extended_boston()"
      ],
      "metadata": {
        "colab": {
          "base_uri": "https://localhost:8080/"
        },
        "id": "QBV6B-cvmQ3z",
        "outputId": "0fc9a5e1-7967-4442-d456-9dd9d6bad254"
      },
      "execution_count": null,
      "outputs": [
        {
          "output_type": "stream",
          "name": "stderr",
          "text": [
            "/usr/local/lib/python3.7/dist-packages/sklearn/utils/deprecation.py:87: FutureWarning: Function load_boston is deprecated; `load_boston` is deprecated in 1.0 and will be removed in 1.2.\n",
            "\n",
            "    The Boston housing prices dataset has an ethical problem. You can refer to\n",
            "    the documentation of this function for further details.\n",
            "\n",
            "    The scikit-learn maintainers therefore strongly discourage the use of this\n",
            "    dataset unless the purpose of the code is to study and educate about\n",
            "    ethical issues in data science and machine learning.\n",
            "\n",
            "    In this special case, you can fetch the dataset from the original\n",
            "    source::\n",
            "\n",
            "        import pandas as pd\n",
            "        import numpy as np\n",
            "\n",
            "\n",
            "        data_url = \"http://lib.stat.cmu.edu/datasets/boston\"\n",
            "        raw_df = pd.read_csv(data_url, sep=\"\\s+\", skiprows=22, header=None)\n",
            "        data = np.hstack([raw_df.values[::2, :], raw_df.values[1::2, :2]])\n",
            "        target = raw_df.values[1::2, 2]\n",
            "\n",
            "    Alternative datasets include the California housing dataset (i.e.\n",
            "    :func:`~sklearn.datasets.fetch_california_housing`) and the Ames housing\n",
            "    dataset. You can load the datasets as follows::\n",
            "\n",
            "        from sklearn.datasets import fetch_california_housing\n",
            "        housing = fetch_california_housing()\n",
            "\n",
            "    for the California housing dataset and::\n",
            "\n",
            "        from sklearn.datasets import fetch_openml\n",
            "        housing = fetch_openml(name=\"house_prices\", as_frame=True)\n",
            "\n",
            "    for the Ames housing dataset.\n",
            "    \n",
            "  warnings.warn(msg, category=FutureWarning)\n"
          ]
        },
        {
          "output_type": "execute_result",
          "data": {
            "text/plain": [
              "(array([[0.00000000e+00, 1.80000000e-01, 6.78152493e-02, ...,\n",
              "         1.00000000e+00, 8.96799117e-02, 8.04248656e-03],\n",
              "        [2.35922539e-04, 0.00000000e+00, 2.42302053e-01, ...,\n",
              "         1.00000000e+00, 2.04470199e-01, 4.18080621e-02],\n",
              "        [2.35697744e-04, 0.00000000e+00, 2.42302053e-01, ...,\n",
              "         9.79579831e-01, 6.28144504e-02, 4.02790570e-03],\n",
              "        ...,\n",
              "        [6.11892474e-04, 0.00000000e+00, 4.20454545e-01, ...,\n",
              "         1.00000000e+00, 1.07891832e-01, 1.16406475e-02],\n",
              "        [1.16072990e-03, 0.00000000e+00, 4.20454545e-01, ...,\n",
              "         9.82676920e-01, 1.29930407e-01, 1.71795127e-02],\n",
              "        [4.61841693e-04, 0.00000000e+00, 4.20454545e-01, ...,\n",
              "         1.00000000e+00, 1.69701987e-01, 2.87987643e-02]]),\n",
              " array([24. , 21.6, 34.7, 33.4, 36.2, 28.7, 22.9, 27.1, 16.5, 18.9, 15. ,\n",
              "        18.9, 21.7, 20.4, 18.2, 19.9, 23.1, 17.5, 20.2, 18.2, 13.6, 19.6,\n",
              "        15.2, 14.5, 15.6, 13.9, 16.6, 14.8, 18.4, 21. , 12.7, 14.5, 13.2,\n",
              "        13.1, 13.5, 18.9, 20. , 21. , 24.7, 30.8, 34.9, 26.6, 25.3, 24.7,\n",
              "        21.2, 19.3, 20. , 16.6, 14.4, 19.4, 19.7, 20.5, 25. , 23.4, 18.9,\n",
              "        35.4, 24.7, 31.6, 23.3, 19.6, 18.7, 16. , 22.2, 25. , 33. , 23.5,\n",
              "        19.4, 22. , 17.4, 20.9, 24.2, 21.7, 22.8, 23.4, 24.1, 21.4, 20. ,\n",
              "        20.8, 21.2, 20.3, 28. , 23.9, 24.8, 22.9, 23.9, 26.6, 22.5, 22.2,\n",
              "        23.6, 28.7, 22.6, 22. , 22.9, 25. , 20.6, 28.4, 21.4, 38.7, 43.8,\n",
              "        33.2, 27.5, 26.5, 18.6, 19.3, 20.1, 19.5, 19.5, 20.4, 19.8, 19.4,\n",
              "        21.7, 22.8, 18.8, 18.7, 18.5, 18.3, 21.2, 19.2, 20.4, 19.3, 22. ,\n",
              "        20.3, 20.5, 17.3, 18.8, 21.4, 15.7, 16.2, 18. , 14.3, 19.2, 19.6,\n",
              "        23. , 18.4, 15.6, 18.1, 17.4, 17.1, 13.3, 17.8, 14. , 14.4, 13.4,\n",
              "        15.6, 11.8, 13.8, 15.6, 14.6, 17.8, 15.4, 21.5, 19.6, 15.3, 19.4,\n",
              "        17. , 15.6, 13.1, 41.3, 24.3, 23.3, 27. , 50. , 50. , 50. , 22.7,\n",
              "        25. , 50. , 23.8, 23.8, 22.3, 17.4, 19.1, 23.1, 23.6, 22.6, 29.4,\n",
              "        23.2, 24.6, 29.9, 37.2, 39.8, 36.2, 37.9, 32.5, 26.4, 29.6, 50. ,\n",
              "        32. , 29.8, 34.9, 37. , 30.5, 36.4, 31.1, 29.1, 50. , 33.3, 30.3,\n",
              "        34.6, 34.9, 32.9, 24.1, 42.3, 48.5, 50. , 22.6, 24.4, 22.5, 24.4,\n",
              "        20. , 21.7, 19.3, 22.4, 28.1, 23.7, 25. , 23.3, 28.7, 21.5, 23. ,\n",
              "        26.7, 21.7, 27.5, 30.1, 44.8, 50. , 37.6, 31.6, 46.7, 31.5, 24.3,\n",
              "        31.7, 41.7, 48.3, 29. , 24. , 25.1, 31.5, 23.7, 23.3, 22. , 20.1,\n",
              "        22.2, 23.7, 17.6, 18.5, 24.3, 20.5, 24.5, 26.2, 24.4, 24.8, 29.6,\n",
              "        42.8, 21.9, 20.9, 44. , 50. , 36. , 30.1, 33.8, 43.1, 48.8, 31. ,\n",
              "        36.5, 22.8, 30.7, 50. , 43.5, 20.7, 21.1, 25.2, 24.4, 35.2, 32.4,\n",
              "        32. , 33.2, 33.1, 29.1, 35.1, 45.4, 35.4, 46. , 50. , 32.2, 22. ,\n",
              "        20.1, 23.2, 22.3, 24.8, 28.5, 37.3, 27.9, 23.9, 21.7, 28.6, 27.1,\n",
              "        20.3, 22.5, 29. , 24.8, 22. , 26.4, 33.1, 36.1, 28.4, 33.4, 28.2,\n",
              "        22.8, 20.3, 16.1, 22.1, 19.4, 21.6, 23.8, 16.2, 17.8, 19.8, 23.1,\n",
              "        21. , 23.8, 23.1, 20.4, 18.5, 25. , 24.6, 23. , 22.2, 19.3, 22.6,\n",
              "        19.8, 17.1, 19.4, 22.2, 20.7, 21.1, 19.5, 18.5, 20.6, 19. , 18.7,\n",
              "        32.7, 16.5, 23.9, 31.2, 17.5, 17.2, 23.1, 24.5, 26.6, 22.9, 24.1,\n",
              "        18.6, 30.1, 18.2, 20.6, 17.8, 21.7, 22.7, 22.6, 25. , 19.9, 20.8,\n",
              "        16.8, 21.9, 27.5, 21.9, 23.1, 50. , 50. , 50. , 50. , 50. , 13.8,\n",
              "        13.8, 15. , 13.9, 13.3, 13.1, 10.2, 10.4, 10.9, 11.3, 12.3,  8.8,\n",
              "         7.2, 10.5,  7.4, 10.2, 11.5, 15.1, 23.2,  9.7, 13.8, 12.7, 13.1,\n",
              "        12.5,  8.5,  5. ,  6.3,  5.6,  7.2, 12.1,  8.3,  8.5,  5. , 11.9,\n",
              "        27.9, 17.2, 27.5, 15. , 17.2, 17.9, 16.3,  7. ,  7.2,  7.5, 10.4,\n",
              "         8.8,  8.4, 16.7, 14.2, 20.8, 13.4, 11.7,  8.3, 10.2, 10.9, 11. ,\n",
              "         9.5, 14.5, 14.1, 16.1, 14.3, 11.7, 13.4,  9.6,  8.7,  8.4, 12.8,\n",
              "        10.5, 17.1, 18.4, 15.4, 10.8, 11.8, 14.9, 12.6, 14.1, 13. , 13.4,\n",
              "        15.2, 16.1, 17.8, 14.9, 14.1, 12.7, 13.5, 14.9, 20. , 16.4, 17.7,\n",
              "        19.5, 20.2, 21.4, 19.9, 19. , 19.1, 19.1, 20.1, 19.9, 19.6, 23.2,\n",
              "        29.8, 13.8, 13.3, 16.7, 12. , 14.6, 21.4, 23. , 23.7, 25. , 21.8,\n",
              "        20.6, 21.2, 19.1, 20.6, 15.2,  7. ,  8.1, 13.6, 20.1, 21.8, 24.5,\n",
              "        23.1, 19.7, 18.3, 21.2, 17.5, 16.8, 22.4, 20.6, 23.9, 22. , 11.9]))"
            ]
          },
          "metadata": {},
          "execution_count": 15
        }
      ]
    },
    {
      "cell_type": "markdown",
      "source": [
        "## 2.3.2 K-최근접 이웃"
      ],
      "metadata": {
        "id": "wt4ZSDLUmtFA"
      }
    },
    {
      "cell_type": "code",
      "source": [
        "# knn_classification\n",
        "# n_neighbors"
      ],
      "metadata": {
        "id": "Gq4foe28mW2Y"
      },
      "execution_count": null,
      "outputs": []
    },
    {
      "cell_type": "code",
      "source": [
        "# 훈련 / 테스트 데이터로 나누기\n",
        "\n",
        "from sklearn.model_selection import train_test_split\n",
        "X, y = mglearn.datasets.make_forge() # 데이터 적재\n",
        "\n",
        "X_train, X_test, y_train, y_test = train_test_split(X,y, random_state = 0)"
      ],
      "metadata": {
        "colab": {
          "base_uri": "https://localhost:8080/"
        },
        "id": "BXvJBwoOnjAu",
        "outputId": "5f261d27-35a7-4be7-99bc-086411f6368c"
      },
      "execution_count": null,
      "outputs": [
        {
          "output_type": "stream",
          "name": "stderr",
          "text": [
            "/usr/local/lib/python3.7/dist-packages/sklearn/utils/deprecation.py:87: FutureWarning: Function make_blobs is deprecated; Please import make_blobs directly from scikit-learn\n",
            "  warnings.warn(msg, category=FutureWarning)\n"
          ]
        }
      ]
    },
    {
      "cell_type": "code",
      "source": [
        "# mglearn.datasets.make_forge()"
      ],
      "metadata": {
        "colab": {
          "base_uri": "https://localhost:8080/"
        },
        "id": "XmXsS-bhnz70",
        "outputId": "abcc70cc-bc9a-447c-d508-a00fa783e0bb"
      },
      "execution_count": null,
      "outputs": [
        {
          "output_type": "stream",
          "name": "stderr",
          "text": [
            "/usr/local/lib/python3.7/dist-packages/sklearn/utils/deprecation.py:87: FutureWarning: Function make_blobs is deprecated; Please import make_blobs directly from scikit-learn\n",
            "  warnings.warn(msg, category=FutureWarning)\n"
          ]
        },
        {
          "output_type": "execute_result",
          "data": {
            "text/plain": [
              "(array([[ 9.96346605,  4.59676542],\n",
              "        [11.0329545 , -0.16816717],\n",
              "        [11.54155807,  5.21116083],\n",
              "        [ 8.69289001,  1.54322016],\n",
              "        [ 8.1062269 ,  4.28695977],\n",
              "        [ 8.30988863,  4.80623966],\n",
              "        [11.93027136,  4.64866327],\n",
              "        [ 9.67284681, -0.20283165],\n",
              "        [ 8.34810316,  5.13415623],\n",
              "        [ 8.67494727,  4.47573059],\n",
              "        [ 9.17748385,  5.09283177],\n",
              "        [10.24028948,  2.45544401],\n",
              "        [ 8.68937095,  1.48709629],\n",
              "        [ 8.92229526, -0.63993225],\n",
              "        [ 9.49123469,  4.33224792],\n",
              "        [ 9.25694192,  5.13284858],\n",
              "        [ 7.99815287,  4.8525051 ],\n",
              "        [ 8.18378052,  1.29564214],\n",
              "        [ 8.7337095 ,  2.49162431],\n",
              "        [ 9.32298256,  5.09840649],\n",
              "        [10.06393839,  0.99078055],\n",
              "        [ 9.50048972, -0.26430318],\n",
              "        [ 8.34468785,  1.63824349],\n",
              "        [ 9.50169345,  1.93824624],\n",
              "        [ 9.15072323,  5.49832246],\n",
              "        [11.563957  ,  1.3389402 ]]),\n",
              " array([1, 0, 1, 0, 0, 1, 1, 0, 1, 1, 1, 1, 0, 0, 1, 1, 1, 0, 0, 1, 0, 0,\n",
              "        0, 0, 1, 0]))"
            ]
          },
          "metadata": {},
          "execution_count": 17
        }
      ]
    },
    {
      "cell_type": "code",
      "source": [
        "# 모델링\n",
        "# > import\n",
        "# > 객체 생성\n",
        "# > 매개 변수 지정\n",
        "\n",
        "from sklearn.neighbors import KNeighborsClassifier # import \n",
        "clf = KNeighborsClassifier(n_neighbors = 3) # 객체 생성 & 매개 변수 지정"
      ],
      "metadata": {
        "id": "e2PFuZ0Wn25P"
      },
      "execution_count": null,
      "outputs": []
    },
    {
      "cell_type": "code",
      "source": [
        "# 훈련 세트로 모델 학습하기\n",
        "clf.fit(X_train, y_train)"
      ],
      "metadata": {
        "colab": {
          "base_uri": "https://localhost:8080/"
        },
        "id": "xKGvL2efojZm",
        "outputId": "98125647-e673-4547-e660-a54c3d3c6ab4"
      },
      "execution_count": null,
      "outputs": [
        {
          "output_type": "execute_result",
          "data": {
            "text/plain": [
              "KNeighborsClassifier(n_neighbors=3)"
            ]
          },
          "metadata": {},
          "execution_count": 10
        }
      ]
    },
    {
      "cell_type": "code",
      "source": [
        "# 테스트 데이터로 모델 평가하기\n",
        "print('테스트 세트 예측 : ', clf.predict(X_test))"
      ],
      "metadata": {
        "colab": {
          "base_uri": "https://localhost:8080/"
        },
        "id": "1khqfLZ5opLk",
        "outputId": "20c709ad-d566-4e54-ec3b-49669406b800"
      },
      "execution_count": null,
      "outputs": [
        {
          "output_type": "stream",
          "name": "stdout",
          "text": [
            "테스트 세트 예측 :  [1 0 1 0 1 0 0]\n"
          ]
        }
      ]
    },
    {
      "cell_type": "code",
      "source": [
        "print('테스트 세트 정확도 : {:.2f}'.format(clf.score(X_test, y_test)))"
      ],
      "metadata": {
        "colab": {
          "base_uri": "https://localhost:8080/"
        },
        "id": "dzPfBfSTozoV",
        "outputId": "ea821c7d-3615-4492-d41c-48d35ac52c70"
      },
      "execution_count": null,
      "outputs": [
        {
          "output_type": "stream",
          "name": "stdout",
          "text": [
            "테스트 세트 정확도 : 0.86\n"
          ]
        }
      ]
    },
    {
      "cell_type": "code",
      "source": [
        "fig, axes = plt.subplots(1,3, figsize = (10,3))\n",
        "\n",
        "for n_neighbors, ax in zip([1,3,9], axes):\n",
        "  clf = KNeighborsClassifier(n_neighbors=n_neighbors).fit(X,y)\n",
        "  mglearn.plots.plot_2d_separator(clf, X, fill=True, eps = 0.5, ax = ax , alpha = .4)\n",
        "  mglearn.discrete_scatter(X[:,0], X[:,1], y, ax = ax)\n",
        "  ax.set_title('{} 이웃'.format(n_neighbors))\n",
        "  ax.set_xlabel('특성 0')\n",
        "  ax.set_ylabel('특성 1')\n",
        "\n",
        "axes[0].legend(loc = 3)"
      ],
      "metadata": {
        "colab": {
          "base_uri": "https://localhost:8080/",
          "height": 241
        },
        "id": "__mFRGgQpBMd",
        "outputId": "49459fbc-3027-48dd-d12d-6ff95aaa7762"
      },
      "execution_count": null,
      "outputs": [
        {
          "output_type": "execute_result",
          "data": {
            "text/plain": [
              "<matplotlib.legend.Legend at 0x7fac48454d50>"
            ]
          },
          "metadata": {},
          "execution_count": 13
        },
        {
          "output_type": "display_data",
          "data": {
            "image/png": "[encoded data removed]",
            "text/plain": [
              "<Figure size 720x216 with 3 Axes>"
            ]
          },
          "metadata": {}
        }
      ]
    },
    {
      "cell_type": "code",
      "source": [
        "clf"
      ],
      "metadata": {
        "colab": {
          "base_uri": "https://localhost:8080/"
        },
        "id": "YPRHU1eysRlX",
        "outputId": "86873b0f-670b-4cdc-d1ee-64a5593b658f"
      },
      "execution_count": null,
      "outputs": [
        {
          "output_type": "execute_result",
          "data": {
            "text/plain": [
              "KNeighborsClassifier(n_neighbors=9)"
            ]
          },
          "metadata": {},
          "execution_count": 27
        }
      ]
    },
    {
      "cell_type": "markdown",
      "source": [
        "## load_breast_cancer p-67"
      ],
      "metadata": {
        "id": "QpJ1rpKgu25K"
      }
    },
    {
      "cell_type": "code",
      "source": [
        "from sklearn.datasets import load_breast_cancer\n",
        "\n",
        "cancer = load_breast_cancer()\n",
        "X_train, X_test, y_train, y_test = train_test_split(\n",
        "    cancer.data, cancer.target, stratify = cancer.target, random_state = 66\n",
        ")\n",
        "training_accuracy = []\n",
        "test_accuracy = []\n",
        "\n",
        "neighbors_settings = range(1,11)\n",
        "\n",
        "for n_neighbors in neighbors_settings:\n",
        "  clf = KNeighborsClassifier(n_neighbors=n_neighbors) # 객체 생성 & 매개 변수 지정\n",
        "  clf.fit(X_train, y_train) # .fit\n",
        "  training_accuracy.append(clf.score(X_train, y_train)) #.score : 정확도 검증\n",
        "  test_accuracy.append(clf.score(X_test, y_test))\n",
        "\n",
        "\n",
        "plt.plot(neighbors_settings, training_accuracy, label = '훈련 정확도')\n",
        "plt.plot(neighbors_settings, test_accuracy, label = '테스트 정확도')\n",
        "plt.ylabel('정확도')\n",
        "plt.xlabel('n_neighbors')\n",
        "plt.legend()"
      ],
      "metadata": {
        "colab": {
          "base_uri": "https://localhost:8080/",
          "height": 297
        },
        "id": "yjx7A2Q-syJ1",
        "outputId": "0056e089-d0d6-4175-a536-e262847c0543"
      },
      "execution_count": null,
      "outputs": [
        {
          "output_type": "execute_result",
          "data": {
            "text/plain": [
              "<matplotlib.legend.Legend at 0x7fac48122190>"
            ]
          },
          "metadata": {},
          "execution_count": 14
        },
        {
          "output_type": "display_data",
          "data": {
            "image/png": "[encoded data removed]",
            "text/plain": [
              "<Figure size 432x288 with 1 Axes>"
            ]
          },
          "metadata": {
            "needs_background": "light"
          }
        }
      ]
    },
    {
      "cell_type": "markdown",
      "source": [
        "## wave p-69"
      ],
      "metadata": {
        "id": "OpPSK9ebyl-A"
      }
    },
    {
      "cell_type": "code",
      "source": [
        "from sklearn.neighbors import KNeighborsRegressor\n",
        "\n",
        "X, y = mglearn.datasets.make_wave(n_samples = 40)\n",
        "\n",
        "X_train, X_test, y_train, y_test = train_test_split(X,y, random_state = 0)\n",
        "reg = KNeighborsRegressor(n_neighbors=3)\n",
        "reg.fit(X_train, y_train)"
      ],
      "metadata": {
        "colab": {
          "base_uri": "https://localhost:8080/"
        },
        "id": "xq91xo-KwGLs",
        "outputId": "0f4daf8a-25ad-488c-e9e5-6c292226b691"
      },
      "execution_count": null,
      "outputs": [
        {
          "output_type": "execute_result",
          "data": {
            "text/plain": [
              "KNeighborsRegressor(n_neighbors=3)"
            ]
          },
          "metadata": {},
          "execution_count": 15
        }
      ]
    },
    {
      "cell_type": "code",
      "source": [
        "print('테스트 세트에 대한 예측 : \\n', reg.predict(X_test))"
      ],
      "metadata": {
        "colab": {
          "base_uri": "https://localhost:8080/"
        },
        "id": "eW5SaRYey6m9",
        "outputId": "ca479e3a-44a3-4937-c22e-76061829d23e"
      },
      "execution_count": null,
      "outputs": [
        {
          "output_type": "stream",
          "name": "stdout",
          "text": [
            "테스트 세트에 대한 예측 : \n",
            " [-0.05396539  0.35686046  1.13671923 -1.89415682 -1.13881398 -1.63113382\n",
            "  0.35686046  0.91241374 -0.44680446 -1.13881398]\n"
          ]
        }
      ]
    },
    {
      "cell_type": "code",
      "source": [
        "# 회귀 모형에 대해서 정확도 검증을 할 땐, 결정계수를 뱉음\n",
        "\n",
        "print('테스트 세트 R^2 : {:.2f}'.format(reg.score(X_test, y_test)))"
      ],
      "metadata": {
        "colab": {
          "base_uri": "https://localhost:8080/"
        },
        "id": "AN53I4QGzAya",
        "outputId": "820b3761-1aac-454d-c7f8-1919b98a8a54"
      },
      "execution_count": null,
      "outputs": [
        {
          "output_type": "stream",
          "name": "stdout",
          "text": [
            "테스트 세트 R^2 : 0.83\n"
          ]
        }
      ]
    },
    {
      "cell_type": "code",
      "source": [
        "fig, axes = plt.subplots(1,3, figsize = (15,4))\n",
        "line = np.linspace(-3, 3, 1000).reshape(-1,1)\n",
        "for n_neighbors, ax in zip([1,3,9], axes):\n",
        "  reg = KNeighborsRegressor(n_neighbors=n_neighbors)\n",
        "  reg.fit(X_train, y_train)\n",
        "  ax.plot(line, reg.predict(line))\n",
        "  ax.plot(X_train, y_train, \"^\", c = mglearn.cm2(0), markersize = 0)\n",
        "  ax.plot(X_test, y_test,\"v\", c = mglearn.cm2(1), markersize = 0)\n",
        "\n",
        "  ax.set_title(\n",
        "      '{} 이웃의 훈련 스코어 : {:.2f} 테스트 스코어 : {:.2f}'.format(\n",
        "          n_neighbors, reg.score(X_train, y_train),\n",
        "          reg.score(X_test, y_test)))\n",
        "  ax.set_xlabel('특성')\n",
        "  ax.set_ylabel('타켓')\n",
        "\n",
        "axes[0].legend(['모델 예측', '훈련데이터/타깃',\n",
        "                 '테스트 데이터/타깃'], loc = 'best')"
      ],
      "metadata": {
        "colab": {
          "base_uri": "https://localhost:8080/",
          "height": 386
        },
        "id": "4oNPyzdRzH6C",
        "outputId": "200bea36-9087-4510-bf98-b3ae821f4612"
      },
      "execution_count": null,
      "outputs": [
        {
          "output_type": "execute_result",
          "data": {
            "text/plain": [
              "<matplotlib.legend.Legend at 0x7fac3f8ae5d0>"
            ]
          },
          "metadata": {},
          "execution_count": 18
        },
        {
          "output_type": "stream",
          "name": "stderr",
          "text": [
            "/usr/local/lib/python3.7/dist-packages/matplotlib/backends/backend_agg.py:214: RuntimeWarning: Glyph 8722 missing from current font.\n",
            "  font.set_text(s, 0.0, flags=flags)\n",
            "/usr/local/lib/python3.7/dist-packages/matplotlib/backends/backend_agg.py:183: RuntimeWarning: Glyph 8722 missing from current font.\n",
            "  font.set_text(s, 0, flags=flags)\n"
          ]
        },
        {
          "output_type": "display_data",
          "data": {
            "image/png": "[encoded data removed]",
            "text/plain": [
              "<Figure size 1080x288 with 3 Axes>"
            ]
          },
          "metadata": {
            "needs_background": "light"
          }
        }
      ]
    },
    {
      "cell_type": "code",
      "source": [
        "# np.linspace(-3, 3, 1000).reshape(-1,1)\n",
        "# -3 ~ 3까지  1000개 찍어라? 나눠라?\n",
        "# len(~) 값이 1000\n",
        "# reshape(-1, 1) 총 n개 값을 출력할 때 배열을 어떻게 해서 보여줄 것인지를 의미한다.\n",
        "  # 1은 1열로 보여주란 의미를 갖는다\n",
        "  # -1은 몇 개의 행으로 보여줄지 구체적으로 정하지 못했을 때, 열의 값에 따라서 알아서 계산해서 행의 값을 지정하란 의미이다."
      ],
      "metadata": {
        "colab": {
          "base_uri": "https://localhost:8080/"
        },
        "id": "zs9580d53jQ1",
        "outputId": "ecbf1f05-b687-4d02-f9dc-1fedf652b7c7"
      },
      "execution_count": null,
      "outputs": [
        {
          "output_type": "execute_result",
          "data": {
            "text/plain": [
              "array([[-3.        ],\n",
              "       [-2.99399399],\n",
              "       [-2.98798799],\n",
              "       [-2.98198198],\n",
              "       [-2.97597598],\n",
              "       [-2.96996997],\n",
              "       [-2.96396396],\n",
              "       [-2.95795796],\n",
              "       [-2.95195195],\n",
              "       [-2.94594595],\n",
              "       [-2.93993994],\n",
              "       [-2.93393393],\n",
              "       [-2.92792793],\n",
              "       [-2.92192192],\n",
              "       [-2.91591592],\n",
              "       [-2.90990991],\n",
              "       [-2.9039039 ],\n",
              "       [-2.8978979 ],\n",
              "       [-2.89189189],\n",
              "       [-2.88588589],\n",
              "       [-2.87987988],\n",
              "       [-2.87387387],\n",
              "       [-2.86786787],\n",
              "       [-2.86186186],\n",
              "       [-2.85585586],\n",
              "       [-2.84984985],\n",
              "       [-2.84384384],\n",
              "       [-2.83783784],\n",
              "       [-2.83183183],\n",
              "       [-2.82582583],\n",
              "       [-2.81981982],\n",
              "       [-2.81381381],\n",
              "       [-2.80780781],\n",
              "       [-2.8018018 ],\n",
              "       [-2.7957958 ],\n",
              "       [-2.78978979],\n",
              "       [-2.78378378],\n",
              "       [-2.77777778],\n",
              "       [-2.77177177],\n",
              "       [-2.76576577],\n",
              "       [-2.75975976],\n",
              "       [-2.75375375],\n",
              "       [-2.74774775],\n",
              "       [-2.74174174],\n",
              "       [-2.73573574],\n",
              "       [-2.72972973],\n",
              "       [-2.72372372],\n",
              "       [-2.71771772],\n",
              "       [-2.71171171],\n",
              "       [-2.70570571],\n",
              "       [-2.6996997 ],\n",
              "       [-2.69369369],\n",
              "       [-2.68768769],\n",
              "       [-2.68168168],\n",
              "       [-2.67567568],\n",
              "       [-2.66966967],\n",
              "       [-2.66366366],\n",
              "       [-2.65765766],\n",
              "       [-2.65165165],\n",
              "       [-2.64564565],\n",
              "       [-2.63963964],\n",
              "       [-2.63363363],\n",
              "       [-2.62762763],\n",
              "       [-2.62162162],\n",
              "       [-2.61561562],\n",
              "       [-2.60960961],\n",
              "       [-2.6036036 ],\n",
              "       [-2.5975976 ],\n",
              "       [-2.59159159],\n",
              "       [-2.58558559],\n",
              "       [-2.57957958],\n",
              "       [-2.57357357],\n",
              "       [-2.56756757],\n",
              "       [-2.56156156],\n",
              "       [-2.55555556],\n",
              "       [-2.54954955],\n",
              "       [-2.54354354],\n",
              "       [-2.53753754],\n",
              "       [-2.53153153],\n",
              "       [-2.52552553],\n",
              "       [-2.51951952],\n",
              "       [-2.51351351],\n",
              "       [-2.50750751],\n",
              "       [-2.5015015 ],\n",
              "       [-2.4954955 ],\n",
              "       [-2.48948949],\n",
              "       [-2.48348348],\n",
              "       [-2.47747748],\n",
              "       [-2.47147147],\n",
              "       [-2.46546547],\n",
              "       [-2.45945946],\n",
              "       [-2.45345345],\n",
              "       [-2.44744745],\n",
              "       [-2.44144144],\n",
              "       [-2.43543544],\n",
              "       [-2.42942943],\n",
              "       [-2.42342342],\n",
              "       [-2.41741742],\n",
              "       [-2.41141141],\n",
              "       [-2.40540541],\n",
              "       [-2.3993994 ],\n",
              "       [-2.39339339],\n",
              "       [-2.38738739],\n",
              "       [-2.38138138],\n",
              "       [-2.37537538],\n",
              "       [-2.36936937],\n",
              "       [-2.36336336],\n",
              "       [-2.35735736],\n",
              "       [-2.35135135],\n",
              "       [-2.34534535],\n",
              "       [-2.33933934],\n",
              "       [-2.33333333],\n",
              "       [-2.32732733],\n",
              "       [-2.32132132],\n",
              "       [-2.31531532],\n",
              "       [-2.30930931],\n",
              "       [-2.3033033 ],\n",
              "       [-2.2972973 ],\n",
              "       [-2.29129129],\n",
              "       [-2.28528529],\n",
              "       [-2.27927928],\n",
              "       [-2.27327327],\n",
              "       [-2.26726727],\n",
              "       [-2.26126126],\n",
              "       [-2.25525526],\n",
              "       [-2.24924925],\n",
              "       [-2.24324324],\n",
              "       [-2.23723724],\n",
              "       [-2.23123123],\n",
              "       [-2.22522523],\n",
              "       [-2.21921922],\n",
              "       [-2.21321321],\n",
              "       [-2.20720721],\n",
              "       [-2.2012012 ],\n",
              "       [-2.1951952 ],\n",
              "       [-2.18918919],\n",
              "       [-2.18318318],\n",
              "       [-2.17717718],\n",
              "       [-2.17117117],\n",
              "       [-2.16516517],\n",
              "       [-2.15915916],\n",
              "       [-2.15315315],\n",
              "       [-2.14714715],\n",
              "       [-2.14114114],\n",
              "       [-2.13513514],\n",
              "       [-2.12912913],\n",
              "       [-2.12312312],\n",
              "       [-2.11711712],\n",
              "       [-2.11111111],\n",
              "       [-2.10510511],\n",
              "       [-2.0990991 ],\n",
              "       [-2.09309309],\n",
              "       [-2.08708709],\n",
              "       [-2.08108108],\n",
              "       [-2.07507508],\n",
              "       [-2.06906907],\n",
              "       [-2.06306306],\n",
              "       [-2.05705706],\n",
              "       [-2.05105105],\n",
              "       [-2.04504505],\n",
              "       [-2.03903904],\n",
              "       [-2.03303303],\n",
              "       [-2.02702703],\n",
              "       [-2.02102102],\n",
              "       [-2.01501502],\n",
              "       [-2.00900901],\n",
              "       [-2.003003  ],\n",
              "       [-1.996997  ],\n",
              "       [-1.99099099],\n",
              "       [-1.98498498],\n",
              "       [-1.97897898],\n",
              "       [-1.97297297],\n",
              "       [-1.96696697],\n",
              "       [-1.96096096],\n",
              "       [-1.95495495],\n",
              "       [-1.94894895],\n",
              "       [-1.94294294],\n",
              "       [-1.93693694],\n",
              "       [-1.93093093],\n",
              "       [-1.92492492],\n",
              "       [-1.91891892],\n",
              "       [-1.91291291],\n",
              "       [-1.90690691],\n",
              "       [-1.9009009 ],\n",
              "       [-1.89489489],\n",
              "       [-1.88888889],\n",
              "       [-1.88288288],\n",
              "       [-1.87687688],\n",
              "       [-1.87087087],\n",
              "       [-1.86486486],\n",
              "       [-1.85885886],\n",
              "       [-1.85285285],\n",
              "       [-1.84684685],\n",
              "       [-1.84084084],\n",
              "       [-1.83483483],\n",
              "       [-1.82882883],\n",
              "       [-1.82282282],\n",
              "       [-1.81681682],\n",
              "       [-1.81081081],\n",
              "       [-1.8048048 ],\n",
              "       [-1.7987988 ],\n",
              "       [-1.79279279],\n",
              "       [-1.78678679],\n",
              "       [-1.78078078],\n",
              "       [-1.77477477],\n",
              "       [-1.76876877],\n",
              "       [-1.76276276],\n",
              "       [-1.75675676],\n",
              "       [-1.75075075],\n",
              "       [-1.74474474],\n",
              "       [-1.73873874],\n",
              "       [-1.73273273],\n",
              "       [-1.72672673],\n",
              "       [-1.72072072],\n",
              "       [-1.71471471],\n",
              "       [-1.70870871],\n",
              "       [-1.7027027 ],\n",
              "       [-1.6966967 ],\n",
              "       [-1.69069069],\n",
              "       [-1.68468468],\n",
              "       [-1.67867868],\n",
              "       [-1.67267267],\n",
              "       [-1.66666667],\n",
              "       [-1.66066066],\n",
              "       [-1.65465465],\n",
              "       [-1.64864865],\n",
              "       [-1.64264264],\n",
              "       [-1.63663664],\n",
              "       [-1.63063063],\n",
              "       [-1.62462462],\n",
              "       [-1.61861862],\n",
              "       [-1.61261261],\n",
              "       [-1.60660661],\n",
              "       [-1.6006006 ],\n",
              "       [-1.59459459],\n",
              "       [-1.58858859],\n",
              "       [-1.58258258],\n",
              "       [-1.57657658],\n",
              "       [-1.57057057],\n",
              "       [-1.56456456],\n",
              "       [-1.55855856],\n",
              "       [-1.55255255],\n",
              "       [-1.54654655],\n",
              "       [-1.54054054],\n",
              "       [-1.53453453],\n",
              "       [-1.52852853],\n",
              "       [-1.52252252],\n",
              "       [-1.51651652],\n",
              "       [-1.51051051],\n",
              "       [-1.5045045 ],\n",
              "       [-1.4984985 ],\n",
              "       [-1.49249249],\n",
              "       [-1.48648649],\n",
              "       [-1.48048048],\n",
              "       [-1.47447447],\n",
              "       [-1.46846847],\n",
              "       [-1.46246246],\n",
              "       [-1.45645646],\n",
              "       [-1.45045045],\n",
              "       [-1.44444444],\n",
              "       [-1.43843844],\n",
              "       [-1.43243243],\n",
              "       [-1.42642643],\n",
              "       [-1.42042042],\n",
              "       [-1.41441441],\n",
              "       [-1.40840841],\n",
              "       [-1.4024024 ],\n",
              "       [-1.3963964 ],\n",
              "       [-1.39039039],\n",
              "       [-1.38438438],\n",
              "       [-1.37837838],\n",
              "       [-1.37237237],\n",
              "       [-1.36636637],\n",
              "       [-1.36036036],\n",
              "       [-1.35435435],\n",
              "       [-1.34834835],\n",
              "       [-1.34234234],\n",
              "       [-1.33633634],\n",
              "       [-1.33033033],\n",
              "       [-1.32432432],\n",
              "       [-1.31831832],\n",
              "       [-1.31231231],\n",
              "       [-1.30630631],\n",
              "       [-1.3003003 ],\n",
              "       [-1.29429429],\n",
              "       [-1.28828829],\n",
              "       [-1.28228228],\n",
              "       [-1.27627628],\n",
              "       [-1.27027027],\n",
              "       [-1.26426426],\n",
              "       [-1.25825826],\n",
              "       [-1.25225225],\n",
              "       [-1.24624625],\n",
              "       [-1.24024024],\n",
              "       [-1.23423423],\n",
              "       [-1.22822823],\n",
              "       [-1.22222222],\n",
              "       [-1.21621622],\n",
              "       [-1.21021021],\n",
              "       [-1.2042042 ],\n",
              "       [-1.1981982 ],\n",
              "       [-1.19219219],\n",
              "       [-1.18618619],\n",
              "       [-1.18018018],\n",
              "       [-1.17417417],\n",
              "       [-1.16816817],\n",
              "       [-1.16216216],\n",
              "       [-1.15615616],\n",
              "       [-1.15015015],\n",
              "       [-1.14414414],\n",
              "       [-1.13813814],\n",
              "       [-1.13213213],\n",
              "       [-1.12612613],\n",
              "       [-1.12012012],\n",
              "       [-1.11411411],\n",
              "       [-1.10810811],\n",
              "       [-1.1021021 ],\n",
              "       [-1.0960961 ],\n",
              "       [-1.09009009],\n",
              "       [-1.08408408],\n",
              "       [-1.07807808],\n",
              "       [-1.07207207],\n",
              "       [-1.06606607],\n",
              "       [-1.06006006],\n",
              "       [-1.05405405],\n",
              "       [-1.04804805],\n",
              "       [-1.04204204],\n",
              "       [-1.03603604],\n",
              "       [-1.03003003],\n",
              "       [-1.02402402],\n",
              "       [-1.01801802],\n",
              "       [-1.01201201],\n",
              "       [-1.00600601],\n",
              "       [-1.        ],\n",
              "       [-0.99399399],\n",
              "       [-0.98798799],\n",
              "       [-0.98198198],\n",
              "       [-0.97597598],\n",
              "       [-0.96996997],\n",
              "       [-0.96396396],\n",
              "       [-0.95795796],\n",
              "       [-0.95195195],\n",
              "       [-0.94594595],\n",
              "       [-0.93993994],\n",
              "       [-0.93393393],\n",
              "       [-0.92792793],\n",
              "       [-0.92192192],\n",
              "       [-0.91591592],\n",
              "       [-0.90990991],\n",
              "       [-0.9039039 ],\n",
              "       [-0.8978979 ],\n",
              "       [-0.89189189],\n",
              "       [-0.88588589],\n",
              "       [-0.87987988],\n",
              "       [-0.87387387],\n",
              "       [-0.86786787],\n",
              "       [-0.86186186],\n",
              "       [-0.85585586],\n",
              "       [-0.84984985],\n",
              "       [-0.84384384],\n",
              "       [-0.83783784],\n",
              "       [-0.83183183],\n",
              "       [-0.82582583],\n",
              "       [-0.81981982],\n",
              "       [-0.81381381],\n",
              "       [-0.80780781],\n",
              "       [-0.8018018 ],\n",
              "       [-0.7957958 ],\n",
              "       [-0.78978979],\n",
              "       [-0.78378378],\n",
              "       [-0.77777778],\n",
              "       [-0.77177177],\n",
              "       [-0.76576577],\n",
              "       [-0.75975976],\n",
              "       [-0.75375375],\n",
              "       [-0.74774775],\n",
              "       [-0.74174174],\n",
              "       [-0.73573574],\n",
              "       [-0.72972973],\n",
              "       [-0.72372372],\n",
              "       [-0.71771772],\n",
              "       [-0.71171171],\n",
              "       [-0.70570571],\n",
              "       [-0.6996997 ],\n",
              "       [-0.69369369],\n",
              "       [-0.68768769],\n",
              "       [-0.68168168],\n",
              "       [-0.67567568],\n",
              "       [-0.66966967],\n",
              "       [-0.66366366],\n",
              "       [-0.65765766],\n",
              "       [-0.65165165],\n",
              "       [-0.64564565],\n",
              "       [-0.63963964],\n",
              "       [-0.63363363],\n",
              "       [-0.62762763],\n",
              "       [-0.62162162],\n",
              "       [-0.61561562],\n",
              "       [-0.60960961],\n",
              "       [-0.6036036 ],\n",
              "       [-0.5975976 ],\n",
              "       [-0.59159159],\n",
              "       [-0.58558559],\n",
              "       [-0.57957958],\n",
              "       [-0.57357357],\n",
              "       [-0.56756757],\n",
              "       [-0.56156156],\n",
              "       [-0.55555556],\n",
              "       [-0.54954955],\n",
              "       [-0.54354354],\n",
              "       [-0.53753754],\n",
              "       [-0.53153153],\n",
              "       [-0.52552553],\n",
              "       [-0.51951952],\n",
              "       [-0.51351351],\n",
              "       [-0.50750751],\n",
              "       [-0.5015015 ],\n",
              "       [-0.4954955 ],\n",
              "       [-0.48948949],\n",
              "       [-0.48348348],\n",
              "       [-0.47747748],\n",
              "       [-0.47147147],\n",
              "       [-0.46546547],\n",
              "       [-0.45945946],\n",
              "       [-0.45345345],\n",
              "       [-0.44744745],\n",
              "       [-0.44144144],\n",
              "       [-0.43543544],\n",
              "       [-0.42942943],\n",
              "       [-0.42342342],\n",
              "       [-0.41741742],\n",
              "       [-0.41141141],\n",
              "       [-0.40540541],\n",
              "       [-0.3993994 ],\n",
              "       [-0.39339339],\n",
              "       [-0.38738739],\n",
              "       [-0.38138138],\n",
              "       [-0.37537538],\n",
              "       [-0.36936937],\n",
              "       [-0.36336336],\n",
              "       [-0.35735736],\n",
              "       [-0.35135135],\n",
              "       [-0.34534535],\n",
              "       [-0.33933934],\n",
              "       [-0.33333333],\n",
              "       [-0.32732733],\n",
              "       [-0.32132132],\n",
              "       [-0.31531532],\n",
              "       [-0.30930931],\n",
              "       [-0.3033033 ],\n",
              "       [-0.2972973 ],\n",
              "       [-0.29129129],\n",
              "       [-0.28528529],\n",
              "       [-0.27927928],\n",
              "       [-0.27327327],\n",
              "       [-0.26726727],\n",
              "       [-0.26126126],\n",
              "       [-0.25525526],\n",
              "       [-0.24924925],\n",
              "       [-0.24324324],\n",
              "       [-0.23723724],\n",
              "       [-0.23123123],\n",
              "       [-0.22522523],\n",
              "       [-0.21921922],\n",
              "       [-0.21321321],\n",
              "       [-0.20720721],\n",
              "       [-0.2012012 ],\n",
              "       [-0.1951952 ],\n",
              "       [-0.18918919],\n",
              "       [-0.18318318],\n",
              "       [-0.17717718],\n",
              "       [-0.17117117],\n",
              "       [-0.16516517],\n",
              "       [-0.15915916],\n",
              "       [-0.15315315],\n",
              "       [-0.14714715],\n",
              "       [-0.14114114],\n",
              "       [-0.13513514],\n",
              "       [-0.12912913],\n",
              "       [-0.12312312],\n",
              "       [-0.11711712],\n",
              "       [-0.11111111],\n",
              "       [-0.10510511],\n",
              "       [-0.0990991 ],\n",
              "       [-0.09309309],\n",
              "       [-0.08708709],\n",
              "       [-0.08108108],\n",
              "       [-0.07507508],\n",
              "       [-0.06906907],\n",
              "       [-0.06306306],\n",
              "       [-0.05705706],\n",
              "       [-0.05105105],\n",
              "       [-0.04504505],\n",
              "       [-0.03903904],\n",
              "       [-0.03303303],\n",
              "       [-0.02702703],\n",
              "       [-0.02102102],\n",
              "       [-0.01501502],\n",
              "       [-0.00900901],\n",
              "       [-0.003003  ],\n",
              "       [ 0.003003  ],\n",
              "       [ 0.00900901],\n",
              "       [ 0.01501502],\n",
              "       [ 0.02102102],\n",
              "       [ 0.02702703],\n",
              "       [ 0.03303303],\n",
              "       [ 0.03903904],\n",
              "       [ 0.04504505],\n",
              "       [ 0.05105105],\n",
              "       [ 0.05705706],\n",
              "       [ 0.06306306],\n",
              "       [ 0.06906907],\n",
              "       [ 0.07507508],\n",
              "       [ 0.08108108],\n",
              "       [ 0.08708709],\n",
              "       [ 0.09309309],\n",
              "       [ 0.0990991 ],\n",
              "       [ 0.10510511],\n",
              "       [ 0.11111111],\n",
              "       [ 0.11711712],\n",
              "       [ 0.12312312],\n",
              "       [ 0.12912913],\n",
              "       [ 0.13513514],\n",
              "       [ 0.14114114],\n",
              "       [ 0.14714715],\n",
              "       [ 0.15315315],\n",
              "       [ 0.15915916],\n",
              "       [ 0.16516517],\n",
              "       [ 0.17117117],\n",
              "       [ 0.17717718],\n",
              "       [ 0.18318318],\n",
              "       [ 0.18918919],\n",
              "       [ 0.1951952 ],\n",
              "       [ 0.2012012 ],\n",
              "       [ 0.20720721],\n",
              "       [ 0.21321321],\n",
              "       [ 0.21921922],\n",
              "       [ 0.22522523],\n",
              "       [ 0.23123123],\n",
              "       [ 0.23723724],\n",
              "       [ 0.24324324],\n",
              "       [ 0.24924925],\n",
              "       [ 0.25525526],\n",
              "       [ 0.26126126],\n",
              "       [ 0.26726727],\n",
              "       [ 0.27327327],\n",
              "       [ 0.27927928],\n",
              "       [ 0.28528529],\n",
              "       [ 0.29129129],\n",
              "       [ 0.2972973 ],\n",
              "       [ 0.3033033 ],\n",
              "       [ 0.30930931],\n",
              "       [ 0.31531532],\n",
              "       [ 0.32132132],\n",
              "       [ 0.32732733],\n",
              "       [ 0.33333333],\n",
              "       [ 0.33933934],\n",
              "       [ 0.34534535],\n",
              "       [ 0.35135135],\n",
              "       [ 0.35735736],\n",
              "       [ 0.36336336],\n",
              "       [ 0.36936937],\n",
              "       [ 0.37537538],\n",
              "       [ 0.38138138],\n",
              "       [ 0.38738739],\n",
              "       [ 0.39339339],\n",
              "       [ 0.3993994 ],\n",
              "       [ 0.40540541],\n",
              "       [ 0.41141141],\n",
              "       [ 0.41741742],\n",
              "       [ 0.42342342],\n",
              "       [ 0.42942943],\n",
              "       [ 0.43543544],\n",
              "       [ 0.44144144],\n",
              "       [ 0.44744745],\n",
              "       [ 0.45345345],\n",
              "       [ 0.45945946],\n",
              "       [ 0.46546547],\n",
              "       [ 0.47147147],\n",
              "       [ 0.47747748],\n",
              "       [ 0.48348348],\n",
              "       [ 0.48948949],\n",
              "       [ 0.4954955 ],\n",
              "       [ 0.5015015 ],\n",
              "       [ 0.50750751],\n",
              "       [ 0.51351351],\n",
              "       [ 0.51951952],\n",
              "       [ 0.52552553],\n",
              "       [ 0.53153153],\n",
              "       [ 0.53753754],\n",
              "       [ 0.54354354],\n",
              "       [ 0.54954955],\n",
              "       [ 0.55555556],\n",
              "       [ 0.56156156],\n",
              "       [ 0.56756757],\n",
              "       [ 0.57357357],\n",
              "       [ 0.57957958],\n",
              "       [ 0.58558559],\n",
              "       [ 0.59159159],\n",
              "       [ 0.5975976 ],\n",
              "       [ 0.6036036 ],\n",
              "       [ 0.60960961],\n",
              "       [ 0.61561562],\n",
              "       [ 0.62162162],\n",
              "       [ 0.62762763],\n",
              "       [ 0.63363363],\n",
              "       [ 0.63963964],\n",
              "       [ 0.64564565],\n",
              "       [ 0.65165165],\n",
              "       [ 0.65765766],\n",
              "       [ 0.66366366],\n",
              "       [ 0.66966967],\n",
              "       [ 0.67567568],\n",
              "       [ 0.68168168],\n",
              "       [ 0.68768769],\n",
              "       [ 0.69369369],\n",
              "       [ 0.6996997 ],\n",
              "       [ 0.70570571],\n",
              "       [ 0.71171171],\n",
              "       [ 0.71771772],\n",
              "       [ 0.72372372],\n",
              "       [ 0.72972973],\n",
              "       [ 0.73573574],\n",
              "       [ 0.74174174],\n",
              "       [ 0.74774775],\n",
              "       [ 0.75375375],\n",
              "       [ 0.75975976],\n",
              "       [ 0.76576577],\n",
              "       [ 0.77177177],\n",
              "       [ 0.77777778],\n",
              "       [ 0.78378378],\n",
              "       [ 0.78978979],\n",
              "       [ 0.7957958 ],\n",
              "       [ 0.8018018 ],\n",
              "       [ 0.80780781],\n",
              "       [ 0.81381381],\n",
              "       [ 0.81981982],\n",
              "       [ 0.82582583],\n",
              "       [ 0.83183183],\n",
              "       [ 0.83783784],\n",
              "       [ 0.84384384],\n",
              "       [ 0.84984985],\n",
              "       [ 0.85585586],\n",
              "       [ 0.86186186],\n",
              "       [ 0.86786787],\n",
              "       [ 0.87387387],\n",
              "       [ 0.87987988],\n",
              "       [ 0.88588589],\n",
              "       [ 0.89189189],\n",
              "       [ 0.8978979 ],\n",
              "       [ 0.9039039 ],\n",
              "       [ 0.90990991],\n",
              "       [ 0.91591592],\n",
              "       [ 0.92192192],\n",
              "       [ 0.92792793],\n",
              "       [ 0.93393393],\n",
              "       [ 0.93993994],\n",
              "       [ 0.94594595],\n",
              "       [ 0.95195195],\n",
              "       [ 0.95795796],\n",
              "       [ 0.96396396],\n",
              "       [ 0.96996997],\n",
              "       [ 0.97597598],\n",
              "       [ 0.98198198],\n",
              "       [ 0.98798799],\n",
              "       [ 0.99399399],\n",
              "       [ 1.        ],\n",
              "       [ 1.00600601],\n",
              "       [ 1.01201201],\n",
              "       [ 1.01801802],\n",
              "       [ 1.02402402],\n",
              "       [ 1.03003003],\n",
              "       [ 1.03603604],\n",
              "       [ 1.04204204],\n",
              "       [ 1.04804805],\n",
              "       [ 1.05405405],\n",
              "       [ 1.06006006],\n",
              "       [ 1.06606607],\n",
              "       [ 1.07207207],\n",
              "       [ 1.07807808],\n",
              "       [ 1.08408408],\n",
              "       [ 1.09009009],\n",
              "       [ 1.0960961 ],\n",
              "       [ 1.1021021 ],\n",
              "       [ 1.10810811],\n",
              "       [ 1.11411411],\n",
              "       [ 1.12012012],\n",
              "       [ 1.12612613],\n",
              "       [ 1.13213213],\n",
              "       [ 1.13813814],\n",
              "       [ 1.14414414],\n",
              "       [ 1.15015015],\n",
              "       [ 1.15615616],\n",
              "       [ 1.16216216],\n",
              "       [ 1.16816817],\n",
              "       [ 1.17417417],\n",
              "       [ 1.18018018],\n",
              "       [ 1.18618619],\n",
              "       [ 1.19219219],\n",
              "       [ 1.1981982 ],\n",
              "       [ 1.2042042 ],\n",
              "       [ 1.21021021],\n",
              "       [ 1.21621622],\n",
              "       [ 1.22222222],\n",
              "       [ 1.22822823],\n",
              "       [ 1.23423423],\n",
              "       [ 1.24024024],\n",
              "       [ 1.24624625],\n",
              "       [ 1.25225225],\n",
              "       [ 1.25825826],\n",
              "       [ 1.26426426],\n",
              "       [ 1.27027027],\n",
              "       [ 1.27627628],\n",
              "       [ 1.28228228],\n",
              "       [ 1.28828829],\n",
              "       [ 1.29429429],\n",
              "       [ 1.3003003 ],\n",
              "       [ 1.30630631],\n",
              "       [ 1.31231231],\n",
              "       [ 1.31831832],\n",
              "       [ 1.32432432],\n",
              "       [ 1.33033033],\n",
              "       [ 1.33633634],\n",
              "       [ 1.34234234],\n",
              "       [ 1.34834835],\n",
              "       [ 1.35435435],\n",
              "       [ 1.36036036],\n",
              "       [ 1.36636637],\n",
              "       [ 1.37237237],\n",
              "       [ 1.37837838],\n",
              "       [ 1.38438438],\n",
              "       [ 1.39039039],\n",
              "       [ 1.3963964 ],\n",
              "       [ 1.4024024 ],\n",
              "       [ 1.40840841],\n",
              "       [ 1.41441441],\n",
              "       [ 1.42042042],\n",
              "       [ 1.42642643],\n",
              "       [ 1.43243243],\n",
              "       [ 1.43843844],\n",
              "       [ 1.44444444],\n",
              "       [ 1.45045045],\n",
              "       [ 1.45645646],\n",
              "       [ 1.46246246],\n",
              "       [ 1.46846847],\n",
              "       [ 1.47447447],\n",
              "       [ 1.48048048],\n",
              "       [ 1.48648649],\n",
              "       [ 1.49249249],\n",
              "       [ 1.4984985 ],\n",
              "       [ 1.5045045 ],\n",
              "       [ 1.51051051],\n",
              "       [ 1.51651652],\n",
              "       [ 1.52252252],\n",
              "       [ 1.52852853],\n",
              "       [ 1.53453453],\n",
              "       [ 1.54054054],\n",
              "       [ 1.54654655],\n",
              "       [ 1.55255255],\n",
              "       [ 1.55855856],\n",
              "       [ 1.56456456],\n",
              "       [ 1.57057057],\n",
              "       [ 1.57657658],\n",
              "       [ 1.58258258],\n",
              "       [ 1.58858859],\n",
              "       [ 1.59459459],\n",
              "       [ 1.6006006 ],\n",
              "       [ 1.60660661],\n",
              "       [ 1.61261261],\n",
              "       [ 1.61861862],\n",
              "       [ 1.62462462],\n",
              "       [ 1.63063063],\n",
              "       [ 1.63663664],\n",
              "       [ 1.64264264],\n",
              "       [ 1.64864865],\n",
              "       [ 1.65465465],\n",
              "       [ 1.66066066],\n",
              "       [ 1.66666667],\n",
              "       [ 1.67267267],\n",
              "       [ 1.67867868],\n",
              "       [ 1.68468468],\n",
              "       [ 1.69069069],\n",
              "       [ 1.6966967 ],\n",
              "       [ 1.7027027 ],\n",
              "       [ 1.70870871],\n",
              "       [ 1.71471471],\n",
              "       [ 1.72072072],\n",
              "       [ 1.72672673],\n",
              "       [ 1.73273273],\n",
              "       [ 1.73873874],\n",
              "       [ 1.74474474],\n",
              "       [ 1.75075075],\n",
              "       [ 1.75675676],\n",
              "       [ 1.76276276],\n",
              "       [ 1.76876877],\n",
              "       [ 1.77477477],\n",
              "       [ 1.78078078],\n",
              "       [ 1.78678679],\n",
              "       [ 1.79279279],\n",
              "       [ 1.7987988 ],\n",
              "       [ 1.8048048 ],\n",
              "       [ 1.81081081],\n",
              "       [ 1.81681682],\n",
              "       [ 1.82282282],\n",
              "       [ 1.82882883],\n",
              "       [ 1.83483483],\n",
              "       [ 1.84084084],\n",
              "       [ 1.84684685],\n",
              "       [ 1.85285285],\n",
              "       [ 1.85885886],\n",
              "       [ 1.86486486],\n",
              "       [ 1.87087087],\n",
              "       [ 1.87687688],\n",
              "       [ 1.88288288],\n",
              "       [ 1.88888889],\n",
              "       [ 1.89489489],\n",
              "       [ 1.9009009 ],\n",
              "       [ 1.90690691],\n",
              "       [ 1.91291291],\n",
              "       [ 1.91891892],\n",
              "       [ 1.92492492],\n",
              "       [ 1.93093093],\n",
              "       [ 1.93693694],\n",
              "       [ 1.94294294],\n",
              "       [ 1.94894895],\n",
              "       [ 1.95495495],\n",
              "       [ 1.96096096],\n",
              "       [ 1.96696697],\n",
              "       [ 1.97297297],\n",
              "       [ 1.97897898],\n",
              "       [ 1.98498498],\n",
              "       [ 1.99099099],\n",
              "       [ 1.996997  ],\n",
              "       [ 2.003003  ],\n",
              "       [ 2.00900901],\n",
              "       [ 2.01501502],\n",
              "       [ 2.02102102],\n",
              "       [ 2.02702703],\n",
              "       [ 2.03303303],\n",
              "       [ 2.03903904],\n",
              "       [ 2.04504505],\n",
              "       [ 2.05105105],\n",
              "       [ 2.05705706],\n",
              "       [ 2.06306306],\n",
              "       [ 2.06906907],\n",
              "       [ 2.07507508],\n",
              "       [ 2.08108108],\n",
              "       [ 2.08708709],\n",
              "       [ 2.09309309],\n",
              "       [ 2.0990991 ],\n",
              "       [ 2.10510511],\n",
              "       [ 2.11111111],\n",
              "       [ 2.11711712],\n",
              "       [ 2.12312312],\n",
              "       [ 2.12912913],\n",
              "       [ 2.13513514],\n",
              "       [ 2.14114114],\n",
              "       [ 2.14714715],\n",
              "       [ 2.15315315],\n",
              "       [ 2.15915916],\n",
              "       [ 2.16516517],\n",
              "       [ 2.17117117],\n",
              "       [ 2.17717718],\n",
              "       [ 2.18318318],\n",
              "       [ 2.18918919],\n",
              "       [ 2.1951952 ],\n",
              "       [ 2.2012012 ],\n",
              "       [ 2.20720721],\n",
              "       [ 2.21321321],\n",
              "       [ 2.21921922],\n",
              "       [ 2.22522523],\n",
              "       [ 2.23123123],\n",
              "       [ 2.23723724],\n",
              "       [ 2.24324324],\n",
              "       [ 2.24924925],\n",
              "       [ 2.25525526],\n",
              "       [ 2.26126126],\n",
              "       [ 2.26726727],\n",
              "       [ 2.27327327],\n",
              "       [ 2.27927928],\n",
              "       [ 2.28528529],\n",
              "       [ 2.29129129],\n",
              "       [ 2.2972973 ],\n",
              "       [ 2.3033033 ],\n",
              "       [ 2.30930931],\n",
              "       [ 2.31531532],\n",
              "       [ 2.32132132],\n",
              "       [ 2.32732733],\n",
              "       [ 2.33333333],\n",
              "       [ 2.33933934],\n",
              "       [ 2.34534535],\n",
              "       [ 2.35135135],\n",
              "       [ 2.35735736],\n",
              "       [ 2.36336336],\n",
              "       [ 2.36936937],\n",
              "       [ 2.37537538],\n",
              "       [ 2.38138138],\n",
              "       [ 2.38738739],\n",
              "       [ 2.39339339],\n",
              "       [ 2.3993994 ],\n",
              "       [ 2.40540541],\n",
              "       [ 2.41141141],\n",
              "       [ 2.41741742],\n",
              "       [ 2.42342342],\n",
              "       [ 2.42942943],\n",
              "       [ 2.43543544],\n",
              "       [ 2.44144144],\n",
              "       [ 2.44744745],\n",
              "       [ 2.45345345],\n",
              "       [ 2.45945946],\n",
              "       [ 2.46546547],\n",
              "       [ 2.47147147],\n",
              "       [ 2.47747748],\n",
              "       [ 2.48348348],\n",
              "       [ 2.48948949],\n",
              "       [ 2.4954955 ],\n",
              "       [ 2.5015015 ],\n",
              "       [ 2.50750751],\n",
              "       [ 2.51351351],\n",
              "       [ 2.51951952],\n",
              "       [ 2.52552553],\n",
              "       [ 2.53153153],\n",
              "       [ 2.53753754],\n",
              "       [ 2.54354354],\n",
              "       [ 2.54954955],\n",
              "       [ 2.55555556],\n",
              "       [ 2.56156156],\n",
              "       [ 2.56756757],\n",
              "       [ 2.57357357],\n",
              "       [ 2.57957958],\n",
              "       [ 2.58558559],\n",
              "       [ 2.59159159],\n",
              "       [ 2.5975976 ],\n",
              "       [ 2.6036036 ],\n",
              "       [ 2.60960961],\n",
              "       [ 2.61561562],\n",
              "       [ 2.62162162],\n",
              "       [ 2.62762763],\n",
              "       [ 2.63363363],\n",
              "       [ 2.63963964],\n",
              "       [ 2.64564565],\n",
              "       [ 2.65165165],\n",
              "       [ 2.65765766],\n",
              "       [ 2.66366366],\n",
              "       [ 2.66966967],\n",
              "       [ 2.67567568],\n",
              "       [ 2.68168168],\n",
              "       [ 2.68768769],\n",
              "       [ 2.69369369],\n",
              "       [ 2.6996997 ],\n",
              "       [ 2.70570571],\n",
              "       [ 2.71171171],\n",
              "       [ 2.71771772],\n",
              "       [ 2.72372372],\n",
              "       [ 2.72972973],\n",
              "       [ 2.73573574],\n",
              "       [ 2.74174174],\n",
              "       [ 2.74774775],\n",
              "       [ 2.75375375],\n",
              "       [ 2.75975976],\n",
              "       [ 2.76576577],\n",
              "       [ 2.77177177],\n",
              "       [ 2.77777778],\n",
              "       [ 2.78378378],\n",
              "       [ 2.78978979],\n",
              "       [ 2.7957958 ],\n",
              "       [ 2.8018018 ],\n",
              "       [ 2.80780781],\n",
              "       [ 2.81381381],\n",
              "       [ 2.81981982],\n",
              "       [ 2.82582583],\n",
              "       [ 2.83183183],\n",
              "       [ 2.83783784],\n",
              "       [ 2.84384384],\n",
              "       [ 2.84984985],\n",
              "       [ 2.85585586],\n",
              "       [ 2.86186186],\n",
              "       [ 2.86786787],\n",
              "       [ 2.87387387],\n",
              "       [ 2.87987988],\n",
              "       [ 2.88588589],\n",
              "       [ 2.89189189],\n",
              "       [ 2.8978979 ],\n",
              "       [ 2.9039039 ],\n",
              "       [ 2.90990991],\n",
              "       [ 2.91591592],\n",
              "       [ 2.92192192],\n",
              "       [ 2.92792793],\n",
              "       [ 2.93393393],\n",
              "       [ 2.93993994],\n",
              "       [ 2.94594595],\n",
              "       [ 2.95195195],\n",
              "       [ 2.95795796],\n",
              "       [ 2.96396396],\n",
              "       [ 2.96996997],\n",
              "       [ 2.97597598],\n",
              "       [ 2.98198198],\n",
              "       [ 2.98798799],\n",
              "       [ 2.99399399],\n",
              "       [ 3.        ]])"
            ]
          },
          "metadata": {},
          "execution_count": 47
        }
      ]
    },
    {
      "cell_type": "markdown",
      "source": [
        "## 2.3.3 선형 모델"
      ],
      "metadata": {
        "id": "tv_WibM69yrf"
      }
    },
    {
      "cell_type": "code",
      "source": [
        "from sklearn.linear_model import LinearRegression\n",
        "from sklearn.model_selection import train_test_split\n",
        "\n",
        "X, y = mglearn.datasets.make_wave(n_samples = 60)\n",
        "X_train, X_test, y_train, y_test = train_test_split(X,y, random_state=42)\n",
        "\n",
        "lr = LinearRegression().fit(X_train, y_train) #train set fit"
      ],
      "metadata": {
        "id": "ov0aAsls3pfX"
      },
      "execution_count": 6,
      "outputs": []
    },
    {
      "cell_type": "code",
      "source": [
        "print('lr.coef : ', lr.coef_)\n",
        "print('lr.intercept_ : ',lr.intercept_)"
      ],
      "metadata": {
        "colab": {
          "base_uri": "https://localhost:8080/"
        },
        "id": "zClmAKDC_xQs",
        "outputId": "3d4a9591-31ae-41df-dd2b-95cd7a656a1a"
      },
      "execution_count": null,
      "outputs": [
        {
          "output_type": "stream",
          "name": "stdout",
          "text": [
            "lr.coef :  [0.39390555]\n",
            "lr.intercept_ :  -0.031804343026759746\n"
          ]
        }
      ]
    },
    {
      "cell_type": "code",
      "source": [
        "print(\"훈련 세트 점수 : {:.2f}\".format(lr.score(X_train, y_train)))\n",
        "print(\"테스트 세트 점수 : {:.2f}\".format(lr.score(X_test, y_test)))"
      ],
      "metadata": {
        "colab": {
          "base_uri": "https://localhost:8080/"
        },
        "id": "bef1bZN8_6p3",
        "outputId": "f7030165-9b8c-4abf-cea9-8d300e16dcb2"
      },
      "execution_count": null,
      "outputs": [
        {
          "output_type": "stream",
          "name": "stdout",
          "text": [
            "훈련 세트 점수 : 0.67\n",
            "테스트 세트 점수 : 0.66\n"
          ]
        }
      ]
    },
    {
      "cell_type": "markdown",
      "source": [
        "## 보스턴 주택 가격 - p.77"
      ],
      "metadata": {
        "id": "_PKT5SKOALxP"
      }
    },
    {
      "cell_type": "code",
      "source": [
        "X, y = mglearn.datasets.load_extended_boston()\n",
        "\n",
        "X_train, X_test, y_train, y_test = train_test_split(X,y, random_state = 0)\n",
        "lr = LinearRegression().fit(X_train, y_train)"
      ],
      "metadata": {
        "colab": {
          "base_uri": "https://localhost:8080/"
        },
        "id": "HCb7IBFpAGLX",
        "outputId": "7ffb0452-ccd2-47d8-e787-84e6bbde4ec5"
      },
      "execution_count": null,
      "outputs": [
        {
          "output_type": "stream",
          "name": "stderr",
          "text": [
            "/usr/local/lib/python3.7/dist-packages/sklearn/utils/deprecation.py:87: FutureWarning: Function load_boston is deprecated; `load_boston` is deprecated in 1.0 and will be removed in 1.2.\n",
            "\n",
            "    The Boston housing prices dataset has an ethical problem. You can refer to\n",
            "    the documentation of this function for further details.\n",
            "\n",
            "    The scikit-learn maintainers therefore strongly discourage the use of this\n",
            "    dataset unless the purpose of the code is to study and educate about\n",
            "    ethical issues in data science and machine learning.\n",
            "\n",
            "    In this special case, you can fetch the dataset from the original\n",
            "    source::\n",
            "\n",
            "        import pandas as pd\n",
            "        import numpy as np\n",
            "\n",
            "\n",
            "        data_url = \"http://lib.stat.cmu.edu/datasets/boston\"\n",
            "        raw_df = pd.read_csv(data_url, sep=\"\\s+\", skiprows=22, header=None)\n",
            "        data = np.hstack([raw_df.values[::2, :], raw_df.values[1::2, :2]])\n",
            "        target = raw_df.values[1::2, 2]\n",
            "\n",
            "    Alternative datasets include the California housing dataset (i.e.\n",
            "    :func:`~sklearn.datasets.fetch_california_housing`) and the Ames housing\n",
            "    dataset. You can load the datasets as follows::\n",
            "\n",
            "        from sklearn.datasets import fetch_california_housing\n",
            "        housing = fetch_california_housing()\n",
            "\n",
            "    for the California housing dataset and::\n",
            "\n",
            "        from sklearn.datasets import fetch_openml\n",
            "        housing = fetch_openml(name=\"house_prices\", as_frame=True)\n",
            "\n",
            "    for the Ames housing dataset.\n",
            "    \n",
            "  warnings.warn(msg, category=FutureWarning)\n"
          ]
        }
      ]
    },
    {
      "cell_type": "code",
      "source": [
        "print('훈련 세트 점수 : {:.2f}'.format(lr.score(X_train, y_train)))\n",
        "print('테스트 세트 점수 : {:.2f}'.format(lr.score(X_test, y_test)))"
      ],
      "metadata": {
        "colab": {
          "base_uri": "https://localhost:8080/"
        },
        "id": "qAyCLNoFAf2R",
        "outputId": "0710b2ea-a115-45d6-f6b6-741cf62e6bf5"
      },
      "execution_count": null,
      "outputs": [
        {
          "output_type": "stream",
          "name": "stdout",
          "text": [
            "훈련 세트 점수 : 0.95\n",
            "테스트 세트 점수 : 0.61\n"
          ]
        }
      ]
    },
    {
      "cell_type": "markdown",
      "source": [
        "## 리지 회귀 : 보스턴 주택 가격 데이터셋 - p.78"
      ],
      "metadata": {
        "id": "88KCmHZlBFrm"
      }
    },
    {
      "cell_type": "code",
      "source": [
        "from sklearn.linear_model import Ridge\n",
        "\n",
        "ridge = Ridge().fit(X_train, y_train)\n",
        "print(\"훈련 세트 점수 : {:.2f}\".format(ridge.score(X_train, y_train)))\n",
        "print(\"테스트 세트 점수 : {:.2f}\".format(ridge.score(X_test, y_test)))"
      ],
      "metadata": {
        "colab": {
          "base_uri": "https://localhost:8080/"
        },
        "id": "vOEsz1kSBA91",
        "outputId": "2c7765a1-84ef-4507-99c2-4f6159e33e68"
      },
      "execution_count": null,
      "outputs": [
        {
          "output_type": "stream",
          "name": "stdout",
          "text": [
            "훈련 세트 점수 : 0.89\n",
            "테스트 세트 점수 : 0.75\n"
          ]
        }
      ]
    },
    {
      "cell_type": "code",
      "source": [
        "ridge10 = Ridge(alpha = 10).fit(X_train, y_train)\n",
        "print(\"훈련 세트 점수 : {:.2f}\".format(ridge10.score(X_train, y_train)))\n",
        "print(\"테스트 세트 점수 : {:.2f}\".format(ridge10.score(X_test, y_test)))"
      ],
      "metadata": {
        "colab": {
          "base_uri": "https://localhost:8080/"
        },
        "id": "jJGwH3dbBa2Y",
        "outputId": "96f8773d-69d0-4a41-faa0-f6342e6ae87a"
      },
      "execution_count": null,
      "outputs": [
        {
          "output_type": "stream",
          "name": "stdout",
          "text": [
            "훈련 세트 점수 : 0.79\n",
            "테스트 세트 점수 : 0.64\n"
          ]
        }
      ]
    },
    {
      "cell_type": "code",
      "source": [
        "ridge01 = Ridge(alpha = 0.1).fit(X_train, y_train)\n",
        "print(\"훈련 세트 점수 : {:.2f}\".format(ridge01.score(X_train, y_train)))\n",
        "print(\"테스트 세트 점수 : {:.2f}\".format(ridge01.score(X_test, y_test)))"
      ],
      "metadata": {
        "colab": {
          "base_uri": "https://localhost:8080/"
        },
        "id": "gdSvD8xoEjr3",
        "outputId": "a51cf7c2-b15c-4603-f049-6ba0f9e50cbf"
      },
      "execution_count": null,
      "outputs": [
        {
          "output_type": "stream",
          "name": "stdout",
          "text": [
            "훈련 세트 점수 : 0.93\n",
            "테스트 세트 점수 : 0.77\n"
          ]
        }
      ]
    },
    {
      "cell_type": "code",
      "source": [
        "plt.plot(ridge10.coef_,'^',label = 'Ridge alpha = 10')\n",
        "plt.plot(ridge.coef_, 's', label = 'Ridge alpha = 1')\n",
        "plt.plot(ridge01.coef_, 'v', label = 'Ridge alpha = 0.1')\n",
        "\n",
        "plt.plot(lr.coef_,'o',label = 'Linear Regression')\n",
        "plt.xlabel('계수 목록')\n",
        "plt.ylabel('계수 크기')\n",
        "xlims = plt.xlim()\n",
        "plt.hlines(0, xlims[0], xlims[1])\n",
        "plt.xlim(xlims)\n",
        "plt.ylim(-25,25)\n",
        "plt.legend()"
      ],
      "metadata": {
        "colab": {
          "base_uri": "https://localhost:8080/",
          "height": 373
        },
        "id": "oyTI2-MRFrhT",
        "outputId": "ce0845ec-0d25-4c10-99bf-c32271021e79"
      },
      "execution_count": null,
      "outputs": [
        {
          "output_type": "execute_result",
          "data": {
            "text/plain": [
              "<matplotlib.legend.Legend at 0x7f57e0a84790>"
            ]
          },
          "metadata": {},
          "execution_count": 15
        },
        {
          "output_type": "stream",
          "name": "stderr",
          "text": [
            "/usr/local/lib/python3.7/dist-packages/matplotlib/backends/backend_agg.py:214: RuntimeWarning: Glyph 8722 missing from current font.\n",
            "  font.set_text(s, 0.0, flags=flags)\n",
            "/usr/local/lib/python3.7/dist-packages/matplotlib/backends/backend_agg.py:183: RuntimeWarning: Glyph 8722 missing from current font.\n",
            "  font.set_text(s, 0, flags=flags)\n"
          ]
        },
        {
          "output_type": "display_data",
          "data": {
            "image/png": "[encoded data removed]",
            "text/plain": [
              "<Figure size 432x288 with 1 Axes>"
            ]
          },
          "metadata": {
            "needs_background": "light"
          }
        }
      ]
    },
    {
      "cell_type": "markdown",
      "source": [
        "## 라소 : 보스턴 주택 가격 - p.83"
      ],
      "metadata": {
        "id": "6KwBLTR1IHRC"
      }
    },
    {
      "cell_type": "code",
      "source": [
        "from sklearn.linear_model import Lasso\n",
        "\n",
        "lasso = Lasso().fit(X_train, y_train)\n",
        "print(\"훈련 세트 점수 : {:.2f}\".format(lasso.score(X_train, y_train)))\n",
        "print(\"테스트 세트 점수 : {:.2f}\".format(lasso.score(X_test, y_test)))\n",
        "print(\"사용한 특성의 개수 : \",np.sum(lasso.coef_ != 0))"
      ],
      "metadata": {
        "colab": {
          "base_uri": "https://localhost:8080/"
        },
        "id": "zpjsK336HWQd",
        "outputId": "af032ab0-913e-4517-899a-b12b58ea2b89"
      },
      "execution_count": null,
      "outputs": [
        {
          "output_type": "stream",
          "name": "stdout",
          "text": [
            "훈련 세트 점수 : 0.29\n",
            "테스트 세트 점수 : 0.21\n",
            "사용한 특성의 개수 :  4\n"
          ]
        }
      ]
    },
    {
      "cell_type": "code",
      "source": [
        "lasso001 = Lasso(alpha = 0.01, max_iter = 100000).fit(X_train, y_train)\n",
        "print(\"훈련 세트 점수 : {:.2f}\".format(lasso001.score(X_train, y_train)))\n",
        "print(\"테스트 세트 점수 ; {:.2f}\".format(lasso001.score(X_test,y_test)))\n",
        "print(\"사용한 특성의 계수 : \", np.sum(lasso001.coef_ != 0))"
      ],
      "metadata": {
        "colab": {
          "base_uri": "https://localhost:8080/"
        },
        "id": "lUKyn6sNNZEK",
        "outputId": "c10fab6e-775e-4d8f-b7b9-012b9d64b31a"
      },
      "execution_count": null,
      "outputs": [
        {
          "output_type": "stream",
          "name": "stdout",
          "text": [
            "훈련 세트 점수 : 0.90\n",
            "테스트 세트 점수 ; 0.77\n",
            "사용한 특성의 계수 :  33\n"
          ]
        }
      ]
    },
    {
      "cell_type": "code",
      "source": [
        "# lasso001.coef_"
      ],
      "metadata": {
        "id": "_osJn9EAOlCN",
        "colab": {
          "base_uri": "https://localhost:8080/"
        },
        "outputId": "5f8454be-a77b-4f95-fb31-055efc97863e"
      },
      "execution_count": null,
      "outputs": [
        {
          "output_type": "execute_result",
          "data": {
            "text/plain": [
              "array([ -0.        ,  -0.        ,  -0.        ,   0.        ,\n",
              "        -0.        ,   0.        ,  -0.        ,  -1.43260465,\n",
              "        10.94771183,   0.        ,   0.        ,   0.        ,\n",
              "        -0.39260971,  -0.        ,  -0.        ,  -0.        ,\n",
              "         0.        ,  -0.        ,  -0.        ,  -0.        ,\n",
              "        -0.        ,  -8.75628457,  -0.        ,  -0.        ,\n",
              "        -0.        ,  -0.        ,   2.10027365,  -0.        ,\n",
              "         0.        ,  -0.        ,   0.        ,  -0.        ,\n",
              "         0.        ,   0.        ,  -0.        ,   0.        ,\n",
              "        -0.        ,  -0.        ,   0.        ,   0.        ,\n",
              "         0.        ,  -0.        ,   0.        ,  -3.96958293,\n",
              "         0.        ,   6.61845793,  -0.        ,  -0.        ,\n",
              "        -0.        ,   0.        ,  -4.42086828,  -2.10371434,\n",
              "         3.79607992,  -0.        ,   4.38591262,   0.        ,\n",
              "         0.        ,   0.1795777 ,  -0.        ,  -1.1614282 ,\n",
              "        -4.33485764,  -0.        ,  -0.        ,  -2.13549022,\n",
              "        -0.        ,  -1.85967636,  -0.        ,  -0.        ,\n",
              "        29.81957225,  -2.05624806,   0.        , -11.98034348,\n",
              "       -11.14870694, -11.67147204,  12.974385  , -10.93053676,\n",
              "        -0.        ,  -0.        ,   3.441574  ,   0.        ,\n",
              "        -0.        ,  -0.        ,  -8.56750394,   0.        ,\n",
              "         0.        ,  -0.        ,   0.        ,  -7.26115293,\n",
              "        -0.        ,   0.        ,   0.94254631,   0.        ,\n",
              "         0.        ,  -7.62603559,   1.65255854,   0.        ,\n",
              "         0.        , -17.39462971,   0.        ,   0.        ,\n",
              "        -0.        ,   0.34404124,  -8.24645566,  17.5606721 ])"
            ]
          },
          "metadata": {},
          "execution_count": 23
        }
      ]
    },
    {
      "cell_type": "code",
      "source": [
        "# R 에서 변수의 유의확률 확인하는 것처럼 파이썬에서도 할 수 없나?"
      ],
      "metadata": {
        "id": "umcINVd3NAK3"
      },
      "execution_count": null,
      "outputs": []
    },
    {
      "cell_type": "code",
      "source": [
        "lasso00001 = Lasso(alpha = 0.0001, max_iter = 10000).fit(X_train, y_train)\n",
        "print(\"훈련 세트 점수 : {:.2f}\".format(lasso00001.score(X_train, y_train)))\n",
        "print(\"테스트 세트 점수 : {:.2f}\".format(lasso00001.score(X_test, y_test)))\n",
        "print(\"사용한 특성의 개수 : \", np.sum(lasso00001.coef_ != 0))"
      ],
      "metadata": {
        "colab": {
          "base_uri": "https://localhost:8080/"
        },
        "id": "5OzwmvGFNOXg",
        "outputId": "2cb37a70-d724-4f73-fa43-0fa6e1560aad"
      },
      "execution_count": null,
      "outputs": [
        {
          "output_type": "stream",
          "name": "stdout",
          "text": [
            "훈련 세트 점수 : 0.95\n",
            "테스트 세트 점수 : 0.65\n",
            "사용한 특성의 개수 :  97\n"
          ]
        },
        {
          "output_type": "stream",
          "name": "stderr",
          "text": [
            "/usr/local/lib/python3.7/dist-packages/sklearn/linear_model/_coordinate_descent.py:648: ConvergenceWarning: Objective did not converge. You might want to increase the number of iterations, check the scale of the features or consider increasing regularisation. Duality gap: 6.532e+02, tolerance: 3.233e+00\n",
            "  coef_, l1_reg, l2_reg, X, y, max_iter, tol, rng, random, positive\n"
          ]
        }
      ]
    },
    {
      "cell_type": "code",
      "source": [
        "# alpha 값을 너무 낮추면 규제의 효과가 없어져 linearregression의 결과와 비슷해진다.\n",
        "# alpha 값을 낮출수록 계수를 다양하게 사용해, 복잡한 모형을 만든다고 생각했는데\n",
        "# 그게 아닌거야?\n",
        "# linear regression은 가장 단순한 모형이라고 생각했어."
      ],
      "metadata": {
        "id": "jWRX8Up9NQEc"
      },
      "execution_count": null,
      "outputs": []
    },
    {
      "cell_type": "code",
      "source": [
        "plt.plot(lasso.coef_, 's', label = 'Lasso alpha = 1')\n",
        "plt.plot(lasso001.coef_, '^', label = 'Lasso alpha = 0.01')\n",
        "plt.plot(lasso00001.coef_, 'v', label = 'Lasso alpha = 0.0001')\n",
        "\n",
        "plt.plot(ridge01.coef_, 'o', label = 'Ridge alpha = 0.1')\n",
        "plt.legend(ncol = 2, loc = (0,1.05))\n",
        "plt.ylim(-25,25)\n",
        "plt.xlabel(\"계수 목록\")\n",
        "plt.ylabel(\"계수 크기\")"
      ],
      "metadata": {
        "colab": {
          "base_uri": "https://localhost:8080/",
          "height": 417
        },
        "id": "f8JrTXv4VCAt",
        "outputId": "471604f8-822d-49e1-b318-f57f523dfc1a"
      },
      "execution_count": null,
      "outputs": [
        {
          "output_type": "execute_result",
          "data": {
            "text/plain": [
              "Text(0, 0.5, '계수 크기')"
            ]
          },
          "metadata": {},
          "execution_count": 35
        },
        {
          "output_type": "stream",
          "name": "stderr",
          "text": [
            "/usr/local/lib/python3.7/dist-packages/matplotlib/backends/backend_agg.py:214: RuntimeWarning: Glyph 8722 missing from current font.\n",
            "  font.set_text(s, 0.0, flags=flags)\n",
            "/usr/local/lib/python3.7/dist-packages/matplotlib/backends/backend_agg.py:183: RuntimeWarning: Glyph 8722 missing from current font.\n",
            "  font.set_text(s, 0, flags=flags)\n"
          ]
        },
        {
          "output_type": "display_data",
          "data": {
            "image/png": "[encoded data removed]",
            "text/plain": [
              "<Figure size 432x288 with 1 Axes>"
            ]
          },
          "metadata": {
            "needs_background": "light"
          }
        }
      ]
    },
    {
      "cell_type": "markdown",
      "source": [
        "## 분류용 선형 모델"
      ],
      "metadata": {
        "id": "ZjHqOhpMf0F3"
      }
    },
    {
      "cell_type": "code",
      "source": [
        "from sklearn.linear_model import LogisticRegression\n",
        "from sklearn.svm import LinearSVC\n",
        "\n",
        "X, y = mglearn.datasets.make_forge()\n",
        "fig, axes = plt.subplots(1,2, figsize = (10,3))\n",
        "\n",
        "for model, ax in zip([LinearSVC(max_iter = 5000), LogisticRegression()], axes):\n",
        "  clf = model.fit(X,y)\n",
        "  mglearn.plots.plot_2d_separator(clf, X, fill = False, eps = 0.5,\n",
        "                                  ax = ax, alpha = .7)\n",
        "  mglearn.discrete_scatter(X[:,0], X[:,1], y, ax = ax)\n",
        "  ax.set_title(clf.__class__.__name__)\n",
        "  ax.set_xlabel(\"특성 0\")\n",
        "  ax.set_ylabel('특성 1')\n",
        "axes[0].legend()"
      ],
      "metadata": {
        "colab": {
          "base_uri": "https://localhost:8080/",
          "height": 0
        },
        "id": "2E7QQA0mZ0Yx",
        "outputId": "82736c87-d6fc-4a1b-9fb5-9b379155dbce"
      },
      "execution_count": 10,
      "outputs": [
        {
          "output_type": "stream",
          "name": "stderr",
          "text": [
            "/usr/local/lib/python3.7/dist-packages/sklearn/utils/deprecation.py:87: FutureWarning: Function make_blobs is deprecated; Please import make_blobs directly from scikit-learn\n",
            "  warnings.warn(msg, category=FutureWarning)\n"
          ]
        },
        {
          "output_type": "execute_result",
          "data": {
            "text/plain": [
              "<matplotlib.legend.Legend at 0x7fdc3c927810>"
            ]
          },
          "metadata": {},
          "execution_count": 10
        },
        {
          "output_type": "display_data",
          "data": {
            "image/png": "[encoded data removed]",
            "text/plain": [
              "<Figure size 720x216 with 2 Axes>"
            ]
          },
          "metadata": {}
        }
      ]
    },
    {
      "cell_type": "markdown",
      "source": [
        "## 유방암 데이터셋 - p.89"
      ],
      "metadata": {
        "id": "lxXNT1Asias3"
      }
    },
    {
      "cell_type": "code",
      "source": [
        "from sklearn.datasets import load_breast_cancer\n",
        "cancer = load_breast_cancer()\n",
        "X_train, X_test, y_train, y_test = train_test_split(\n",
        "    cancer.data, cancer.target, stratify = cancer.target, random_state = 42)\n",
        "logreg = LogisticRegression(max_iter = 5000).fit(X_train, y_train)\n",
        "print(\"훈련 세트 점수 : {:.3f}\".format(logreg.score(X_train, y_train)))\n",
        "print(\"테스트 세트 점수 : {:.3f}\".format(logreg.score(X_test, y_test)))"
      ],
      "metadata": {
        "colab": {
          "base_uri": "https://localhost:8080/"
        },
        "id": "iZ4_12Cigp3m",
        "outputId": "92b9fec9-9014-452b-c2f0-41ebe7013759"
      },
      "execution_count": 11,
      "outputs": [
        {
          "output_type": "stream",
          "name": "stdout",
          "text": [
            "훈련 세트 점수 : 0.958\n",
            "테스트 세트 점수 : 0.958\n"
          ]
        }
      ]
    },
    {
      "cell_type": "code",
      "source": [
        "# print(\"훈련 세트 점수 : {:.3f}\".format(100* logreg.score(X_train, y_train)))"
      ],
      "metadata": {
        "id": "slvAam5ojO-v"
      },
      "execution_count": 12,
      "outputs": []
    },
    {
      "cell_type": "code",
      "source": [
        "logreg100 = LogisticRegression(C= 100, max_iter = 5000).fit(X_train, y_train)\n",
        "print(\"훈련 세트 점수 : {:.3f}\".format(logreg100.score(X_train, y_train)))\n",
        "print(\"테스트 세트 점수 : {:.3f}\".format(logreg100.score(X_test, y_test)))"
      ],
      "metadata": {
        "colab": {
          "base_uri": "https://localhost:8080/"
        },
        "id": "OSIVj1XAjY1E",
        "outputId": "00377636-cbca-4bd8-d9ea-13065f380611"
      },
      "execution_count": 13,
      "outputs": [
        {
          "output_type": "stream",
          "name": "stdout",
          "text": [
            "훈련 세트 점수 : 0.984\n",
            "테스트 세트 점수 : 0.972\n"
          ]
        }
      ]
    },
    {
      "cell_type": "code",
      "source": [
        "logreg001 = LogisticRegression(C = 0.01, max_iter=5000).fit(X_train, y_train)\n",
        "print(\"훈련 세트 점수 : {:.3f}\".format(logreg001.score(X_train, y_train)))\n",
        "print(\"테스트 세트 점수 : {:.3f}\".format(logreg001.score(X_test, y_test)))"
      ],
      "metadata": {
        "colab": {
          "base_uri": "https://localhost:8080/"
        },
        "id": "P7lKhxSJmHjo",
        "outputId": "4321da69-ab57-4491-c0bb-8df50fc34499"
      },
      "execution_count": 14,
      "outputs": [
        {
          "output_type": "stream",
          "name": "stdout",
          "text": [
            "훈련 세트 점수 : 0.953\n",
            "테스트 세트 점수 : 0.951\n"
          ]
        }
      ]
    },
    {
      "cell_type": "code",
      "source": [
        "plt.plot(logreg100.coef_.T, '^', label = 'C=100')\n",
        "plt.plot(logreg.coef_.T, 'o', label = 'C=1')\n",
        "plt.plot(logreg001.coef_.T, 'v', label = 'C = 0.001')\n",
        "plt.xticks(range(cancer.data.shape[1]), cancer.feature_names, rotation = 90)\n",
        "xlims = plt.xlim()\n",
        "plt.xlim(xlims)\n",
        "plt.ylim(-5,5)\n",
        "plt.xlabel('특성')\n",
        "plt.ylabel(\"계수 크기\")\n",
        "plt.legend()"
      ],
      "metadata": {
        "colab": {
          "base_uri": "https://localhost:8080/",
          "height": 472
        },
        "id": "TxyK2Np0mbMY",
        "outputId": "48431b7f-9147-492c-f465-f3fc5d2a4aed"
      },
      "execution_count": 15,
      "outputs": [
        {
          "output_type": "execute_result",
          "data": {
            "text/plain": [
              "<matplotlib.legend.Legend at 0x7fdc3c962bd0>"
            ]
          },
          "metadata": {},
          "execution_count": 15
        },
        {
          "output_type": "stream",
          "name": "stderr",
          "text": [
            "/usr/local/lib/python3.7/dist-packages/matplotlib/backends/backend_agg.py:214: RuntimeWarning: Glyph 8722 missing from current font.\n",
            "  font.set_text(s, 0.0, flags=flags)\n",
            "/usr/local/lib/python3.7/dist-packages/matplotlib/backends/backend_agg.py:183: RuntimeWarning: Glyph 8722 missing from current font.\n",
            "  font.set_text(s, 0, flags=flags)\n"
          ]
        },
        {
          "output_type": "display_data",
          "data": {
            "image/png": "[encoded data removed]",
            "text/plain": [
              "<Figure size 432x288 with 1 Axes>"
            ]
          },
          "metadata": {
            "needs_background": "light"
          }
        }
      ]
    },
    {
      "cell_type": "code",
      "source": [
        "# L1 규제"
      ],
      "metadata": {
        "id": "VzCC-cLhnqtY"
      },
      "execution_count": 15,
      "outputs": []
    },
    {
      "cell_type": "code",
      "source": [
        "for C, marker in zip([0.001, 1, 100], ['o','^','v']):\n",
        "  lr_l1 = LogisticRegression(solver= 'liblinear', C=C, penalty='l1', max_iter = 1000).fit(X_train, y_train)\n",
        "  print(\"C = {:.3f} 인 l1 로지스틱 회귀의 훈련 정확도 : {:.2f}\".format(\n",
        "      C, lr_l1.score(X_train, y_train)))\n",
        "  print(\"C = {:.3f} 인 l1 로지스틱 회귀의 테스트 정확도 : {:.2f}\".format(C, lr_l1.score(X_test, y_test)))\n",
        "  plt.plot(lr_l1.coef_.T, marker, label = \"C = {:.3f}\".format(C))\n",
        "\n",
        "plt.xticks(range(cancer.data.shape[1]), cancer.feature_names, rotation = 90)\n",
        "xlims = plt.xlim()\n",
        "plt.hlines(0, xlims[0], xlims[1])\n",
        "plt.xlim(xlims)\n",
        "plt.xlabel(\"특성\")\n",
        "plt.ylabel(\"계수 크기\")\n",
        "\n",
        "plt.ylim(-5,5)\n",
        "plt.legend(loc = 3)"
      ],
      "metadata": {
        "colab": {
          "base_uri": "https://localhost:8080/",
          "height": 583
        },
        "id": "GBTP5cBU-0mC",
        "outputId": "ef0d9f4c-2520-4ec0-84c7-4921523c852b"
      },
      "execution_count": 16,
      "outputs": [
        {
          "output_type": "stream",
          "name": "stdout",
          "text": [
            "C = 0.001 인 l1 로지스틱 회귀의 훈련 정확도 : 0.91\n",
            "C = 0.001 인 l1 로지스틱 회귀의 테스트 정확도 : 0.92\n",
            "C = 1.000 인 l1 로지스틱 회귀의 훈련 정확도 : 0.96\n",
            "C = 1.000 인 l1 로지스틱 회귀의 테스트 정확도 : 0.96\n",
            "C = 100.000 인 l1 로지스틱 회귀의 훈련 정확도 : 0.99\n",
            "C = 100.000 인 l1 로지스틱 회귀의 테스트 정확도 : 0.98\n"
          ]
        },
        {
          "output_type": "execute_result",
          "data": {
            "text/plain": [
              "<matplotlib.legend.Legend at 0x7fdc2f046f90>"
            ]
          },
          "metadata": {},
          "execution_count": 16
        },
        {
          "output_type": "stream",
          "name": "stderr",
          "text": [
            "/usr/local/lib/python3.7/dist-packages/matplotlib/backends/backend_agg.py:214: RuntimeWarning: Glyph 8722 missing from current font.\n",
            "  font.set_text(s, 0.0, flags=flags)\n",
            "/usr/local/lib/python3.7/dist-packages/matplotlib/backends/backend_agg.py:183: RuntimeWarning: Glyph 8722 missing from current font.\n",
            "  font.set_text(s, 0, flags=flags)\n"
          ]
        },
        {
          "output_type": "display_data",
          "data": {
            "image/png": "[encoded data removed]",
            "text/plain": [
              "<Figure size 432x288 with 1 Axes>"
            ]
          },
          "metadata": {
            "needs_background": "light"
          }
        }
      ]
    },
    {
      "cell_type": "markdown",
      "source": [
        "## 다중 클래스 분류용 선형 모델 - p.93"
      ],
      "metadata": {
        "id": "pMQ_Vn86H2x5"
      }
    },
    {
      "cell_type": "code",
      "source": [
        "# 세 개 클래스를 갖고 있는 데이터셋\n",
        "# 일대다 분류\n",
        "# 각 클래스의 데이터는 정규분포를 따른다.\n",
        "\n",
        "from sklearn.datasets import make_blobs\n",
        "\n",
        "X, y = make_blobs(random_state = 42)\n",
        "mglearn.discrete_scatter(X[:,0], X[:,1], y)\n",
        "plt.xlabel('feature 0')\n",
        "plt.ylabel('feature 1')\n",
        "plt.legend(['class 0', 'class 1', 'class 2'])"
      ],
      "metadata": {
        "colab": {
          "base_uri": "https://localhost:8080/",
          "height": 373
        },
        "id": "Kq5yGvAAGpCH",
        "outputId": "4f4e3a4c-72da-4e10-d52b-b2f0bba9f28d"
      },
      "execution_count": 18,
      "outputs": [
        {
          "output_type": "execute_result",
          "data": {
            "text/plain": [
              "<matplotlib.legend.Legend at 0x7fdc2eac1190>"
            ]
          },
          "metadata": {},
          "execution_count": 18
        },
        {
          "output_type": "stream",
          "name": "stderr",
          "text": [
            "/usr/local/lib/python3.7/dist-packages/matplotlib/backends/backend_agg.py:214: RuntimeWarning: Glyph 8722 missing from current font.\n",
            "  font.set_text(s, 0.0, flags=flags)\n",
            "/usr/local/lib/python3.7/dist-packages/matplotlib/backends/backend_agg.py:183: RuntimeWarning: Glyph 8722 missing from current font.\n",
            "  font.set_text(s, 0, flags=flags)\n"
          ]
        },
        {
          "output_type": "display_data",
          "data": {
            "image/png": "[encoded data removed]",
            "text/plain": [
              "<Figure size 432x288 with 1 Axes>"
            ]
          },
          "metadata": {
            "needs_background": "light"
          }
        }
      ]
    },
    {
      "cell_type": "code",
      "source": [
        "#LinearSVC 분류기\n",
        "linear_svm = LinearSVC().fit(X,y)\n",
        "print(\"계수 배열의 크기 : \", linear_svm.coef_.shape)\n",
        "print(\"절편 배열의 크기 : \", linear_svm.intercept_.shape)"
      ],
      "metadata": {
        "colab": {
          "base_uri": "https://localhost:8080/"
        },
        "id": "gr-OXnzyIIp4",
        "outputId": "a869dbde-fea4-42f2-ebe9-481c88a46041"
      },
      "execution_count": 19,
      "outputs": [
        {
          "output_type": "stream",
          "name": "stdout",
          "text": [
            "계수 배열의 크기 :  (3, 2)\n",
            "절편 배열의 크기 :  (3,)\n"
          ]
        }
      ]
    },
    {
      "cell_type": "code",
      "source": [
        "# 세 이진 분류기(일대다 분류기 세 개) 시각화\n",
        "mglearn.discrete_scatter(X[:,0], X[:,1], y)\n",
        "line = np.linspace(-15,15)\n",
        "for coef, intercept, color in zip(linear_svm.coef_, linear_svm.intercept_,\n",
        "                                  mglearn.cm3.colors):\n",
        "  plt.plot(line, -(line * coef[0] + intercept) / coef[1], c = color) \n",
        "\n",
        "plt.ylim(-10,15)\n",
        "plt.xlim(-10, 8)\n",
        "plt.xlabel('feature 0')\n",
        "plt.ylabel('feature 1')\n",
        "plt.legend(['클래스 0', '클래스1', '클래스2', '클래스 0 경계', '클래스 1 경계', '클래스 2 경계'],\n",
        "           loc = (1.01, 0.3))"
      ],
      "metadata": {
        "colab": {
          "base_uri": "https://localhost:8080/",
          "height": 378
        },
        "id": "gtUlY1RuIlLM",
        "outputId": "c693794e-d0e6-4e3e-bb52-9d4ef8a77ca6"
      },
      "execution_count": 20,
      "outputs": [
        {
          "output_type": "execute_result",
          "data": {
            "text/plain": [
              "<matplotlib.legend.Legend at 0x7fdc2e9b5250>"
            ]
          },
          "metadata": {},
          "execution_count": 20
        },
        {
          "output_type": "stream",
          "name": "stderr",
          "text": [
            "/usr/local/lib/python3.7/dist-packages/matplotlib/backends/backend_agg.py:214: RuntimeWarning: Glyph 8722 missing from current font.\n",
            "  font.set_text(s, 0.0, flags=flags)\n",
            "/usr/local/lib/python3.7/dist-packages/matplotlib/backends/backend_agg.py:183: RuntimeWarning: Glyph 8722 missing from current font.\n",
            "  font.set_text(s, 0, flags=flags)\n"
          ]
        },
        {
          "output_type": "display_data",
          "data": {
            "image/png": "[encoded data removed]",
            "text/plain": [
              "<Figure size 432x288 with 1 Axes>"
            ]
          },
          "metadata": {
            "needs_background": "light"
          }
        }
      ]
    },
    {
      "cell_type": "code",
      "source": [
        "mglearn.plots.plot_2d_classification(linear_svm, X, fill= True, alpha = .7)\n",
        "mglearn.discrete_scatter(X[:,0],X[:,1],y)\n",
        "line = np.linspace(-15,15)\n",
        "for coef, intercept, color in zip(linear_svm.coef_, linear_svm.intercept_,\n",
        "                                  mglearn.cm3.colors):\n",
        "  plt.plot(line, -(line * coef[0] + intercept) / coef[1], c = color)\n",
        "plt.legend(['클래스 0','클래스 1','클래스 2','클래스 0 경계', '클래스 1 경계','클래스 2 경계'], loc = (1.01, 0.3))\n",
        "plt.xlabel('특성 0')\n",
        "plt.ylabel('특성 1')"
      ],
      "metadata": {
        "colab": {
          "base_uri": "https://localhost:8080/",
          "height": 281
        },
        "id": "LMvn8wk1KAfr",
        "outputId": "1b5a0ab6-87df-443d-837b-d08ce790ebaf"
      },
      "execution_count": 24,
      "outputs": [
        {
          "output_type": "execute_result",
          "data": {
            "text/plain": [
              "Text(0, 0.5, '특성 1')"
            ]
          },
          "metadata": {},
          "execution_count": 24
        },
        {
          "output_type": "display_data",
          "data": {
            "image/png": "[encoded data removed]",
            "text/plain": [
              "<Figure size 432x288 with 1 Axes>"
            ]
          },
          "metadata": {}
        }
      ]
    },
    {
      "cell_type": "code",
      "source": [
        ""
      ],
      "metadata": {
        "id": "qWl_b75rRqBO"
      },
      "execution_count": null,
      "outputs": []
    },
    {
      "cell_type": "markdown",
      "source": [
        "## 2.3.4 나이브 베이즈 분류기"
      ],
      "metadata": {
        "id": "vL7TVczFUD4n"
      }
    },
    {
      "cell_type": "code",
      "source": [
        ""
      ],
      "metadata": {
        "id": "1UI4BeW1UFvo"
      },
      "execution_count": null,
      "outputs": []
    }
  ]
}