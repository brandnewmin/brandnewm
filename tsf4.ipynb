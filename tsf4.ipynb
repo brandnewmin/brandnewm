{
  "nbformat": 4,
  "nbformat_minor": 0,
  "metadata": {
    "colab": {
      "name": "tsf4.ipynb",
      "provenance": [],
      "authorship_tag": "ABX9TyOGTCKomd8KyD+JQPHw6pVe",
      "include_colab_link": true
    },
    "kernelspec": {
      "name": "python3",
      "display_name": "Python 3"
    }
  },
  "cells": [
    {
      "cell_type": "markdown",
      "metadata": {
        "id": "view-in-github",
        "colab_type": "text"
      },
      "source": [
        "<a href=\"https://colab.research.google.com/github/brandnewmin/brandnewm/blob/master/tsf4.ipynb\" target=\"_parent\"><img src=\"https://colab.research.google.com/assets/colab-badge.svg\" alt=\"Open In Colab\"/></a>"
      ]
    },
    {
      "cell_type": "code",
      "metadata": {
        "id": "iFHqcao-6sFd",
        "colab_type": "code",
        "colab": {}
      },
      "source": [
        "import tensorflow as tf"
      ],
      "execution_count": 1,
      "outputs": []
    },
    {
      "cell_type": "code",
      "metadata": {
        "id": "LyEVzVX86ve5",
        "colab_type": "code",
        "colab": {
          "base_uri": "https://localhost:8080/",
          "height": 35
        },
        "outputId": "cce63451-a0ac-42f8-8d76-7c647635ea0b"
      },
      "source": [
        "tf.__version__"
      ],
      "execution_count": 2,
      "outputs": [
        {
          "output_type": "execute_result",
          "data": {
            "application/vnd.google.colaboratory.intrinsic+json": {
              "type": "string"
            },
            "text/plain": [
              "'1.15.0'"
            ]
          },
          "metadata": {
            "tags": []
          },
          "execution_count": 2
        }
      ]
    },
    {
      "cell_type": "code",
      "metadata": {
        "id": "mjfNczaU60iX",
        "colab_type": "code",
        "colab": {
          "base_uri": "https://localhost:8080/",
          "height": 251
        },
        "outputId": "d3400845-e136-47fa-9395-da68e5234752"
      },
      "source": [
        "!pip uninstall tensorflow"
      ],
      "execution_count": 3,
      "outputs": [
        {
          "output_type": "stream",
          "text": [
            "Uninstalling tensorflow-2.3.0:\n",
            "  Would remove:\n",
            "    /usr/local/bin/estimator_ckpt_converter\n",
            "    /usr/local/bin/saved_model_cli\n",
            "    /usr/local/bin/tensorboard\n",
            "    /usr/local/bin/tf_upgrade_v2\n",
            "    /usr/local/bin/tflite_convert\n",
            "    /usr/local/bin/toco\n",
            "    /usr/local/bin/toco_from_protos\n",
            "    /usr/local/lib/python3.6/dist-packages/tensorflow-2.3.0.dist-info/*\n",
            "    /usr/local/lib/python3.6/dist-packages/tensorflow/*\n",
            "Proceed (y/n)? y\n",
            "  Successfully uninstalled tensorflow-2.3.0\n"
          ],
          "name": "stdout"
        }
      ]
    },
    {
      "cell_type": "code",
      "metadata": {
        "id": "tyx_4xEZ64rI",
        "colab_type": "code",
        "colab": {
          "base_uri": "https://localhost:8080/",
          "height": 1000
        },
        "outputId": "41161f6c-dcbb-4b43-f725-530d4f84c59a"
      },
      "source": [
        "!pip install tensorflow==1.15"
      ],
      "execution_count": 5,
      "outputs": [
        {
          "output_type": "stream",
          "text": [
            "Collecting tensorflow==1.15\n",
            "\u001b[?25l  Downloading https://files.pythonhosted.org/packages/3f/98/5a99af92fb911d7a88a0005ad55005f35b4c1ba8d75fba02df726cd936e6/tensorflow-1.15.0-cp36-cp36m-manylinux2010_x86_64.whl (412.3MB)\n",
            "\u001b[K     |████████████████████████████████| 412.3MB 38kB/s \n",
            "\u001b[?25hRequirement already satisfied: google-pasta>=0.1.6 in /usr/local/lib/python3.6/dist-packages (from tensorflow==1.15) (0.2.0)\n",
            "Collecting tensorflow-estimator==1.15.1\n",
            "\u001b[?25l  Downloading https://files.pythonhosted.org/packages/de/62/2ee9cd74c9fa2fa450877847ba560b260f5d0fb70ee0595203082dafcc9d/tensorflow_estimator-1.15.1-py2.py3-none-any.whl (503kB)\n",
            "\u001b[K     |████████████████████████████████| 512kB 37.3MB/s \n",
            "\u001b[?25hRequirement already satisfied: astor>=0.6.0 in /usr/local/lib/python3.6/dist-packages (from tensorflow==1.15) (0.8.1)\n",
            "Collecting tensorboard<1.16.0,>=1.15.0\n",
            "\u001b[?25l  Downloading https://files.pythonhosted.org/packages/1e/e9/d3d747a97f7188f48aa5eda486907f3b345cd409f0a0850468ba867db246/tensorboard-1.15.0-py3-none-any.whl (3.8MB)\n",
            "\u001b[K     |████████████████████████████████| 3.8MB 46.7MB/s \n",
            "\u001b[?25hRequirement already satisfied: six>=1.10.0 in /usr/local/lib/python3.6/dist-packages (from tensorflow==1.15) (1.15.0)\n",
            "Requirement already satisfied: opt-einsum>=2.3.2 in /usr/local/lib/python3.6/dist-packages (from tensorflow==1.15) (3.3.0)\n",
            "Requirement already satisfied: termcolor>=1.1.0 in /usr/local/lib/python3.6/dist-packages (from tensorflow==1.15) (1.1.0)\n",
            "Requirement already satisfied: grpcio>=1.8.6 in /usr/local/lib/python3.6/dist-packages (from tensorflow==1.15) (1.31.0)\n",
            "Requirement already satisfied: wheel>=0.26 in /usr/local/lib/python3.6/dist-packages (from tensorflow==1.15) (0.34.2)\n",
            "Requirement already satisfied: numpy<2.0,>=1.16.0 in /usr/local/lib/python3.6/dist-packages (from tensorflow==1.15) (1.18.5)\n",
            "Requirement already satisfied: absl-py>=0.7.0 in /usr/local/lib/python3.6/dist-packages (from tensorflow==1.15) (0.9.0)\n",
            "Collecting gast==0.2.2\n",
            "  Downloading https://files.pythonhosted.org/packages/4e/35/11749bf99b2d4e3cceb4d55ca22590b0d7c2c62b9de38ac4a4a7f4687421/gast-0.2.2.tar.gz\n",
            "Collecting keras-applications>=1.0.8\n",
            "\u001b[?25l  Downloading https://files.pythonhosted.org/packages/71/e3/19762fdfc62877ae9102edf6342d71b28fbfd9dea3d2f96a882ce099b03f/Keras_Applications-1.0.8-py3-none-any.whl (50kB)\n",
            "\u001b[K     |████████████████████████████████| 51kB 5.6MB/s \n",
            "\u001b[?25hRequirement already satisfied: wrapt>=1.11.1 in /usr/local/lib/python3.6/dist-packages (from tensorflow==1.15) (1.12.1)\n",
            "Requirement already satisfied: keras-preprocessing>=1.0.5 in /usr/local/lib/python3.6/dist-packages (from tensorflow==1.15) (1.1.2)\n",
            "Requirement already satisfied: protobuf>=3.6.1 in /usr/local/lib/python3.6/dist-packages (from tensorflow==1.15) (3.12.4)\n",
            "Requirement already satisfied: werkzeug>=0.11.15 in /usr/local/lib/python3.6/dist-packages (from tensorboard<1.16.0,>=1.15.0->tensorflow==1.15) (1.0.1)\n",
            "Requirement already satisfied: markdown>=2.6.8 in /usr/local/lib/python3.6/dist-packages (from tensorboard<1.16.0,>=1.15.0->tensorflow==1.15) (3.2.2)\n",
            "Requirement already satisfied: setuptools>=41.0.0 in /usr/local/lib/python3.6/dist-packages (from tensorboard<1.16.0,>=1.15.0->tensorflow==1.15) (49.2.0)\n",
            "Requirement already satisfied: h5py in /usr/local/lib/python3.6/dist-packages (from keras-applications>=1.0.8->tensorflow==1.15) (2.10.0)\n",
            "Requirement already satisfied: importlib-metadata; python_version < \"3.8\" in /usr/local/lib/python3.6/dist-packages (from markdown>=2.6.8->tensorboard<1.16.0,>=1.15.0->tensorflow==1.15) (1.7.0)\n",
            "Requirement already satisfied: zipp>=0.5 in /usr/local/lib/python3.6/dist-packages (from importlib-metadata; python_version < \"3.8\"->markdown>=2.6.8->tensorboard<1.16.0,>=1.15.0->tensorflow==1.15) (3.1.0)\n",
            "Building wheels for collected packages: gast\n",
            "  Building wheel for gast (setup.py) ... \u001b[?25l\u001b[?25hdone\n",
            "  Created wheel for gast: filename=gast-0.2.2-cp36-none-any.whl size=7540 sha256=250d4c3317fb8de6abf73a90720401f0aa8659dfd10ace49fdfcb3e9b83933f1\n",
            "  Stored in directory: /root/.cache/pip/wheels/5c/2e/7e/a1d4d4fcebe6c381f378ce7743a3ced3699feb89bcfbdadadd\n",
            "Successfully built gast\n",
            "\u001b[31mERROR: tensorflow-probability 0.11.0 has requirement gast>=0.3.2, but you'll have gast 0.2.2 which is incompatible.\u001b[0m\n",
            "Installing collected packages: tensorflow-estimator, tensorboard, gast, keras-applications, tensorflow\n",
            "  Found existing installation: tensorflow-estimator 2.3.0\n",
            "    Uninstalling tensorflow-estimator-2.3.0:\n",
            "      Successfully uninstalled tensorflow-estimator-2.3.0\n",
            "  Found existing installation: tensorboard 2.3.0\n",
            "    Uninstalling tensorboard-2.3.0:\n",
            "      Successfully uninstalled tensorboard-2.3.0\n",
            "  Found existing installation: gast 0.3.3\n",
            "    Uninstalling gast-0.3.3:\n",
            "      Successfully uninstalled gast-0.3.3\n",
            "Successfully installed gast-0.2.2 keras-applications-1.0.8 tensorboard-1.15.0 tensorflow-1.15.0 tensorflow-estimator-1.15.1\n"
          ],
          "name": "stdout"
        },
        {
          "output_type": "display_data",
          "data": {
            "application/vnd.colab-display-data+json": {
              "pip_warning": {
                "packages": [
                  "gast",
                  "tensorboard",
                  "tensorflow",
                  "tensorflow_estimator"
                ]
              }
            }
          },
          "metadata": {
            "tags": []
          }
        }
      ]
    },
    {
      "cell_type": "markdown",
      "metadata": {
        "id": "YsX4wTif8bRj",
        "colab_type": "text"
      },
      "source": [
        "theme4. (2020.08.12)"
      ]
    },
    {
      "cell_type": "code",
      "metadata": {
        "id": "bHL18-ZP8arL",
        "colab_type": "code",
        "colab": {}
      },
      "source": [
        "#데이터 정의\n",
        "x1_data = [73.,93.,89.,96.,73.] #원래 데이터의 열벡터\n",
        "#1행 5열 형태 데이터임. 출력과 다름\n",
        "x2_data = [80.,88.,91.,98.,66.]\n",
        "x3_data = [75.,93.,90.,100.,70.]\n",
        "y_data = [152.,185.,180.,196.,142.]"
      ],
      "execution_count": 6,
      "outputs": []
    },
    {
      "cell_type": "code",
      "metadata": {
        "id": "1IXo9d1q9XIZ",
        "colab_type": "code",
        "colab": {}
      },
      "source": [
        "x1 = tf.placeholder(tf.float32)\n",
        "x2 = tf.placeholder(tf.float32)\n",
        "x3 = tf.placeholder(tf.float32)\n",
        "Y = tf.placeholder(tf.float32)"
      ],
      "execution_count": 19,
      "outputs": []
    },
    {
      "cell_type": "code",
      "metadata": {
        "id": "jrN4UY2m90Ep",
        "colab_type": "code",
        "colab": {}
      },
      "source": [
        "#이 방법을 대처할 새로운 표현\n",
        "#행렬 곱하기로 표현하기\n",
        "x_data = [[73.,80.,75.],[3.,88.,93.],[89.,91.,90.],[96.,98.,100.],[73.,66.,70.]]\n",
        "y_data = [[152.],[185.],[180.],[196.],[142.]]\n",
        "#앞에 표현한 데이터 정의랑 [괄호] 안 값이 다름. 원래 데이터 그대로 행벡터 표현"
      ],
      "execution_count": 15,
      "outputs": []
    },
    {
      "cell_type": "code",
      "metadata": {
        "id": "Z1uXF51A_MVl",
        "colab_type": "code",
        "colab": {}
      },
      "source": [
        "w1 = tf.Variable(tf.random_normal([1]), name='weight1')\n",
        "w2 = tf.Variable(tf.random_normal([1]), name = 'weight2')\n",
        "w3 = tf.Variable(tf.random_normal([1]), name='weight3')\n",
        "b = tf.Variable(tf.random_normal([1]), name='bias')"
      ],
      "execution_count": 21,
      "outputs": []
    },
    {
      "cell_type": "code",
      "metadata": {
        "id": "IDEhlcJWEum2",
        "colab_type": "code",
        "colab": {}
      },
      "source": [
        "hypothesis = x1*w1 + x2*w2 + x3*w3 + b"
      ],
      "execution_count": 22,
      "outputs": []
    },
    {
      "cell_type": "code",
      "metadata": {
        "id": "LmS1xqoZEzmx",
        "colab_type": "code",
        "colab": {}
      },
      "source": [
        "cost = tf.reduce_mean(tf.square(hypothesis - Y))"
      ],
      "execution_count": 24,
      "outputs": []
    },
    {
      "cell_type": "code",
      "metadata": {
        "id": "rTA3OTkcE7dY",
        "colab_type": "code",
        "colab": {}
      },
      "source": [
        "optimizer = tf.train.GradientDescentOptimizer(learning_rate=1e-5)\n",
        "train = optimizer.minimize(cost)"
      ],
      "execution_count": 26,
      "outputs": []
    },
    {
      "cell_type": "code",
      "metadata": {
        "id": "eNQ1r7rIHKRS",
        "colab_type": "code",
        "colab": {}
      },
      "source": [
        "sess = tf.Session()\n",
        "sess.run(tf.global_variables_initializer())"
      ],
      "execution_count": 27,
      "outputs": []
    },
    {
      "cell_type": "code",
      "metadata": {
        "id": "K5ISUkL4HPiU",
        "colab_type": "code",
        "colab": {
          "base_uri": "https://localhost:8080/",
          "height": 1000
        },
        "outputId": "1f9db8dd-5b2f-400d-8e96-43a047ebdd53"
      },
      "source": [
        "for step in range(2001):\n",
        "  cost_val,hy_val,_ = sess.run([cost,hypothesis,train], feed_dict={x1:x1_data, x2:x2_data, x3:x3_data, Y:y_data})\n",
        "  #위에를 해석하지 못했어\n",
        "  if step % 10 == 0:\n",
        "    print(step, \"Cost:\", cost_val, \"|nPrediction:|n\", hy_val) #print() 안에 것들을 모두 출력하라"
      ],
      "execution_count": 34,
      "outputs": [
        {
          "output_type": "stream",
          "text": [
            "0 Cost: 121855.5 |nPrediction:|n [-153.96667 -192.68448 -185.76456 -203.58374 -147.91972]\n",
            "10 Cost: 869.57654 |nPrediction:|n [153.71352 177.15753 178.63043 193.2262  134.1908 ]\n",
            "20 Cost: 868.152 |nPrediction:|n [154.62737 178.28914 179.7288  194.41527 135.06815]\n",
            "30 Cost: 867.83624 |nPrediction:|n [154.6131  178.30513 179.72801 194.40733 135.09451]\n",
            "40 Cost: 867.5213 |nPrediction:|n [154.59605 178.31766 179.72388 194.39575 135.11823]\n",
            "50 Cost: 867.2074 |nPrediction:|n [154.57909 178.3302  179.71979 194.38422 135.1419 ]\n",
            "60 Cost: 866.8945 |nPrediction:|n [154.56216 178.34267 179.71571 194.3727  135.16554]\n",
            "70 Cost: 866.5823 |nPrediction:|n [154.54527 178.35509 179.71162 194.36115 135.1891 ]\n",
            "80 Cost: 866.2712 |nPrediction:|n [154.52846 178.3675  179.70757 194.34964 135.21262]\n",
            "90 Cost: 865.9609 |nPrediction:|n [154.5117  178.37987 179.70352 194.33817 135.2361 ]\n",
            "100 Cost: 865.65173 |nPrediction:|n [154.49498 178.39218 179.6995  194.32668 135.25949]\n",
            "110 Cost: 865.34314 |nPrediction:|n [154.47833 178.40445 179.6955  194.31522 135.28287]\n",
            "120 Cost: 865.0355 |nPrediction:|n [154.46173 178.41672 179.69151 194.30377 135.3062 ]\n",
            "130 Cost: 864.72906 |nPrediction:|n [154.44518 178.42891 179.68752 194.29233 135.32944]\n",
            "140 Cost: 864.4231 |nPrediction:|n [154.42871 178.4411  179.68358 194.28093 135.35268]\n",
            "150 Cost: 864.11835 |nPrediction:|n [154.41226 178.45322 179.67963 194.2695  135.37581]\n",
            "160 Cost: 863.8142 |nPrediction:|n [154.39589 178.46532 179.6757  194.2581  135.39893]\n",
            "170 Cost: 863.5109 |nPrediction:|n [154.37958 178.47739 179.6718  194.24673 135.422  ]\n",
            "180 Cost: 863.2085 |nPrediction:|n [154.3633  178.4894  179.6679  194.23535 135.445  ]\n",
            "190 Cost: 862.90717 |nPrediction:|n [154.34708 178.50139 179.66403 194.22401 135.46797]\n",
            "200 Cost: 862.6066 |nPrediction:|n [154.33092 178.51332 179.66016 194.21266 135.49086]\n",
            "210 Cost: 862.3072 |nPrediction:|n [154.3148  178.52525 179.65633 194.20137 135.51373]\n",
            "220 Cost: 862.0081 |nPrediction:|n [154.29874 178.53711 179.65248 194.19002 135.53653]\n",
            "230 Cost: 861.71014 |nPrediction:|n [154.28273 178.54897 179.64868 194.17873 135.5593 ]\n",
            "240 Cost: 861.41296 |nPrediction:|n [154.26677 178.56073 179.64487 194.16743 135.58199]\n",
            "250 Cost: 861.1166 |nPrediction:|n [154.25089 178.57253 179.64108 194.15617 135.60466]\n",
            "260 Cost: 860.8211 |nPrediction:|n [154.23503 178.58423 179.63731 194.14491 135.62726]\n",
            "270 Cost: 860.52625 |nPrediction:|n [154.21925 178.59593 179.63358 194.13367 135.64983]\n",
            "280 Cost: 860.2328 |nPrediction:|n [154.20349 178.60759 179.62985 194.12245 135.67233]\n",
            "290 Cost: 859.9397 |nPrediction:|n [154.1878  178.61922 179.62613 194.11124 135.69481]\n",
            "300 Cost: 859.6474 |nPrediction:|n [154.17216 178.63078 179.62242 194.10002 135.71721]\n",
            "310 Cost: 859.3562 |nPrediction:|n [154.15657 178.64233 179.61874 194.08884 135.73958]\n",
            "320 Cost: 859.0656 |nPrediction:|n [154.14104 178.65385 179.61507 194.07765 135.76189]\n",
            "330 Cost: 858.77594 |nPrediction:|n [154.12555 178.66533 179.61139 194.0665  135.78415]\n",
            "340 Cost: 858.4868 |nPrediction:|n [154.11014 178.67676 179.60777 194.05534 135.80638]\n",
            "350 Cost: 858.199 |nPrediction:|n [154.09474 178.68817 179.60416 194.0442  135.82854]\n",
            "360 Cost: 857.9113 |nPrediction:|n [154.07944 178.69955 179.60056 194.0331  135.85068]\n",
            "370 Cost: 857.6248 |nPrediction:|n [154.06415 178.71088 179.59694 194.02199 135.87274]\n",
            "380 Cost: 857.3389 |nPrediction:|n [154.04892 178.72217 179.59337 194.01086 135.89476]\n",
            "390 Cost: 857.05414 |nPrediction:|n [154.03374 178.73346 179.5898  193.9998  135.91675]\n",
            "400 Cost: 856.7699 |nPrediction:|n [154.01862 178.74467 179.58626 193.98872 135.93867]\n",
            "410 Cost: 856.4863 |nPrediction:|n [154.00354 178.75586 179.58272 193.97766 135.96056]\n",
            "420 Cost: 856.2034 |nPrediction:|n [153.98853 178.76704 179.57922 193.96663 135.98242]\n",
            "430 Cost: 855.9217 |nPrediction:|n [153.97354 178.77815 179.57571 193.95558 136.00418]\n",
            "440 Cost: 855.64056 |nPrediction:|n [153.95862 178.78925 179.57222 193.94458 136.02594]\n",
            "450 Cost: 855.36017 |nPrediction:|n [153.94376 178.80032 179.56876 193.93358 136.04764]\n",
            "460 Cost: 855.0804 |nPrediction:|n [153.92892 178.81131 179.56529 193.92256 136.06927]\n",
            "470 Cost: 854.80164 |nPrediction:|n [153.91415 178.8223  179.56184 193.91159 136.09087]\n",
            "480 Cost: 854.5232 |nPrediction:|n [153.89944 178.83327 179.55844 193.90062 136.11244]\n",
            "490 Cost: 854.2459 |nPrediction:|n [153.88475 178.8442  179.55501 193.88966 136.13394]\n",
            "500 Cost: 853.96936 |nPrediction:|n [153.87013 178.85506 179.55162 193.87874 136.15541]\n",
            "510 Cost: 853.69354 |nPrediction:|n [153.85556 178.86592 179.54823 193.86778 136.1768 ]\n",
            "520 Cost: 853.4183 |nPrediction:|n [153.84103 178.87674 179.54488 193.8569  136.1982 ]\n",
            "530 Cost: 853.14374 |nPrediction:|n [153.82655 178.88753 179.54152 193.84598 136.21951]\n",
            "540 Cost: 852.8703 |nPrediction:|n [153.81212 178.89828 179.53818 193.83508 136.24077]\n",
            "550 Cost: 852.59705 |nPrediction:|n [153.79774 178.90898 179.53484 193.8242  136.26201]\n",
            "560 Cost: 852.32495 |nPrediction:|n [153.78342 178.9197  179.53154 193.81339 136.28322]\n",
            "570 Cost: 852.0532 |nPrediction:|n [153.76913 178.93033 179.52826 193.8025  136.30435]\n",
            "580 Cost: 851.7825 |nPrediction:|n [153.75488 178.94095 179.52496 193.79166 136.32544]\n",
            "590 Cost: 851.512 |nPrediction:|n [153.74069 178.9515  179.5217  193.7808  136.3465 ]\n",
            "600 Cost: 851.2429 |nPrediction:|n [153.72656 178.96207 179.51846 193.77002 136.3675 ]\n",
            "610 Cost: 850.9743 |nPrediction:|n [153.71246 178.9726  179.51521 193.7592  136.38844]\n",
            "620 Cost: 850.706 |nPrediction:|n [153.69844 178.98308 179.512   193.74844 136.40938]\n",
            "630 Cost: 850.43854 |nPrediction:|n [153.68443 178.99353 179.50879 193.73764 136.43025]\n",
            "640 Cost: 850.17224 |nPrediction:|n [153.67049 179.00394 179.50558 193.72688 136.45105]\n",
            "650 Cost: 849.9062 |nPrediction:|n [153.65657 179.01433 179.5024  193.71611 136.47183]\n",
            "660 Cost: 849.6411 |nPrediction:|n [153.64272 179.02469 179.49924 193.70538 136.49257]\n",
            "670 Cost: 849.37604 |nPrediction:|n [153.62892 179.03502 179.49608 193.69464 136.51328]\n",
            "680 Cost: 849.1125 |nPrediction:|n [153.61514 179.04529 179.49297 193.68391 136.5339 ]\n",
            "690 Cost: 848.849 |nPrediction:|n [153.60146 179.05554 179.48985 193.67325 136.55453]\n",
            "700 Cost: 848.5863 |nPrediction:|n [153.58778 179.0658  179.48672 193.66255 136.5751 ]\n",
            "710 Cost: 848.3248 |nPrediction:|n [153.57416 179.07597 179.48364 193.65189 136.5956 ]\n",
            "720 Cost: 848.06335 |nPrediction:|n [153.5606  179.08614 179.48056 193.6412  136.61607]\n",
            "730 Cost: 847.8029 |nPrediction:|n [153.54706 179.09625 179.47748 193.63054 136.63649]\n",
            "740 Cost: 847.5429 |nPrediction:|n [153.53357 179.10635 179.47444 193.6199  136.65689]\n",
            "750 Cost: 847.28375 |nPrediction:|n [153.52014 179.11642 179.47137 193.60927 136.67722]\n",
            "760 Cost: 847.0252 |nPrediction:|n [153.50674 179.12645 179.46837 193.59866 136.69753]\n",
            "770 Cost: 846.7673 |nPrediction:|n [153.49341 179.13646 179.46535 193.58806 136.71777]\n",
            "780 Cost: 846.50995 |nPrediction:|n [153.4801  179.14642 179.46236 193.57745 136.73799]\n",
            "790 Cost: 846.2533 |nPrediction:|n [153.46684 179.15637 179.45938 193.56688 136.75816]\n",
            "800 Cost: 845.997 |nPrediction:|n [153.45364 179.16628 179.4564  193.55627 136.77827]\n",
            "810 Cost: 845.7418 |nPrediction:|n [153.44048 179.17615 179.45345 193.54575 136.79837]\n",
            "820 Cost: 845.48694 |nPrediction:|n [153.42737 179.18599 179.45049 193.53519 136.8184 ]\n",
            "830 Cost: 845.2328 |nPrediction:|n [153.41429 179.1958  179.44757 193.52466 136.83841]\n",
            "840 Cost: 844.97925 |nPrediction:|n [153.40126 179.20558 179.44466 193.51413 136.85837]\n",
            "850 Cost: 844.7264 |nPrediction:|n [153.38829 179.21535 179.44176 193.50362 136.87828]\n",
            "860 Cost: 844.4744 |nPrediction:|n [153.37534 179.22505 179.43886 193.49312 136.89813]\n",
            "870 Cost: 844.2226 |nPrediction:|n [153.36246 179.23474 179.43597 193.48264 136.91797]\n",
            "880 Cost: 843.9716 |nPrediction:|n [153.34961 179.2444  179.43312 193.47215 136.93776]\n",
            "890 Cost: 843.7215 |nPrediction:|n [153.3368  179.25406 179.4303  193.4617  136.9575 ]\n",
            "900 Cost: 843.47156 |nPrediction:|n [153.32405 179.26364 179.42744 193.45125 136.9772 ]\n",
            "910 Cost: 843.22205 |nPrediction:|n [153.31134 179.27322 179.42462 193.4408  136.99689]\n",
            "920 Cost: 842.9737 |nPrediction:|n [153.29866 179.28275 179.42181 193.43039 137.01651]\n",
            "930 Cost: 842.72546 |nPrediction:|n [153.28601 179.29225 179.41899 193.41992 137.03607]\n",
            "940 Cost: 842.47833 |nPrediction:|n [153.27344 179.30173 179.41621 193.40953 137.0556 ]\n",
            "950 Cost: 842.23157 |nPrediction:|n [153.26088 179.31117 179.41344 193.39914 137.0751 ]\n",
            "960 Cost: 841.9853 |nPrediction:|n [153.24838 179.32059 179.41069 193.38875 137.09456]\n",
            "970 Cost: 841.73987 |nPrediction:|n [153.23595 179.32999 179.40794 193.37839 137.11397]\n",
            "980 Cost: 841.49493 |nPrediction:|n [153.22353 179.33934 179.40521 193.36804 137.13335]\n",
            "990 Cost: 841.25024 |nPrediction:|n [153.21117 179.34868 179.40251 193.35768 137.1527 ]\n",
            "1000 Cost: 841.0064 |nPrediction:|n [153.19884 179.35796 179.39978 193.34732 137.17197]\n",
            "1010 Cost: 840.76306 |nPrediction:|n [153.18654 179.36723 179.39708 193.33699 137.19122]\n",
            "1020 Cost: 840.52057 |nPrediction:|n [153.1743  179.37646 179.39441 193.32669 137.21043]\n",
            "1030 Cost: 840.27856 |nPrediction:|n [153.16211 179.3857  179.39175 193.31639 137.2296 ]\n",
            "1040 Cost: 840.03705 |nPrediction:|n [153.14996 179.39488 179.38911 193.30612 137.24875]\n",
            "1050 Cost: 839.7958 |nPrediction:|n [153.13785 179.404   179.38644 193.2958  137.26782]\n",
            "1060 Cost: 839.55585 |nPrediction:|n [153.12576 179.41315 179.38382 193.28555 137.28687]\n",
            "1070 Cost: 839.3155 |nPrediction:|n [153.11377 179.42226 179.38123 193.2753  137.30591]\n",
            "1080 Cost: 839.0765 |nPrediction:|n [153.10176 179.4313  179.3786  193.26505 137.32486]\n",
            "1090 Cost: 838.8376 |nPrediction:|n [153.08983 179.44035 179.37604 193.25482 137.34381]\n",
            "1100 Cost: 838.59955 |nPrediction:|n [153.0779  179.44933 179.37344 193.24455 137.36267]\n",
            "1110 Cost: 838.3618 |nPrediction:|n [153.06604 179.4583  179.37086 193.23436 137.38153]\n",
            "1120 Cost: 838.1245 |nPrediction:|n [153.05424 179.46727 179.36832 193.22417 137.40036]\n",
            "1130 Cost: 837.88806 |nPrediction:|n [153.04247 179.4762  179.36578 193.21397 137.41914]\n",
            "1140 Cost: 837.65216 |nPrediction:|n [153.0307  179.48506 179.36325 193.20377 137.43785]\n",
            "1150 Cost: 837.4165 |nPrediction:|n [153.01904 179.49394 179.36075 193.1936  137.45656]\n",
            "1160 Cost: 837.18164 |nPrediction:|n [153.00739 179.50279 179.35823 193.18346 137.47522]\n",
            "1170 Cost: 836.9475 |nPrediction:|n [152.99576 179.51158 179.35574 193.17331 137.49382]\n",
            "1180 Cost: 836.7134 |nPrediction:|n [152.98419 179.52037 179.35327 193.16316 137.51242]\n",
            "1190 Cost: 836.48016 |nPrediction:|n [152.97267 179.52913 179.3508  193.15305 137.53096]\n",
            "1200 Cost: 836.2472 |nPrediction:|n [152.96117 179.53783 179.34833 193.14291 137.54945]\n",
            "1210 Cost: 836.0151 |nPrediction:|n [152.9497  179.54651 179.34587 193.1328  137.5679 ]\n",
            "1220 Cost: 835.78345 |nPrediction:|n [152.93831 179.5552  179.34348 193.12274 137.58635]\n",
            "1230 Cost: 835.55225 |nPrediction:|n [152.92693 179.56383 179.34103 193.11264 137.60472]\n",
            "1240 Cost: 835.3215 |nPrediction:|n [152.9156  179.57243 179.33862 193.10257 137.62308]\n",
            "1250 Cost: 835.0913 |nPrediction:|n [152.90433 179.58104 179.33624 193.09253 137.6414 ]\n",
            "1260 Cost: 834.86163 |nPrediction:|n [152.89305 179.58957 179.33386 193.08244 137.65965]\n",
            "1270 Cost: 834.6323 |nPrediction:|n [152.88185 179.5981  179.33148 193.07239 137.67789]\n",
            "1280 Cost: 834.40375 |nPrediction:|n [152.8707  179.60661 179.32912 193.06236 137.69608]\n",
            "1290 Cost: 834.1757 |nPrediction:|n [152.85956 179.61508 179.32678 193.05237 137.71425]\n",
            "1300 Cost: 833.94806 |nPrediction:|n [152.84848 179.62355 179.32446 193.04236 137.73238]\n",
            "1310 Cost: 833.72076 |nPrediction:|n [152.83742 179.63193 179.32211 193.03233 137.75044]\n",
            "1320 Cost: 833.4942 |nPrediction:|n [152.8264  179.64034 179.31981 193.02237 137.76851]\n",
            "1330 Cost: 833.2684 |nPrediction:|n [152.81541 179.6487  179.3175  193.01239 137.7865 ]\n",
            "1340 Cost: 833.0428 |nPrediction:|n [152.80449 179.65704 179.31523 193.00243 137.80447]\n",
            "1350 Cost: 832.81714 |nPrediction:|n [152.79361 179.66536 179.31294 192.99246 137.82243]\n",
            "1360 Cost: 832.59265 |nPrediction:|n [152.78276 179.67365 179.31067 192.98253 137.84032]\n",
            "1370 Cost: 832.3684 |nPrediction:|n [152.77191 179.68187 179.30841 192.97256 137.85817]\n",
            "1380 Cost: 832.1446 |nPrediction:|n [152.76117 179.69012 179.30618 192.96265 137.876  ]\n",
            "1390 Cost: 831.9215 |nPrediction:|n [152.75041 179.69832 179.30396 192.95274 137.8938 ]\n",
            "1400 Cost: 831.69867 |nPrediction:|n [152.7397  179.70648 179.30173 192.94283 137.91154]\n",
            "1410 Cost: 831.4764 |nPrediction:|n [152.72905 179.71465 179.29953 192.93295 137.92928]\n",
            "1420 Cost: 831.2548 |nPrediction:|n [152.71841 179.72278 179.29732 192.92305 137.94693]\n",
            "1430 Cost: 831.0335 |nPrediction:|n [152.70784 179.73087 179.29514 192.91318 137.96457]\n",
            "1440 Cost: 830.81274 |nPrediction:|n [152.6973  179.73894 179.29298 192.90332 137.98218]\n",
            "1450 Cost: 830.5924 |nPrediction:|n [152.68677 179.74698 179.2908  192.89346 137.99974]\n",
            "1460 Cost: 830.37213 |nPrediction:|n [152.6763  179.755   179.28865 192.88362 138.0173 ]\n",
            "1470 Cost: 830.15283 |nPrediction:|n [152.66588 179.76299 179.28651 192.8738  138.03479]\n",
            "1480 Cost: 829.93414 |nPrediction:|n [152.65547 179.77097 179.28441 192.86397 138.05225]\n",
            "1490 Cost: 829.7154 |nPrediction:|n [152.64511 179.7789  179.28227 192.85414 138.06967]\n",
            "1500 Cost: 829.49725 |nPrediction:|n [152.63481 179.78683 179.2802  192.84436 138.08708]\n",
            "1510 Cost: 829.27966 |nPrediction:|n [152.62451 179.79471 179.27808 192.83455 138.10443]\n",
            "1520 Cost: 829.0625 |nPrediction:|n [152.61426 179.80257 179.276   192.82477 138.12175]\n",
            "1530 Cost: 828.84625 |nPrediction:|n [152.60405 179.81041 179.27394 192.81502 138.13902]\n",
            "1540 Cost: 828.63 |nPrediction:|n [152.59387 179.81824 179.27187 192.80527 138.15628]\n",
            "1550 Cost: 828.41406 |nPrediction:|n [152.58372 179.826   179.26982 192.79549 138.1735 ]\n",
            "1560 Cost: 828.1986 |nPrediction:|n [152.57364 179.83376 179.26776 192.78575 138.19067]\n",
            "1570 Cost: 827.9835 |nPrediction:|n [152.56358 179.84149 179.26575 192.77602 138.20782]\n",
            "1580 Cost: 827.76953 |nPrediction:|n [152.55354 179.84921 179.26375 192.76631 138.22493]\n",
            "1590 Cost: 827.55554 |nPrediction:|n [152.54356 179.85692 179.26175 192.75659 138.24199]\n",
            "1600 Cost: 827.34143 |nPrediction:|n [152.53362 179.86456 179.25972 192.74687 138.25905]\n",
            "1610 Cost: 827.12854 |nPrediction:|n [152.5237  179.8722  179.25775 192.7372  138.27605]\n",
            "1620 Cost: 826.9161 |nPrediction:|n [152.5138  179.87982 179.25578 192.72751 138.29301]\n",
            "1630 Cost: 826.7037 |nPrediction:|n [152.50395 179.88739 179.2538  192.71783 138.30995]\n",
            "1640 Cost: 826.4916 |nPrediction:|n [152.49417 179.89496 179.25186 192.70816 138.32686]\n",
            "1650 Cost: 826.2804 |nPrediction:|n [152.48438 179.90248 179.24991 192.69852 138.34372]\n",
            "1660 Cost: 826.0694 |nPrediction:|n [152.47464 179.90999 179.248   192.68886 138.36055]\n",
            "1670 Cost: 825.8588 |nPrediction:|n [152.46495 179.9175  179.24608 192.67926 138.37737]\n",
            "1680 Cost: 825.6487 |nPrediction:|n [152.45528 179.92494 179.24416 192.66962 138.39412]\n",
            "1690 Cost: 825.43896 |nPrediction:|n [152.44565 179.93239 179.24228 192.66    138.41086]\n",
            "1700 Cost: 825.22955 |nPrediction:|n [152.43605 179.93979 179.24039 192.65039 138.42755]\n",
            "1710 Cost: 825.021 |nPrediction:|n [152.42648 179.9472  179.23853 192.64081 138.44421]\n",
            "1720 Cost: 824.81226 |nPrediction:|n [152.41698 179.95454 179.23665 192.63123 138.46085]\n",
            "1730 Cost: 824.6041 |nPrediction:|n [152.40746 179.96188 179.23477 192.62163 138.47745]\n",
            "1740 Cost: 824.3967 |nPrediction:|n [152.39801 179.9692  179.23294 192.61208 138.494  ]\n",
            "1750 Cost: 824.18915 |nPrediction:|n [152.38861 179.9765  179.23111 192.60251 138.51054]\n",
            "1760 Cost: 823.98224 |nPrediction:|n [152.37921 179.98376 179.22928 192.59297 138.52705]\n",
            "1770 Cost: 823.776 |nPrediction:|n [152.36986 179.991   179.22745 192.58342 138.54349]\n",
            "1780 Cost: 823.57025 |nPrediction:|n [152.36052 179.99821 179.22565 192.5739  138.55992]\n",
            "1790 Cost: 823.3643 |nPrediction:|n [152.35126 180.00542 179.22386 192.56438 138.57632]\n",
            "1800 Cost: 823.15924 |nPrediction:|n [152.34203 180.0126  179.2221  192.5549  138.59271]\n",
            "1810 Cost: 822.95447 |nPrediction:|n [152.3328  180.01973 179.2203  192.54538 138.60902]\n",
            "1820 Cost: 822.74994 |nPrediction:|n [152.32361 180.02686 179.21855 192.53589 138.62534]\n",
            "1830 Cost: 822.5457 |nPrediction:|n [152.31448 180.03398 179.21678 192.52641 138.64162]\n",
            "1840 Cost: 822.3423 |nPrediction:|n [152.30537 180.04103 179.21504 192.51694 138.65782]\n",
            "1850 Cost: 822.1392 |nPrediction:|n [152.29628 180.04811 179.21332 192.50748 138.67403]\n",
            "1860 Cost: 821.93634 |nPrediction:|n [152.28725 180.05515 179.21161 192.49803 138.6902 ]\n",
            "1870 Cost: 821.73364 |nPrediction:|n [152.27824 180.06213 179.2099  192.48859 138.70634]\n",
            "1880 Cost: 821.5318 |nPrediction:|n [152.26926 180.06914 179.20818 192.47916 138.72244]\n",
            "1890 Cost: 821.3299 |nPrediction:|n [152.26031 180.07608 179.2065  192.46971 138.73851]\n",
            "1900 Cost: 821.1284 |nPrediction:|n [152.25142 180.08302 179.20482 192.4603  138.75456]\n",
            "1910 Cost: 820.92773 |nPrediction:|n [152.24252 180.08992 179.20314 192.45088 138.77055]\n",
            "1920 Cost: 820.72705 |nPrediction:|n [152.23369 180.09682 179.20146 192.44148 138.78653]\n",
            "1930 Cost: 820.527 |nPrediction:|n [152.22488 180.1037  179.19983 192.43211 138.80249]\n",
            "1940 Cost: 820.3271 |nPrediction:|n [152.21611 180.11053 179.19818 192.42271 138.81839]\n",
            "1950 Cost: 820.12775 |nPrediction:|n [152.20737 180.11734 179.19655 192.41336 138.83426]\n",
            "1960 Cost: 819.9286 |nPrediction:|n [152.19865 180.12415 179.19492 192.404   138.85013]\n",
            "1970 Cost: 819.7297 |nPrediction:|n [152.18999 180.13094 179.19331 192.39465 138.86597]\n",
            "1980 Cost: 819.53143 |nPrediction:|n [152.18135 180.1377  179.19171 192.38531 138.88174]\n",
            "1990 Cost: 819.33325 |nPrediction:|n [152.17274 180.14442 179.19012 192.37598 138.8975 ]\n",
            "2000 Cost: 819.1357 |nPrediction:|n [152.16418 180.15115 179.18854 192.36665 138.91322]\n"
          ],
          "name": "stdout"
        }
      ]
    },
    {
      "cell_type": "code",
      "metadata": {
        "id": "pDT5eajQItwE",
        "colab_type": "code",
        "colab": {}
      },
      "source": [
        "#수업이랑 약간 다른듯?"
      ],
      "execution_count": null,
      "outputs": []
    }
  ]
}