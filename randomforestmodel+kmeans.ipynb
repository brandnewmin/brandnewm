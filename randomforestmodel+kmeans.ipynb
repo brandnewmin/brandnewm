{
  "nbformat": 4,
  "nbformat_minor": 0,
  "metadata": {
    "colab": {
      "name": "randomforestmodel+kmeans.ipynb",
      "provenance": [],
      "collapsed_sections": [],
      "authorship_tag": "ABX9TyPvraGU27LcLmfVA+R+UWOd",
      "include_colab_link": true
    },
    "kernelspec": {
      "name": "python3",
      "display_name": "Python 3"
    },
    "language_info": {
      "name": "python"
    }
  },
  "cells": [
    {
      "cell_type": "markdown",
      "metadata": {
        "id": "view-in-github",
        "colab_type": "text"
      },
      "source": [
        "<a href=\"https://colab.research.google.com/github/brandnewmin/brandnewm/blob/master/randomforestmodel%2Bkmeans.ipynb\" target=\"_parent\"><img src=\"https://colab.research.google.com/assets/colab-badge.svg\" alt=\"Open In Colab\"/></a>"
      ]
    },
    {
      "cell_type": "code",
      "metadata": {
        "colab": {
          "base_uri": "https://localhost:8080/"
        },
        "id": "GMA6ABZ9Vz-c",
        "outputId": "f4c2b16b-d2bd-4b68-8601-907f5f072b09"
      },
      "source": [
        "from google.colab import drive\n",
        "drive.mount('/content/drive')"
      ],
      "execution_count": null,
      "outputs": [
        {
          "output_type": "stream",
          "text": [
            "Go to this URL in a browser: https://accounts.google.com/o/oauth2/auth?client_id=947318989803-6bn6qk8qdgf4n4g3pfee6491hc0brc4i.apps.googleusercontent.com&redirect_uri=urn%3aietf%3awg%3aoauth%3a2.0%3aoob&scope=email%20https%3a%2f%2fwww.googleapis.com%2fauth%2fdocs.test%20https%3a%2f%2fwww.googleapis.com%2fauth%2fdrive%20https%3a%2f%2fwww.googleapis.com%2fauth%2fdrive.photos.readonly%20https%3a%2f%2fwww.googleapis.com%2fauth%2fpeopleapi.readonly%20https%3a%2f%2fwww.googleapis.com%2fauth%2fdrive.activity.readonly%20https%3a%2f%2fwww.googleapis.com%2fauth%2fexperimentsandconfigs%20https%3a%2f%2fwww.googleapis.com%2fauth%2fphotos.native&response_type=code\n",
            "\n",
            "Enter your authorization code:\n",
            "4/1AX4XfWjLS4nfEPlVEmSo86-GsVRZ9sTG4fX-4Qe-kHuoOomfXRdBTRztcjc\n",
            "Mounted at /content/drive\n"
          ],
          "name": "stdout"
        }
      ]
    },
    {
      "cell_type": "code",
      "metadata": {
        "colab": {
          "base_uri": "https://localhost:8080/"
        },
        "id": "GqILD05uY5Xb",
        "outputId": "82efb3a7-23b5-4eec-8e5b-454b7ae59c8d"
      },
      "source": [
        "!sudo apt-get install -y fonts-nanum\n",
        "!sudo fc-cache -fv\n",
        "!rm ~/.cache/matplotlib -rf"
      ],
      "execution_count": null,
      "outputs": [
        {
          "output_type": "stream",
          "text": [
            "Reading package lists... Done\n",
            "Building dependency tree       \n",
            "Reading state information... Done\n",
            "The following NEW packages will be installed:\n",
            "  fonts-nanum\n",
            "0 upgraded, 1 newly installed, 0 to remove and 40 not upgraded.\n",
            "Need to get 9,604 kB of archives.\n",
            "After this operation, 29.5 MB of additional disk space will be used.\n",
            "Get:1 http://archive.ubuntu.com/ubuntu bionic/universe amd64 fonts-nanum all 20170925-1 [9,604 kB]\n",
            "Fetched 9,604 kB in 1s (8,541 kB/s)\n",
            "debconf: unable to initialize frontend: Dialog\n",
            "debconf: (No usable dialog-like program is installed, so the dialog based frontend cannot be used. at /usr/share/perl5/Debconf/FrontEnd/Dialog.pm line 76, <> line 1.)\n",
            "debconf: falling back to frontend: Readline\n",
            "debconf: unable to initialize frontend: Readline\n",
            "debconf: (This frontend requires a controlling tty.)\n",
            "debconf: falling back to frontend: Teletype\n",
            "dpkg-preconfigure: unable to re-open stdin: \n",
            "Selecting previously unselected package fonts-nanum.\n",
            "(Reading database ... 160837 files and directories currently installed.)\n",
            "Preparing to unpack .../fonts-nanum_20170925-1_all.deb ...\n",
            "Unpacking fonts-nanum (20170925-1) ...\n",
            "Setting up fonts-nanum (20170925-1) ...\n",
            "Processing triggers for fontconfig (2.12.6-0ubuntu2) ...\n",
            "/usr/share/fonts: caching, new cache contents: 0 fonts, 1 dirs\n",
            "/usr/share/fonts/truetype: caching, new cache contents: 0 fonts, 3 dirs\n",
            "/usr/share/fonts/truetype/humor-sans: caching, new cache contents: 1 fonts, 0 dirs\n",
            "/usr/share/fonts/truetype/liberation: caching, new cache contents: 16 fonts, 0 dirs\n",
            "/usr/share/fonts/truetype/nanum: caching, new cache contents: 10 fonts, 0 dirs\n",
            "/usr/local/share/fonts: caching, new cache contents: 0 fonts, 0 dirs\n",
            "/root/.local/share/fonts: skipping, no such directory\n",
            "/root/.fonts: skipping, no such directory\n",
            "/var/cache/fontconfig: cleaning cache directory\n",
            "/root/.cache/fontconfig: not cleaning non-existent cache directory\n",
            "/root/.fontconfig: not cleaning non-existent cache directory\n",
            "fc-cache: succeeded\n"
          ],
          "name": "stdout"
        }
      ]
    },
    {
      "cell_type": "code",
      "metadata": {
        "id": "345q01u_WYWg"
      },
      "source": [
        "import pandas as pd\n",
        "import numpy as np\n",
        "import matplotlib.pyplot as plt\n",
        "import seaborn as sns"
      ],
      "execution_count": null,
      "outputs": []
    },
    {
      "cell_type": "code",
      "metadata": {
        "colab": {
          "base_uri": "https://localhost:8080/",
          "height": 606
        },
        "id": "v0q8hGn4V9vl",
        "outputId": "a170241e-6e1c-493c-de48-47b803472736"
      },
      "source": [
        "zzin = pd.read_csv('/content/drive/MyDrive/data/찐2.csv')\n",
        "zzin"
      ],
      "execution_count": null,
      "outputs": [
        {
          "output_type": "execute_result",
          "data": {
            "text/html": [
              "<div>\n",
              "<style scoped>\n",
              "    .dataframe tbody tr th:only-of-type {\n",
              "        vertical-align: middle;\n",
              "    }\n",
              "\n",
              "    .dataframe tbody tr th {\n",
              "        vertical-align: top;\n",
              "    }\n",
              "\n",
              "    .dataframe thead th {\n",
              "        text-align: right;\n",
              "    }\n",
              "</style>\n",
              "<table border=\"1\" class=\"dataframe\">\n",
              "  <thead>\n",
              "    <tr style=\"text-align: right;\">\n",
              "      <th></th>\n",
              "      <th>Unnamed: 0</th>\n",
              "      <th>행 레이블</th>\n",
              "      <th>구</th>\n",
              "      <th>전체교통량평균</th>\n",
              "      <th>bins</th>\n",
              "      <th>교통사고건수</th>\n",
              "      <th>속도가중치</th>\n",
              "      <th>결빙사고다발지</th>\n",
              "      <th>위험요소</th>\n",
              "      <th>상습결빙지역건수</th>\n",
              "      <th>range</th>\n",
              "    </tr>\n",
              "  </thead>\n",
              "  <tbody>\n",
              "    <tr>\n",
              "      <th>0</th>\n",
              "      <td>0</td>\n",
              "      <td>강남대로</td>\n",
              "      <td>강남구</td>\n",
              "      <td>1187.870491</td>\n",
              "      <td>6</td>\n",
              "      <td>215</td>\n",
              "      <td>1</td>\n",
              "      <td>6</td>\n",
              "      <td>1</td>\n",
              "      <td>0</td>\n",
              "      <td>6.760808</td>\n",
              "    </tr>\n",
              "    <tr>\n",
              "      <th>1</th>\n",
              "      <td>1</td>\n",
              "      <td>강남순환로</td>\n",
              "      <td>금천구</td>\n",
              "      <td>1640.678244</td>\n",
              "      <td>0</td>\n",
              "      <td>4</td>\n",
              "      <td>0</td>\n",
              "      <td>0</td>\n",
              "      <td>0</td>\n",
              "      <td>0</td>\n",
              "      <td>7.921154</td>\n",
              "    </tr>\n",
              "    <tr>\n",
              "      <th>2</th>\n",
              "      <td>2</td>\n",
              "      <td>강변북로</td>\n",
              "      <td>용산구</td>\n",
              "      <td>4658.535880</td>\n",
              "      <td>0</td>\n",
              "      <td>0</td>\n",
              "      <td>1</td>\n",
              "      <td>0</td>\n",
              "      <td>0</td>\n",
              "      <td>1</td>\n",
              "      <td>21.387434</td>\n",
              "    </tr>\n",
              "    <tr>\n",
              "      <th>3</th>\n",
              "      <td>3</td>\n",
              "      <td>강변북로</td>\n",
              "      <td>마포구</td>\n",
              "      <td>4812.331690</td>\n",
              "      <td>0</td>\n",
              "      <td>0</td>\n",
              "      <td>1</td>\n",
              "      <td>0</td>\n",
              "      <td>0</td>\n",
              "      <td>1</td>\n",
              "      <td>14.191764</td>\n",
              "    </tr>\n",
              "    <tr>\n",
              "      <th>4</th>\n",
              "      <td>4</td>\n",
              "      <td>강서로</td>\n",
              "      <td>강서구</td>\n",
              "      <td>759.022774</td>\n",
              "      <td>2</td>\n",
              "      <td>130</td>\n",
              "      <td>1</td>\n",
              "      <td>0</td>\n",
              "      <td>0</td>\n",
              "      <td>0</td>\n",
              "      <td>2.992709</td>\n",
              "    </tr>\n",
              "    <tr>\n",
              "      <th>...</th>\n",
              "      <td>...</td>\n",
              "      <td>...</td>\n",
              "      <td>...</td>\n",
              "      <td>...</td>\n",
              "      <td>...</td>\n",
              "      <td>...</td>\n",
              "      <td>...</td>\n",
              "      <td>...</td>\n",
              "      <td>...</td>\n",
              "      <td>...</td>\n",
              "      <td>...</td>\n",
              "    </tr>\n",
              "    <tr>\n",
              "      <th>71</th>\n",
              "      <td>72</td>\n",
              "      <td>평창문화로</td>\n",
              "      <td>종로구</td>\n",
              "      <td>842.001488</td>\n",
              "      <td>2</td>\n",
              "      <td>29</td>\n",
              "      <td>0</td>\n",
              "      <td>0</td>\n",
              "      <td>0</td>\n",
              "      <td>1</td>\n",
              "      <td>4.349077</td>\n",
              "    </tr>\n",
              "    <tr>\n",
              "      <th>72</th>\n",
              "      <td>73</td>\n",
              "      <td>헌릉로</td>\n",
              "      <td>강남구</td>\n",
              "      <td>1257.694598</td>\n",
              "      <td>2</td>\n",
              "      <td>23</td>\n",
              "      <td>0</td>\n",
              "      <td>0</td>\n",
              "      <td>0</td>\n",
              "      <td>0</td>\n",
              "      <td>7.566000</td>\n",
              "    </tr>\n",
              "    <tr>\n",
              "      <th>73</th>\n",
              "      <td>74</td>\n",
              "      <td>화곡로</td>\n",
              "      <td>양천구</td>\n",
              "      <td>715.305438</td>\n",
              "      <td>1</td>\n",
              "      <td>29</td>\n",
              "      <td>0</td>\n",
              "      <td>0</td>\n",
              "      <td>0</td>\n",
              "      <td>0</td>\n",
              "      <td>5.324872</td>\n",
              "    </tr>\n",
              "    <tr>\n",
              "      <th>74</th>\n",
              "      <td>75</td>\n",
              "      <td>화랑로</td>\n",
              "      <td>성북구</td>\n",
              "      <td>1395.647641</td>\n",
              "      <td>0</td>\n",
              "      <td>50</td>\n",
              "      <td>0</td>\n",
              "      <td>0</td>\n",
              "      <td>0</td>\n",
              "      <td>0</td>\n",
              "      <td>5.041615</td>\n",
              "    </tr>\n",
              "    <tr>\n",
              "      <th>75</th>\n",
              "      <td>76</td>\n",
              "      <td>화랑로</td>\n",
              "      <td>노원구</td>\n",
              "      <td>1162.214729</td>\n",
              "      <td>2</td>\n",
              "      <td>107</td>\n",
              "      <td>0</td>\n",
              "      <td>0</td>\n",
              "      <td>1</td>\n",
              "      <td>0</td>\n",
              "      <td>4.758593</td>\n",
              "    </tr>\n",
              "  </tbody>\n",
              "</table>\n",
              "<p>76 rows × 11 columns</p>\n",
              "</div>"
            ],
            "text/plain": [
              "    Unnamed: 0  행 레이블    구      전체교통량평균  ...  결빙사고다발지  위험요소  상습결빙지역건수      range\n",
              "0            0   강남대로  강남구  1187.870491  ...        6     1         0   6.760808\n",
              "1            1  강남순환로  금천구  1640.678244  ...        0     0         0   7.921154\n",
              "2            2   강변북로  용산구  4658.535880  ...        0     0         1  21.387434\n",
              "3            3   강변북로  마포구  4812.331690  ...        0     0         1  14.191764\n",
              "4            4    강서로  강서구   759.022774  ...        0     0         0   2.992709\n",
              "..         ...    ...  ...          ...  ...      ...   ...       ...        ...\n",
              "71          72  평창문화로  종로구   842.001488  ...        0     0         1   4.349077\n",
              "72          73    헌릉로  강남구  1257.694598  ...        0     0         0   7.566000\n",
              "73          74    화곡로  양천구   715.305438  ...        0     0         0   5.324872\n",
              "74          75    화랑로  성북구  1395.647641  ...        0     0         0   5.041615\n",
              "75          76    화랑로  노원구  1162.214729  ...        0     1         0   4.758593\n",
              "\n",
              "[76 rows x 11 columns]"
            ]
          },
          "metadata": {
            "tags": []
          },
          "execution_count": 2
        }
      ]
    },
    {
      "cell_type": "code",
      "metadata": {
        "id": "ae_CtuTdYgJz"
      },
      "source": [
        "zzin.drop(['Unnamed: 0'], axis = 1, inplace = True)\n",
        "zzin['roadlabel'] = zzin['행 레이블'] + \" \" + zzin['구']"
      ],
      "execution_count": null,
      "outputs": []
    },
    {
      "cell_type": "code",
      "metadata": {
        "id": "-kEdlggLZHu3",
        "colab": {
          "base_uri": "https://localhost:8080/",
          "height": 53
        },
        "outputId": "74c7ef2b-1aca-4d8d-e7c9-f8aabc1b10e6"
      },
      "source": [
        "zzin.columns = ['label','gu','mean','bins','count','weight','place','danger','icecount','range','roadlabel']\n",
        "\"\"\"\n",
        "label : 행 레이블  / bins : bins \n",
        "gu : 구  / count : 교통사고건수\n",
        "mean : 전체 교통량 평균 / weight : 가중치\n",
        "place : 결빙사고다발지\n",
        "danger : 위험요소\n",
        "icecount : 상습결빙지역건수\n",
        "\"\"\""
      ],
      "execution_count": null,
      "outputs": [
        {
          "output_type": "execute_result",
          "data": {
            "application/vnd.google.colaboratory.intrinsic+json": {
              "type": "string"
            },
            "text/plain": [
              "'\\nlabel : 행 레이블  / bins : bins \\ngu : 구  / count : 교통사고건수\\nmean : 전체 교통량 평균 / weight : 가중치\\nplace : 결빙사고다발지\\ndanger : 위험요소\\nicecount : 상습결빙지역건수\\n'"
            ]
          },
          "metadata": {
            "tags": []
          },
          "execution_count": 4
        }
      ]
    },
    {
      "cell_type": "code",
      "metadata": {
        "colab": {
          "base_uri": "https://localhost:8080/",
          "height": 1000
        },
        "id": "FxpqbankW8Z-",
        "outputId": "31a04310-52c9-405f-f6ea-f56606e2918f"
      },
      "source": [
        "sns.pairplot(zzin)\n",
        "plt.show()"
      ],
      "execution_count": null,
      "outputs": [
        {
          "output_type": "display_data",
          "data": {
            "image/png": "[encoded data removed]",
            "text/plain": [
              "<Figure size 1440x1440 with 72 Axes>"
            ]
          },
          "metadata": {
            "tags": [],
            "needs_background": "light"
          }
        }
      ]
    },
    {
      "cell_type": "code",
      "metadata": {
        "id": "QJPnZrGFZIBO"
      },
      "source": [
        "#눈 온 날과 눈 오지 않은 날의 속도 차이가 크고\n",
        "#교통량이 많은 집단이 가장 중요할 것 같아서\n",
        "#두 값으로 clustering 진행해서\n",
        "# 0 1 집단 지정\n",
        "# randomforest로 나머지 변수들까지 포함해서 가중치 정하기"
      ],
      "execution_count": null,
      "outputs": []
    },
    {
      "cell_type": "code",
      "metadata": {
        "colab": {
          "base_uri": "https://localhost:8080/",
          "height": 265
        },
        "id": "S7hNce4Fexsa",
        "outputId": "00694329-5c5d-4aff-80db-6bcccd62b720"
      },
      "source": [
        "from sklearn.cluster import KMeans\n",
        "\n",
        "\n",
        "plt.scatter(zzin['mean'], zzin['range'], s = 50)\n",
        "kmeans = KMeans(n_clusters = 3)\n",
        "\n",
        "X = zzin[['mean','range']]\n",
        "\n",
        "y_pred = kmeans.fit_predict(X)"
      ],
      "execution_count": null,
      "outputs": [
        {
          "output_type": "display_data",
          "data": {
            "image/png": "[encoded data removed]",
            "text/plain": [
              "<Figure size 432x288 with 1 Axes>"
            ]
          },
          "metadata": {
            "tags": [],
            "needs_background": "light"
          }
        }
      ]
    },
    {
      "cell_type": "code",
      "metadata": {
        "colab": {
          "base_uri": "https://localhost:8080/"
        },
        "id": "IcrkCZP8f_Af",
        "outputId": "b57fe2d8-d8e8-481a-fb42-87de7d16822f"
      },
      "source": [
        "print(kmeans.predict(X))\n",
        "print(kmeans.cluster_centers_) #각 군집의 평균값"
      ],
      "execution_count": null,
      "outputs": [
        {
          "output_type": "stream",
          "text": [
            "[0 2 1 1 0 0 1 1 0 2 0 0 0 0 2 2 2 2 2 0 0 0 2 2 0 0 2 0 0 0 2 0 0 2 2 0 2\n",
            " 0 2 2 0 0 0 0 0 0 0 0 2 0 0 0 2 0 0 0 1 1 1 0 0 0 0 0 0 0 2 2 0 0 0 0 0 0\n",
            " 0 0]\n",
            "[[ 942.84657047    4.50212147]\n",
            " [4171.553452     17.782621  ]\n",
            " [1934.3557691    10.1548735 ]]\n"
          ],
          "name": "stdout"
        }
      ]
    },
    {
      "cell_type": "code",
      "metadata": {
        "colab": {
          "base_uri": "https://localhost:8080/"
        },
        "id": "VucEIaQjiRgM",
        "outputId": "ba9911ec-5497-47e2-b8bc-91575bf03f75"
      },
      "source": [
        "kmeans.labels_"
      ],
      "execution_count": null,
      "outputs": [
        {
          "output_type": "execute_result",
          "data": {
            "text/plain": [
              "array([0, 2, 1, 1, 0, 0, 1, 1, 0, 2, 0, 0, 0, 0, 2, 2, 2, 2, 2, 0, 0, 0,\n",
              "       2, 2, 0, 0, 2, 0, 0, 0, 2, 0, 0, 2, 2, 0, 2, 0, 2, 2, 0, 0, 0, 0,\n",
              "       0, 0, 0, 0, 2, 0, 0, 0, 2, 0, 0, 0, 1, 1, 1, 0, 0, 0, 0, 0, 0, 0,\n",
              "       2, 2, 0, 0, 0, 0, 0, 0, 0, 0], dtype=int32)"
            ]
          },
          "metadata": {
            "tags": []
          },
          "execution_count": 22
        }
      ]
    },
    {
      "cell_type": "code",
      "metadata": {
        "colab": {
          "base_uri": "https://localhost:8080/",
          "height": 283
        },
        "id": "VCcTVfRYhQ94",
        "outputId": "100bf36a-fbb8-4d4e-90fb-0b17488a2037"
      },
      "source": [
        "plt.scatter(X['mean'], X['range'], kmeans.labels_)\n",
        "plt.scatter(kmeans.cluster_centers_[:,0], kmeans.cluster_centers_[:,1], [0,1,2])"
      ],
      "execution_count": null,
      "outputs": [
        {
          "output_type": "execute_result",
          "data": {
            "text/plain": [
              "<matplotlib.collections.PathCollection at 0x7f4ca3beef50>"
            ]
          },
          "metadata": {
            "tags": []
          },
          "execution_count": 35
        },
        {
          "output_type": "display_data",
          "data": {
            "image/png": "[encoded data removed]",
            "text/plain": [
              "<Figure size 432x288 with 1 Axes>"
            ]
          },
          "metadata": {
            "tags": [],
            "needs_background": "light"
          }
        }
      ]
    },
    {
      "cell_type": "code",
      "metadata": {
        "colab": {
          "base_uri": "https://localhost:8080/",
          "height": 353
        },
        "id": "LDS-VDPviOg0",
        "outputId": "916b9ac8-b661-4e0e-b533-a0c8215c0599"
      },
      "source": [
        "sns.scatterplot(X['mean'], X['range'], kmeans.labels_, s = 50)\n",
        "#sns.scatterplot(kmeans.cluster_centers_[:,0], kmeans.cluster_centers_[:,1], [0,1,2], s = 50)"
      ],
      "execution_count": null,
      "outputs": [
        {
          "output_type": "stream",
          "text": [
            "/usr/local/lib/python3.7/dist-packages/seaborn/_decorators.py:43: FutureWarning: Pass the following variables as keyword args: x, y, hue. From version 0.12, the only valid positional argument will be `data`, and passing other arguments without an explicit keyword will result in an error or misinterpretation.\n",
            "  FutureWarning\n"
          ],
          "name": "stderr"
        },
        {
          "output_type": "execute_result",
          "data": {
            "text/plain": [
              "<matplotlib.axes._subplots.AxesSubplot at 0x7f4ca39f3650>"
            ]
          },
          "metadata": {
            "tags": []
          },
          "execution_count": 44
        },
        {
          "output_type": "display_data",
          "data": {
            "image/png": "[encoded data removed]",
            "text/plain": [
              "<Figure size 432x288 with 1 Axes>"
            ]
          },
          "metadata": {
            "tags": [],
            "needs_background": "light"
          }
        }
      ]
    },
    {
      "cell_type": "code",
      "metadata": {
        "colab": {
          "base_uri": "https://localhost:8080/"
        },
        "id": "7BDV0szli537",
        "outputId": "0b42f79f-0f9c-4542-f080-4b1f91c8827b"
      },
      "source": [
        "y_pred"
      ],
      "execution_count": null,
      "outputs": [
        {
          "output_type": "execute_result",
          "data": {
            "text/plain": [
              "array([0, 2, 1, 1, 0, 0, 1, 1, 0, 2, 0, 0, 0, 0, 2, 2, 2, 2, 2, 0, 0, 0,\n",
              "       2, 2, 0, 0, 2, 0, 0, 0, 2, 0, 0, 2, 2, 0, 2, 0, 2, 2, 0, 0, 0, 0,\n",
              "       0, 0, 0, 0, 2, 0, 0, 0, 2, 0, 0, 0, 1, 1, 1, 0, 0, 0, 0, 0, 0, 0,\n",
              "       2, 2, 0, 0, 0, 0, 0, 0, 0, 0], dtype=int32)"
            ]
          },
          "metadata": {
            "tags": []
          },
          "execution_count": 45
        }
      ]
    },
    {
      "cell_type": "code",
      "metadata": {
        "id": "ed_GrmTzkH3q"
      },
      "source": [
        "y = pd.DataFrame(y_pred)\n",
        "zzin2 = pd.concat([zzin, y], axis=1)"
      ],
      "execution_count": null,
      "outputs": []
    },
    {
      "cell_type": "code",
      "metadata": {
        "id": "Xg-Z9a7wow8S"
      },
      "source": [
        "zzin2.columns = ['label',        'gu',      'mean',      'bins',     'count',\n",
        "          'weight',     'place',    'danger',  'icecount',     'range',\n",
        "       'roadlabel',           'y']"
      ],
      "execution_count": null,
      "outputs": []
    },
    {
      "cell_type": "code",
      "metadata": {
        "colab": {
          "base_uri": "https://localhost:8080/",
          "height": 419
        },
        "id": "-0H4GNl4oWZI",
        "outputId": "b8879081-2e32-40f1-ee06-cc3c12c5aeca"
      },
      "source": [
        "zzin2"
      ],
      "execution_count": null,
      "outputs": [
        {
          "output_type": "execute_result",
          "data": {
            "text/html": [
              "<div>\n",
              "<style scoped>\n",
              "    .dataframe tbody tr th:only-of-type {\n",
              "        vertical-align: middle;\n",
              "    }\n",
              "\n",
              "    .dataframe tbody tr th {\n",
              "        vertical-align: top;\n",
              "    }\n",
              "\n",
              "    .dataframe thead th {\n",
              "        text-align: right;\n",
              "    }\n",
              "</style>\n",
              "<table border=\"1\" class=\"dataframe\">\n",
              "  <thead>\n",
              "    <tr style=\"text-align: right;\">\n",
              "      <th></th>\n",
              "      <th>label</th>\n",
              "      <th>gu</th>\n",
              "      <th>mean</th>\n",
              "      <th>bins</th>\n",
              "      <th>count</th>\n",
              "      <th>weight</th>\n",
              "      <th>place</th>\n",
              "      <th>danger</th>\n",
              "      <th>icecount</th>\n",
              "      <th>range</th>\n",
              "      <th>roadlabel</th>\n",
              "      <th>y</th>\n",
              "    </tr>\n",
              "  </thead>\n",
              "  <tbody>\n",
              "    <tr>\n",
              "      <th>y</th>\n",
              "      <td>강남대로</td>\n",
              "      <td>강남구</td>\n",
              "      <td>1187.870491</td>\n",
              "      <td>6</td>\n",
              "      <td>215</td>\n",
              "      <td>1</td>\n",
              "      <td>6</td>\n",
              "      <td>1</td>\n",
              "      <td>0</td>\n",
              "      <td>6.760808</td>\n",
              "      <td>강남대로 강남구</td>\n",
              "      <td>0</td>\n",
              "    </tr>\n",
              "    <tr>\n",
              "      <th>1</th>\n",
              "      <td>강남순환로</td>\n",
              "      <td>금천구</td>\n",
              "      <td>1640.678244</td>\n",
              "      <td>0</td>\n",
              "      <td>4</td>\n",
              "      <td>0</td>\n",
              "      <td>0</td>\n",
              "      <td>0</td>\n",
              "      <td>0</td>\n",
              "      <td>7.921154</td>\n",
              "      <td>강남순환로 금천구</td>\n",
              "      <td>2</td>\n",
              "    </tr>\n",
              "    <tr>\n",
              "      <th>2</th>\n",
              "      <td>강변북로</td>\n",
              "      <td>용산구</td>\n",
              "      <td>4658.535880</td>\n",
              "      <td>0</td>\n",
              "      <td>0</td>\n",
              "      <td>1</td>\n",
              "      <td>0</td>\n",
              "      <td>0</td>\n",
              "      <td>1</td>\n",
              "      <td>21.387434</td>\n",
              "      <td>강변북로 용산구</td>\n",
              "      <td>1</td>\n",
              "    </tr>\n",
              "    <tr>\n",
              "      <th>3</th>\n",
              "      <td>강변북로</td>\n",
              "      <td>마포구</td>\n",
              "      <td>4812.331690</td>\n",
              "      <td>0</td>\n",
              "      <td>0</td>\n",
              "      <td>1</td>\n",
              "      <td>0</td>\n",
              "      <td>0</td>\n",
              "      <td>1</td>\n",
              "      <td>14.191764</td>\n",
              "      <td>강변북로 마포구</td>\n",
              "      <td>1</td>\n",
              "    </tr>\n",
              "    <tr>\n",
              "      <th>4</th>\n",
              "      <td>강서로</td>\n",
              "      <td>강서구</td>\n",
              "      <td>759.022774</td>\n",
              "      <td>2</td>\n",
              "      <td>130</td>\n",
              "      <td>1</td>\n",
              "      <td>0</td>\n",
              "      <td>0</td>\n",
              "      <td>0</td>\n",
              "      <td>2.992709</td>\n",
              "      <td>강서로 강서구</td>\n",
              "      <td>0</td>\n",
              "    </tr>\n",
              "    <tr>\n",
              "      <th>...</th>\n",
              "      <td>...</td>\n",
              "      <td>...</td>\n",
              "      <td>...</td>\n",
              "      <td>...</td>\n",
              "      <td>...</td>\n",
              "      <td>...</td>\n",
              "      <td>...</td>\n",
              "      <td>...</td>\n",
              "      <td>...</td>\n",
              "      <td>...</td>\n",
              "      <td>...</td>\n",
              "      <td>...</td>\n",
              "    </tr>\n",
              "    <tr>\n",
              "      <th>71</th>\n",
              "      <td>평창문화로</td>\n",
              "      <td>종로구</td>\n",
              "      <td>842.001488</td>\n",
              "      <td>2</td>\n",
              "      <td>29</td>\n",
              "      <td>0</td>\n",
              "      <td>0</td>\n",
              "      <td>0</td>\n",
              "      <td>1</td>\n",
              "      <td>4.349077</td>\n",
              "      <td>평창문화로 종로구</td>\n",
              "      <td>0</td>\n",
              "    </tr>\n",
              "    <tr>\n",
              "      <th>72</th>\n",
              "      <td>헌릉로</td>\n",
              "      <td>강남구</td>\n",
              "      <td>1257.694598</td>\n",
              "      <td>2</td>\n",
              "      <td>23</td>\n",
              "      <td>0</td>\n",
              "      <td>0</td>\n",
              "      <td>0</td>\n",
              "      <td>0</td>\n",
              "      <td>7.566000</td>\n",
              "      <td>헌릉로 강남구</td>\n",
              "      <td>0</td>\n",
              "    </tr>\n",
              "    <tr>\n",
              "      <th>73</th>\n",
              "      <td>화곡로</td>\n",
              "      <td>양천구</td>\n",
              "      <td>715.305438</td>\n",
              "      <td>1</td>\n",
              "      <td>29</td>\n",
              "      <td>0</td>\n",
              "      <td>0</td>\n",
              "      <td>0</td>\n",
              "      <td>0</td>\n",
              "      <td>5.324872</td>\n",
              "      <td>화곡로 양천구</td>\n",
              "      <td>0</td>\n",
              "    </tr>\n",
              "    <tr>\n",
              "      <th>74</th>\n",
              "      <td>화랑로</td>\n",
              "      <td>성북구</td>\n",
              "      <td>1395.647641</td>\n",
              "      <td>0</td>\n",
              "      <td>50</td>\n",
              "      <td>0</td>\n",
              "      <td>0</td>\n",
              "      <td>0</td>\n",
              "      <td>0</td>\n",
              "      <td>5.041615</td>\n",
              "      <td>화랑로 성북구</td>\n",
              "      <td>0</td>\n",
              "    </tr>\n",
              "    <tr>\n",
              "      <th>75</th>\n",
              "      <td>화랑로</td>\n",
              "      <td>노원구</td>\n",
              "      <td>1162.214729</td>\n",
              "      <td>2</td>\n",
              "      <td>107</td>\n",
              "      <td>0</td>\n",
              "      <td>0</td>\n",
              "      <td>1</td>\n",
              "      <td>0</td>\n",
              "      <td>4.758593</td>\n",
              "      <td>화랑로 노원구</td>\n",
              "      <td>0</td>\n",
              "    </tr>\n",
              "  </tbody>\n",
              "</table>\n",
              "<p>76 rows × 12 columns</p>\n",
              "</div>"
            ],
            "text/plain": [
              "    label   gu         mean  bins  ...  icecount      range  roadlabel  y\n",
              "y    강남대로  강남구  1187.870491     6  ...         0   6.760808   강남대로 강남구  0\n",
              "1   강남순환로  금천구  1640.678244     0  ...         0   7.921154  강남순환로 금천구  2\n",
              "2    강변북로  용산구  4658.535880     0  ...         1  21.387434   강변북로 용산구  1\n",
              "3    강변북로  마포구  4812.331690     0  ...         1  14.191764   강변북로 마포구  1\n",
              "4     강서로  강서구   759.022774     2  ...         0   2.992709    강서로 강서구  0\n",
              "..    ...  ...          ...   ...  ...       ...        ...        ... ..\n",
              "71  평창문화로  종로구   842.001488     2  ...         1   4.349077  평창문화로 종로구  0\n",
              "72    헌릉로  강남구  1257.694598     2  ...         0   7.566000    헌릉로 강남구  0\n",
              "73    화곡로  양천구   715.305438     1  ...         0   5.324872    화곡로 양천구  0\n",
              "74    화랑로  성북구  1395.647641     0  ...         0   5.041615    화랑로 성북구  0\n",
              "75    화랑로  노원구  1162.214729     2  ...         0   4.758593    화랑로 노원구  0\n",
              "\n",
              "[76 rows x 12 columns]"
            ]
          },
          "metadata": {
            "tags": []
          },
          "execution_count": 56
        }
      ]
    },
    {
      "cell_type": "code",
      "metadata": {
        "id": "WvB-hSNvnyPY"
      },
      "source": [
        "#클러스터링 완료했고  : 한 이유는, 교통량과 속도 차이 변수가 가장 입지 선점에 중요하다고 임의로 판단해서 일단 두 개로 클러스터링\n",
        "#랜덤포레스트로 각 변수 별 가중치는 알고 싶어하는 것 같아서"
      ],
      "execution_count": null,
      "outputs": []
    },
    {
      "cell_type": "code",
      "metadata": {
        "id": "LtHKX2vQoSto"
      },
      "source": [
        "zzin2[zzin2['y'] == 2]"
      ],
      "execution_count": null,
      "outputs": []
    },
    {
      "cell_type": "code",
      "metadata": {
        "colab": {
          "base_uri": "https://localhost:8080/",
          "height": 266
        },
        "id": "MDm86Elbo8Xq",
        "outputId": "bfc8e3c9-e6bf-4b10-e4c1-2c587a25e4fc"
      },
      "source": [
        "zzin21 = zzin2[zzin2['y'] == 1]\n",
        "zzin21"
      ],
      "execution_count": null,
      "outputs": [
        {
          "output_type": "execute_result",
          "data": {
            "text/html": [
              "<div>\n",
              "<style scoped>\n",
              "    .dataframe tbody tr th:only-of-type {\n",
              "        vertical-align: middle;\n",
              "    }\n",
              "\n",
              "    .dataframe tbody tr th {\n",
              "        vertical-align: top;\n",
              "    }\n",
              "\n",
              "    .dataframe thead th {\n",
              "        text-align: right;\n",
              "    }\n",
              "</style>\n",
              "<table border=\"1\" class=\"dataframe\">\n",
              "  <thead>\n",
              "    <tr style=\"text-align: right;\">\n",
              "      <th></th>\n",
              "      <th>label</th>\n",
              "      <th>gu</th>\n",
              "      <th>mean</th>\n",
              "      <th>bins</th>\n",
              "      <th>count</th>\n",
              "      <th>weight</th>\n",
              "      <th>place</th>\n",
              "      <th>danger</th>\n",
              "      <th>icecount</th>\n",
              "      <th>range</th>\n",
              "      <th>roadlabel</th>\n",
              "      <th>y</th>\n",
              "    </tr>\n",
              "  </thead>\n",
              "  <tbody>\n",
              "    <tr>\n",
              "      <th>2</th>\n",
              "      <td>강변북로</td>\n",
              "      <td>용산구</td>\n",
              "      <td>4658.535880</td>\n",
              "      <td>0</td>\n",
              "      <td>0</td>\n",
              "      <td>1</td>\n",
              "      <td>0</td>\n",
              "      <td>0</td>\n",
              "      <td>1</td>\n",
              "      <td>21.387434</td>\n",
              "      <td>강변북로 용산구</td>\n",
              "      <td>1</td>\n",
              "    </tr>\n",
              "    <tr>\n",
              "      <th>3</th>\n",
              "      <td>강변북로</td>\n",
              "      <td>마포구</td>\n",
              "      <td>4812.331690</td>\n",
              "      <td>0</td>\n",
              "      <td>0</td>\n",
              "      <td>1</td>\n",
              "      <td>0</td>\n",
              "      <td>0</td>\n",
              "      <td>1</td>\n",
              "      <td>14.191764</td>\n",
              "      <td>강변북로 마포구</td>\n",
              "      <td>1</td>\n",
              "    </tr>\n",
              "    <tr>\n",
              "      <th>6</th>\n",
              "      <td>경부고속도로</td>\n",
              "      <td>서초구</td>\n",
              "      <td>3908.324718</td>\n",
              "      <td>2</td>\n",
              "      <td>43</td>\n",
              "      <td>1</td>\n",
              "      <td>0</td>\n",
              "      <td>0</td>\n",
              "      <td>0</td>\n",
              "      <td>27.813041</td>\n",
              "      <td>경부고속도로 서초구</td>\n",
              "      <td>1</td>\n",
              "    </tr>\n",
              "    <tr>\n",
              "      <th>7</th>\n",
              "      <td>경인고속국도</td>\n",
              "      <td>양천구</td>\n",
              "      <td>3407.806748</td>\n",
              "      <td>0</td>\n",
              "      <td>1</td>\n",
              "      <td>1</td>\n",
              "      <td>0</td>\n",
              "      <td>0</td>\n",
              "      <td>0</td>\n",
              "      <td>13.287100</td>\n",
              "      <td>경인고속국도 양천구</td>\n",
              "      <td>1</td>\n",
              "    </tr>\n",
              "    <tr>\n",
              "      <th>56</th>\n",
              "      <td>올림픽대로</td>\n",
              "      <td>동작구</td>\n",
              "      <td>4875.099378</td>\n",
              "      <td>7</td>\n",
              "      <td>66</td>\n",
              "      <td>1</td>\n",
              "      <td>3</td>\n",
              "      <td>0</td>\n",
              "      <td>0</td>\n",
              "      <td>16.567154</td>\n",
              "      <td>올림픽대로 동작구</td>\n",
              "      <td>1</td>\n",
              "    </tr>\n",
              "    <tr>\n",
              "      <th>57</th>\n",
              "      <td>올림픽대로</td>\n",
              "      <td>강동구</td>\n",
              "      <td>4152.652500</td>\n",
              "      <td>0</td>\n",
              "      <td>65</td>\n",
              "      <td>1</td>\n",
              "      <td>0</td>\n",
              "      <td>0</td>\n",
              "      <td>1</td>\n",
              "      <td>16.200147</td>\n",
              "      <td>올림픽대로 강동구</td>\n",
              "      <td>1</td>\n",
              "    </tr>\n",
              "    <tr>\n",
              "      <th>58</th>\n",
              "      <td>올림픽대로</td>\n",
              "      <td>강서구</td>\n",
              "      <td>3386.123250</td>\n",
              "      <td>0</td>\n",
              "      <td>71</td>\n",
              "      <td>1</td>\n",
              "      <td>0</td>\n",
              "      <td>0</td>\n",
              "      <td>0</td>\n",
              "      <td>15.031706</td>\n",
              "      <td>올림픽대로 강서구</td>\n",
              "      <td>1</td>\n",
              "    </tr>\n",
              "  </tbody>\n",
              "</table>\n",
              "</div>"
            ],
            "text/plain": [
              "     label   gu         mean  bins  ...  icecount      range   roadlabel  y\n",
              "2     강변북로  용산구  4658.535880     0  ...         1  21.387434    강변북로 용산구  1\n",
              "3     강변북로  마포구  4812.331690     0  ...         1  14.191764    강변북로 마포구  1\n",
              "6   경부고속도로  서초구  3908.324718     2  ...         0  27.813041  경부고속도로 서초구  1\n",
              "7   경인고속국도  양천구  3407.806748     0  ...         0  13.287100  경인고속국도 양천구  1\n",
              "56   올림픽대로  동작구  4875.099378     7  ...         0  16.567154   올림픽대로 동작구  1\n",
              "57   올림픽대로  강동구  4152.652500     0  ...         1  16.200147   올림픽대로 강동구  1\n",
              "58   올림픽대로  강서구  3386.123250     0  ...         0  15.031706   올림픽대로 강서구  1\n",
              "\n",
              "[7 rows x 12 columns]"
            ]
          },
          "metadata": {
            "tags": []
          },
          "execution_count": 68
        }
      ]
    },
    {
      "cell_type": "code",
      "metadata": {
        "id": "ACjOVKPkrujN"
      },
      "source": [
        "y = y.rename(columns = {0 : 'y'})"
      ],
      "execution_count": null,
      "outputs": []
    },
    {
      "cell_type": "code",
      "metadata": {
        "colab": {
          "base_uri": "https://localhost:8080/"
        },
        "id": "be7AxsMVo_QJ",
        "outputId": "0ff6685a-53ce-4686-9e33-6484ca257388"
      },
      "source": [
        "from sklearn.ensemble import RandomForestClassifier\n",
        "\n",
        "#y1 = y[y['y'] == 1]\n",
        "\n",
        "model = RandomForestClassifier()\n",
        "model.fit(zzin2.iloc[:,2:10],y)"
      ],
      "execution_count": null,
      "outputs": [
        {
          "output_type": "stream",
          "text": [
            "/usr/local/lib/python3.7/dist-packages/ipykernel_launcher.py:6: DataConversionWarning: A column-vector y was passed when a 1d array was expected. Please change the shape of y to (n_samples,), for example using ravel().\n",
            "  \n"
          ],
          "name": "stderr"
        },
        {
          "output_type": "execute_result",
          "data": {
            "text/plain": [
              "RandomForestClassifier(bootstrap=True, ccp_alpha=0.0, class_weight=None,\n",
              "                       criterion='gini', max_depth=None, max_features='auto',\n",
              "                       max_leaf_nodes=None, max_samples=None,\n",
              "                       min_impurity_decrease=0.0, min_impurity_split=None,\n",
              "                       min_samples_leaf=1, min_samples_split=2,\n",
              "                       min_weight_fraction_leaf=0.0, n_estimators=100,\n",
              "                       n_jobs=None, oob_score=False, random_state=None,\n",
              "                       verbose=0, warm_start=False)"
            ]
          },
          "metadata": {
            "tags": []
          },
          "execution_count": 82
        }
      ]
    },
    {
      "cell_type": "code",
      "metadata": {
        "id": "W3zqskk1qfKF"
      },
      "source": [
        "model_importances = pd.Series(model.feature_importances_, index = zzin21.iloc[:,2:10].columns)\n",
        "modelweight = model_importances.sort_values(ascending=False)"
      ],
      "execution_count": null,
      "outputs": []
    },
    {
      "cell_type": "code",
      "metadata": {
        "colab": {
          "base_uri": "https://localhost:8080/",
          "height": 265
        },
        "id": "y8Uh0FRorB_V",
        "outputId": "da3f9d20-5a27-475a-9fb1-7bdfa61ca0c9"
      },
      "source": [
        "sns.barplot(x = modelweight, y = modelweight.index)\n",
        "plt.show()\n",
        "#모든 집단에 대한 randomforest\n",
        "#mean이 가장 크고 range > count > bins 이런 식이다\n",
        "#당연한 결과인가"
      ],
      "execution_count": null,
      "outputs": [
        {
          "output_type": "display_data",
          "data": {
            "image/png": "[encoded data removed]",
            "text/plain": [
              "<Figure size 432x288 with 1 Axes>"
            ]
          },
          "metadata": {
            "tags": [],
            "needs_background": "light"
          }
        }
      ]
    },
    {
      "cell_type": "markdown",
      "metadata": {
        "id": "hZH8xA7D4T0v"
      },
      "source": [
        "# 2차 시도"
      ]
    },
    {
      "cell_type": "code",
      "metadata": {
        "colab": {
          "base_uri": "https://localhost:8080/",
          "height": 419
        },
        "id": "3qXBkY765jxK",
        "outputId": "5a5aa86e-7e6f-4aa9-d786-80c01c29dae7"
      },
      "source": [
        "zzin"
      ],
      "execution_count": null,
      "outputs": [
        {
          "output_type": "execute_result",
          "data": {
            "text/html": [
              "<div>\n",
              "<style scoped>\n",
              "    .dataframe tbody tr th:only-of-type {\n",
              "        vertical-align: middle;\n",
              "    }\n",
              "\n",
              "    .dataframe tbody tr th {\n",
              "        vertical-align: top;\n",
              "    }\n",
              "\n",
              "    .dataframe thead th {\n",
              "        text-align: right;\n",
              "    }\n",
              "</style>\n",
              "<table border=\"1\" class=\"dataframe\">\n",
              "  <thead>\n",
              "    <tr style=\"text-align: right;\">\n",
              "      <th></th>\n",
              "      <th>label</th>\n",
              "      <th>gu</th>\n",
              "      <th>mean</th>\n",
              "      <th>bins</th>\n",
              "      <th>count</th>\n",
              "      <th>weight</th>\n",
              "      <th>place</th>\n",
              "      <th>danger</th>\n",
              "      <th>icecount</th>\n",
              "      <th>range</th>\n",
              "      <th>roadlabel</th>\n",
              "    </tr>\n",
              "  </thead>\n",
              "  <tbody>\n",
              "    <tr>\n",
              "      <th>0</th>\n",
              "      <td>강남대로</td>\n",
              "      <td>강남구</td>\n",
              "      <td>1187.870491</td>\n",
              "      <td>6</td>\n",
              "      <td>215</td>\n",
              "      <td>1</td>\n",
              "      <td>6</td>\n",
              "      <td>1</td>\n",
              "      <td>0</td>\n",
              "      <td>6.760808</td>\n",
              "      <td>강남대로 강남구</td>\n",
              "    </tr>\n",
              "    <tr>\n",
              "      <th>1</th>\n",
              "      <td>강남순환로</td>\n",
              "      <td>금천구</td>\n",
              "      <td>1640.678244</td>\n",
              "      <td>0</td>\n",
              "      <td>4</td>\n",
              "      <td>0</td>\n",
              "      <td>0</td>\n",
              "      <td>0</td>\n",
              "      <td>0</td>\n",
              "      <td>7.921154</td>\n",
              "      <td>강남순환로 금천구</td>\n",
              "    </tr>\n",
              "    <tr>\n",
              "      <th>2</th>\n",
              "      <td>강변북로</td>\n",
              "      <td>용산구</td>\n",
              "      <td>4658.535880</td>\n",
              "      <td>0</td>\n",
              "      <td>0</td>\n",
              "      <td>1</td>\n",
              "      <td>0</td>\n",
              "      <td>0</td>\n",
              "      <td>1</td>\n",
              "      <td>21.387434</td>\n",
              "      <td>강변북로 용산구</td>\n",
              "    </tr>\n",
              "    <tr>\n",
              "      <th>3</th>\n",
              "      <td>강변북로</td>\n",
              "      <td>마포구</td>\n",
              "      <td>4812.331690</td>\n",
              "      <td>0</td>\n",
              "      <td>0</td>\n",
              "      <td>1</td>\n",
              "      <td>0</td>\n",
              "      <td>0</td>\n",
              "      <td>1</td>\n",
              "      <td>14.191764</td>\n",
              "      <td>강변북로 마포구</td>\n",
              "    </tr>\n",
              "    <tr>\n",
              "      <th>4</th>\n",
              "      <td>강서로</td>\n",
              "      <td>강서구</td>\n",
              "      <td>759.022774</td>\n",
              "      <td>2</td>\n",
              "      <td>130</td>\n",
              "      <td>1</td>\n",
              "      <td>0</td>\n",
              "      <td>0</td>\n",
              "      <td>0</td>\n",
              "      <td>2.992709</td>\n",
              "      <td>강서로 강서구</td>\n",
              "    </tr>\n",
              "    <tr>\n",
              "      <th>...</th>\n",
              "      <td>...</td>\n",
              "      <td>...</td>\n",
              "      <td>...</td>\n",
              "      <td>...</td>\n",
              "      <td>...</td>\n",
              "      <td>...</td>\n",
              "      <td>...</td>\n",
              "      <td>...</td>\n",
              "      <td>...</td>\n",
              "      <td>...</td>\n",
              "      <td>...</td>\n",
              "    </tr>\n",
              "    <tr>\n",
              "      <th>71</th>\n",
              "      <td>평창문화로</td>\n",
              "      <td>종로구</td>\n",
              "      <td>842.001488</td>\n",
              "      <td>2</td>\n",
              "      <td>29</td>\n",
              "      <td>0</td>\n",
              "      <td>0</td>\n",
              "      <td>0</td>\n",
              "      <td>1</td>\n",
              "      <td>4.349077</td>\n",
              "      <td>평창문화로 종로구</td>\n",
              "    </tr>\n",
              "    <tr>\n",
              "      <th>72</th>\n",
              "      <td>헌릉로</td>\n",
              "      <td>강남구</td>\n",
              "      <td>1257.694598</td>\n",
              "      <td>2</td>\n",
              "      <td>23</td>\n",
              "      <td>0</td>\n",
              "      <td>0</td>\n",
              "      <td>0</td>\n",
              "      <td>0</td>\n",
              "      <td>7.566000</td>\n",
              "      <td>헌릉로 강남구</td>\n",
              "    </tr>\n",
              "    <tr>\n",
              "      <th>73</th>\n",
              "      <td>화곡로</td>\n",
              "      <td>양천구</td>\n",
              "      <td>715.305438</td>\n",
              "      <td>1</td>\n",
              "      <td>29</td>\n",
              "      <td>0</td>\n",
              "      <td>0</td>\n",
              "      <td>0</td>\n",
              "      <td>0</td>\n",
              "      <td>5.324872</td>\n",
              "      <td>화곡로 양천구</td>\n",
              "    </tr>\n",
              "    <tr>\n",
              "      <th>74</th>\n",
              "      <td>화랑로</td>\n",
              "      <td>성북구</td>\n",
              "      <td>1395.647641</td>\n",
              "      <td>0</td>\n",
              "      <td>50</td>\n",
              "      <td>0</td>\n",
              "      <td>0</td>\n",
              "      <td>0</td>\n",
              "      <td>0</td>\n",
              "      <td>5.041615</td>\n",
              "      <td>화랑로 성북구</td>\n",
              "    </tr>\n",
              "    <tr>\n",
              "      <th>75</th>\n",
              "      <td>화랑로</td>\n",
              "      <td>노원구</td>\n",
              "      <td>1162.214729</td>\n",
              "      <td>2</td>\n",
              "      <td>107</td>\n",
              "      <td>0</td>\n",
              "      <td>0</td>\n",
              "      <td>1</td>\n",
              "      <td>0</td>\n",
              "      <td>4.758593</td>\n",
              "      <td>화랑로 노원구</td>\n",
              "    </tr>\n",
              "  </tbody>\n",
              "</table>\n",
              "<p>76 rows × 11 columns</p>\n",
              "</div>"
            ],
            "text/plain": [
              "    label   gu         mean  bins  ...  danger  icecount      range  roadlabel\n",
              "0    강남대로  강남구  1187.870491     6  ...       1         0   6.760808   강남대로 강남구\n",
              "1   강남순환로  금천구  1640.678244     0  ...       0         0   7.921154  강남순환로 금천구\n",
              "2    강변북로  용산구  4658.535880     0  ...       0         1  21.387434   강변북로 용산구\n",
              "3    강변북로  마포구  4812.331690     0  ...       0         1  14.191764   강변북로 마포구\n",
              "4     강서로  강서구   759.022774     2  ...       0         0   2.992709    강서로 강서구\n",
              "..    ...  ...          ...   ...  ...     ...       ...        ...        ...\n",
              "71  평창문화로  종로구   842.001488     2  ...       0         1   4.349077  평창문화로 종로구\n",
              "72    헌릉로  강남구  1257.694598     2  ...       0         0   7.566000    헌릉로 강남구\n",
              "73    화곡로  양천구   715.305438     1  ...       0         0   5.324872    화곡로 양천구\n",
              "74    화랑로  성북구  1395.647641     0  ...       0         0   5.041615    화랑로 성북구\n",
              "75    화랑로  노원구  1162.214729     2  ...       1         0   4.758593    화랑로 노원구\n",
              "\n",
              "[76 rows x 11 columns]"
            ]
          },
          "metadata": {
            "tags": []
          },
          "execution_count": 8
        }
      ]
    },
    {
      "cell_type": "code",
      "metadata": {
        "id": "hHm4HefxsBd4",
        "colab": {
          "base_uri": "https://localhost:8080/"
        },
        "outputId": "23c58ed5-52e1-4b23-e4bd-0e4cde26d9d3"
      },
      "source": [
        "#정규화 : 각 column의 값 상대적인 크기 때문에 분석 결과가 달라질 수 있기 때문에 정규화가 필요하다.\n",
        "#정규화에 여러 방법이 있는데, min-max만?\n",
        "from sklearn.preprocessing import MinMaxScaler\n",
        "scaler = MinMaxScaler()\n",
        "\n",
        "zzin_2 = scaler.fit_transform(zzin[['mean','bins','count','weight','danger','icecount','range']])\n",
        "zzin_2"
      ],
      "execution_count": null,
      "outputs": [
        {
          "output_type": "execute_result",
          "data": {
            "text/plain": [
              "array([[0.21393596, 0.6       , 0.75971731, 1.        , 0.33333333,\n",
              "        0.        , 0.10160155],\n",
              "       [0.31046805, 0.        , 0.01413428, 0.        , 0.        ,\n",
              "        0.        , 0.1259844 ],\n",
              "       [0.95383178, 0.        , 0.        , 1.        , 0.        ,\n",
              "        0.5       , 0.40895713],\n",
              "       [0.98661883, 0.        , 0.        , 1.        , 0.        ,\n",
              "        0.5       , 0.25775143],\n",
              "       [0.12251181, 0.2       , 0.45936396, 1.        , 0.        ,\n",
              "        0.        , 0.02242087],\n",
              "       [0.06610299, 0.        , 0.        , 0.        , 0.        ,\n",
              "        0.5       , 0.06127273],\n",
              "       [0.79389758, 0.2       , 0.15194346, 1.        , 0.        ,\n",
              "        0.        , 0.54398116],\n",
              "       [0.68719437, 0.        , 0.00353357, 1.        , 0.        ,\n",
              "        0.        , 0.23874133],\n",
              "       [0.17352237, 0.        , 0.02120141, 0.        , 0.        ,\n",
              "        0.        , 0.05168137],\n",
              "       [0.31896278, 0.        , 0.01413428, 1.        , 0.33333333,\n",
              "        0.        , 0.05356367],\n",
              "       [0.16424727, 0.        , 0.        , 0.        , 0.        ,\n",
              "        0.        , 0.09021227],\n",
              "       [0.1656374 , 0.6       , 0.13780919, 1.        , 0.        ,\n",
              "        0.        , 0.03874235],\n",
              "       [0.23675916, 0.        , 0.1590106 , 1.        , 0.        ,\n",
              "        0.        , 0.16005202],\n",
              "       [0.19132762, 0.1       , 0.41696113, 0.        , 0.        ,\n",
              "        0.        , 0.03977349],\n",
              "       [0.3635201 , 0.5       , 1.        , 0.        , 0.        ,\n",
              "        0.        , 0.06482182],\n",
              "       [0.35533774, 0.5       , 0.34982332, 0.        , 0.        ,\n",
              "        0.        , 0.06351613],\n",
              "       [0.43044733, 0.        , 0.3745583 , 0.        , 0.        ,\n",
              "        0.        , 0.06003641],\n",
              "       [0.31779274, 0.        , 0.40636042, 0.        , 0.33333333,\n",
              "        0.5       , 0.0887958 ],\n",
              "       [0.56170145, 0.3       , 0.25088339, 1.        , 0.        ,\n",
              "        0.        , 0.16221569],\n",
              "       [0.20024772, 0.        , 0.18021201, 0.        , 0.        ,\n",
              "        0.        , 0.06709371],\n",
              "       [0.11460011, 0.1       , 0.14487633, 1.        , 0.        ,\n",
              "        0.        , 0.04568602],\n",
              "       [0.1805981 , 0.4       , 0.38515901, 0.        , 0.        ,\n",
              "        0.        , 0.04213682],\n",
              "       [0.56006911, 0.        , 0.17314488, 1.        , 0.        ,\n",
              "        0.        , 0.25712759],\n",
              "       [0.46938343, 0.        , 0.36749117, 1.        , 0.        ,\n",
              "        0.        , 0.3180299 ],\n",
              "       [0.20126434, 0.4       , 0.00706714, 1.        , 0.        ,\n",
              "        0.        , 0.06625904],\n",
              "       [0.24112426, 0.        , 0.16961131, 1.        , 0.        ,\n",
              "        0.        , 0.1315772 ],\n",
              "       [0.31807055, 0.        , 0.33215548, 0.        , 0.        ,\n",
              "        0.        , 0.13068979],\n",
              "       [0.21588723, 0.        , 0.18374558, 0.        , 0.66666667,\n",
              "        0.        , 0.        ],\n",
              "       [0.23233237, 0.        , 0.21908127, 0.        , 0.33333333,\n",
              "        0.5       , 0.05344107],\n",
              "       [0.02811666, 0.        , 0.08127208, 1.        , 0.        ,\n",
              "        0.        , 0.02452962],\n",
              "       [0.29381433, 0.5       , 0.02826855, 0.        , 0.        ,\n",
              "        0.        , 0.08900773],\n",
              "       [0.12761361, 0.        , 0.08480565, 0.        , 0.        ,\n",
              "        0.        , 0.0957221 ],\n",
              "       [0.11493809, 0.2       , 0.44169611, 1.        , 0.        ,\n",
              "        0.        , 0.03205287],\n",
              "       [0.46565606, 0.        , 0.10600707, 1.        , 0.        ,\n",
              "        0.        , 1.        ],\n",
              "       [0.42412396, 0.        , 0.22614841, 1.        , 0.        ,\n",
              "        0.        , 0.27590649],\n",
              "       [0.24099135, 0.        , 0.01766784, 0.        , 1.        ,\n",
              "        0.        , 0.02803698],\n",
              "       [0.31106226, 0.2       , 0.49469965, 0.        , 0.33333333,\n",
              "        0.5       , 0.06860919],\n",
              "       [0.16042741, 0.        , 0.03533569, 0.        , 0.        ,\n",
              "        0.        , 0.03675168],\n",
              "       [0.42098763, 0.3       , 0.28268551, 1.        , 0.        ,\n",
              "        0.        , 0.37111341],\n",
              "       [0.3180786 , 0.1       , 0.18374558, 0.        , 0.        ,\n",
              "        1.        , 0.06518148],\n",
              "       [0.14261111, 0.        , 0.04946996, 0.        , 0.        ,\n",
              "        0.        , 0.07879039],\n",
              "       [0.13754075, 0.        , 0.22614841, 1.        , 0.        ,\n",
              "        0.5       , 0.01595687],\n",
              "       [0.21801109, 0.        , 0.01766784, 0.        , 0.33333333,\n",
              "        1.        , 0.03559141],\n",
              "       [0.16978964, 0.1       , 0.18727915, 0.        , 0.        ,\n",
              "        0.        , 0.02908016],\n",
              "       [0.00391532, 0.        , 0.04240283, 0.        , 0.        ,\n",
              "        0.5       , 0.05493395],\n",
              "       [0.        , 0.        , 0.03180212, 0.        , 0.33333333,\n",
              "        0.5       , 0.03238951],\n",
              "       [0.21281043, 0.        , 0.        , 0.        , 0.        ,\n",
              "        1.        , 0.08350333],\n",
              "       [0.16509526, 0.1       , 0.12014134, 0.        , 0.        ,\n",
              "        0.        , 0.04700344],\n",
              "       [0.30054335, 0.1       , 0.28268551, 1.        , 0.        ,\n",
              "        0.        , 0.07285415],\n",
              "       [0.14478254, 0.        , 0.00706714, 0.        , 0.        ,\n",
              "        0.        , 0.12192396],\n",
              "       [0.0761925 , 0.        , 0.25795053, 1.        , 0.        ,\n",
              "        0.5       , 0.01505982],\n",
              "       [0.26007665, 0.4       , 0.25795053, 0.        , 0.        ,\n",
              "        0.5       , 0.05441977],\n",
              "       [0.30886154, 0.        , 0.21201413, 0.        , 0.        ,\n",
              "        0.        , 0.0468557 ],\n",
              "       [0.19663123, 0.3       , 0.39222615, 0.        , 0.        ,\n",
              "        0.        , 0.0435541 ],\n",
              "       [0.0789495 , 0.        , 0.08480565, 0.        , 0.        ,\n",
              "        0.5       , 0.05235948],\n",
              "       [0.05573587, 0.        , 0.        , 0.        , 0.        ,\n",
              "        0.        , 0.06528953],\n",
              "       [1.        , 0.7       , 0.23321555, 1.        , 0.        ,\n",
              "        0.        , 0.30766651],\n",
              "       [0.84598474, 0.        , 0.22968198, 1.        , 0.        ,\n",
              "        0.5       , 0.29995444],\n",
              "       [0.68257176, 0.        , 0.25088339, 1.        , 0.        ,\n",
              "        0.        , 0.27540149],\n",
              "       [0.18675468, 0.2       , 0.24028269, 1.        , 0.        ,\n",
              "        0.        , 0.03753552],\n",
              "       [0.08742166, 0.6       , 0.27561837, 0.        , 0.        ,\n",
              "        0.        , 0.0240392 ],\n",
              "       [0.14766035, 0.        , 0.14134276, 0.        , 0.33333333,\n",
              "        0.5       , 0.02723745],\n",
              "       [0.17876575, 0.        , 0.00353357, 1.        , 0.        ,\n",
              "        0.        , 0.0383989 ],\n",
              "       [0.24592052, 0.        , 0.        , 0.        , 0.33333333,\n",
              "        0.5       , 0.02704744],\n",
              "       [0.14107113, 0.        , 0.03180212, 0.        , 0.        ,\n",
              "        0.        , 0.05358344],\n",
              "       [0.1223702 , 0.        , 0.21201413, 0.        , 0.        ,\n",
              "        0.        , 0.03689739],\n",
              "       [0.30032592, 0.        , 0.04240283, 0.        , 0.        ,\n",
              "        0.        , 0.05675984],\n",
              "       [0.31231025, 0.        , 0.00353357, 0.        , 0.        ,\n",
              "        0.5       , 0.08738096],\n",
              "       [0.21416367, 1.        , 0.69257951, 1.        , 1.        ,\n",
              "        0.        , 0.07380401],\n",
              "       [0.25471308, 0.3       , 0.44522968, 0.        , 0.33333333,\n",
              "        0.5       , 0.02806397],\n",
              "       [0.14123791, 0.        , 0.38162544, 0.        , 0.        ,\n",
              "        0.5       , 0.0214192 ],\n",
              "       [0.14020168, 0.2       , 0.1024735 , 0.        , 0.        ,\n",
              "        0.5       , 0.05092281],\n",
              "       [0.22882145, 0.2       , 0.08127208, 0.        , 0.        ,\n",
              "        0.        , 0.1185214 ],\n",
              "       [0.1131919 , 0.1       , 0.1024735 , 0.        , 0.        ,\n",
              "        0.        , 0.07142761],\n",
              "       [0.25823105, 0.        , 0.17667845, 0.        , 0.        ,\n",
              "        0.        , 0.06547542],\n",
              "       [0.20846652, 0.2       , 0.37809187, 0.        , 0.33333333,\n",
              "        0.        , 0.05952814]])"
            ]
          },
          "metadata": {
            "tags": []
          },
          "execution_count": 23
        }
      ]
    },
    {
      "cell_type": "code",
      "metadata": {
        "colab": {
          "base_uri": "https://localhost:8080/"
        },
        "id": "27S-7SmU4hbQ",
        "outputId": "bf6f2961-c18a-4bbf-94bf-c261f694a4ea"
      },
      "source": [
        "zzin['place'].value_counts()\n",
        "#3 -> 1\n",
        "#4 -> 2\n",
        "#6 -> 3 으로 변경하면 낫나?"
      ],
      "execution_count": null,
      "outputs": [
        {
          "output_type": "execute_result",
          "data": {
            "text/plain": [
              "0    71\n",
              "6     2\n",
              "3     2\n",
              "4     1\n",
              "Name: place, dtype: int64"
            ]
          },
          "metadata": {
            "tags": []
          },
          "execution_count": 7
        }
      ]
    },
    {
      "cell_type": "code",
      "metadata": {
        "colab": {
          "base_uri": "https://localhost:8080/"
        },
        "id": "wqzvBjCn42n2",
        "outputId": "8d3d5203-a2de-4542-b398-4907aad39e18"
      },
      "source": [
        "#위에 변경 안하고 randomforest\n",
        "from sklearn.ensemble import RandomForestClassifier\n",
        "\n",
        "model2 = RandomForestClassifier()\n",
        "model2.fit(zzin[['mean','bins','count','weight','danger','icecount','range']],zzin[['place']])"
      ],
      "execution_count": null,
      "outputs": [
        {
          "output_type": "stream",
          "text": [
            "/usr/local/lib/python3.7/dist-packages/ipykernel_launcher.py:6: DataConversionWarning: A column-vector y was passed when a 1d array was expected. Please change the shape of y to (n_samples,), for example using ravel().\n",
            "  \n"
          ],
          "name": "stderr"
        },
        {
          "output_type": "execute_result",
          "data": {
            "text/plain": [
              "RandomForestClassifier(bootstrap=True, ccp_alpha=0.0, class_weight=None,\n",
              "                       criterion='gini', max_depth=None, max_features='auto',\n",
              "                       max_leaf_nodes=None, max_samples=None,\n",
              "                       min_impurity_decrease=0.0, min_impurity_split=None,\n",
              "                       min_samples_leaf=1, min_samples_split=2,\n",
              "                       min_weight_fraction_leaf=0.0, n_estimators=100,\n",
              "                       n_jobs=None, oob_score=False, random_state=None,\n",
              "                       verbose=0, warm_start=False)"
            ]
          },
          "metadata": {
            "tags": []
          },
          "execution_count": 24
        }
      ]
    },
    {
      "cell_type": "code",
      "metadata": {
        "id": "Y-77p0l190gt"
      },
      "source": [
        "model_importances2 = pd.Series(model2.feature_importances_, index = zzin[['mean','bins','count','weight','danger','icecount','range']].columns)\n",
        "modelweight2 = model_importances2.sort_values(ascending=False)"
      ],
      "execution_count": null,
      "outputs": []
    },
    {
      "cell_type": "code",
      "metadata": {
        "colab": {
          "base_uri": "https://localhost:8080/",
          "height": 265
        },
        "id": "-tZaS9qD9_Al",
        "outputId": "42244c40-d282-4fd0-de6f-c63d8677b713"
      },
      "source": [
        "sns.barplot(x = modelweight2, y = modelweight2.index)\n",
        "plt.show()"
      ],
      "execution_count": null,
      "outputs": [
        {
          "output_type": "display_data",
          "data": {
            "image/png": "[encoded data removed]",
            "text/plain": [
              "<Figure size 432x288 with 1 Axes>"
            ]
          },
          "metadata": {
            "tags": [],
            "needs_background": "light"
          }
        }
      ]
    },
    {
      "cell_type": "markdown",
      "metadata": {
        "id": "xgA1wTEFb-kd"
      },
      "source": [
        "# 2-1 시도"
      ]
    },
    {
      "cell_type": "code",
      "metadata": {
        "id": "QniiFVx3cINF",
        "colab": {
          "base_uri": "https://localhost:8080/",
          "height": 419
        },
        "outputId": "cae3dddf-532d-4d73-c097-4133bc64c921"
      },
      "source": [
        "zzin"
      ],
      "execution_count": null,
      "outputs": [
        {
          "output_type": "execute_result",
          "data": {
            "text/html": [
              "<div>\n",
              "<style scoped>\n",
              "    .dataframe tbody tr th:only-of-type {\n",
              "        vertical-align: middle;\n",
              "    }\n",
              "\n",
              "    .dataframe tbody tr th {\n",
              "        vertical-align: top;\n",
              "    }\n",
              "\n",
              "    .dataframe thead th {\n",
              "        text-align: right;\n",
              "    }\n",
              "</style>\n",
              "<table border=\"1\" class=\"dataframe\">\n",
              "  <thead>\n",
              "    <tr style=\"text-align: right;\">\n",
              "      <th></th>\n",
              "      <th>label</th>\n",
              "      <th>gu</th>\n",
              "      <th>mean</th>\n",
              "      <th>bins</th>\n",
              "      <th>count</th>\n",
              "      <th>weight</th>\n",
              "      <th>place</th>\n",
              "      <th>danger</th>\n",
              "      <th>icecount</th>\n",
              "      <th>range</th>\n",
              "      <th>roadlabel</th>\n",
              "    </tr>\n",
              "  </thead>\n",
              "  <tbody>\n",
              "    <tr>\n",
              "      <th>0</th>\n",
              "      <td>강남대로</td>\n",
              "      <td>강남구</td>\n",
              "      <td>1187.870491</td>\n",
              "      <td>6</td>\n",
              "      <td>215</td>\n",
              "      <td>1</td>\n",
              "      <td>6</td>\n",
              "      <td>1</td>\n",
              "      <td>0</td>\n",
              "      <td>6.760808</td>\n",
              "      <td>강남대로 강남구</td>\n",
              "    </tr>\n",
              "    <tr>\n",
              "      <th>1</th>\n",
              "      <td>강남순환로</td>\n",
              "      <td>금천구</td>\n",
              "      <td>1640.678244</td>\n",
              "      <td>0</td>\n",
              "      <td>4</td>\n",
              "      <td>0</td>\n",
              "      <td>0</td>\n",
              "      <td>0</td>\n",
              "      <td>0</td>\n",
              "      <td>7.921154</td>\n",
              "      <td>강남순환로 금천구</td>\n",
              "    </tr>\n",
              "    <tr>\n",
              "      <th>2</th>\n",
              "      <td>강변북로</td>\n",
              "      <td>용산구</td>\n",
              "      <td>4658.535880</td>\n",
              "      <td>0</td>\n",
              "      <td>0</td>\n",
              "      <td>1</td>\n",
              "      <td>0</td>\n",
              "      <td>0</td>\n",
              "      <td>1</td>\n",
              "      <td>21.387434</td>\n",
              "      <td>강변북로 용산구</td>\n",
              "    </tr>\n",
              "    <tr>\n",
              "      <th>3</th>\n",
              "      <td>강변북로</td>\n",
              "      <td>마포구</td>\n",
              "      <td>4812.331690</td>\n",
              "      <td>0</td>\n",
              "      <td>0</td>\n",
              "      <td>1</td>\n",
              "      <td>0</td>\n",
              "      <td>0</td>\n",
              "      <td>1</td>\n",
              "      <td>14.191764</td>\n",
              "      <td>강변북로 마포구</td>\n",
              "    </tr>\n",
              "    <tr>\n",
              "      <th>4</th>\n",
              "      <td>강서로</td>\n",
              "      <td>강서구</td>\n",
              "      <td>759.022774</td>\n",
              "      <td>2</td>\n",
              "      <td>130</td>\n",
              "      <td>1</td>\n",
              "      <td>0</td>\n",
              "      <td>0</td>\n",
              "      <td>0</td>\n",
              "      <td>2.992709</td>\n",
              "      <td>강서로 강서구</td>\n",
              "    </tr>\n",
              "    <tr>\n",
              "      <th>...</th>\n",
              "      <td>...</td>\n",
              "      <td>...</td>\n",
              "      <td>...</td>\n",
              "      <td>...</td>\n",
              "      <td>...</td>\n",
              "      <td>...</td>\n",
              "      <td>...</td>\n",
              "      <td>...</td>\n",
              "      <td>...</td>\n",
              "      <td>...</td>\n",
              "      <td>...</td>\n",
              "    </tr>\n",
              "    <tr>\n",
              "      <th>71</th>\n",
              "      <td>평창문화로</td>\n",
              "      <td>종로구</td>\n",
              "      <td>842.001488</td>\n",
              "      <td>2</td>\n",
              "      <td>29</td>\n",
              "      <td>0</td>\n",
              "      <td>0</td>\n",
              "      <td>0</td>\n",
              "      <td>1</td>\n",
              "      <td>4.349077</td>\n",
              "      <td>평창문화로 종로구</td>\n",
              "    </tr>\n",
              "    <tr>\n",
              "      <th>72</th>\n",
              "      <td>헌릉로</td>\n",
              "      <td>강남구</td>\n",
              "      <td>1257.694598</td>\n",
              "      <td>2</td>\n",
              "      <td>23</td>\n",
              "      <td>0</td>\n",
              "      <td>0</td>\n",
              "      <td>0</td>\n",
              "      <td>0</td>\n",
              "      <td>7.566000</td>\n",
              "      <td>헌릉로 강남구</td>\n",
              "    </tr>\n",
              "    <tr>\n",
              "      <th>73</th>\n",
              "      <td>화곡로</td>\n",
              "      <td>양천구</td>\n",
              "      <td>715.305438</td>\n",
              "      <td>1</td>\n",
              "      <td>29</td>\n",
              "      <td>0</td>\n",
              "      <td>0</td>\n",
              "      <td>0</td>\n",
              "      <td>0</td>\n",
              "      <td>5.324872</td>\n",
              "      <td>화곡로 양천구</td>\n",
              "    </tr>\n",
              "    <tr>\n",
              "      <th>74</th>\n",
              "      <td>화랑로</td>\n",
              "      <td>성북구</td>\n",
              "      <td>1395.647641</td>\n",
              "      <td>0</td>\n",
              "      <td>50</td>\n",
              "      <td>0</td>\n",
              "      <td>0</td>\n",
              "      <td>0</td>\n",
              "      <td>0</td>\n",
              "      <td>5.041615</td>\n",
              "      <td>화랑로 성북구</td>\n",
              "    </tr>\n",
              "    <tr>\n",
              "      <th>75</th>\n",
              "      <td>화랑로</td>\n",
              "      <td>노원구</td>\n",
              "      <td>1162.214729</td>\n",
              "      <td>2</td>\n",
              "      <td>107</td>\n",
              "      <td>0</td>\n",
              "      <td>0</td>\n",
              "      <td>1</td>\n",
              "      <td>0</td>\n",
              "      <td>4.758593</td>\n",
              "      <td>화랑로 노원구</td>\n",
              "    </tr>\n",
              "  </tbody>\n",
              "</table>\n",
              "<p>76 rows × 11 columns</p>\n",
              "</div>"
            ],
            "text/plain": [
              "    label   gu         mean  bins  ...  danger  icecount      range  roadlabel\n",
              "0    강남대로  강남구  1187.870491     6  ...       1         0   6.760808   강남대로 강남구\n",
              "1   강남순환로  금천구  1640.678244     0  ...       0         0   7.921154  강남순환로 금천구\n",
              "2    강변북로  용산구  4658.535880     0  ...       0         1  21.387434   강변북로 용산구\n",
              "3    강변북로  마포구  4812.331690     0  ...       0         1  14.191764   강변북로 마포구\n",
              "4     강서로  강서구   759.022774     2  ...       0         0   2.992709    강서로 강서구\n",
              "..    ...  ...          ...   ...  ...     ...       ...        ...        ...\n",
              "71  평창문화로  종로구   842.001488     2  ...       0         1   4.349077  평창문화로 종로구\n",
              "72    헌릉로  강남구  1257.694598     2  ...       0         0   7.566000    헌릉로 강남구\n",
              "73    화곡로  양천구   715.305438     1  ...       0         0   5.324872    화곡로 양천구\n",
              "74    화랑로  성북구  1395.647641     0  ...       0         0   5.041615    화랑로 성북구\n",
              "75    화랑로  노원구  1162.214729     2  ...       1         0   4.758593    화랑로 노원구\n",
              "\n",
              "[76 rows x 11 columns]"
            ]
          },
          "metadata": {
            "tags": []
          },
          "execution_count": 78
        }
      ]
    },
    {
      "cell_type": "code",
      "metadata": {
        "id": "ufZoB78Lb9jS"
      },
      "source": [
        "model201 = RandomForestClassifier()\n",
        "model201.fit(zzin[['mean','bins','count','weight','danger','icecount','range']],zzin[['place']])"
      ],
      "execution_count": null,
      "outputs": []
    },
    {
      "cell_type": "markdown",
      "metadata": {
        "id": "9y5aDjcX-tll"
      },
      "source": [
        "# 3차 시도\n"
      ]
    },
    {
      "cell_type": "code",
      "metadata": {
        "id": "Kunyzj1Y-Jhl"
      },
      "source": [
        "#클러스터링 하기 전, 두 feature 한정해서 정규화\n",
        "\n",
        "#from sklearn.preprocessing import MinMaxScaler\n",
        "#scaler = MinMaxScaler()\n",
        "\n",
        "zzin_3 = scaler.fit_transform(zzin[['mean','range']])\n",
        "X = pd.DataFrame(zzin_3)\n",
        "\n",
        "X.columns = ['mean','range']"
      ],
      "execution_count": null,
      "outputs": []
    },
    {
      "cell_type": "code",
      "metadata": {
        "colab": {
          "base_uri": "https://localhost:8080/",
          "height": 265
        },
        "id": "soqxCs5v_Bnx",
        "outputId": "ce9b8497-cbb0-4bbf-989d-8d40aa807454"
      },
      "source": [
        "from sklearn.cluster import KMeans\n",
        "\n",
        "plt.scatter(X.iloc[:,0], X.iloc[:,1], s = 50)\n",
        "kmeans3 = KMeans(n_clusters = 4) #임의로 4개, 변경 가능(아마도 이상치 제거해야?)\n",
        "\n",
        "\n",
        "y_pred3 = kmeans3.fit_predict(X)"
      ],
      "execution_count": null,
      "outputs": [
        {
          "output_type": "display_data",
          "data": {
            "image/png": "[encoded data removed]",
            "text/plain": [
              "<Figure size 432x288 with 1 Axes>"
            ]
          },
          "metadata": {
            "tags": [],
            "needs_background": "light"
          }
        }
      ]
    },
    {
      "cell_type": "code",
      "metadata": {
        "colab": {
          "base_uri": "https://localhost:8080/",
          "height": 353
        },
        "id": "jgcrBFBTC8sf",
        "outputId": "c281b99c-eee8-4837-dc05-474cafca9d26"
      },
      "source": [
        "#클러스터링 시각화\n",
        "sns.scatterplot(X.iloc[:,0], X.iloc[:,1],kmeans3.labels_, s = 50, palette = 'RdYlGn')\n",
        "plt.scatter(kmeans3.cluster_centers_[:,0], kmeans3.cluster_centers_[:,1], [0,1,2,3]) #main 포인트만 몇 개 선별해서 보여주는듯"
      ],
      "execution_count": null,
      "outputs": [
        {
          "output_type": "stream",
          "text": [
            "/usr/local/lib/python3.7/dist-packages/seaborn/_decorators.py:43: FutureWarning: Pass the following variables as keyword args: x, y, hue. From version 0.12, the only valid positional argument will be `data`, and passing other arguments without an explicit keyword will result in an error or misinterpretation.\n",
            "  FutureWarning\n"
          ],
          "name": "stderr"
        },
        {
          "output_type": "execute_result",
          "data": {
            "text/plain": [
              "<matplotlib.collections.PathCollection at 0x7fb11eb6ed90>"
            ]
          },
          "metadata": {
            "tags": []
          },
          "execution_count": 64
        },
        {
          "output_type": "display_data",
          "data": {
            "image/png": "[encoded data removed]",
            "text/plain": [
              "<Figure size 432x288 with 1 Axes>"
            ]
          },
          "metadata": {
            "tags": [],
            "needs_background": "light"
          }
        }
      ]
    },
    {
      "cell_type": "code",
      "metadata": {
        "id": "f37OoxckEDDm"
      },
      "source": [
        "#라벨링을 데이터 프레임으로 만들어ㅅ\n",
        "y = pd.DataFrame(y_pred3)\n",
        "y.rename(columns = {0 : 'y'})"
      ],
      "execution_count": null,
      "outputs": []
    },
    {
      "cell_type": "code",
      "metadata": {
        "id": "nhghkTX3LbPs"
      },
      "source": [
        "XR=pd.concat([X, y], axis = 1)\n",
        "XR.columns = ['mean_nor', 'range_nor', 'y']\n",
        "zzin03 = pd.concat([zzin, XR], axis = 1)"
      ],
      "execution_count": null,
      "outputs": []
    },
    {
      "cell_type": "code",
      "metadata": {
        "colab": {
          "base_uri": "https://localhost:8080/",
          "height": 419
        },
        "id": "MJf-vXZOLf4s",
        "outputId": "18ba449d-8b28-4eeb-ffed-1a6fb844720e"
      },
      "source": [
        "#랜덤 포레스트 하기 전에, 근데 두 변수만 정규화해서 해도 되나?\n",
        "zzin03"
      ],
      "execution_count": null,
      "outputs": [
        {
          "output_type": "execute_result",
          "data": {
            "text/html": [
              "<div>\n",
              "<style scoped>\n",
              "    .dataframe tbody tr th:only-of-type {\n",
              "        vertical-align: middle;\n",
              "    }\n",
              "\n",
              "    .dataframe tbody tr th {\n",
              "        vertical-align: top;\n",
              "    }\n",
              "\n",
              "    .dataframe thead th {\n",
              "        text-align: right;\n",
              "    }\n",
              "</style>\n",
              "<table border=\"1\" class=\"dataframe\">\n",
              "  <thead>\n",
              "    <tr style=\"text-align: right;\">\n",
              "      <th></th>\n",
              "      <th>label</th>\n",
              "      <th>gu</th>\n",
              "      <th>mean</th>\n",
              "      <th>bins</th>\n",
              "      <th>count</th>\n",
              "      <th>weight</th>\n",
              "      <th>place</th>\n",
              "      <th>danger</th>\n",
              "      <th>icecount</th>\n",
              "      <th>range</th>\n",
              "      <th>roadlabel</th>\n",
              "      <th>mean_nor</th>\n",
              "      <th>range_nor</th>\n",
              "      <th>y</th>\n",
              "    </tr>\n",
              "  </thead>\n",
              "  <tbody>\n",
              "    <tr>\n",
              "      <th>0</th>\n",
              "      <td>강남대로</td>\n",
              "      <td>강남구</td>\n",
              "      <td>1187.870491</td>\n",
              "      <td>6</td>\n",
              "      <td>215</td>\n",
              "      <td>1</td>\n",
              "      <td>6</td>\n",
              "      <td>1</td>\n",
              "      <td>0</td>\n",
              "      <td>6.760808</td>\n",
              "      <td>강남대로 강남구</td>\n",
              "      <td>0.213936</td>\n",
              "      <td>0.101602</td>\n",
              "      <td>0</td>\n",
              "    </tr>\n",
              "    <tr>\n",
              "      <th>1</th>\n",
              "      <td>강남순환로</td>\n",
              "      <td>금천구</td>\n",
              "      <td>1640.678244</td>\n",
              "      <td>0</td>\n",
              "      <td>4</td>\n",
              "      <td>0</td>\n",
              "      <td>0</td>\n",
              "      <td>0</td>\n",
              "      <td>0</td>\n",
              "      <td>7.921154</td>\n",
              "      <td>강남순환로 금천구</td>\n",
              "      <td>0.310468</td>\n",
              "      <td>0.125984</td>\n",
              "      <td>2</td>\n",
              "    </tr>\n",
              "    <tr>\n",
              "      <th>2</th>\n",
              "      <td>강변북로</td>\n",
              "      <td>용산구</td>\n",
              "      <td>4658.535880</td>\n",
              "      <td>0</td>\n",
              "      <td>0</td>\n",
              "      <td>1</td>\n",
              "      <td>0</td>\n",
              "      <td>0</td>\n",
              "      <td>1</td>\n",
              "      <td>21.387434</td>\n",
              "      <td>강변북로 용산구</td>\n",
              "      <td>0.953832</td>\n",
              "      <td>0.408957</td>\n",
              "      <td>1</td>\n",
              "    </tr>\n",
              "    <tr>\n",
              "      <th>3</th>\n",
              "      <td>강변북로</td>\n",
              "      <td>마포구</td>\n",
              "      <td>4812.331690</td>\n",
              "      <td>0</td>\n",
              "      <td>0</td>\n",
              "      <td>1</td>\n",
              "      <td>0</td>\n",
              "      <td>0</td>\n",
              "      <td>1</td>\n",
              "      <td>14.191764</td>\n",
              "      <td>강변북로 마포구</td>\n",
              "      <td>0.986619</td>\n",
              "      <td>0.257751</td>\n",
              "      <td>1</td>\n",
              "    </tr>\n",
              "    <tr>\n",
              "      <th>4</th>\n",
              "      <td>강서로</td>\n",
              "      <td>강서구</td>\n",
              "      <td>759.022774</td>\n",
              "      <td>2</td>\n",
              "      <td>130</td>\n",
              "      <td>1</td>\n",
              "      <td>0</td>\n",
              "      <td>0</td>\n",
              "      <td>0</td>\n",
              "      <td>2.992709</td>\n",
              "      <td>강서로 강서구</td>\n",
              "      <td>0.122512</td>\n",
              "      <td>0.022421</td>\n",
              "      <td>0</td>\n",
              "    </tr>\n",
              "    <tr>\n",
              "      <th>...</th>\n",
              "      <td>...</td>\n",
              "      <td>...</td>\n",
              "      <td>...</td>\n",
              "      <td>...</td>\n",
              "      <td>...</td>\n",
              "      <td>...</td>\n",
              "      <td>...</td>\n",
              "      <td>...</td>\n",
              "      <td>...</td>\n",
              "      <td>...</td>\n",
              "      <td>...</td>\n",
              "      <td>...</td>\n",
              "      <td>...</td>\n",
              "      <td>...</td>\n",
              "    </tr>\n",
              "    <tr>\n",
              "      <th>71</th>\n",
              "      <td>평창문화로</td>\n",
              "      <td>종로구</td>\n",
              "      <td>842.001488</td>\n",
              "      <td>2</td>\n",
              "      <td>29</td>\n",
              "      <td>0</td>\n",
              "      <td>0</td>\n",
              "      <td>0</td>\n",
              "      <td>1</td>\n",
              "      <td>4.349077</td>\n",
              "      <td>평창문화로 종로구</td>\n",
              "      <td>0.140202</td>\n",
              "      <td>0.050923</td>\n",
              "      <td>0</td>\n",
              "    </tr>\n",
              "    <tr>\n",
              "      <th>72</th>\n",
              "      <td>헌릉로</td>\n",
              "      <td>강남구</td>\n",
              "      <td>1257.694598</td>\n",
              "      <td>2</td>\n",
              "      <td>23</td>\n",
              "      <td>0</td>\n",
              "      <td>0</td>\n",
              "      <td>0</td>\n",
              "      <td>0</td>\n",
              "      <td>7.566000</td>\n",
              "      <td>헌릉로 강남구</td>\n",
              "      <td>0.228821</td>\n",
              "      <td>0.118521</td>\n",
              "      <td>0</td>\n",
              "    </tr>\n",
              "    <tr>\n",
              "      <th>73</th>\n",
              "      <td>화곡로</td>\n",
              "      <td>양천구</td>\n",
              "      <td>715.305438</td>\n",
              "      <td>1</td>\n",
              "      <td>29</td>\n",
              "      <td>0</td>\n",
              "      <td>0</td>\n",
              "      <td>0</td>\n",
              "      <td>0</td>\n",
              "      <td>5.324872</td>\n",
              "      <td>화곡로 양천구</td>\n",
              "      <td>0.113192</td>\n",
              "      <td>0.071428</td>\n",
              "      <td>0</td>\n",
              "    </tr>\n",
              "    <tr>\n",
              "      <th>74</th>\n",
              "      <td>화랑로</td>\n",
              "      <td>성북구</td>\n",
              "      <td>1395.647641</td>\n",
              "      <td>0</td>\n",
              "      <td>50</td>\n",
              "      <td>0</td>\n",
              "      <td>0</td>\n",
              "      <td>0</td>\n",
              "      <td>0</td>\n",
              "      <td>5.041615</td>\n",
              "      <td>화랑로 성북구</td>\n",
              "      <td>0.258231</td>\n",
              "      <td>0.065475</td>\n",
              "      <td>0</td>\n",
              "    </tr>\n",
              "    <tr>\n",
              "      <th>75</th>\n",
              "      <td>화랑로</td>\n",
              "      <td>노원구</td>\n",
              "      <td>1162.214729</td>\n",
              "      <td>2</td>\n",
              "      <td>107</td>\n",
              "      <td>0</td>\n",
              "      <td>0</td>\n",
              "      <td>1</td>\n",
              "      <td>0</td>\n",
              "      <td>4.758593</td>\n",
              "      <td>화랑로 노원구</td>\n",
              "      <td>0.208467</td>\n",
              "      <td>0.059528</td>\n",
              "      <td>0</td>\n",
              "    </tr>\n",
              "  </tbody>\n",
              "</table>\n",
              "<p>76 rows × 14 columns</p>\n",
              "</div>"
            ],
            "text/plain": [
              "    label   gu         mean  bins  ...  roadlabel  mean_nor  range_nor  y\n",
              "0    강남대로  강남구  1187.870491     6  ...   강남대로 강남구  0.213936   0.101602  0\n",
              "1   강남순환로  금천구  1640.678244     0  ...  강남순환로 금천구  0.310468   0.125984  2\n",
              "2    강변북로  용산구  4658.535880     0  ...   강변북로 용산구  0.953832   0.408957  1\n",
              "3    강변북로  마포구  4812.331690     0  ...   강변북로 마포구  0.986619   0.257751  1\n",
              "4     강서로  강서구   759.022774     2  ...    강서로 강서구  0.122512   0.022421  0\n",
              "..    ...  ...          ...   ...  ...        ...       ...        ... ..\n",
              "71  평창문화로  종로구   842.001488     2  ...  평창문화로 종로구  0.140202   0.050923  0\n",
              "72    헌릉로  강남구  1257.694598     2  ...    헌릉로 강남구  0.228821   0.118521  0\n",
              "73    화곡로  양천구   715.305438     1  ...    화곡로 양천구  0.113192   0.071428  0\n",
              "74    화랑로  성북구  1395.647641     0  ...    화랑로 성북구  0.258231   0.065475  0\n",
              "75    화랑로  노원구  1162.214729     2  ...    화랑로 노원구  0.208467   0.059528  0\n",
              "\n",
              "[76 rows x 14 columns]"
            ]
          },
          "metadata": {
            "tags": []
          },
          "execution_count": 76
        }
      ]
    },
    {
      "cell_type": "code",
      "metadata": {
        "id": "ROiRhh32OCER"
      },
      "source": [
        "#from sklearn.ensemble import RandomForestClassifier\n",
        "\n",
        "model = RandomForestClassifier()\n",
        "model.fit(zzin2.iloc[:,2:10],y)"
      ],
      "execution_count": null,
      "outputs": []
    },
    {
      "cell_type": "code",
      "metadata": {
        "id": "odM0o8PRRyHQ"
      },
      "source": [
        "#연습 많이 했다!"
      ],
      "execution_count": null,
      "outputs": []
    },
    {
      "cell_type": "markdown",
      "metadata": {
        "id": "4zD2mDGtVetB"
      },
      "source": [
        "# 시각화"
      ]
    },
    {
      "cell_type": "code",
      "metadata": {
        "colab": {
          "base_uri": "https://localhost:8080/",
          "height": 419
        },
        "id": "5LXjjUYkVd_g",
        "outputId": "97b10af2-5d91-42a3-ac3c-4387ef62870f"
      },
      "source": [
        "zzin"
      ],
      "execution_count": null,
      "outputs": [
        {
          "output_type": "execute_result",
          "data": {
            "text/html": [
              "<div>\n",
              "<style scoped>\n",
              "    .dataframe tbody tr th:only-of-type {\n",
              "        vertical-align: middle;\n",
              "    }\n",
              "\n",
              "    .dataframe tbody tr th {\n",
              "        vertical-align: top;\n",
              "    }\n",
              "\n",
              "    .dataframe thead th {\n",
              "        text-align: right;\n",
              "    }\n",
              "</style>\n",
              "<table border=\"1\" class=\"dataframe\">\n",
              "  <thead>\n",
              "    <tr style=\"text-align: right;\">\n",
              "      <th></th>\n",
              "      <th>label</th>\n",
              "      <th>gu</th>\n",
              "      <th>mean</th>\n",
              "      <th>bins</th>\n",
              "      <th>count</th>\n",
              "      <th>weight</th>\n",
              "      <th>place</th>\n",
              "      <th>danger</th>\n",
              "      <th>icecount</th>\n",
              "      <th>range</th>\n",
              "      <th>roadlabel</th>\n",
              "    </tr>\n",
              "  </thead>\n",
              "  <tbody>\n",
              "    <tr>\n",
              "      <th>0</th>\n",
              "      <td>강남대로</td>\n",
              "      <td>강남구</td>\n",
              "      <td>1187.870491</td>\n",
              "      <td>6</td>\n",
              "      <td>215</td>\n",
              "      <td>1</td>\n",
              "      <td>6</td>\n",
              "      <td>1</td>\n",
              "      <td>0</td>\n",
              "      <td>6.760808</td>\n",
              "      <td>강남대로 강남구</td>\n",
              "    </tr>\n",
              "    <tr>\n",
              "      <th>1</th>\n",
              "      <td>강남순환로</td>\n",
              "      <td>금천구</td>\n",
              "      <td>1640.678244</td>\n",
              "      <td>0</td>\n",
              "      <td>4</td>\n",
              "      <td>0</td>\n",
              "      <td>0</td>\n",
              "      <td>0</td>\n",
              "      <td>0</td>\n",
              "      <td>7.921154</td>\n",
              "      <td>강남순환로 금천구</td>\n",
              "    </tr>\n",
              "    <tr>\n",
              "      <th>2</th>\n",
              "      <td>강변북로</td>\n",
              "      <td>용산구</td>\n",
              "      <td>4658.535880</td>\n",
              "      <td>0</td>\n",
              "      <td>0</td>\n",
              "      <td>1</td>\n",
              "      <td>0</td>\n",
              "      <td>0</td>\n",
              "      <td>1</td>\n",
              "      <td>21.387434</td>\n",
              "      <td>강변북로 용산구</td>\n",
              "    </tr>\n",
              "    <tr>\n",
              "      <th>3</th>\n",
              "      <td>강변북로</td>\n",
              "      <td>마포구</td>\n",
              "      <td>4812.331690</td>\n",
              "      <td>0</td>\n",
              "      <td>0</td>\n",
              "      <td>1</td>\n",
              "      <td>0</td>\n",
              "      <td>0</td>\n",
              "      <td>1</td>\n",
              "      <td>14.191764</td>\n",
              "      <td>강변북로 마포구</td>\n",
              "    </tr>\n",
              "    <tr>\n",
              "      <th>4</th>\n",
              "      <td>강서로</td>\n",
              "      <td>강서구</td>\n",
              "      <td>759.022774</td>\n",
              "      <td>2</td>\n",
              "      <td>130</td>\n",
              "      <td>1</td>\n",
              "      <td>0</td>\n",
              "      <td>0</td>\n",
              "      <td>0</td>\n",
              "      <td>2.992709</td>\n",
              "      <td>강서로 강서구</td>\n",
              "    </tr>\n",
              "    <tr>\n",
              "      <th>...</th>\n",
              "      <td>...</td>\n",
              "      <td>...</td>\n",
              "      <td>...</td>\n",
              "      <td>...</td>\n",
              "      <td>...</td>\n",
              "      <td>...</td>\n",
              "      <td>...</td>\n",
              "      <td>...</td>\n",
              "      <td>...</td>\n",
              "      <td>...</td>\n",
              "      <td>...</td>\n",
              "    </tr>\n",
              "    <tr>\n",
              "      <th>71</th>\n",
              "      <td>평창문화로</td>\n",
              "      <td>종로구</td>\n",
              "      <td>842.001488</td>\n",
              "      <td>2</td>\n",
              "      <td>29</td>\n",
              "      <td>0</td>\n",
              "      <td>0</td>\n",
              "      <td>0</td>\n",
              "      <td>1</td>\n",
              "      <td>4.349077</td>\n",
              "      <td>평창문화로 종로구</td>\n",
              "    </tr>\n",
              "    <tr>\n",
              "      <th>72</th>\n",
              "      <td>헌릉로</td>\n",
              "      <td>강남구</td>\n",
              "      <td>1257.694598</td>\n",
              "      <td>2</td>\n",
              "      <td>23</td>\n",
              "      <td>0</td>\n",
              "      <td>0</td>\n",
              "      <td>0</td>\n",
              "      <td>0</td>\n",
              "      <td>7.566000</td>\n",
              "      <td>헌릉로 강남구</td>\n",
              "    </tr>\n",
              "    <tr>\n",
              "      <th>73</th>\n",
              "      <td>화곡로</td>\n",
              "      <td>양천구</td>\n",
              "      <td>715.305438</td>\n",
              "      <td>1</td>\n",
              "      <td>29</td>\n",
              "      <td>0</td>\n",
              "      <td>0</td>\n",
              "      <td>0</td>\n",
              "      <td>0</td>\n",
              "      <td>5.324872</td>\n",
              "      <td>화곡로 양천구</td>\n",
              "    </tr>\n",
              "    <tr>\n",
              "      <th>74</th>\n",
              "      <td>화랑로</td>\n",
              "      <td>성북구</td>\n",
              "      <td>1395.647641</td>\n",
              "      <td>0</td>\n",
              "      <td>50</td>\n",
              "      <td>0</td>\n",
              "      <td>0</td>\n",
              "      <td>0</td>\n",
              "      <td>0</td>\n",
              "      <td>5.041615</td>\n",
              "      <td>화랑로 성북구</td>\n",
              "    </tr>\n",
              "    <tr>\n",
              "      <th>75</th>\n",
              "      <td>화랑로</td>\n",
              "      <td>노원구</td>\n",
              "      <td>1162.214729</td>\n",
              "      <td>2</td>\n",
              "      <td>107</td>\n",
              "      <td>0</td>\n",
              "      <td>0</td>\n",
              "      <td>1</td>\n",
              "      <td>0</td>\n",
              "      <td>4.758593</td>\n",
              "      <td>화랑로 노원구</td>\n",
              "    </tr>\n",
              "  </tbody>\n",
              "</table>\n",
              "<p>76 rows × 11 columns</p>\n",
              "</div>"
            ],
            "text/plain": [
              "    label   gu         mean  bins  ...  danger  icecount      range  roadlabel\n",
              "0    강남대로  강남구  1187.870491     6  ...       1         0   6.760808   강남대로 강남구\n",
              "1   강남순환로  금천구  1640.678244     0  ...       0         0   7.921154  강남순환로 금천구\n",
              "2    강변북로  용산구  4658.535880     0  ...       0         1  21.387434   강변북로 용산구\n",
              "3    강변북로  마포구  4812.331690     0  ...       0         1  14.191764   강변북로 마포구\n",
              "4     강서로  강서구   759.022774     2  ...       0         0   2.992709    강서로 강서구\n",
              "..    ...  ...          ...   ...  ...     ...       ...        ...        ...\n",
              "71  평창문화로  종로구   842.001488     2  ...       0         1   4.349077  평창문화로 종로구\n",
              "72    헌릉로  강남구  1257.694598     2  ...       0         0   7.566000    헌릉로 강남구\n",
              "73    화곡로  양천구   715.305438     1  ...       0         0   5.324872    화곡로 양천구\n",
              "74    화랑로  성북구  1395.647641     0  ...       0         0   5.041615    화랑로 성북구\n",
              "75    화랑로  노원구  1162.214729     2  ...       1         0   4.758593    화랑로 노원구\n",
              "\n",
              "[76 rows x 11 columns]"
            ]
          },
          "metadata": {
            "tags": []
          },
          "execution_count": 77
        }
      ]
    },
    {
      "cell_type": "code",
      "metadata": {
        "id": "aeyP7p5JVrX9"
      },
      "source": [
        "#시각화 할 것 : "
      ],
      "execution_count": null,
      "outputs": []
    }
  ]
}