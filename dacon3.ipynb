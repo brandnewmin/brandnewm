{
  "nbformat": 4,
  "nbformat_minor": 0,
  "metadata": {
    "colab": {
      "name": "dacon3.ipynb",
      "provenance": [],
      "collapsed_sections": [
        "ZbtvMYwepDke",
        "UUteeKltjck7"
      ],
      "toc_visible": true,
      "authorship_tag": "ABX9TyMu7j6HuzN8DwqvzFsYpN8i",
      "include_colab_link": true
    },
    "kernelspec": {
      "name": "python3",
      "display_name": "Python 3"
    }
  },
  "cells": [
    {
      "cell_type": "markdown",
      "metadata": {
        "id": "view-in-github",
        "colab_type": "text"
      },
      "source": [
        "<a href=\"https://colab.research.google.com/github/brandnewmin/brandnewm/blob/master/dacon3.ipynb\" target=\"_parent\"><img src=\"https://colab.research.google.com/assets/colab-badge.svg\" alt=\"Open In Colab\"/></a>"
      ]
    },
    {
      "cell_type": "code",
      "metadata": {
        "id": "YyCWFcZXb6W3"
      },
      "source": [
        "import pandas as pd\r\n",
        "import numpy as np\r\n",
        "import matplotlib.pyplot as plt\r\n",
        "import seaborn as sns\r\n",
        "plt.style.use('seaborn')\r\n",
        "sns.set(font_scale=2.5)\r\n",
        "%matplotlib inline"
      ],
      "execution_count": 1,
      "outputs": []
    },
    {
      "cell_type": "code",
      "metadata": {
        "id": "pJ5-QPTvcG3x"
      },
      "source": [
        "import missingno as msno #결측값보이기"
      ],
      "execution_count": 2,
      "outputs": []
    },
    {
      "cell_type": "code",
      "metadata": {
        "id": "q0yAM4Ntf5Oy"
      },
      "source": [
        "pd.options.display.float_format='{:.2f}'.format"
      ],
      "execution_count": 3,
      "outputs": []
    },
    {
      "cell_type": "code",
      "metadata": {
        "colab": {
          "base_uri": "https://localhost:8080/"
        },
        "id": "FcbbGNEVcUcq",
        "outputId": "539c715e-9276-489b-d3a5-472f1d724fe3"
      },
      "source": [
        "from google.colab import drive\r\n",
        "drive.mount('/content/drive')"
      ],
      "execution_count": 4,
      "outputs": [
        {
          "output_type": "stream",
          "text": [
            "Mounted at /content/drive\n"
          ],
          "name": "stdout"
        }
      ]
    },
    {
      "cell_type": "code",
      "metadata": {
        "colab": {
          "base_uri": "https://localhost:8080/",
          "height": 204
        },
        "id": "D02_zQEzcno8",
        "outputId": "e96e1da1-048b-4aac-aefa-f0ae292d47f8"
      },
      "source": [
        "train = pd.read_csv('/content/drive/My Drive/data/train.csv')\r\n",
        "train.head()"
      ],
      "execution_count": 5,
      "outputs": [
        {
          "output_type": "execute_result",
          "data": {
            "text/html": [
              "<div>\n",
              "<style scoped>\n",
              "    .dataframe tbody tr th:only-of-type {\n",
              "        vertical-align: middle;\n",
              "    }\n",
              "\n",
              "    .dataframe tbody tr th {\n",
              "        vertical-align: top;\n",
              "    }\n",
              "\n",
              "    .dataframe thead th {\n",
              "        text-align: right;\n",
              "    }\n",
              "</style>\n",
              "<table border=\"1\" class=\"dataframe\">\n",
              "  <thead>\n",
              "    <tr style=\"text-align: right;\">\n",
              "      <th></th>\n",
              "      <th>store_id</th>\n",
              "      <th>date</th>\n",
              "      <th>time</th>\n",
              "      <th>card_id</th>\n",
              "      <th>amount</th>\n",
              "      <th>installments</th>\n",
              "      <th>days_of_week</th>\n",
              "      <th>holyday</th>\n",
              "    </tr>\n",
              "  </thead>\n",
              "  <tbody>\n",
              "    <tr>\n",
              "      <th>0</th>\n",
              "      <td>0</td>\n",
              "      <td>2016-12-14</td>\n",
              "      <td>18:05:31</td>\n",
              "      <td>d297bba73f</td>\n",
              "      <td>5</td>\n",
              "      <td>nan</td>\n",
              "      <td>2</td>\n",
              "      <td>0</td>\n",
              "    </tr>\n",
              "    <tr>\n",
              "      <th>1</th>\n",
              "      <td>0</td>\n",
              "      <td>2016-12-14</td>\n",
              "      <td>18:05:54</td>\n",
              "      <td>d297bba73f</td>\n",
              "      <td>-5</td>\n",
              "      <td>nan</td>\n",
              "      <td>2</td>\n",
              "      <td>0</td>\n",
              "    </tr>\n",
              "    <tr>\n",
              "      <th>2</th>\n",
              "      <td>0</td>\n",
              "      <td>2016-12-19</td>\n",
              "      <td>12:42:31</td>\n",
              "      <td>0880849c05</td>\n",
              "      <td>144</td>\n",
              "      <td>nan</td>\n",
              "      <td>0</td>\n",
              "      <td>0</td>\n",
              "    </tr>\n",
              "    <tr>\n",
              "      <th>3</th>\n",
              "      <td>0</td>\n",
              "      <td>2016-12-19</td>\n",
              "      <td>12:48:08</td>\n",
              "      <td>8b4f9e0e95</td>\n",
              "      <td>66</td>\n",
              "      <td>nan</td>\n",
              "      <td>0</td>\n",
              "      <td>0</td>\n",
              "    </tr>\n",
              "    <tr>\n",
              "      <th>4</th>\n",
              "      <td>0</td>\n",
              "      <td>2016-12-19</td>\n",
              "      <td>13:31:08</td>\n",
              "      <td>7ad237eed0</td>\n",
              "      <td>24</td>\n",
              "      <td>nan</td>\n",
              "      <td>0</td>\n",
              "      <td>0</td>\n",
              "    </tr>\n",
              "  </tbody>\n",
              "</table>\n",
              "</div>"
            ],
            "text/plain": [
              "   store_id        date      time  ... installments  days_of_week  holyday\n",
              "0         0  2016-12-14  18:05:31  ...          nan             2        0\n",
              "1         0  2016-12-14  18:05:54  ...          nan             2        0\n",
              "2         0  2016-12-19  12:42:31  ...          nan             0        0\n",
              "3         0  2016-12-19  12:48:08  ...          nan             0        0\n",
              "4         0  2016-12-19  13:31:08  ...          nan             0        0\n",
              "\n",
              "[5 rows x 8 columns]"
            ]
          },
          "metadata": {
            "tags": []
          },
          "execution_count": 5
        }
      ]
    },
    {
      "cell_type": "code",
      "metadata": {
        "id": "6_vUhwL4eqrQ"
      },
      "source": [
        "def splite_date(date):\r\n",
        "  return date.split(\"-\")"
      ],
      "execution_count": 6,
      "outputs": []
    },
    {
      "cell_type": "code",
      "metadata": {
        "id": "oYAAIiloesc0"
      },
      "source": [
        "train['year'], train['month'], train['day'] = zip(*train['date'].apply(lambda x:splite_date(x)))"
      ],
      "execution_count": 7,
      "outputs": []
    },
    {
      "cell_type": "code",
      "metadata": {
        "colab": {
          "base_uri": "https://localhost:8080/"
        },
        "id": "8nZDVOoKeviT",
        "outputId": "d2c84f4f-751a-45ae-99c6-89d7777ee7ea"
      },
      "source": [
        "train['month'] = train['month'].astype(int) #무슨 차이일가 흠\r\n",
        "#이게 왜 필요할까?\r\n",
        "type(train['month'])"
      ],
      "execution_count": 8,
      "outputs": [
        {
          "output_type": "execute_result",
          "data": {
            "text/plain": [
              "pandas.core.series.Series"
            ]
          },
          "metadata": {
            "tags": []
          },
          "execution_count": 8
        }
      ]
    },
    {
      "cell_type": "code",
      "metadata": {
        "id": "Edio9S0cexGz"
      },
      "source": [
        "train=train.fillna(1)"
      ],
      "execution_count": 9,
      "outputs": []
    },
    {
      "cell_type": "code",
      "metadata": {
        "id": "zsygDXB0flJU"
      },
      "source": [
        "train['total_amount'] = train['amount'] * train['installments']"
      ],
      "execution_count": 10,
      "outputs": []
    },
    {
      "cell_type": "code",
      "metadata": {
        "colab": {
          "base_uri": "https://localhost:8080/",
          "height": 204
        },
        "id": "Go_aUXXpfpNs",
        "outputId": "69170d4c-1dc7-4ec2-fe2a-142320bd38d6"
      },
      "source": [
        "#dacon2랑 비교하려고 수정 안 함\r\n",
        "fifth = train[['store_id','card_id','days_of_week','holyday','year','month','day','total_amount']].groupby(['store_id','card_id'], as_index=False).sum()\r\n",
        "fifth.head()"
      ],
      "execution_count": 11,
      "outputs": [
        {
          "output_type": "execute_result",
          "data": {
            "text/html": [
              "<div>\n",
              "<style scoped>\n",
              "    .dataframe tbody tr th:only-of-type {\n",
              "        vertical-align: middle;\n",
              "    }\n",
              "\n",
              "    .dataframe tbody tr th {\n",
              "        vertical-align: top;\n",
              "    }\n",
              "\n",
              "    .dataframe thead th {\n",
              "        text-align: right;\n",
              "    }\n",
              "</style>\n",
              "<table border=\"1\" class=\"dataframe\">\n",
              "  <thead>\n",
              "    <tr style=\"text-align: right;\">\n",
              "      <th></th>\n",
              "      <th>store_id</th>\n",
              "      <th>card_id</th>\n",
              "      <th>days_of_week</th>\n",
              "      <th>holyday</th>\n",
              "      <th>month</th>\n",
              "      <th>total_amount</th>\n",
              "    </tr>\n",
              "  </thead>\n",
              "  <tbody>\n",
              "    <tr>\n",
              "      <th>0</th>\n",
              "      <td>0</td>\n",
              "      <td>000133a3c2</td>\n",
              "      <td>4</td>\n",
              "      <td>0</td>\n",
              "      <td>15</td>\n",
              "      <td>148.00</td>\n",
              "    </tr>\n",
              "    <tr>\n",
              "      <th>1</th>\n",
              "      <td>0</td>\n",
              "      <td>000744fa2e</td>\n",
              "      <td>5</td>\n",
              "      <td>0</td>\n",
              "      <td>9</td>\n",
              "      <td>55.00</td>\n",
              "    </tr>\n",
              "    <tr>\n",
              "      <th>2</th>\n",
              "      <td>0</td>\n",
              "      <td>000931da3a</td>\n",
              "      <td>0</td>\n",
              "      <td>0</td>\n",
              "      <td>11</td>\n",
              "      <td>38.00</td>\n",
              "    </tr>\n",
              "    <tr>\n",
              "      <th>3</th>\n",
              "      <td>0</td>\n",
              "      <td>0009529600</td>\n",
              "      <td>24</td>\n",
              "      <td>0</td>\n",
              "      <td>54</td>\n",
              "      <td>211.00</td>\n",
              "    </tr>\n",
              "    <tr>\n",
              "      <th>4</th>\n",
              "      <td>0</td>\n",
              "      <td>000abf87bd</td>\n",
              "      <td>38</td>\n",
              "      <td>1</td>\n",
              "      <td>76</td>\n",
              "      <td>3123.00</td>\n",
              "    </tr>\n",
              "  </tbody>\n",
              "</table>\n",
              "</div>"
            ],
            "text/plain": [
              "   store_id     card_id  days_of_week  holyday  month  total_amount\n",
              "0         0  000133a3c2             4        0     15        148.00\n",
              "1         0  000744fa2e             5        0      9         55.00\n",
              "2         0  000931da3a             0        0     11         38.00\n",
              "3         0  0009529600            24        0     54        211.00\n",
              "4         0  000abf87bd            38        1     76       3123.00"
            ]
          },
          "metadata": {
            "tags": []
          },
          "execution_count": 11
        }
      ]
    },
    {
      "cell_type": "markdown",
      "metadata": {
        "id": "CYxbK-gCnEMf"
      },
      "source": [
        "## 의문점"
      ]
    },
    {
      "cell_type": "code",
      "metadata": {
        "id": "MzqIlRLjmYlX"
      },
      "source": [
        "###################\r\n",
        "#store_id별 총액을 알고 싶은거지\r\n",
        "#cardid 구분이 왜 필요했는가? 그러게 왜 필요했지??\r\n",
        "#시간별 총액 변하는 추이를 알고 싶었으니깐, month 구분별도 필요함"
      ],
      "execution_count": 12,
      "outputs": []
    },
    {
      "cell_type": "code",
      "metadata": {
        "colab": {
          "base_uri": "https://localhost:8080/",
          "height": 204
        },
        "id": "yXxqNSAym4gU",
        "outputId": "271088db-731d-47e6-fb74-dd662abba024"
      },
      "source": [
        "#cardid구분이 있는 경우\r\n",
        "train_newgr=train[['store_id','card_id','days_of_week','holyday','year','month','day','total_amount']].groupby(['store_id','card_id','days_of_week','holyday','year','month','day'], as_index=False).sum()\r\n",
        "train_newgr.head()\r\n",
        "#fifth와 다른 점 : month day year 등이 합쳐지지 않음 -> 기대 : 월별 그래프 확인 가능"
      ],
      "execution_count": 13,
      "outputs": [
        {
          "output_type": "execute_result",
          "data": {
            "text/html": [
              "<div>\n",
              "<style scoped>\n",
              "    .dataframe tbody tr th:only-of-type {\n",
              "        vertical-align: middle;\n",
              "    }\n",
              "\n",
              "    .dataframe tbody tr th {\n",
              "        vertical-align: top;\n",
              "    }\n",
              "\n",
              "    .dataframe thead th {\n",
              "        text-align: right;\n",
              "    }\n",
              "</style>\n",
              "<table border=\"1\" class=\"dataframe\">\n",
              "  <thead>\n",
              "    <tr style=\"text-align: right;\">\n",
              "      <th></th>\n",
              "      <th>store_id</th>\n",
              "      <th>card_id</th>\n",
              "      <th>days_of_week</th>\n",
              "      <th>holyday</th>\n",
              "      <th>year</th>\n",
              "      <th>month</th>\n",
              "      <th>day</th>\n",
              "      <th>total_amount</th>\n",
              "    </tr>\n",
              "  </thead>\n",
              "  <tbody>\n",
              "    <tr>\n",
              "      <th>0</th>\n",
              "      <td>0</td>\n",
              "      <td>000133a3c2</td>\n",
              "      <td>1</td>\n",
              "      <td>0</td>\n",
              "      <td>2017</td>\n",
              "      <td>5</td>\n",
              "      <td>16</td>\n",
              "      <td>87.00</td>\n",
              "    </tr>\n",
              "    <tr>\n",
              "      <th>1</th>\n",
              "      <td>0</td>\n",
              "      <td>000133a3c2</td>\n",
              "      <td>2</td>\n",
              "      <td>0</td>\n",
              "      <td>2017</td>\n",
              "      <td>5</td>\n",
              "      <td>17</td>\n",
              "      <td>61.00</td>\n",
              "    </tr>\n",
              "    <tr>\n",
              "      <th>2</th>\n",
              "      <td>0</td>\n",
              "      <td>000744fa2e</td>\n",
              "      <td>5</td>\n",
              "      <td>0</td>\n",
              "      <td>2017</td>\n",
              "      <td>9</td>\n",
              "      <td>23</td>\n",
              "      <td>55.00</td>\n",
              "    </tr>\n",
              "    <tr>\n",
              "      <th>3</th>\n",
              "      <td>0</td>\n",
              "      <td>000931da3a</td>\n",
              "      <td>0</td>\n",
              "      <td>0</td>\n",
              "      <td>2017</td>\n",
              "      <td>11</td>\n",
              "      <td>06</td>\n",
              "      <td>38.00</td>\n",
              "    </tr>\n",
              "    <tr>\n",
              "      <th>4</th>\n",
              "      <td>0</td>\n",
              "      <td>0009529600</td>\n",
              "      <td>1</td>\n",
              "      <td>0</td>\n",
              "      <td>2017</td>\n",
              "      <td>9</td>\n",
              "      <td>05</td>\n",
              "      <td>38.00</td>\n",
              "    </tr>\n",
              "  </tbody>\n",
              "</table>\n",
              "</div>"
            ],
            "text/plain": [
              "   store_id     card_id  days_of_week  holyday  year  month day  total_amount\n",
              "0         0  000133a3c2             1        0  2017      5  16         87.00\n",
              "1         0  000133a3c2             2        0  2017      5  17         61.00\n",
              "2         0  000744fa2e             5        0  2017      9  23         55.00\n",
              "3         0  000931da3a             0        0  2017     11  06         38.00\n",
              "4         0  0009529600             1        0  2017      9  05         38.00"
            ]
          },
          "metadata": {
            "tags": []
          },
          "execution_count": 13
        }
      ]
    },
    {
      "cell_type": "code",
      "metadata": {
        "colab": {
          "base_uri": "https://localhost:8080/"
        },
        "id": "h91gaDa48wR3",
        "outputId": "617f08ad-4d04-46ab-fbe1-30542d7b83e9"
      },
      "source": [
        "train_newgr.shape #fifth와 유사한 데이터 : 행에서 차이가 있을 가능성 : 월별로도 그룹을 했기 때문에, store_id card_id 다음 가지가 또 있음 / 열 당연히 늘어남"
      ],
      "execution_count": 14,
      "outputs": [
        {
          "output_type": "execute_result",
          "data": {
            "text/plain": [
              "(3165601, 8)"
            ]
          },
          "metadata": {
            "tags": []
          },
          "execution_count": 14
        }
      ]
    },
    {
      "cell_type": "code",
      "metadata": {
        "colab": {
          "base_uri": "https://localhost:8080/"
        },
        "id": "-_Qz6g4y80u-",
        "outputId": "6402cb0e-91a9-47ba-8c30-6da9847b9591"
      },
      "source": [
        "train_newgr['total_amount'].describe()\r\n",
        "#train_newgr[train_newgr['total_amount'] >= 0]"
      ],
      "execution_count": 15,
      "outputs": [
        {
          "output_type": "execute_result",
          "data": {
            "text/plain": [
              "count   3165601.00\n",
              "mean        184.90\n",
              "std        2393.58\n",
              "min     -750000.00\n",
              "25%          35.00\n",
              "50%          80.00\n",
              "75%         155.00\n",
              "max     1198800.00\n",
              "Name: total_amount, dtype: float64"
            ]
          },
          "metadata": {
            "tags": []
          },
          "execution_count": 15
        }
      ]
    },
    {
      "cell_type": "code",
      "metadata": {
        "id": "dIaR-yrE-Yxt"
      },
      "source": [
        "#train_newgr[train_newgr['total_amount'] <0].value_counts()"
      ],
      "execution_count": 16,
      "outputs": []
    },
    {
      "cell_type": "code",
      "metadata": {
        "colab": {
          "base_uri": "https://localhost:8080/",
          "height": 204
        },
        "id": "oupdjSGV-202",
        "outputId": "f5bd4aaf-a729-4910-ca6c-33285c5142f4"
      },
      "source": [
        "newgr=train_newgr[train_newgr['total_amount'] >= 0]\r\n",
        "newgr.head()"
      ],
      "execution_count": 17,
      "outputs": [
        {
          "output_type": "execute_result",
          "data": {
            "text/html": [
              "<div>\n",
              "<style scoped>\n",
              "    .dataframe tbody tr th:only-of-type {\n",
              "        vertical-align: middle;\n",
              "    }\n",
              "\n",
              "    .dataframe tbody tr th {\n",
              "        vertical-align: top;\n",
              "    }\n",
              "\n",
              "    .dataframe thead th {\n",
              "        text-align: right;\n",
              "    }\n",
              "</style>\n",
              "<table border=\"1\" class=\"dataframe\">\n",
              "  <thead>\n",
              "    <tr style=\"text-align: right;\">\n",
              "      <th></th>\n",
              "      <th>store_id</th>\n",
              "      <th>card_id</th>\n",
              "      <th>days_of_week</th>\n",
              "      <th>holyday</th>\n",
              "      <th>year</th>\n",
              "      <th>month</th>\n",
              "      <th>day</th>\n",
              "      <th>total_amount</th>\n",
              "    </tr>\n",
              "  </thead>\n",
              "  <tbody>\n",
              "    <tr>\n",
              "      <th>0</th>\n",
              "      <td>0</td>\n",
              "      <td>000133a3c2</td>\n",
              "      <td>1</td>\n",
              "      <td>0</td>\n",
              "      <td>2017</td>\n",
              "      <td>5</td>\n",
              "      <td>16</td>\n",
              "      <td>87.00</td>\n",
              "    </tr>\n",
              "    <tr>\n",
              "      <th>1</th>\n",
              "      <td>0</td>\n",
              "      <td>000133a3c2</td>\n",
              "      <td>2</td>\n",
              "      <td>0</td>\n",
              "      <td>2017</td>\n",
              "      <td>5</td>\n",
              "      <td>17</td>\n",
              "      <td>61.00</td>\n",
              "    </tr>\n",
              "    <tr>\n",
              "      <th>2</th>\n",
              "      <td>0</td>\n",
              "      <td>000744fa2e</td>\n",
              "      <td>5</td>\n",
              "      <td>0</td>\n",
              "      <td>2017</td>\n",
              "      <td>9</td>\n",
              "      <td>23</td>\n",
              "      <td>55.00</td>\n",
              "    </tr>\n",
              "    <tr>\n",
              "      <th>3</th>\n",
              "      <td>0</td>\n",
              "      <td>000931da3a</td>\n",
              "      <td>0</td>\n",
              "      <td>0</td>\n",
              "      <td>2017</td>\n",
              "      <td>11</td>\n",
              "      <td>06</td>\n",
              "      <td>38.00</td>\n",
              "    </tr>\n",
              "    <tr>\n",
              "      <th>4</th>\n",
              "      <td>0</td>\n",
              "      <td>0009529600</td>\n",
              "      <td>1</td>\n",
              "      <td>0</td>\n",
              "      <td>2017</td>\n",
              "      <td>9</td>\n",
              "      <td>05</td>\n",
              "      <td>38.00</td>\n",
              "    </tr>\n",
              "  </tbody>\n",
              "</table>\n",
              "</div>"
            ],
            "text/plain": [
              "   store_id     card_id  days_of_week  holyday  year  month day  total_amount\n",
              "0         0  000133a3c2             1        0  2017      5  16         87.00\n",
              "1         0  000133a3c2             2        0  2017      5  17         61.00\n",
              "2         0  000744fa2e             5        0  2017      9  23         55.00\n",
              "3         0  000931da3a             0        0  2017     11  06         38.00\n",
              "4         0  0009529600             1        0  2017      9  05         38.00"
            ]
          },
          "metadata": {
            "tags": []
          },
          "execution_count": 17
        }
      ]
    },
    {
      "cell_type": "code",
      "metadata": {
        "colab": {
          "base_uri": "https://localhost:8080/"
        },
        "id": "AP0cH_LF_4Re",
        "outputId": "9566deba-8802-4109-9c3e-1fea2b5f2809"
      },
      "source": [
        "newgr.shape #역시 train1과 행 같을 수 없음"
      ],
      "execution_count": 18,
      "outputs": [
        {
          "output_type": "execute_result",
          "data": {
            "text/plain": [
              "(3163741, 8)"
            ]
          },
          "metadata": {
            "tags": []
          },
          "execution_count": 18
        }
      ]
    },
    {
      "cell_type": "code",
      "metadata": {
        "colab": {
          "base_uri": "https://localhost:8080/"
        },
        "id": "pHeJY0md_9fJ",
        "outputId": "5bab05e4-e147-4b28-dfe9-2083a0c7d07f"
      },
      "source": [
        "newgr['total_amount'].value_counts()"
      ],
      "execution_count": 19,
      "outputs": [
        {
          "output_type": "execute_result",
          "data": {
            "text/plain": [
              "30.00      74841\n",
              "35.00      68807\n",
              "40.00      63663\n",
              "80.00      62408\n",
              "22.00      61651\n",
              "           ...  \n",
              "4923.00        1\n",
              "4915.00        1\n",
              "4912.00        1\n",
              "4910.00        1\n",
              "4311.00        1\n",
              "Name: total_amount, Length: 5696, dtype: int64"
            ]
          },
          "metadata": {
            "tags": []
          },
          "execution_count": 19
        }
      ]
    },
    {
      "cell_type": "code",
      "metadata": {
        "colab": {
          "base_uri": "https://localhost:8080/"
        },
        "id": "c9yPDFuBANss",
        "outputId": "a8775f8d-f630-449f-d5c9-1804c94c05be"
      },
      "source": [
        "newgr['total_amount'].describe()"
      ],
      "execution_count": 20,
      "outputs": [
        {
          "output_type": "execute_result",
          "data": {
            "text/plain": [
              "count   3163741.00\n",
              "mean        188.54\n",
              "std        2159.01\n",
              "min           0.00\n",
              "25%          35.00\n",
              "50%          80.00\n",
              "75%         156.00\n",
              "max     1198800.00\n",
              "Name: total_amount, dtype: float64"
            ]
          },
          "metadata": {
            "tags": []
          },
          "execution_count": 20
        }
      ]
    },
    {
      "cell_type": "markdown",
      "metadata": {
        "id": "bx7OfFLnnLsT"
      },
      "source": [
        "## 월간 평균"
      ]
    },
    {
      "cell_type": "code",
      "metadata": {
        "colab": {
          "base_uri": "https://localhost:8080/",
          "height": 204
        },
        "id": "kfOhN86dATjJ",
        "outputId": "8e68021b-0abc-4b57-b0b0-96441f6f66e7"
      },
      "source": [
        "#storeid별 월별 매출액 평균\r\n",
        "monthly_storeid=newgr[['store_id','month','total_amount']].groupby(['store_id','month'], as_index=False).mean()\r\n",
        "monthly_storeid.head()"
      ],
      "execution_count": 21,
      "outputs": [
        {
          "output_type": "execute_result",
          "data": {
            "text/html": [
              "<div>\n",
              "<style scoped>\n",
              "    .dataframe tbody tr th:only-of-type {\n",
              "        vertical-align: middle;\n",
              "    }\n",
              "\n",
              "    .dataframe tbody tr th {\n",
              "        vertical-align: top;\n",
              "    }\n",
              "\n",
              "    .dataframe thead th {\n",
              "        text-align: right;\n",
              "    }\n",
              "</style>\n",
              "<table border=\"1\" class=\"dataframe\">\n",
              "  <thead>\n",
              "    <tr style=\"text-align: right;\">\n",
              "      <th></th>\n",
              "      <th>store_id</th>\n",
              "      <th>month</th>\n",
              "      <th>total_amount</th>\n",
              "    </tr>\n",
              "  </thead>\n",
              "  <tbody>\n",
              "    <tr>\n",
              "      <th>0</th>\n",
              "      <td>0</td>\n",
              "      <td>1</td>\n",
              "      <td>95.70</td>\n",
              "    </tr>\n",
              "    <tr>\n",
              "      <th>1</th>\n",
              "      <td>0</td>\n",
              "      <td>2</td>\n",
              "      <td>89.79</td>\n",
              "    </tr>\n",
              "    <tr>\n",
              "      <th>2</th>\n",
              "      <td>0</td>\n",
              "      <td>3</td>\n",
              "      <td>84.37</td>\n",
              "    </tr>\n",
              "    <tr>\n",
              "      <th>3</th>\n",
              "      <td>0</td>\n",
              "      <td>4</td>\n",
              "      <td>88.81</td>\n",
              "    </tr>\n",
              "    <tr>\n",
              "      <th>4</th>\n",
              "      <td>0</td>\n",
              "      <td>5</td>\n",
              "      <td>84.58</td>\n",
              "    </tr>\n",
              "  </tbody>\n",
              "</table>\n",
              "</div>"
            ],
            "text/plain": [
              "   store_id  month  total_amount\n",
              "0         0      1         95.70\n",
              "1         0      2         89.79\n",
              "2         0      3         84.37\n",
              "3         0      4         88.81\n",
              "4         0      5         84.58"
            ]
          },
          "metadata": {
            "tags": []
          },
          "execution_count": 21
        }
      ]
    },
    {
      "cell_type": "code",
      "metadata": {
        "colab": {
          "base_uri": "https://localhost:8080/"
        },
        "id": "lpxlIMhQCIkm",
        "outputId": "67f2a4b0-7b3e-4f18-b021-e91f4c3b697d"
      },
      "source": [
        "monthly_storeid['total_amount'].describe() #stordid별 월간 평균"
      ],
      "execution_count": 22,
      "outputs": [
        {
          "output_type": "execute_result",
          "data": {
            "text/plain": [
              "count    17242.00\n",
              "mean      1456.89\n",
              "std       9211.33\n",
              "min          0.00\n",
              "25%        105.11\n",
              "50%        201.40\n",
              "75%        563.81\n",
              "max     453319.33\n",
              "Name: total_amount, dtype: float64"
            ]
          },
          "metadata": {
            "tags": []
          },
          "execution_count": 22
        }
      ]
    },
    {
      "cell_type": "code",
      "metadata": {
        "colab": {
          "base_uri": "https://localhost:8080/",
          "height": 204
        },
        "id": "6DsdVJNiB7C4",
        "outputId": "94ada4ec-41ff-4693-c666-3d6449e6f3c8"
      },
      "source": [
        "#라벨링 (75%이하 값 0)\r\n",
        "#75%이상 값 1\r\n",
        "monthly_storeid['label'] = [1 if a > 563.81 else 0 for a in monthly_storeid['total_amount']]\r\n",
        "monthly_storeid.head()"
      ],
      "execution_count": 23,
      "outputs": [
        {
          "output_type": "execute_result",
          "data": {
            "text/html": [
              "<div>\n",
              "<style scoped>\n",
              "    .dataframe tbody tr th:only-of-type {\n",
              "        vertical-align: middle;\n",
              "    }\n",
              "\n",
              "    .dataframe tbody tr th {\n",
              "        vertical-align: top;\n",
              "    }\n",
              "\n",
              "    .dataframe thead th {\n",
              "        text-align: right;\n",
              "    }\n",
              "</style>\n",
              "<table border=\"1\" class=\"dataframe\">\n",
              "  <thead>\n",
              "    <tr style=\"text-align: right;\">\n",
              "      <th></th>\n",
              "      <th>store_id</th>\n",
              "      <th>month</th>\n",
              "      <th>total_amount</th>\n",
              "      <th>label</th>\n",
              "    </tr>\n",
              "  </thead>\n",
              "  <tbody>\n",
              "    <tr>\n",
              "      <th>0</th>\n",
              "      <td>0</td>\n",
              "      <td>1</td>\n",
              "      <td>95.70</td>\n",
              "      <td>0</td>\n",
              "    </tr>\n",
              "    <tr>\n",
              "      <th>1</th>\n",
              "      <td>0</td>\n",
              "      <td>2</td>\n",
              "      <td>89.79</td>\n",
              "      <td>0</td>\n",
              "    </tr>\n",
              "    <tr>\n",
              "      <th>2</th>\n",
              "      <td>0</td>\n",
              "      <td>3</td>\n",
              "      <td>84.37</td>\n",
              "      <td>0</td>\n",
              "    </tr>\n",
              "    <tr>\n",
              "      <th>3</th>\n",
              "      <td>0</td>\n",
              "      <td>4</td>\n",
              "      <td>88.81</td>\n",
              "      <td>0</td>\n",
              "    </tr>\n",
              "    <tr>\n",
              "      <th>4</th>\n",
              "      <td>0</td>\n",
              "      <td>5</td>\n",
              "      <td>84.58</td>\n",
              "      <td>0</td>\n",
              "    </tr>\n",
              "  </tbody>\n",
              "</table>\n",
              "</div>"
            ],
            "text/plain": [
              "   store_id  month  total_amount  label\n",
              "0         0      1         95.70      0\n",
              "1         0      2         89.79      0\n",
              "2         0      3         84.37      0\n",
              "3         0      4         88.81      0\n",
              "4         0      5         84.58      0"
            ]
          },
          "metadata": {
            "tags": []
          },
          "execution_count": 23
        }
      ]
    },
    {
      "cell_type": "code",
      "metadata": {
        "id": "SW4X1_wkA7mA"
      },
      "source": [
        "#시각화하면 되나요?"
      ],
      "execution_count": 24,
      "outputs": []
    },
    {
      "cell_type": "code",
      "metadata": {
        "id": "Wnpii3PVnI-e"
      },
      "source": [
        "#가끔 알 수 없는 마이너스 값때문에 시간을 제외햇는데, 시간을 제외하면 시간별 자료 추이를 못 보니깐 아무튼 이렇게 하는게 맞는거고\r\n",
        "#6월까지 구매한 것들을 7월에 환불한 경우를 제외할 순 없게 되었는데 이걸 생각 속에서 지워야할까?"
      ],
      "execution_count": 25,
      "outputs": []
    },
    {
      "cell_type": "code",
      "metadata": {
        "colab": {
          "base_uri": "https://localhost:8080/",
          "height": 204
        },
        "id": "TXpj5mcKoFbO",
        "outputId": "65114245-7b9c-4dd0-eb74-ea5d7e316d35"
      },
      "source": [
        "#month별\r\n",
        "train2222 = train1[['store_id','month','total_amount']].groupby(['store_id','month'], as_index=False).mean()\r\n",
        "train2222.head()"
      ],
      "execution_count": 29,
      "outputs": [
        {
          "output_type": "execute_result",
          "data": {
            "text/html": [
              "<div>\n",
              "<style scoped>\n",
              "    .dataframe tbody tr th:only-of-type {\n",
              "        vertical-align: middle;\n",
              "    }\n",
              "\n",
              "    .dataframe tbody tr th {\n",
              "        vertical-align: top;\n",
              "    }\n",
              "\n",
              "    .dataframe thead th {\n",
              "        text-align: right;\n",
              "    }\n",
              "</style>\n",
              "<table border=\"1\" class=\"dataframe\">\n",
              "  <thead>\n",
              "    <tr style=\"text-align: right;\">\n",
              "      <th></th>\n",
              "      <th>store_id</th>\n",
              "      <th>month</th>\n",
              "      <th>total_amount</th>\n",
              "    </tr>\n",
              "  </thead>\n",
              "  <tbody>\n",
              "    <tr>\n",
              "      <th>0</th>\n",
              "      <td>0</td>\n",
              "      <td>1</td>\n",
              "      <td>93.93</td>\n",
              "    </tr>\n",
              "    <tr>\n",
              "      <th>1</th>\n",
              "      <td>0</td>\n",
              "      <td>2</td>\n",
              "      <td>93.88</td>\n",
              "    </tr>\n",
              "    <tr>\n",
              "      <th>2</th>\n",
              "      <td>0</td>\n",
              "      <td>3</td>\n",
              "      <td>87.95</td>\n",
              "    </tr>\n",
              "    <tr>\n",
              "      <th>3</th>\n",
              "      <td>0</td>\n",
              "      <td>4</td>\n",
              "      <td>95.46</td>\n",
              "    </tr>\n",
              "    <tr>\n",
              "      <th>4</th>\n",
              "      <td>0</td>\n",
              "      <td>5</td>\n",
              "      <td>100.11</td>\n",
              "    </tr>\n",
              "  </tbody>\n",
              "</table>\n",
              "</div>"
            ],
            "text/plain": [
              "   store_id  month  total_amount\n",
              "0         0      1         93.93\n",
              "1         0      2         93.88\n",
              "2         0      3         87.95\n",
              "3         0      4         95.46\n",
              "4         0      5        100.11"
            ]
          },
          "metadata": {
            "tags": []
          },
          "execution_count": 29
        }
      ]
    },
    {
      "cell_type": "markdown",
      "metadata": {
        "id": "kZT3xxOMA_Yq"
      },
      "source": [
        "## ----"
      ]
    },
    {
      "cell_type": "code",
      "metadata": {
        "colab": {
          "base_uri": "https://localhost:8080/",
          "height": 204
        },
        "id": "Plm5-sVTfsYJ",
        "outputId": "5b8f8c96-a2f5-40e3-94fe-62cfc100df3d"
      },
      "source": [
        "train1 = fifth[fifth['total_amount'] >= 0]\r\n",
        "train1.head()"
      ],
      "execution_count": 26,
      "outputs": [
        {
          "output_type": "execute_result",
          "data": {
            "text/html": [
              "<div>\n",
              "<style scoped>\n",
              "    .dataframe tbody tr th:only-of-type {\n",
              "        vertical-align: middle;\n",
              "    }\n",
              "\n",
              "    .dataframe tbody tr th {\n",
              "        vertical-align: top;\n",
              "    }\n",
              "\n",
              "    .dataframe thead th {\n",
              "        text-align: right;\n",
              "    }\n",
              "</style>\n",
              "<table border=\"1\" class=\"dataframe\">\n",
              "  <thead>\n",
              "    <tr style=\"text-align: right;\">\n",
              "      <th></th>\n",
              "      <th>store_id</th>\n",
              "      <th>card_id</th>\n",
              "      <th>days_of_week</th>\n",
              "      <th>holyday</th>\n",
              "      <th>month</th>\n",
              "      <th>total_amount</th>\n",
              "    </tr>\n",
              "  </thead>\n",
              "  <tbody>\n",
              "    <tr>\n",
              "      <th>0</th>\n",
              "      <td>0</td>\n",
              "      <td>000133a3c2</td>\n",
              "      <td>4</td>\n",
              "      <td>0</td>\n",
              "      <td>15</td>\n",
              "      <td>148.00</td>\n",
              "    </tr>\n",
              "    <tr>\n",
              "      <th>1</th>\n",
              "      <td>0</td>\n",
              "      <td>000744fa2e</td>\n",
              "      <td>5</td>\n",
              "      <td>0</td>\n",
              "      <td>9</td>\n",
              "      <td>55.00</td>\n",
              "    </tr>\n",
              "    <tr>\n",
              "      <th>2</th>\n",
              "      <td>0</td>\n",
              "      <td>000931da3a</td>\n",
              "      <td>0</td>\n",
              "      <td>0</td>\n",
              "      <td>11</td>\n",
              "      <td>38.00</td>\n",
              "    </tr>\n",
              "    <tr>\n",
              "      <th>3</th>\n",
              "      <td>0</td>\n",
              "      <td>0009529600</td>\n",
              "      <td>24</td>\n",
              "      <td>0</td>\n",
              "      <td>54</td>\n",
              "      <td>211.00</td>\n",
              "    </tr>\n",
              "    <tr>\n",
              "      <th>4</th>\n",
              "      <td>0</td>\n",
              "      <td>000abf87bd</td>\n",
              "      <td>38</td>\n",
              "      <td>1</td>\n",
              "      <td>76</td>\n",
              "      <td>3123.00</td>\n",
              "    </tr>\n",
              "  </tbody>\n",
              "</table>\n",
              "</div>"
            ],
            "text/plain": [
              "   store_id     card_id  days_of_week  holyday  month  total_amount\n",
              "0         0  000133a3c2             4        0     15        148.00\n",
              "1         0  000744fa2e             5        0      9         55.00\n",
              "2         0  000931da3a             0        0     11         38.00\n",
              "3         0  0009529600            24        0     54        211.00\n",
              "4         0  000abf87bd            38        1     76       3123.00"
            ]
          },
          "metadata": {
            "tags": []
          },
          "execution_count": 26
        }
      ]
    },
    {
      "cell_type": "code",
      "metadata": {
        "colab": {
          "base_uri": "https://localhost:8080/"
        },
        "id": "EuiHNqk9fs4N",
        "outputId": "7a8d1c40-fe3f-4f75-eeeb-97ec3d611a34"
      },
      "source": [
        "train1['total_amount'].describe()"
      ],
      "execution_count": 27,
      "outputs": [
        {
          "output_type": "execute_result",
          "data": {
            "text/plain": [
              "count   1797861.00\n",
              "mean        325.58\n",
              "std        4218.53\n",
              "min           0.00\n",
              "25%          60.00\n",
              "50%         119.00\n",
              "75%         240.00\n",
              "max     1671700.00\n",
              "Name: total_amount, dtype: float64"
            ]
          },
          "metadata": {
            "tags": []
          },
          "execution_count": 27
        }
      ]
    },
    {
      "cell_type": "markdown",
      "metadata": {
        "id": "iDw0VWhGjUSV"
      },
      "source": [
        "## train2 : storeid별 매출액 평균"
      ]
    },
    {
      "cell_type": "code",
      "metadata": {
        "colab": {
          "base_uri": "https://localhost:8080/",
          "height": 204
        },
        "id": "syoWLipQfwCW",
        "outputId": "df8d5ea9-0199-40c6-e010-50338a5d0282"
      },
      "source": [
        "train2 = train1[['store_id','total_amount']].groupby(['store_id'], as_index=False).mean()\r\n",
        "train2.head()"
      ],
      "execution_count": 28,
      "outputs": [
        {
          "output_type": "execute_result",
          "data": {
            "text/html": [
              "<div>\n",
              "<style scoped>\n",
              "    .dataframe tbody tr th:only-of-type {\n",
              "        vertical-align: middle;\n",
              "    }\n",
              "\n",
              "    .dataframe tbody tr th {\n",
              "        vertical-align: top;\n",
              "    }\n",
              "\n",
              "    .dataframe thead th {\n",
              "        text-align: right;\n",
              "    }\n",
              "</style>\n",
              "<table border=\"1\" class=\"dataframe\">\n",
              "  <thead>\n",
              "    <tr style=\"text-align: right;\">\n",
              "      <th></th>\n",
              "      <th>store_id</th>\n",
              "      <th>total_amount</th>\n",
              "    </tr>\n",
              "  </thead>\n",
              "  <tbody>\n",
              "    <tr>\n",
              "      <th>0</th>\n",
              "      <td>0</td>\n",
              "      <td>427.86</td>\n",
              "    </tr>\n",
              "    <tr>\n",
              "      <th>1</th>\n",
              "      <td>1</td>\n",
              "      <td>94556.25</td>\n",
              "    </tr>\n",
              "    <tr>\n",
              "      <th>2</th>\n",
              "      <td>2</td>\n",
              "      <td>178.40</td>\n",
              "    </tr>\n",
              "    <tr>\n",
              "      <th>3</th>\n",
              "      <td>3</td>\n",
              "      <td>273.14</td>\n",
              "    </tr>\n",
              "    <tr>\n",
              "      <th>4</th>\n",
              "      <td>4</td>\n",
              "      <td>229.86</td>\n",
              "    </tr>\n",
              "  </tbody>\n",
              "</table>\n",
              "</div>"
            ],
            "text/plain": [
              "   store_id  total_amount\n",
              "0         0        427.86\n",
              "1         1      94556.25\n",
              "2         2        178.40\n",
              "3         3        273.14\n",
              "4         4        229.86"
            ]
          },
          "metadata": {
            "tags": []
          },
          "execution_count": 28
        }
      ]
    },
    {
      "cell_type": "code",
      "metadata": {
        "colab": {
          "base_uri": "https://localhost:8080/",
          "height": 204
        },
        "id": "SBXkIL7vgNRm",
        "outputId": "0d214590-d8b8-4772-b902-31bc87652d5a"
      },
      "source": [
        "under_train2 = train2[train2['total_amount'] <= 1064.59] #75%위치값\r\n",
        "under_train2.head()"
      ],
      "execution_count": 30,
      "outputs": [
        {
          "output_type": "execute_result",
          "data": {
            "text/html": [
              "<div>\n",
              "<style scoped>\n",
              "    .dataframe tbody tr th:only-of-type {\n",
              "        vertical-align: middle;\n",
              "    }\n",
              "\n",
              "    .dataframe tbody tr th {\n",
              "        vertical-align: top;\n",
              "    }\n",
              "\n",
              "    .dataframe thead th {\n",
              "        text-align: right;\n",
              "    }\n",
              "</style>\n",
              "<table border=\"1\" class=\"dataframe\">\n",
              "  <thead>\n",
              "    <tr style=\"text-align: right;\">\n",
              "      <th></th>\n",
              "      <th>store_id</th>\n",
              "      <th>total_amount</th>\n",
              "    </tr>\n",
              "  </thead>\n",
              "  <tbody>\n",
              "    <tr>\n",
              "      <th>0</th>\n",
              "      <td>0</td>\n",
              "      <td>427.86</td>\n",
              "    </tr>\n",
              "    <tr>\n",
              "      <th>2</th>\n",
              "      <td>2</td>\n",
              "      <td>178.40</td>\n",
              "    </tr>\n",
              "    <tr>\n",
              "      <th>3</th>\n",
              "      <td>3</td>\n",
              "      <td>273.14</td>\n",
              "    </tr>\n",
              "    <tr>\n",
              "      <th>4</th>\n",
              "      <td>4</td>\n",
              "      <td>229.86</td>\n",
              "    </tr>\n",
              "    <tr>\n",
              "      <th>6</th>\n",
              "      <td>6</td>\n",
              "      <td>743.87</td>\n",
              "    </tr>\n",
              "  </tbody>\n",
              "</table>\n",
              "</div>"
            ],
            "text/plain": [
              "   store_id  total_amount\n",
              "0         0        427.86\n",
              "2         2        178.40\n",
              "3         3        273.14\n",
              "4         4        229.86\n",
              "6         6        743.87"
            ]
          },
          "metadata": {
            "tags": []
          },
          "execution_count": 30
        }
      ]
    },
    {
      "cell_type": "code",
      "metadata": {
        "colab": {
          "base_uri": "https://localhost:8080/",
          "height": 204
        },
        "id": "BX8GKDiogPYT",
        "outputId": "1366270f-ee90-4ba4-df40-cf9c90353c6a"
      },
      "source": [
        "over_train2 = train2[train2['total_amount'] > 1064.59]\r\n",
        "over_train2.head()"
      ],
      "execution_count": 31,
      "outputs": [
        {
          "output_type": "execute_result",
          "data": {
            "text/html": [
              "<div>\n",
              "<style scoped>\n",
              "    .dataframe tbody tr th:only-of-type {\n",
              "        vertical-align: middle;\n",
              "    }\n",
              "\n",
              "    .dataframe tbody tr th {\n",
              "        vertical-align: top;\n",
              "    }\n",
              "\n",
              "    .dataframe thead th {\n",
              "        text-align: right;\n",
              "    }\n",
              "</style>\n",
              "<table border=\"1\" class=\"dataframe\">\n",
              "  <thead>\n",
              "    <tr style=\"text-align: right;\">\n",
              "      <th></th>\n",
              "      <th>store_id</th>\n",
              "      <th>total_amount</th>\n",
              "    </tr>\n",
              "  </thead>\n",
              "  <tbody>\n",
              "    <tr>\n",
              "      <th>1</th>\n",
              "      <td>1</td>\n",
              "      <td>94556.25</td>\n",
              "    </tr>\n",
              "    <tr>\n",
              "      <th>5</th>\n",
              "      <td>5</td>\n",
              "      <td>3009.67</td>\n",
              "    </tr>\n",
              "    <tr>\n",
              "      <th>7</th>\n",
              "      <td>7</td>\n",
              "      <td>1479.86</td>\n",
              "    </tr>\n",
              "    <tr>\n",
              "      <th>9</th>\n",
              "      <td>9</td>\n",
              "      <td>13531.11</td>\n",
              "    </tr>\n",
              "    <tr>\n",
              "      <th>10</th>\n",
              "      <td>10</td>\n",
              "      <td>1301.43</td>\n",
              "    </tr>\n",
              "  </tbody>\n",
              "</table>\n",
              "</div>"
            ],
            "text/plain": [
              "    store_id  total_amount\n",
              "1          1      94556.25\n",
              "5          5       3009.67\n",
              "7          7       1479.86\n",
              "9          9      13531.11\n",
              "10        10       1301.43"
            ]
          },
          "metadata": {
            "tags": []
          },
          "execution_count": 31
        }
      ]
    },
    {
      "cell_type": "code",
      "metadata": {
        "colab": {
          "base_uri": "https://localhost:8080/",
          "height": 204
        },
        "id": "221PfMKkhUD4",
        "outputId": "1f86dfa8-e0bf-4b3c-c085-eccc30c01c6f"
      },
      "source": [
        "train2['group'] = [1 if a > 1064.59 else 0 for a in train2['total_amount']]\r\n",
        "train2.head()"
      ],
      "execution_count": 32,
      "outputs": [
        {
          "output_type": "execute_result",
          "data": {
            "text/html": [
              "<div>\n",
              "<style scoped>\n",
              "    .dataframe tbody tr th:only-of-type {\n",
              "        vertical-align: middle;\n",
              "    }\n",
              "\n",
              "    .dataframe tbody tr th {\n",
              "        vertical-align: top;\n",
              "    }\n",
              "\n",
              "    .dataframe thead th {\n",
              "        text-align: right;\n",
              "    }\n",
              "</style>\n",
              "<table border=\"1\" class=\"dataframe\">\n",
              "  <thead>\n",
              "    <tr style=\"text-align: right;\">\n",
              "      <th></th>\n",
              "      <th>store_id</th>\n",
              "      <th>total_amount</th>\n",
              "      <th>group</th>\n",
              "    </tr>\n",
              "  </thead>\n",
              "  <tbody>\n",
              "    <tr>\n",
              "      <th>0</th>\n",
              "      <td>0</td>\n",
              "      <td>427.86</td>\n",
              "      <td>0</td>\n",
              "    </tr>\n",
              "    <tr>\n",
              "      <th>1</th>\n",
              "      <td>1</td>\n",
              "      <td>94556.25</td>\n",
              "      <td>1</td>\n",
              "    </tr>\n",
              "    <tr>\n",
              "      <th>2</th>\n",
              "      <td>2</td>\n",
              "      <td>178.40</td>\n",
              "      <td>0</td>\n",
              "    </tr>\n",
              "    <tr>\n",
              "      <th>3</th>\n",
              "      <td>3</td>\n",
              "      <td>273.14</td>\n",
              "      <td>0</td>\n",
              "    </tr>\n",
              "    <tr>\n",
              "      <th>4</th>\n",
              "      <td>4</td>\n",
              "      <td>229.86</td>\n",
              "      <td>0</td>\n",
              "    </tr>\n",
              "  </tbody>\n",
              "</table>\n",
              "</div>"
            ],
            "text/plain": [
              "   store_id  total_amount  group\n",
              "0         0        427.86      0\n",
              "1         1      94556.25      1\n",
              "2         2        178.40      0\n",
              "3         3        273.14      0\n",
              "4         4        229.86      0"
            ]
          },
          "metadata": {
            "tags": []
          },
          "execution_count": 32
        }
      ]
    },
    {
      "cell_type": "markdown",
      "metadata": {
        "id": "ZbtvMYwepDke"
      },
      "source": [
        "## 1. 총 매출액 평균 기준 0 1 group\r\n",
        "2. 월간 평균 매출액 기준 0 1 group\r\n",
        "3. 계절평 평균 매출액 기준 0 1 group"
      ]
    },
    {
      "cell_type": "code",
      "metadata": {
        "colab": {
          "base_uri": "https://localhost:8080/",
          "height": 204
        },
        "id": "dOxmieS7pQDe",
        "outputId": "48a6ddc4-09bc-42f6-874f-d728d6c112b6"
      },
      "source": [
        "#맞는지 모르겠지만 일단 합시다\r\n",
        "train2.head()\r\n",
        "#print(train2.shape)"
      ],
      "execution_count": 43,
      "outputs": [
        {
          "output_type": "execute_result",
          "data": {
            "text/html": [
              "<div>\n",
              "<style scoped>\n",
              "    .dataframe tbody tr th:only-of-type {\n",
              "        vertical-align: middle;\n",
              "    }\n",
              "\n",
              "    .dataframe tbody tr th {\n",
              "        vertical-align: top;\n",
              "    }\n",
              "\n",
              "    .dataframe thead th {\n",
              "        text-align: right;\n",
              "    }\n",
              "</style>\n",
              "<table border=\"1\" class=\"dataframe\">\n",
              "  <thead>\n",
              "    <tr style=\"text-align: right;\">\n",
              "      <th></th>\n",
              "      <th>store_id</th>\n",
              "      <th>total_amount</th>\n",
              "      <th>group</th>\n",
              "    </tr>\n",
              "  </thead>\n",
              "  <tbody>\n",
              "    <tr>\n",
              "      <th>0</th>\n",
              "      <td>0</td>\n",
              "      <td>427.86</td>\n",
              "      <td>0</td>\n",
              "    </tr>\n",
              "    <tr>\n",
              "      <th>1</th>\n",
              "      <td>1</td>\n",
              "      <td>94556.25</td>\n",
              "      <td>1</td>\n",
              "    </tr>\n",
              "    <tr>\n",
              "      <th>2</th>\n",
              "      <td>2</td>\n",
              "      <td>178.40</td>\n",
              "      <td>0</td>\n",
              "    </tr>\n",
              "    <tr>\n",
              "      <th>3</th>\n",
              "      <td>3</td>\n",
              "      <td>273.14</td>\n",
              "      <td>0</td>\n",
              "    </tr>\n",
              "    <tr>\n",
              "      <th>4</th>\n",
              "      <td>4</td>\n",
              "      <td>229.86</td>\n",
              "      <td>0</td>\n",
              "    </tr>\n",
              "  </tbody>\n",
              "</table>\n",
              "</div>"
            ],
            "text/plain": [
              "   store_id  total_amount  group\n",
              "0         0        427.86      0\n",
              "1         1      94556.25      1\n",
              "2         2        178.40      0\n",
              "3         3        273.14      0\n",
              "4         4        229.86      0"
            ]
          },
          "metadata": {
            "tags": []
          },
          "execution_count": 43
        }
      ]
    },
    {
      "cell_type": "code",
      "metadata": {
        "id": "P7U8-VZgpfnn"
      },
      "source": [
        "#매출액을 기준으로 75%위치한 값을 나눴는데 그 store 개수가 얼마인지 확인하면 좋겠군"
      ],
      "execution_count": null,
      "outputs": []
    },
    {
      "cell_type": "markdown",
      "metadata": {
        "id": "yXlqyHARp5up"
      },
      "source": [
        "## 2. 월간 평균 매출액 기준 0 1 label"
      ]
    },
    {
      "cell_type": "code",
      "metadata": {
        "colab": {
          "base_uri": "https://localhost:8080/",
          "height": 204
        },
        "id": "gSOof2X1p_CS",
        "outputId": "46f94285-de0f-438f-dd73-1534b38e4c25"
      },
      "source": [
        "monthly_storeid.head()"
      ],
      "execution_count": 44,
      "outputs": [
        {
          "output_type": "execute_result",
          "data": {
            "text/html": [
              "<div>\n",
              "<style scoped>\n",
              "    .dataframe tbody tr th:only-of-type {\n",
              "        vertical-align: middle;\n",
              "    }\n",
              "\n",
              "    .dataframe tbody tr th {\n",
              "        vertical-align: top;\n",
              "    }\n",
              "\n",
              "    .dataframe thead th {\n",
              "        text-align: right;\n",
              "    }\n",
              "</style>\n",
              "<table border=\"1\" class=\"dataframe\">\n",
              "  <thead>\n",
              "    <tr style=\"text-align: right;\">\n",
              "      <th></th>\n",
              "      <th>store_id</th>\n",
              "      <th>month</th>\n",
              "      <th>total_amount</th>\n",
              "      <th>label</th>\n",
              "    </tr>\n",
              "  </thead>\n",
              "  <tbody>\n",
              "    <tr>\n",
              "      <th>0</th>\n",
              "      <td>0</td>\n",
              "      <td>1</td>\n",
              "      <td>95.70</td>\n",
              "      <td>0</td>\n",
              "    </tr>\n",
              "    <tr>\n",
              "      <th>1</th>\n",
              "      <td>0</td>\n",
              "      <td>2</td>\n",
              "      <td>89.79</td>\n",
              "      <td>0</td>\n",
              "    </tr>\n",
              "    <tr>\n",
              "      <th>2</th>\n",
              "      <td>0</td>\n",
              "      <td>3</td>\n",
              "      <td>84.37</td>\n",
              "      <td>0</td>\n",
              "    </tr>\n",
              "    <tr>\n",
              "      <th>3</th>\n",
              "      <td>0</td>\n",
              "      <td>4</td>\n",
              "      <td>88.81</td>\n",
              "      <td>0</td>\n",
              "    </tr>\n",
              "    <tr>\n",
              "      <th>4</th>\n",
              "      <td>0</td>\n",
              "      <td>5</td>\n",
              "      <td>84.58</td>\n",
              "      <td>0</td>\n",
              "    </tr>\n",
              "  </tbody>\n",
              "</table>\n",
              "</div>"
            ],
            "text/plain": [
              "   store_id  month  total_amount  label\n",
              "0         0      1         95.70      0\n",
              "1         0      2         89.79      0\n",
              "2         0      3         84.37      0\n",
              "3         0      4         88.81      0\n",
              "4         0      5         84.58      0"
            ]
          },
          "metadata": {
            "tags": []
          },
          "execution_count": 44
        }
      ]
    },
    {
      "cell_type": "code",
      "metadata": {
        "colab": {
          "base_uri": "https://localhost:8080/"
        },
        "id": "IyNbZ8hlqKfc",
        "outputId": "0f7852e5-8728-4bb0-998f-158f29a42428"
      },
      "source": [
        "monthly_storeid['total_amount'].value_counts()"
      ],
      "execution_count": 46,
      "outputs": [
        {
          "output_type": "execute_result",
          "data": {
            "text/plain": [
              "0.00       49\n",
              "1500.00    39\n",
              "1250.00    33\n",
              "100.00     30\n",
              "150.00     30\n",
              "           ..\n",
              "60.33       1\n",
              "28.65       1\n",
              "129.90      1\n",
              "426.58      1\n",
              "181.56      1\n",
              "Name: total_amount, Length: 15346, dtype: int64"
            ]
          },
          "metadata": {
            "tags": []
          },
          "execution_count": 46
        }
      ]
    },
    {
      "cell_type": "markdown",
      "metadata": {
        "id": "sHAGIoQRrNBo"
      },
      "source": [
        "## 3. 계절별 평균 매출액 기준 0 1 group"
      ]
    },
    {
      "cell_type": "code",
      "metadata": {
        "id": "tQ8PBKPyrKcP"
      },
      "source": [
        "season = []\r\n",
        "for month in monthly_storeid['month']:\r\n",
        "  if month < 3 :\r\n",
        "    season.append(1) #겨울\r\n",
        "  elif month < 7:\r\n",
        "    season.append(2) #봄\r\n",
        "  elif month < 9:\r\n",
        "    season.append(3) #여름\r\n",
        "  elif month < 12: season.append(4) #가을\r\n",
        "  else : season.append(1)\r\n",
        "\r\n",
        "monthly_storeid['season'] = season"
      ],
      "execution_count": 68,
      "outputs": []
    },
    {
      "cell_type": "code",
      "metadata": {
        "colab": {
          "base_uri": "https://localhost:8080/",
          "height": 204
        },
        "id": "XFeAsWxywF_j",
        "outputId": "ccf1d618-8a94-4ccf-8547-b96bede46014"
      },
      "source": [
        "monthly_storeid.head()"
      ],
      "execution_count": 69,
      "outputs": [
        {
          "output_type": "execute_result",
          "data": {
            "text/html": [
              "<div>\n",
              "<style scoped>\n",
              "    .dataframe tbody tr th:only-of-type {\n",
              "        vertical-align: middle;\n",
              "    }\n",
              "\n",
              "    .dataframe tbody tr th {\n",
              "        vertical-align: top;\n",
              "    }\n",
              "\n",
              "    .dataframe thead th {\n",
              "        text-align: right;\n",
              "    }\n",
              "</style>\n",
              "<table border=\"1\" class=\"dataframe\">\n",
              "  <thead>\n",
              "    <tr style=\"text-align: right;\">\n",
              "      <th></th>\n",
              "      <th>store_id</th>\n",
              "      <th>month</th>\n",
              "      <th>total_amount</th>\n",
              "      <th>label</th>\n",
              "      <th>season</th>\n",
              "    </tr>\n",
              "  </thead>\n",
              "  <tbody>\n",
              "    <tr>\n",
              "      <th>0</th>\n",
              "      <td>0</td>\n",
              "      <td>1</td>\n",
              "      <td>95.70</td>\n",
              "      <td>0</td>\n",
              "      <td>1</td>\n",
              "    </tr>\n",
              "    <tr>\n",
              "      <th>1</th>\n",
              "      <td>0</td>\n",
              "      <td>2</td>\n",
              "      <td>89.79</td>\n",
              "      <td>0</td>\n",
              "      <td>1</td>\n",
              "    </tr>\n",
              "    <tr>\n",
              "      <th>2</th>\n",
              "      <td>0</td>\n",
              "      <td>3</td>\n",
              "      <td>84.37</td>\n",
              "      <td>0</td>\n",
              "      <td>2</td>\n",
              "    </tr>\n",
              "    <tr>\n",
              "      <th>3</th>\n",
              "      <td>0</td>\n",
              "      <td>4</td>\n",
              "      <td>88.81</td>\n",
              "      <td>0</td>\n",
              "      <td>2</td>\n",
              "    </tr>\n",
              "    <tr>\n",
              "      <th>4</th>\n",
              "      <td>0</td>\n",
              "      <td>5</td>\n",
              "      <td>84.58</td>\n",
              "      <td>0</td>\n",
              "      <td>2</td>\n",
              "    </tr>\n",
              "  </tbody>\n",
              "</table>\n",
              "</div>"
            ],
            "text/plain": [
              "   store_id  month  total_amount  label  season\n",
              "0         0      1         95.70      0       1\n",
              "1         0      2         89.79      0       1\n",
              "2         0      3         84.37      0       2\n",
              "3         0      4         88.81      0       2\n",
              "4         0      5         84.58      0       2"
            ]
          },
          "metadata": {
            "tags": []
          },
          "execution_count": 69
        }
      ]
    },
    {
      "cell_type": "code",
      "metadata": {
        "colab": {
          "base_uri": "https://localhost:8080/"
        },
        "id": "lOQWlimdwfBO",
        "outputId": "ef67ca62-d0c4-45b0-d892-2ce1a0a59afc"
      },
      "source": [
        "monthly_storeid['season'].value_counts()"
      ],
      "execution_count": 70,
      "outputs": [
        {
          "output_type": "execute_result",
          "data": {
            "text/plain": [
              "2    6460\n",
              "1    4190\n",
              "4    3787\n",
              "3    2805\n",
              "Name: season, dtype: int64"
            ]
          },
          "metadata": {
            "tags": []
          },
          "execution_count": 70
        }
      ]
    },
    {
      "cell_type": "code",
      "metadata": {
        "colab": {
          "base_uri": "https://localhost:8080/",
          "height": 124
        },
        "id": "Wgo9oxjR52mH",
        "outputId": "68f3098d-c116-47d5-c08b-1d8af347aacb"
      },
      "source": [
        "#월별 평균매출액 (꾸준한 평균매출액을 보여주는 자료라고 할 수 있지 않나? total_amount 평균과 크게 다를 것 같진 않은데!)\r\n",
        "pd.crosstab(monthly_storeid['label'],monthly_storeid['season'],margins=True).style.background_gradient(cmap='summer')\r\n",
        "#지금 이 자료 되게 의미없네, season별 평균 매출액 높은 것들끼리 나눈 걸로 보는 것도 아니고 label대로 나누고 season은 이렇게 냅두면 이상하지 않나?"
      ],
      "execution_count": 71,
      "outputs": [
        {
          "output_type": "execute_result",
          "data": {
            "text/html": [
              "<style  type=\"text/css\" >\n",
              "#T_bc1515ba_6ea8_11eb_8f95_0242ac1c0002row0_col0{\n",
              "            background-color:  #a8d366;\n",
              "            color:  #000000;\n",
              "        }#T_bc1515ba_6ea8_11eb_8f95_0242ac1c0002row0_col1{\n",
              "            background-color:  #acd666;\n",
              "            color:  #000000;\n",
              "        }#T_bc1515ba_6ea8_11eb_8f95_0242ac1c0002row0_col2,#T_bc1515ba_6ea8_11eb_8f95_0242ac1c0002row0_col3,#T_bc1515ba_6ea8_11eb_8f95_0242ac1c0002row0_col4{\n",
              "            background-color:  #aad466;\n",
              "            color:  #000000;\n",
              "        }#T_bc1515ba_6ea8_11eb_8f95_0242ac1c0002row1_col0,#T_bc1515ba_6ea8_11eb_8f95_0242ac1c0002row1_col1,#T_bc1515ba_6ea8_11eb_8f95_0242ac1c0002row1_col2,#T_bc1515ba_6ea8_11eb_8f95_0242ac1c0002row1_col3,#T_bc1515ba_6ea8_11eb_8f95_0242ac1c0002row1_col4{\n",
              "            background-color:  #008066;\n",
              "            color:  #f1f1f1;\n",
              "        }#T_bc1515ba_6ea8_11eb_8f95_0242ac1c0002row2_col0,#T_bc1515ba_6ea8_11eb_8f95_0242ac1c0002row2_col1,#T_bc1515ba_6ea8_11eb_8f95_0242ac1c0002row2_col2,#T_bc1515ba_6ea8_11eb_8f95_0242ac1c0002row2_col3,#T_bc1515ba_6ea8_11eb_8f95_0242ac1c0002row2_col4{\n",
              "            background-color:  #ffff66;\n",
              "            color:  #000000;\n",
              "        }</style><table id=\"T_bc1515ba_6ea8_11eb_8f95_0242ac1c0002\" ><thead>    <tr>        <th class=\"index_name level0\" >season</th>        <th class=\"col_heading level0 col0\" >1</th>        <th class=\"col_heading level0 col1\" >2</th>        <th class=\"col_heading level0 col2\" >3</th>        <th class=\"col_heading level0 col3\" >4</th>        <th class=\"col_heading level0 col4\" >All</th>    </tr>    <tr>        <th class=\"index_name level0\" >label</th>        <th class=\"blank\" ></th>        <th class=\"blank\" ></th>        <th class=\"blank\" ></th>        <th class=\"blank\" ></th>        <th class=\"blank\" ></th>    </tr></thead><tbody>\n",
              "                <tr>\n",
              "                        <th id=\"T_bc1515ba_6ea8_11eb_8f95_0242ac1c0002level0_row0\" class=\"row_heading level0 row0\" >0</th>\n",
              "                        <td id=\"T_bc1515ba_6ea8_11eb_8f95_0242ac1c0002row0_col0\" class=\"data row0 col0\" >3121</td>\n",
              "                        <td id=\"T_bc1515ba_6ea8_11eb_8f95_0242ac1c0002row0_col1\" class=\"data row0 col1\" >4869</td>\n",
              "                        <td id=\"T_bc1515ba_6ea8_11eb_8f95_0242ac1c0002row0_col2\" class=\"data row0 col2\" >2103</td>\n",
              "                        <td id=\"T_bc1515ba_6ea8_11eb_8f95_0242ac1c0002row0_col3\" class=\"data row0 col3\" >2838</td>\n",
              "                        <td id=\"T_bc1515ba_6ea8_11eb_8f95_0242ac1c0002row0_col4\" class=\"data row0 col4\" >12931</td>\n",
              "            </tr>\n",
              "            <tr>\n",
              "                        <th id=\"T_bc1515ba_6ea8_11eb_8f95_0242ac1c0002level0_row1\" class=\"row_heading level0 row1\" >1</th>\n",
              "                        <td id=\"T_bc1515ba_6ea8_11eb_8f95_0242ac1c0002row1_col0\" class=\"data row1 col0\" >1069</td>\n",
              "                        <td id=\"T_bc1515ba_6ea8_11eb_8f95_0242ac1c0002row1_col1\" class=\"data row1 col1\" >1591</td>\n",
              "                        <td id=\"T_bc1515ba_6ea8_11eb_8f95_0242ac1c0002row1_col2\" class=\"data row1 col2\" >702</td>\n",
              "                        <td id=\"T_bc1515ba_6ea8_11eb_8f95_0242ac1c0002row1_col3\" class=\"data row1 col3\" >949</td>\n",
              "                        <td id=\"T_bc1515ba_6ea8_11eb_8f95_0242ac1c0002row1_col4\" class=\"data row1 col4\" >4311</td>\n",
              "            </tr>\n",
              "            <tr>\n",
              "                        <th id=\"T_bc1515ba_6ea8_11eb_8f95_0242ac1c0002level0_row2\" class=\"row_heading level0 row2\" >All</th>\n",
              "                        <td id=\"T_bc1515ba_6ea8_11eb_8f95_0242ac1c0002row2_col0\" class=\"data row2 col0\" >4190</td>\n",
              "                        <td id=\"T_bc1515ba_6ea8_11eb_8f95_0242ac1c0002row2_col1\" class=\"data row2 col1\" >6460</td>\n",
              "                        <td id=\"T_bc1515ba_6ea8_11eb_8f95_0242ac1c0002row2_col2\" class=\"data row2 col2\" >2805</td>\n",
              "                        <td id=\"T_bc1515ba_6ea8_11eb_8f95_0242ac1c0002row2_col3\" class=\"data row2 col3\" >3787</td>\n",
              "                        <td id=\"T_bc1515ba_6ea8_11eb_8f95_0242ac1c0002row2_col4\" class=\"data row2 col4\" >17242</td>\n",
              "            </tr>\n",
              "    </tbody></table>"
            ],
            "text/plain": [
              "<pandas.io.formats.style.Styler at 0x7fba6d383ef0>"
            ]
          },
          "metadata": {
            "tags": []
          },
          "execution_count": 71
        }
      ]
    },
    {
      "cell_type": "code",
      "metadata": {
        "colab": {
          "base_uri": "https://localhost:8080/",
          "height": 124
        },
        "id": "P3BfHfBW6xFi",
        "outputId": "e57a5a6f-6825-49a2-f1bf-07c6340f84ba"
      },
      "source": [
        "pd.crosstab(monthly_storeid['label'], train2['group'], margins=True).style.background_gradient(cmap='winter')\r\n",
        "#총매출액 평균으로 0 1 나눈 그룹과 월별 평균 매출액 0 1 라벨 수"
      ],
      "execution_count": 72,
      "outputs": [
        {
          "output_type": "execute_result",
          "data": {
            "text/html": [
              "<style  type=\"text/css\" >\n",
              "#T_11e09e1a_6ea9_11eb_8f95_0242ac1c0002row0_col0{\n",
              "            background-color:  #00b2a6;\n",
              "            color:  #000000;\n",
              "        }#T_11e09e1a_6ea9_11eb_8f95_0242ac1c0002row0_col1{\n",
              "            background-color:  #00c09f;\n",
              "            color:  #000000;\n",
              "        }#T_11e09e1a_6ea9_11eb_8f95_0242ac1c0002row0_col2{\n",
              "            background-color:  #00b6a4;\n",
              "            color:  #000000;\n",
              "        }#T_11e09e1a_6ea9_11eb_8f95_0242ac1c0002row1_col0,#T_11e09e1a_6ea9_11eb_8f95_0242ac1c0002row1_col1,#T_11e09e1a_6ea9_11eb_8f95_0242ac1c0002row1_col2{\n",
              "            background-color:  #0000ff;\n",
              "            color:  #f1f1f1;\n",
              "        }#T_11e09e1a_6ea9_11eb_8f95_0242ac1c0002row2_col0,#T_11e09e1a_6ea9_11eb_8f95_0242ac1c0002row2_col1,#T_11e09e1a_6ea9_11eb_8f95_0242ac1c0002row2_col2{\n",
              "            background-color:  #00ff80;\n",
              "            color:  #000000;\n",
              "        }</style><table id=\"T_11e09e1a_6ea9_11eb_8f95_0242ac1c0002\" ><thead>    <tr>        <th class=\"index_name level0\" >group</th>        <th class=\"col_heading level0 col0\" >0</th>        <th class=\"col_heading level0 col1\" >1</th>        <th class=\"col_heading level0 col2\" >All</th>    </tr>    <tr>        <th class=\"index_name level0\" >label</th>        <th class=\"blank\" ></th>        <th class=\"blank\" ></th>        <th class=\"blank\" ></th>    </tr></thead><tbody>\n",
              "                <tr>\n",
              "                        <th id=\"T_11e09e1a_6ea9_11eb_8f95_0242ac1c0002level0_row0\" class=\"row_heading level0 row0\" >0</th>\n",
              "                        <td id=\"T_11e09e1a_6ea9_11eb_8f95_0242ac1c0002row0_col0\" class=\"data row0 col0\" >1021</td>\n",
              "                        <td id=\"T_11e09e1a_6ea9_11eb_8f95_0242ac1c0002row0_col1\" class=\"data row0 col1\" >356</td>\n",
              "                        <td id=\"T_11e09e1a_6ea9_11eb_8f95_0242ac1c0002row0_col2\" class=\"data row0 col2\" >1377</td>\n",
              "            </tr>\n",
              "            <tr>\n",
              "                        <th id=\"T_11e09e1a_6ea9_11eb_8f95_0242ac1c0002level0_row1\" class=\"row_heading level0 row1\" >1</th>\n",
              "                        <td id=\"T_11e09e1a_6ea9_11eb_8f95_0242ac1c0002row1_col0\" class=\"data row1 col0\" >310</td>\n",
              "                        <td id=\"T_11e09e1a_6ea9_11eb_8f95_0242ac1c0002row1_col1\" class=\"data row1 col1\" >88</td>\n",
              "                        <td id=\"T_11e09e1a_6ea9_11eb_8f95_0242ac1c0002row1_col2\" class=\"data row1 col2\" >398</td>\n",
              "            </tr>\n",
              "            <tr>\n",
              "                        <th id=\"T_11e09e1a_6ea9_11eb_8f95_0242ac1c0002level0_row2\" class=\"row_heading level0 row2\" >All</th>\n",
              "                        <td id=\"T_11e09e1a_6ea9_11eb_8f95_0242ac1c0002row2_col0\" class=\"data row2 col0\" >1331</td>\n",
              "                        <td id=\"T_11e09e1a_6ea9_11eb_8f95_0242ac1c0002row2_col1\" class=\"data row2 col1\" >444</td>\n",
              "                        <td id=\"T_11e09e1a_6ea9_11eb_8f95_0242ac1c0002row2_col2\" class=\"data row2 col2\" >1775</td>\n",
              "            </tr>\n",
              "    </tbody></table>"
            ],
            "text/plain": [
              "<pandas.io.formats.style.Styler at 0x7fba6d436128>"
            ]
          },
          "metadata": {
            "tags": []
          },
          "execution_count": 72
        }
      ]
    },
    {
      "cell_type": "code",
      "metadata": {
        "id": "ij9fFhcxxwvK"
      },
      "source": [
        "#계절별"
      ],
      "execution_count": null,
      "outputs": []
    },
    {
      "cell_type": "code",
      "metadata": {
        "id": "F1xtyy_HrgO6"
      },
      "source": [
        "#이용자 수가 많으면 소비자 폭이 넓다는 거랑 거래수가 많으면 자주 접하기 쉬운 곳 vs 이용자수가 한정적이거나 거래수가 적은데 거래비용이 크다면 명품관 예상?"
      ],
      "execution_count": null,
      "outputs": []
    },
    {
      "cell_type": "code",
      "metadata": {
        "id": "guq0XMDOqQMK"
      },
      "source": [
        "#monthly_storeid.value_counts()"
      ],
      "execution_count": 48,
      "outputs": []
    },
    {
      "cell_type": "markdown",
      "metadata": {
        "id": "ndl13Lr4gRyp"
      },
      "source": [
        "## card_id별 소비액 평균"
      ]
    },
    {
      "cell_type": "code",
      "metadata": {
        "colab": {
          "base_uri": "https://localhost:8080/",
          "height": 204
        },
        "id": "dE3szkf-gTOZ",
        "outputId": "c70e6755-44fd-469d-d9cb-7e0ba5734382"
      },
      "source": [
        "train3 = train1[['card_id','total_amount']].groupby(['card_id'], as_index=False).mean()\r\n",
        "train3.head()"
      ],
      "execution_count": 33,
      "outputs": [
        {
          "output_type": "execute_result",
          "data": {
            "text/html": [
              "<div>\n",
              "<style scoped>\n",
              "    .dataframe tbody tr th:only-of-type {\n",
              "        vertical-align: middle;\n",
              "    }\n",
              "\n",
              "    .dataframe tbody tr th {\n",
              "        vertical-align: top;\n",
              "    }\n",
              "\n",
              "    .dataframe thead th {\n",
              "        text-align: right;\n",
              "    }\n",
              "</style>\n",
              "<table border=\"1\" class=\"dataframe\">\n",
              "  <thead>\n",
              "    <tr style=\"text-align: right;\">\n",
              "      <th></th>\n",
              "      <th>card_id</th>\n",
              "      <th>total_amount</th>\n",
              "    </tr>\n",
              "  </thead>\n",
              "  <tbody>\n",
              "    <tr>\n",
              "      <th>0</th>\n",
              "      <td>000009e765</td>\n",
              "      <td>10.00</td>\n",
              "    </tr>\n",
              "    <tr>\n",
              "      <th>1</th>\n",
              "      <td>00000f9eaa</td>\n",
              "      <td>110.33</td>\n",
              "    </tr>\n",
              "    <tr>\n",
              "      <th>2</th>\n",
              "      <td>0000134335</td>\n",
              "      <td>90.00</td>\n",
              "    </tr>\n",
              "    <tr>\n",
              "      <th>3</th>\n",
              "      <td>000024f480</td>\n",
              "      <td>80.00</td>\n",
              "    </tr>\n",
              "    <tr>\n",
              "      <th>4</th>\n",
              "      <td>000036a26b</td>\n",
              "      <td>720.00</td>\n",
              "    </tr>\n",
              "  </tbody>\n",
              "</table>\n",
              "</div>"
            ],
            "text/plain": [
              "      card_id  total_amount\n",
              "0  000009e765         10.00\n",
              "1  00000f9eaa        110.33\n",
              "2  0000134335         90.00\n",
              "3  000024f480         80.00\n",
              "4  000036a26b        720.00"
            ]
          },
          "metadata": {
            "tags": []
          },
          "execution_count": 33
        }
      ]
    },
    {
      "cell_type": "code",
      "metadata": {
        "colab": {
          "base_uri": "https://localhost:8080/",
          "height": 204
        },
        "id": "c1eXM4gLlQIK",
        "outputId": "bbce8851-9c99-4287-d0f9-548feb0cec11"
      },
      "source": [
        "#month 추가\r\n",
        "train3_month = train1[['card_id','total_amount','month']].groupby(['card_id','month'], as_index=False).mean()\r\n",
        "train3_month.head()"
      ],
      "execution_count": 34,
      "outputs": [
        {
          "output_type": "execute_result",
          "data": {
            "text/html": [
              "<div>\n",
              "<style scoped>\n",
              "    .dataframe tbody tr th:only-of-type {\n",
              "        vertical-align: middle;\n",
              "    }\n",
              "\n",
              "    .dataframe tbody tr th {\n",
              "        vertical-align: top;\n",
              "    }\n",
              "\n",
              "    .dataframe thead th {\n",
              "        text-align: right;\n",
              "    }\n",
              "</style>\n",
              "<table border=\"1\" class=\"dataframe\">\n",
              "  <thead>\n",
              "    <tr style=\"text-align: right;\">\n",
              "      <th></th>\n",
              "      <th>card_id</th>\n",
              "      <th>month</th>\n",
              "      <th>total_amount</th>\n",
              "    </tr>\n",
              "  </thead>\n",
              "  <tbody>\n",
              "    <tr>\n",
              "      <th>0</th>\n",
              "      <td>000009e765</td>\n",
              "      <td>7</td>\n",
              "      <td>10.00</td>\n",
              "    </tr>\n",
              "    <tr>\n",
              "      <th>1</th>\n",
              "      <td>00000f9eaa</td>\n",
              "      <td>3</td>\n",
              "      <td>123.00</td>\n",
              "    </tr>\n",
              "    <tr>\n",
              "      <th>2</th>\n",
              "      <td>00000f9eaa</td>\n",
              "      <td>10</td>\n",
              "      <td>100.00</td>\n",
              "    </tr>\n",
              "    <tr>\n",
              "      <th>3</th>\n",
              "      <td>00000f9eaa</td>\n",
              "      <td>24</td>\n",
              "      <td>108.00</td>\n",
              "    </tr>\n",
              "    <tr>\n",
              "      <th>4</th>\n",
              "      <td>0000134335</td>\n",
              "      <td>5</td>\n",
              "      <td>90.00</td>\n",
              "    </tr>\n",
              "  </tbody>\n",
              "</table>\n",
              "</div>"
            ],
            "text/plain": [
              "      card_id  month  total_amount\n",
              "0  000009e765      7         10.00\n",
              "1  00000f9eaa      3        123.00\n",
              "2  00000f9eaa     10        100.00\n",
              "3  00000f9eaa     24        108.00\n",
              "4  0000134335      5         90.00"
            ]
          },
          "metadata": {
            "tags": []
          },
          "execution_count": 34
        }
      ]
    },
    {
      "cell_type": "code",
      "metadata": {
        "id": "YBBaQAYvaX1S"
      },
      "source": [
        "quarter = []\r\n",
        "for month in train3_month['month'] :\r\n",
        "  if month < 4:\r\n",
        "    quarter.append(1)\r\n",
        "  elif month < 7:\r\n",
        "    quarter.append(2)\r\n",
        "  elif month < 10:\r\n",
        "    quarter.append(3)\r\n",
        "  else : quarter.append(4)\r\n",
        "\r\n",
        "train3_month['quarter'] = quarter"
      ],
      "execution_count": 35,
      "outputs": []
    },
    {
      "cell_type": "code",
      "metadata": {
        "colab": {
          "base_uri": "https://localhost:8080/",
          "height": 204
        },
        "id": "Aba8n9e1cKHK",
        "outputId": "ca567a39-211a-44e3-9174-4f93717f11e9"
      },
      "source": [
        "train3_month.head()"
      ],
      "execution_count": 36,
      "outputs": [
        {
          "output_type": "execute_result",
          "data": {
            "text/html": [
              "<div>\n",
              "<style scoped>\n",
              "    .dataframe tbody tr th:only-of-type {\n",
              "        vertical-align: middle;\n",
              "    }\n",
              "\n",
              "    .dataframe tbody tr th {\n",
              "        vertical-align: top;\n",
              "    }\n",
              "\n",
              "    .dataframe thead th {\n",
              "        text-align: right;\n",
              "    }\n",
              "</style>\n",
              "<table border=\"1\" class=\"dataframe\">\n",
              "  <thead>\n",
              "    <tr style=\"text-align: right;\">\n",
              "      <th></th>\n",
              "      <th>card_id</th>\n",
              "      <th>month</th>\n",
              "      <th>total_amount</th>\n",
              "      <th>quarter</th>\n",
              "    </tr>\n",
              "  </thead>\n",
              "  <tbody>\n",
              "    <tr>\n",
              "      <th>0</th>\n",
              "      <td>000009e765</td>\n",
              "      <td>7</td>\n",
              "      <td>10.00</td>\n",
              "      <td>3</td>\n",
              "    </tr>\n",
              "    <tr>\n",
              "      <th>1</th>\n",
              "      <td>00000f9eaa</td>\n",
              "      <td>3</td>\n",
              "      <td>123.00</td>\n",
              "      <td>1</td>\n",
              "    </tr>\n",
              "    <tr>\n",
              "      <th>2</th>\n",
              "      <td>00000f9eaa</td>\n",
              "      <td>10</td>\n",
              "      <td>100.00</td>\n",
              "      <td>4</td>\n",
              "    </tr>\n",
              "    <tr>\n",
              "      <th>3</th>\n",
              "      <td>00000f9eaa</td>\n",
              "      <td>24</td>\n",
              "      <td>108.00</td>\n",
              "      <td>4</td>\n",
              "    </tr>\n",
              "    <tr>\n",
              "      <th>4</th>\n",
              "      <td>0000134335</td>\n",
              "      <td>5</td>\n",
              "      <td>90.00</td>\n",
              "      <td>2</td>\n",
              "    </tr>\n",
              "  </tbody>\n",
              "</table>\n",
              "</div>"
            ],
            "text/plain": [
              "      card_id  month  total_amount  quarter\n",
              "0  000009e765      7         10.00        3\n",
              "1  00000f9eaa      3        123.00        1\n",
              "2  00000f9eaa     10        100.00        4\n",
              "3  00000f9eaa     24        108.00        4\n",
              "4  0000134335      5         90.00        2"
            ]
          },
          "metadata": {
            "tags": []
          },
          "execution_count": 36
        }
      ]
    },
    {
      "cell_type": "code",
      "metadata": {
        "colab": {
          "base_uri": "https://localhost:8080/",
          "height": 297
        },
        "id": "0TkKH3C-g4XZ",
        "outputId": "127c43b3-520c-4c06-e27d-b79098024001"
      },
      "source": [
        "train3.describe()"
      ],
      "execution_count": 37,
      "outputs": [
        {
          "output_type": "execute_result",
          "data": {
            "text/html": [
              "<div>\n",
              "<style scoped>\n",
              "    .dataframe tbody tr th:only-of-type {\n",
              "        vertical-align: middle;\n",
              "    }\n",
              "\n",
              "    .dataframe tbody tr th {\n",
              "        vertical-align: top;\n",
              "    }\n",
              "\n",
              "    .dataframe thead th {\n",
              "        text-align: right;\n",
              "    }\n",
              "</style>\n",
              "<table border=\"1\" class=\"dataframe\">\n",
              "  <thead>\n",
              "    <tr style=\"text-align: right;\">\n",
              "      <th></th>\n",
              "      <th>total_amount</th>\n",
              "    </tr>\n",
              "  </thead>\n",
              "  <tbody>\n",
              "    <tr>\n",
              "      <th>count</th>\n",
              "      <td>922519.00</td>\n",
              "    </tr>\n",
              "    <tr>\n",
              "      <th>mean</th>\n",
              "      <td>338.57</td>\n",
              "    </tr>\n",
              "    <tr>\n",
              "      <th>std</th>\n",
              "      <td>3150.77</td>\n",
              "    </tr>\n",
              "    <tr>\n",
              "      <th>min</th>\n",
              "      <td>0.00</td>\n",
              "    </tr>\n",
              "    <tr>\n",
              "      <th>25%</th>\n",
              "      <td>75.00</td>\n",
              "    </tr>\n",
              "    <tr>\n",
              "      <th>50%</th>\n",
              "      <td>138.00</td>\n",
              "    </tr>\n",
              "    <tr>\n",
              "      <th>75%</th>\n",
              "      <td>250.00</td>\n",
              "    </tr>\n",
              "    <tr>\n",
              "      <th>max</th>\n",
              "      <td>1080000.00</td>\n",
              "    </tr>\n",
              "  </tbody>\n",
              "</table>\n",
              "</div>"
            ],
            "text/plain": [
              "       total_amount\n",
              "count     922519.00\n",
              "mean         338.57\n",
              "std         3150.77\n",
              "min            0.00\n",
              "25%           75.00\n",
              "50%          138.00\n",
              "75%          250.00\n",
              "max      1080000.00"
            ]
          },
          "metadata": {
            "tags": []
          },
          "execution_count": 37
        }
      ]
    },
    {
      "cell_type": "code",
      "metadata": {
        "colab": {
          "base_uri": "https://localhost:8080/",
          "height": 204
        },
        "id": "vQX9rJl7gz6H",
        "outputId": "2d171419-a1e3-4519-c6fc-7f41eae5da9e"
      },
      "source": [
        "under_train3 = train3[train3['total_amount'] <= 250] #75%위치값\r\n",
        "under_train3.head()"
      ],
      "execution_count": 38,
      "outputs": [
        {
          "output_type": "execute_result",
          "data": {
            "text/html": [
              "<div>\n",
              "<style scoped>\n",
              "    .dataframe tbody tr th:only-of-type {\n",
              "        vertical-align: middle;\n",
              "    }\n",
              "\n",
              "    .dataframe tbody tr th {\n",
              "        vertical-align: top;\n",
              "    }\n",
              "\n",
              "    .dataframe thead th {\n",
              "        text-align: right;\n",
              "    }\n",
              "</style>\n",
              "<table border=\"1\" class=\"dataframe\">\n",
              "  <thead>\n",
              "    <tr style=\"text-align: right;\">\n",
              "      <th></th>\n",
              "      <th>card_id</th>\n",
              "      <th>total_amount</th>\n",
              "    </tr>\n",
              "  </thead>\n",
              "  <tbody>\n",
              "    <tr>\n",
              "      <th>0</th>\n",
              "      <td>000009e765</td>\n",
              "      <td>10.00</td>\n",
              "    </tr>\n",
              "    <tr>\n",
              "      <th>1</th>\n",
              "      <td>00000f9eaa</td>\n",
              "      <td>110.33</td>\n",
              "    </tr>\n",
              "    <tr>\n",
              "      <th>2</th>\n",
              "      <td>0000134335</td>\n",
              "      <td>90.00</td>\n",
              "    </tr>\n",
              "    <tr>\n",
              "      <th>3</th>\n",
              "      <td>000024f480</td>\n",
              "      <td>80.00</td>\n",
              "    </tr>\n",
              "    <tr>\n",
              "      <th>6</th>\n",
              "      <td>00003cb9a7</td>\n",
              "      <td>85.00</td>\n",
              "    </tr>\n",
              "  </tbody>\n",
              "</table>\n",
              "</div>"
            ],
            "text/plain": [
              "      card_id  total_amount\n",
              "0  000009e765         10.00\n",
              "1  00000f9eaa        110.33\n",
              "2  0000134335         90.00\n",
              "3  000024f480         80.00\n",
              "6  00003cb9a7         85.00"
            ]
          },
          "metadata": {
            "tags": []
          },
          "execution_count": 38
        }
      ]
    },
    {
      "cell_type": "code",
      "metadata": {
        "colab": {
          "base_uri": "https://localhost:8080/",
          "height": 204
        },
        "id": "RprpzhtLg_LC",
        "outputId": "e649276c-deb0-4557-877f-982db88b9252"
      },
      "source": [
        "over_train3 = train3[train3['total_amount'] > 250]\r\n",
        "over_train3.head()"
      ],
      "execution_count": 39,
      "outputs": [
        {
          "output_type": "execute_result",
          "data": {
            "text/html": [
              "<div>\n",
              "<style scoped>\n",
              "    .dataframe tbody tr th:only-of-type {\n",
              "        vertical-align: middle;\n",
              "    }\n",
              "\n",
              "    .dataframe tbody tr th {\n",
              "        vertical-align: top;\n",
              "    }\n",
              "\n",
              "    .dataframe thead th {\n",
              "        text-align: right;\n",
              "    }\n",
              "</style>\n",
              "<table border=\"1\" class=\"dataframe\">\n",
              "  <thead>\n",
              "    <tr style=\"text-align: right;\">\n",
              "      <th></th>\n",
              "      <th>card_id</th>\n",
              "      <th>total_amount</th>\n",
              "    </tr>\n",
              "  </thead>\n",
              "  <tbody>\n",
              "    <tr>\n",
              "      <th>4</th>\n",
              "      <td>000036a26b</td>\n",
              "      <td>720.00</td>\n",
              "    </tr>\n",
              "    <tr>\n",
              "      <th>5</th>\n",
              "      <td>00003c84e3</td>\n",
              "      <td>255.00</td>\n",
              "    </tr>\n",
              "    <tr>\n",
              "      <th>9</th>\n",
              "      <td>00008a3f32</td>\n",
              "      <td>335.00</td>\n",
              "    </tr>\n",
              "    <tr>\n",
              "      <th>12</th>\n",
              "      <td>0000aee7ef</td>\n",
              "      <td>360.00</td>\n",
              "    </tr>\n",
              "    <tr>\n",
              "      <th>13</th>\n",
              "      <td>0000d054a6</td>\n",
              "      <td>423.50</td>\n",
              "    </tr>\n",
              "  </tbody>\n",
              "</table>\n",
              "</div>"
            ],
            "text/plain": [
              "       card_id  total_amount\n",
              "4   000036a26b        720.00\n",
              "5   00003c84e3        255.00\n",
              "9   00008a3f32        335.00\n",
              "12  0000aee7ef        360.00\n",
              "13  0000d054a6        423.50"
            ]
          },
          "metadata": {
            "tags": []
          },
          "execution_count": 39
        }
      ]
    },
    {
      "cell_type": "code",
      "metadata": {
        "colab": {
          "base_uri": "https://localhost:8080/",
          "height": 204
        },
        "id": "hjjfoXrXiZ_c",
        "outputId": "750adf20-1e0d-4d93-f255-95b87c620509"
      },
      "source": [
        "train3['group'] = [1 if a > 250 else 0 for a in train3['total_amount']]\r\n",
        "train3.head()"
      ],
      "execution_count": 40,
      "outputs": [
        {
          "output_type": "execute_result",
          "data": {
            "text/html": [
              "<div>\n",
              "<style scoped>\n",
              "    .dataframe tbody tr th:only-of-type {\n",
              "        vertical-align: middle;\n",
              "    }\n",
              "\n",
              "    .dataframe tbody tr th {\n",
              "        vertical-align: top;\n",
              "    }\n",
              "\n",
              "    .dataframe thead th {\n",
              "        text-align: right;\n",
              "    }\n",
              "</style>\n",
              "<table border=\"1\" class=\"dataframe\">\n",
              "  <thead>\n",
              "    <tr style=\"text-align: right;\">\n",
              "      <th></th>\n",
              "      <th>card_id</th>\n",
              "      <th>total_amount</th>\n",
              "      <th>group</th>\n",
              "    </tr>\n",
              "  </thead>\n",
              "  <tbody>\n",
              "    <tr>\n",
              "      <th>0</th>\n",
              "      <td>000009e765</td>\n",
              "      <td>10.00</td>\n",
              "      <td>0</td>\n",
              "    </tr>\n",
              "    <tr>\n",
              "      <th>1</th>\n",
              "      <td>00000f9eaa</td>\n",
              "      <td>110.33</td>\n",
              "      <td>0</td>\n",
              "    </tr>\n",
              "    <tr>\n",
              "      <th>2</th>\n",
              "      <td>0000134335</td>\n",
              "      <td>90.00</td>\n",
              "      <td>0</td>\n",
              "    </tr>\n",
              "    <tr>\n",
              "      <th>3</th>\n",
              "      <td>000024f480</td>\n",
              "      <td>80.00</td>\n",
              "      <td>0</td>\n",
              "    </tr>\n",
              "    <tr>\n",
              "      <th>4</th>\n",
              "      <td>000036a26b</td>\n",
              "      <td>720.00</td>\n",
              "      <td>1</td>\n",
              "    </tr>\n",
              "  </tbody>\n",
              "</table>\n",
              "</div>"
            ],
            "text/plain": [
              "      card_id  total_amount  group\n",
              "0  000009e765         10.00      0\n",
              "1  00000f9eaa        110.33      0\n",
              "2  0000134335         90.00      0\n",
              "3  000024f480         80.00      0\n",
              "4  000036a26b        720.00      1"
            ]
          },
          "metadata": {
            "tags": []
          },
          "execution_count": 40
        }
      ]
    },
    {
      "cell_type": "markdown",
      "metadata": {
        "id": "UUteeKltjck7"
      },
      "source": [
        "## 시각화"
      ]
    },
    {
      "cell_type": "code",
      "metadata": {
        "id": "OweHdD8tkbTp"
      },
      "source": [
        ""
      ],
      "execution_count": 40,
      "outputs": []
    }
  ]
}