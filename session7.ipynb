{
  "nbformat": 4,
  "nbformat_minor": 0,
  "metadata": {
    "colab": {
      "name": "Untitled17.ipynb",
      "provenance": [],
      "authorship_tag": "ABX9TyM/RFxKz1OLtiqKtqU/6iIS",
      "include_colab_link": true
    },
    "kernelspec": {
      "name": "python3",
      "display_name": "Python 3"
    }
  },
  "cells": [
    {
      "cell_type": "markdown",
      "metadata": {
        "id": "view-in-github",
        "colab_type": "text"
      },
      "source": [
        "<a href=\"https://colab.research.google.com/github/brandnewmin/brandnewm/blob/master/session7.ipynb\" target=\"_parent\"><img src=\"https://colab.research.google.com/assets/colab-badge.svg\" alt=\"Open In Colab\"/></a>"
      ]
    },
    {
      "cell_type": "code",
      "metadata": {
        "id": "T9hUfAd8U_Pr"
      },
      "source": [
        "import tensorflow as tf"
      ],
      "execution_count": 1,
      "outputs": []
    },
    {
      "cell_type": "code",
      "metadata": {
        "id": "L7IELzDnVyUo",
        "outputId": "4ece029a-a92f-4016-ac9d-a7fed2c0f023",
        "colab": {
          "base_uri": "https://localhost:8080/",
          "height": 35
        }
      },
      "source": [
        "tf.__version__"
      ],
      "execution_count": 2,
      "outputs": [
        {
          "output_type": "execute_result",
          "data": {
            "application/vnd.google.colaboratory.intrinsic+json": {
              "type": "string"
            },
            "text/plain": [
              "'1.15.0'"
            ]
          },
          "metadata": {
            "tags": []
          },
          "execution_count": 2
        }
      ]
    },
    {
      "cell_type": "code",
      "metadata": {
        "id": "bh2xcI0zVDPM",
        "outputId": "c40e6128-541d-400a-efa3-9c4504ac6211",
        "colab": {
          "base_uri": "https://localhost:8080/",
          "height": 251
        }
      },
      "source": [
        "!pip uninstall tensorflow"
      ],
      "execution_count": 3,
      "outputs": [
        {
          "output_type": "stream",
          "text": [
            "Uninstalling tensorflow-2.3.0:\n",
            "  Would remove:\n",
            "    /usr/local/bin/estimator_ckpt_converter\n",
            "    /usr/local/bin/saved_model_cli\n",
            "    /usr/local/bin/tensorboard\n",
            "    /usr/local/bin/tf_upgrade_v2\n",
            "    /usr/local/bin/tflite_convert\n",
            "    /usr/local/bin/toco\n",
            "    /usr/local/bin/toco_from_protos\n",
            "    /usr/local/lib/python3.6/dist-packages/tensorflow-2.3.0.dist-info/*\n",
            "    /usr/local/lib/python3.6/dist-packages/tensorflow/*\n",
            "Proceed (y/n)? y\n",
            "  Successfully uninstalled tensorflow-2.3.0\n"
          ],
          "name": "stdout"
        }
      ]
    },
    {
      "cell_type": "code",
      "metadata": {
        "id": "osq3bsOYVMPj",
        "outputId": "3202430a-b0f1-4d54-d5a9-16f8c7056576",
        "colab": {
          "base_uri": "https://localhost:8080/",
          "height": 1000
        }
      },
      "source": [
        "!pip install tensorflow==1.15"
      ],
      "execution_count": 5,
      "outputs": [
        {
          "output_type": "stream",
          "text": [
            "Collecting tensorflow==1.15\n",
            "\u001b[?25l  Downloading https://files.pythonhosted.org/packages/3f/98/5a99af92fb911d7a88a0005ad55005f35b4c1ba8d75fba02df726cd936e6/tensorflow-1.15.0-cp36-cp36m-manylinux2010_x86_64.whl (412.3MB)\n",
            "\u001b[K     |████████████████████████████████| 412.3MB 21kB/s \n",
            "\u001b[?25hRequirement already satisfied: numpy<2.0,>=1.16.0 in /usr/local/lib/python3.6/dist-packages (from tensorflow==1.15) (1.18.5)\n",
            "Requirement already satisfied: grpcio>=1.8.6 in /usr/local/lib/python3.6/dist-packages (from tensorflow==1.15) (1.32.0)\n",
            "Requirement already satisfied: wrapt>=1.11.1 in /usr/local/lib/python3.6/dist-packages (from tensorflow==1.15) (1.12.1)\n",
            "Requirement already satisfied: protobuf>=3.6.1 in /usr/local/lib/python3.6/dist-packages (from tensorflow==1.15) (3.12.4)\n",
            "Requirement already satisfied: wheel>=0.26 in /usr/local/lib/python3.6/dist-packages (from tensorflow==1.15) (0.35.1)\n",
            "Collecting keras-applications>=1.0.8\n",
            "\u001b[?25l  Downloading https://files.pythonhosted.org/packages/71/e3/19762fdfc62877ae9102edf6342d71b28fbfd9dea3d2f96a882ce099b03f/Keras_Applications-1.0.8-py3-none-any.whl (50kB)\n",
            "\u001b[K     |████████████████████████████████| 51kB 5.1MB/s \n",
            "\u001b[?25hRequirement already satisfied: six>=1.10.0 in /usr/local/lib/python3.6/dist-packages (from tensorflow==1.15) (1.15.0)\n",
            "Requirement already satisfied: termcolor>=1.1.0 in /usr/local/lib/python3.6/dist-packages (from tensorflow==1.15) (1.1.0)\n",
            "Requirement already satisfied: absl-py>=0.7.0 in /usr/local/lib/python3.6/dist-packages (from tensorflow==1.15) (0.10.0)\n",
            "Collecting tensorflow-estimator==1.15.1\n",
            "\u001b[?25l  Downloading https://files.pythonhosted.org/packages/de/62/2ee9cd74c9fa2fa450877847ba560b260f5d0fb70ee0595203082dafcc9d/tensorflow_estimator-1.15.1-py2.py3-none-any.whl (503kB)\n",
            "\u001b[K     |████████████████████████████████| 512kB 36.6MB/s \n",
            "\u001b[?25hRequirement already satisfied: astor>=0.6.0 in /usr/local/lib/python3.6/dist-packages (from tensorflow==1.15) (0.8.1)\n",
            "Requirement already satisfied: google-pasta>=0.1.6 in /usr/local/lib/python3.6/dist-packages (from tensorflow==1.15) (0.2.0)\n",
            "Collecting gast==0.2.2\n",
            "  Downloading https://files.pythonhosted.org/packages/4e/35/11749bf99b2d4e3cceb4d55ca22590b0d7c2c62b9de38ac4a4a7f4687421/gast-0.2.2.tar.gz\n",
            "Collecting tensorboard<1.16.0,>=1.15.0\n",
            "\u001b[?25l  Downloading https://files.pythonhosted.org/packages/1e/e9/d3d747a97f7188f48aa5eda486907f3b345cd409f0a0850468ba867db246/tensorboard-1.15.0-py3-none-any.whl (3.8MB)\n",
            "\u001b[K     |████████████████████████████████| 3.8MB 43.4MB/s \n",
            "\u001b[?25hRequirement already satisfied: opt-einsum>=2.3.2 in /usr/local/lib/python3.6/dist-packages (from tensorflow==1.15) (3.3.0)\n",
            "Requirement already satisfied: keras-preprocessing>=1.0.5 in /usr/local/lib/python3.6/dist-packages (from tensorflow==1.15) (1.1.2)\n",
            "Requirement already satisfied: setuptools in /usr/local/lib/python3.6/dist-packages (from protobuf>=3.6.1->tensorflow==1.15) (50.3.0)\n",
            "Requirement already satisfied: h5py in /usr/local/lib/python3.6/dist-packages (from keras-applications>=1.0.8->tensorflow==1.15) (2.10.0)\n",
            "Requirement already satisfied: werkzeug>=0.11.15 in /usr/local/lib/python3.6/dist-packages (from tensorboard<1.16.0,>=1.15.0->tensorflow==1.15) (1.0.1)\n",
            "Requirement already satisfied: markdown>=2.6.8 in /usr/local/lib/python3.6/dist-packages (from tensorboard<1.16.0,>=1.15.0->tensorflow==1.15) (3.2.2)\n",
            "Requirement already satisfied: importlib-metadata; python_version < \"3.8\" in /usr/local/lib/python3.6/dist-packages (from markdown>=2.6.8->tensorboard<1.16.0,>=1.15.0->tensorflow==1.15) (2.0.0)\n",
            "Requirement already satisfied: zipp>=0.5 in /usr/local/lib/python3.6/dist-packages (from importlib-metadata; python_version < \"3.8\"->markdown>=2.6.8->tensorboard<1.16.0,>=1.15.0->tensorflow==1.15) (3.2.0)\n",
            "Building wheels for collected packages: gast\n",
            "  Building wheel for gast (setup.py) ... \u001b[?25l\u001b[?25hdone\n",
            "  Created wheel for gast: filename=gast-0.2.2-cp36-none-any.whl size=7542 sha256=912f1a3a676f0e5da2693665ff486d3ad510d96d94660c48cadf1c748730e0a3\n",
            "  Stored in directory: /root/.cache/pip/wheels/5c/2e/7e/a1d4d4fcebe6c381f378ce7743a3ced3699feb89bcfbdadadd\n",
            "Successfully built gast\n",
            "\u001b[31mERROR: tensorflow-probability 0.11.0 has requirement gast>=0.3.2, but you'll have gast 0.2.2 which is incompatible.\u001b[0m\n",
            "Installing collected packages: keras-applications, tensorflow-estimator, gast, tensorboard, tensorflow\n",
            "  Found existing installation: tensorflow-estimator 2.3.0\n",
            "    Uninstalling tensorflow-estimator-2.3.0:\n",
            "      Successfully uninstalled tensorflow-estimator-2.3.0\n",
            "  Found existing installation: gast 0.3.3\n",
            "    Uninstalling gast-0.3.3:\n",
            "      Successfully uninstalled gast-0.3.3\n",
            "  Found existing installation: tensorboard 2.3.0\n",
            "    Uninstalling tensorboard-2.3.0:\n",
            "      Successfully uninstalled tensorboard-2.3.0\n",
            "Successfully installed gast-0.2.2 keras-applications-1.0.8 tensorboard-1.15.0 tensorflow-1.15.0 tensorflow-estimator-1.15.1\n"
          ],
          "name": "stdout"
        },
        {
          "output_type": "display_data",
          "data": {
            "application/vnd.colab-display-data+json": {
              "pip_warning": {
                "packages": [
                  "gast",
                  "tensorboard",
                  "tensorflow"
                ]
              }
            }
          },
          "metadata": {
            "tags": []
          }
        }
      ]
    },
    {
      "cell_type": "code",
      "metadata": {
        "id": "Xx2OKq_VV1Bu"
      },
      "source": [
        "tf.set_random_seed(777)"
      ],
      "execution_count": 3,
      "outputs": []
    },
    {
      "cell_type": "code",
      "metadata": {
        "id": "fCuRJ7DrWKTl"
      },
      "source": [
        "x_data = [[1,2,1],[1,3,2],[1,3,4],[1,5,5],\n",
        "          [1,7,5],[1,2,5],[1,6,6],[1,7,7]]\n",
        "y_data = [[0,0,1],[0,0,1],[0,0,1],\n",
        "          [0,1,0],[0,1,0],[0,1,0],\n",
        "          [1,0,0],[1,0,0],[1,0,0]]"
      ],
      "execution_count": 4,
      "outputs": []
    },
    {
      "cell_type": "code",
      "metadata": {
        "id": "IRFrZrkpWmU6"
      },
      "source": [
        "x_test =  [[2, 1, 1],\n",
        "          [3, 1, 2],\n",
        "          [3, 3, 4]]\n",
        "y_test = [[0, 0, 1],\n",
        "          [0, 0, 1],\n",
        "          [0, 0, 1]]"
      ],
      "execution_count": 5,
      "outputs": []
    },
    {
      "cell_type": "code",
      "metadata": {
        "id": "Abdij_j4Wtsp"
      },
      "source": [
        "X = tf.placeholder(\"float\", [None,3])\n",
        "Y = tf.placeholder(\"float\",[None,3])"
      ],
      "execution_count": 6,
      "outputs": []
    },
    {
      "cell_type": "code",
      "metadata": {
        "id": "MLafxsA1W3H9"
      },
      "source": [
        "W = tf.Variable(tf.random_normal([3,3]))\n",
        "b = tf.Variable(tf.random_normal([3]))"
      ],
      "execution_count": 7,
      "outputs": []
    },
    {
      "cell_type": "code",
      "metadata": {
        "id": "UZjNBZFoXCfy"
      },
      "source": [
        "hypothesis = tf.nn.softmax(tf.matmul(X,W)+b)"
      ],
      "execution_count": 8,
      "outputs": []
    },
    {
      "cell_type": "code",
      "metadata": {
        "id": "zR62ZWYFXOaw"
      },
      "source": [
        "cost = tf.reduce_mean(-tf.reduce_sum(Y * tf.log(hypothesis), axis=1))"
      ],
      "execution_count": 9,
      "outputs": []
    },
    {
      "cell_type": "code",
      "metadata": {
        "id": "qabeJj6kXaXf"
      },
      "source": [
        "optimal = tf.train.GradientDescentOptimizer(learning_rate=0.1).minimize(cost)"
      ],
      "execution_count": 10,
      "outputs": []
    },
    {
      "cell_type": "code",
      "metadata": {
        "id": "ZtNkDkQ9Xjzw"
      },
      "source": [
        "prediction = tf.argmax(hypothesis, 1)\n",
        "is_correct = tf.equal(prediction, tf.argmax(Y,1))\n",
        "accuracy = tf.reduce_mean(tf.cast(is_correct,tf.float32))"
      ],
      "execution_count": 12,
      "outputs": []
    },
    {
      "cell_type": "code",
      "metadata": {
        "id": "DGBMLggRYW1k"
      },
      "source": [
        "with tf.Session() as sess:\n",
        "  sess.run(tf.global_variables_initializer()) #\n",
        "\n",
        "  for step in range(201):\n",
        "    cost_val, W_val, _ = sess.run([cost,W,optimal], feed_dict={X:x_data, Y: y_data})\n",
        "    print(step,cost_Val, W_val)\n",
        "  print(\"Prediction : \", sess.run(prediction, feed_dict={X:x_test}))\n",
        "  print(\"AccuRACY :\", sess.run(accuracy), feed_dict={X:x_data, Y:y_data})"
      ],
      "execution_count": null,
      "outputs": []
    },
    {
      "cell_type": "markdown",
      "metadata": {
        "id": "_B_wEuYaarPY"
      },
      "source": [
        "########################"
      ]
    },
    {
      "cell_type": "code",
      "metadata": {
        "id": "NL3Of-iJa_Kq"
      },
      "source": [
        "import numpy as np"
      ],
      "execution_count": 16,
      "outputs": []
    },
    {
      "cell_type": "code",
      "metadata": {
        "id": "ZbmjL_rubFFi"
      },
      "source": [
        "xy = np.array([[828.659973, 833.450012, 908100, 828.349976, 831.659973], #2행\n",
        "               [823.02002, 828.070007, 1828100, 821.655029, 828.070007],  #3행\n",
        "               [819.929993, 824.400024, 1438100, 818.97998, 824.159973],  #4행\n",
        "               [816, 820.958984, 1008100, 815.48999, 819.23999],  #5행\n",
        "               [819.359985, 823, 1188100, 818.469971, 818.97998],  #6행\n",
        "               [819, 823, 1198100, 816, 820.450012],  #7행\n",
        "               [811.700012, 815.25, 1098100, 809.780029, 813.669983], #8행\n",
        "               [809.51001, 816.659973, 1398100, 804.539978, 809.559998]])  #9행\n",
        "               #1열       #2열          #3열    #4열        #5열"
      ],
      "execution_count": 18,
      "outputs": []
    },
    {
      "cell_type": "code",
      "metadata": {
        "id": "wxgZyTzpbJ8L"
      },
      "source": [
        "x_data = xy[:, 0:-1]\n",
        "y_data = xy[:,[-1]]"
      ],
      "execution_count": 23,
      "outputs": []
    },
    {
      "cell_type": "code",
      "metadata": {
        "id": "P4goRB2gcFcK"
      },
      "source": [
        "XX = tf.placeholder(tf.float32, shape=[None,4])\n",
        "YY = tf.placeholder(tf.float32, shape=[None,1])"
      ],
      "execution_count": 28,
      "outputs": []
    },
    {
      "cell_type": "code",
      "metadata": {
        "id": "1WrAV7HBed6R"
      },
      "source": [
        "W = tf.Variable(tf.random_normal([4,1]), name='weight')\n",
        "b = tf.Variable(tf.random_normal([1]), name='bias')"
      ],
      "execution_count": 29,
      "outputs": []
    },
    {
      "cell_type": "code",
      "metadata": {
        "id": "r9tU_H33exuo",
        "outputId": "8eee9082-6398-4ac6-a99c-5a511791810b",
        "colab": {
          "base_uri": "https://localhost:8080/",
          "height": 448
        }
      },
      "source": [
        "hypothesis2 = tf.matmul(X,W) + b\n",
        "#hypothesis2 = tf.nn.softmax(tf.matmul(X,W) + b)"
      ],
      "execution_count": 30,
      "outputs": [
        {
          "output_type": "error",
          "ename": "ValueError",
          "evalue": "ignored",
          "traceback": [
            "\u001b[0;31m---------------------------------------------------------------------------\u001b[0m",
            "\u001b[0;31mInvalidArgumentError\u001b[0m                      Traceback (most recent call last)",
            "\u001b[0;32m/usr/local/lib/python3.6/dist-packages/tensorflow_core/python/framework/ops.py\u001b[0m in \u001b[0;36m_create_c_op\u001b[0;34m(graph, node_def, inputs, control_inputs)\u001b[0m\n\u001b[1;32m   1606\u001b[0m   \u001b[0;32mtry\u001b[0m\u001b[0;34m:\u001b[0m\u001b[0;34m\u001b[0m\u001b[0;34m\u001b[0m\u001b[0m\n\u001b[0;32m-> 1607\u001b[0;31m     \u001b[0mc_op\u001b[0m \u001b[0;34m=\u001b[0m \u001b[0mc_api\u001b[0m\u001b[0;34m.\u001b[0m\u001b[0mTF_FinishOperation\u001b[0m\u001b[0;34m(\u001b[0m\u001b[0mop_desc\u001b[0m\u001b[0;34m)\u001b[0m\u001b[0;34m\u001b[0m\u001b[0;34m\u001b[0m\u001b[0m\n\u001b[0m\u001b[1;32m   1608\u001b[0m   \u001b[0;32mexcept\u001b[0m \u001b[0merrors\u001b[0m\u001b[0;34m.\u001b[0m\u001b[0mInvalidArgumentError\u001b[0m \u001b[0;32mas\u001b[0m \u001b[0me\u001b[0m\u001b[0;34m:\u001b[0m\u001b[0;34m\u001b[0m\u001b[0;34m\u001b[0m\u001b[0m\n",
            "\u001b[0;31mInvalidArgumentError\u001b[0m: Dimensions must be equal, but are 3 and 4 for 'MatMul_1' (op: 'MatMul') with input shapes: [?,3], [4,1].",
            "\nDuring handling of the above exception, another exception occurred:\n",
            "\u001b[0;31mValueError\u001b[0m                                Traceback (most recent call last)",
            "\u001b[0;32m<ipython-input-30-c1c2308cb502>\u001b[0m in \u001b[0;36m<module>\u001b[0;34m()\u001b[0m\n\u001b[0;32m----> 1\u001b[0;31m \u001b[0mhypothesis2\u001b[0m \u001b[0;34m=\u001b[0m \u001b[0mtf\u001b[0m\u001b[0;34m.\u001b[0m\u001b[0mmatmul\u001b[0m\u001b[0;34m(\u001b[0m\u001b[0mX\u001b[0m\u001b[0;34m,\u001b[0m\u001b[0mW\u001b[0m\u001b[0;34m)\u001b[0m \u001b[0;34m+\u001b[0m \u001b[0mb\u001b[0m\u001b[0;34m\u001b[0m\u001b[0;34m\u001b[0m\u001b[0m\n\u001b[0m",
            "\u001b[0;32m/usr/local/lib/python3.6/dist-packages/tensorflow_core/python/util/dispatch.py\u001b[0m in \u001b[0;36mwrapper\u001b[0;34m(*args, **kwargs)\u001b[0m\n\u001b[1;32m    178\u001b[0m     \u001b[0;34m\"\"\"Call target, and fall back on dispatchers if there is a TypeError.\"\"\"\u001b[0m\u001b[0;34m\u001b[0m\u001b[0;34m\u001b[0m\u001b[0m\n\u001b[1;32m    179\u001b[0m     \u001b[0;32mtry\u001b[0m\u001b[0;34m:\u001b[0m\u001b[0;34m\u001b[0m\u001b[0;34m\u001b[0m\u001b[0m\n\u001b[0;32m--> 180\u001b[0;31m       \u001b[0;32mreturn\u001b[0m \u001b[0mtarget\u001b[0m\u001b[0;34m(\u001b[0m\u001b[0;34m*\u001b[0m\u001b[0margs\u001b[0m\u001b[0;34m,\u001b[0m \u001b[0;34m**\u001b[0m\u001b[0mkwargs\u001b[0m\u001b[0;34m)\u001b[0m\u001b[0;34m\u001b[0m\u001b[0;34m\u001b[0m\u001b[0m\n\u001b[0m\u001b[1;32m    181\u001b[0m     \u001b[0;32mexcept\u001b[0m \u001b[0;34m(\u001b[0m\u001b[0mTypeError\u001b[0m\u001b[0;34m,\u001b[0m \u001b[0mValueError\u001b[0m\u001b[0;34m)\u001b[0m\u001b[0;34m:\u001b[0m\u001b[0;34m\u001b[0m\u001b[0;34m\u001b[0m\u001b[0m\n\u001b[1;32m    182\u001b[0m       \u001b[0;31m# Note: convert_to_eager_tensor currently raises a ValueError, not a\u001b[0m\u001b[0;34m\u001b[0m\u001b[0;34m\u001b[0m\u001b[0;34m\u001b[0m\u001b[0m\n",
            "\u001b[0;32m/usr/local/lib/python3.6/dist-packages/tensorflow_core/python/ops/math_ops.py\u001b[0m in \u001b[0;36mmatmul\u001b[0;34m(a, b, transpose_a, transpose_b, adjoint_a, adjoint_b, a_is_sparse, b_is_sparse, name)\u001b[0m\n\u001b[1;32m   2752\u001b[0m     \u001b[0;32melse\u001b[0m\u001b[0;34m:\u001b[0m\u001b[0;34m\u001b[0m\u001b[0;34m\u001b[0m\u001b[0m\n\u001b[1;32m   2753\u001b[0m       return gen_math_ops.mat_mul(\n\u001b[0;32m-> 2754\u001b[0;31m           a, b, transpose_a=transpose_a, transpose_b=transpose_b, name=name)\n\u001b[0m\u001b[1;32m   2755\u001b[0m \u001b[0;34m\u001b[0m\u001b[0m\n\u001b[1;32m   2756\u001b[0m \u001b[0;34m\u001b[0m\u001b[0m\n",
            "\u001b[0;32m/usr/local/lib/python3.6/dist-packages/tensorflow_core/python/ops/gen_math_ops.py\u001b[0m in \u001b[0;36mmat_mul\u001b[0;34m(a, b, transpose_a, transpose_b, name)\u001b[0m\n\u001b[1;32m   6134\u001b[0m   _, _, _op = _op_def_lib._apply_op_helper(\n\u001b[1;32m   6135\u001b[0m         \u001b[0;34m\"MatMul\"\u001b[0m\u001b[0;34m,\u001b[0m \u001b[0ma\u001b[0m\u001b[0;34m=\u001b[0m\u001b[0ma\u001b[0m\u001b[0;34m,\u001b[0m \u001b[0mb\u001b[0m\u001b[0;34m=\u001b[0m\u001b[0mb\u001b[0m\u001b[0;34m,\u001b[0m \u001b[0mtranspose_a\u001b[0m\u001b[0;34m=\u001b[0m\u001b[0mtranspose_a\u001b[0m\u001b[0;34m,\u001b[0m \u001b[0mtranspose_b\u001b[0m\u001b[0;34m=\u001b[0m\u001b[0mtranspose_b\u001b[0m\u001b[0;34m,\u001b[0m\u001b[0;34m\u001b[0m\u001b[0;34m\u001b[0m\u001b[0m\n\u001b[0;32m-> 6136\u001b[0;31m                   name=name)\n\u001b[0m\u001b[1;32m   6137\u001b[0m   \u001b[0m_result\u001b[0m \u001b[0;34m=\u001b[0m \u001b[0m_op\u001b[0m\u001b[0;34m.\u001b[0m\u001b[0moutputs\u001b[0m\u001b[0;34m[\u001b[0m\u001b[0;34m:\u001b[0m\u001b[0;34m]\u001b[0m\u001b[0;34m\u001b[0m\u001b[0;34m\u001b[0m\u001b[0m\n\u001b[1;32m   6138\u001b[0m   \u001b[0m_inputs_flat\u001b[0m \u001b[0;34m=\u001b[0m \u001b[0m_op\u001b[0m\u001b[0;34m.\u001b[0m\u001b[0minputs\u001b[0m\u001b[0;34m\u001b[0m\u001b[0;34m\u001b[0m\u001b[0m\n",
            "\u001b[0;32m/usr/local/lib/python3.6/dist-packages/tensorflow_core/python/framework/op_def_library.py\u001b[0m in \u001b[0;36m_apply_op_helper\u001b[0;34m(self, op_type_name, name, **keywords)\u001b[0m\n\u001b[1;32m    792\u001b[0m         op = g.create_op(op_type_name, inputs, dtypes=None, name=scope,\n\u001b[1;32m    793\u001b[0m                          \u001b[0minput_types\u001b[0m\u001b[0;34m=\u001b[0m\u001b[0minput_types\u001b[0m\u001b[0;34m,\u001b[0m \u001b[0mattrs\u001b[0m\u001b[0;34m=\u001b[0m\u001b[0mattr_protos\u001b[0m\u001b[0;34m,\u001b[0m\u001b[0;34m\u001b[0m\u001b[0;34m\u001b[0m\u001b[0m\n\u001b[0;32m--> 794\u001b[0;31m                          op_def=op_def)\n\u001b[0m\u001b[1;32m    795\u001b[0m \u001b[0;34m\u001b[0m\u001b[0m\n\u001b[1;32m    796\u001b[0m       \u001b[0;31m# Conditionally invoke tfdbg v2's op callback(s).\u001b[0m\u001b[0;34m\u001b[0m\u001b[0;34m\u001b[0m\u001b[0;34m\u001b[0m\u001b[0m\n",
            "\u001b[0;32m/usr/local/lib/python3.6/dist-packages/tensorflow_core/python/util/deprecation.py\u001b[0m in \u001b[0;36mnew_func\u001b[0;34m(*args, **kwargs)\u001b[0m\n\u001b[1;32m    505\u001b[0m                 \u001b[0;34m'in a future version'\u001b[0m \u001b[0;32mif\u001b[0m \u001b[0mdate\u001b[0m \u001b[0;32mis\u001b[0m \u001b[0;32mNone\u001b[0m \u001b[0;32melse\u001b[0m \u001b[0;34m(\u001b[0m\u001b[0;34m'after %s'\u001b[0m \u001b[0;34m%\u001b[0m \u001b[0mdate\u001b[0m\u001b[0;34m)\u001b[0m\u001b[0;34m,\u001b[0m\u001b[0;34m\u001b[0m\u001b[0;34m\u001b[0m\u001b[0m\n\u001b[1;32m    506\u001b[0m                 instructions)\n\u001b[0;32m--> 507\u001b[0;31m       \u001b[0;32mreturn\u001b[0m \u001b[0mfunc\u001b[0m\u001b[0;34m(\u001b[0m\u001b[0;34m*\u001b[0m\u001b[0margs\u001b[0m\u001b[0;34m,\u001b[0m \u001b[0;34m**\u001b[0m\u001b[0mkwargs\u001b[0m\u001b[0;34m)\u001b[0m\u001b[0;34m\u001b[0m\u001b[0;34m\u001b[0m\u001b[0m\n\u001b[0m\u001b[1;32m    508\u001b[0m \u001b[0;34m\u001b[0m\u001b[0m\n\u001b[1;32m    509\u001b[0m     doc = _add_deprecated_arg_notice_to_docstring(\n",
            "\u001b[0;32m/usr/local/lib/python3.6/dist-packages/tensorflow_core/python/framework/ops.py\u001b[0m in \u001b[0;36mcreate_op\u001b[0;34m(***failed resolving arguments***)\u001b[0m\n\u001b[1;32m   3355\u001b[0m         \u001b[0;32mraise\u001b[0m \u001b[0mTypeError\u001b[0m\u001b[0;34m(\u001b[0m\u001b[0;34m\"Input #%d is not a tensor: %s\"\u001b[0m \u001b[0;34m%\u001b[0m \u001b[0;34m(\u001b[0m\u001b[0midx\u001b[0m\u001b[0;34m,\u001b[0m \u001b[0ma\u001b[0m\u001b[0;34m)\u001b[0m\u001b[0;34m)\u001b[0m\u001b[0;34m\u001b[0m\u001b[0;34m\u001b[0m\u001b[0m\n\u001b[1;32m   3356\u001b[0m     return self._create_op_internal(op_type, inputs, dtypes, input_types, name,\n\u001b[0;32m-> 3357\u001b[0;31m                                     attrs, op_def, compute_device)\n\u001b[0m\u001b[1;32m   3358\u001b[0m \u001b[0;34m\u001b[0m\u001b[0m\n\u001b[1;32m   3359\u001b[0m   def _create_op_internal(\n",
            "\u001b[0;32m/usr/local/lib/python3.6/dist-packages/tensorflow_core/python/framework/ops.py\u001b[0m in \u001b[0;36m_create_op_internal\u001b[0;34m(self, op_type, inputs, dtypes, input_types, name, attrs, op_def, compute_device)\u001b[0m\n\u001b[1;32m   3424\u001b[0m           \u001b[0minput_types\u001b[0m\u001b[0;34m=\u001b[0m\u001b[0minput_types\u001b[0m\u001b[0;34m,\u001b[0m\u001b[0;34m\u001b[0m\u001b[0;34m\u001b[0m\u001b[0m\n\u001b[1;32m   3425\u001b[0m           \u001b[0moriginal_op\u001b[0m\u001b[0;34m=\u001b[0m\u001b[0mself\u001b[0m\u001b[0;34m.\u001b[0m\u001b[0m_default_original_op\u001b[0m\u001b[0;34m,\u001b[0m\u001b[0;34m\u001b[0m\u001b[0;34m\u001b[0m\u001b[0m\n\u001b[0;32m-> 3426\u001b[0;31m           op_def=op_def)\n\u001b[0m\u001b[1;32m   3427\u001b[0m       \u001b[0mself\u001b[0m\u001b[0;34m.\u001b[0m\u001b[0m_create_op_helper\u001b[0m\u001b[0;34m(\u001b[0m\u001b[0mret\u001b[0m\u001b[0;34m,\u001b[0m \u001b[0mcompute_device\u001b[0m\u001b[0;34m=\u001b[0m\u001b[0mcompute_device\u001b[0m\u001b[0;34m)\u001b[0m\u001b[0;34m\u001b[0m\u001b[0;34m\u001b[0m\u001b[0m\n\u001b[1;32m   3428\u001b[0m     \u001b[0;32mreturn\u001b[0m \u001b[0mret\u001b[0m\u001b[0;34m\u001b[0m\u001b[0;34m\u001b[0m\u001b[0m\n",
            "\u001b[0;32m/usr/local/lib/python3.6/dist-packages/tensorflow_core/python/framework/ops.py\u001b[0m in \u001b[0;36m__init__\u001b[0;34m(self, node_def, g, inputs, output_types, control_inputs, input_types, original_op, op_def)\u001b[0m\n\u001b[1;32m   1768\u001b[0m           op_def, inputs, node_def.attr)\n\u001b[1;32m   1769\u001b[0m       self._c_op = _create_c_op(self._graph, node_def, grouped_inputs,\n\u001b[0;32m-> 1770\u001b[0;31m                                 control_input_ops)\n\u001b[0m\u001b[1;32m   1771\u001b[0m     \u001b[0;31m# pylint: enable=protected-access\u001b[0m\u001b[0;34m\u001b[0m\u001b[0;34m\u001b[0m\u001b[0;34m\u001b[0m\u001b[0m\n\u001b[1;32m   1772\u001b[0m \u001b[0;34m\u001b[0m\u001b[0m\n",
            "\u001b[0;32m/usr/local/lib/python3.6/dist-packages/tensorflow_core/python/framework/ops.py\u001b[0m in \u001b[0;36m_create_c_op\u001b[0;34m(graph, node_def, inputs, control_inputs)\u001b[0m\n\u001b[1;32m   1608\u001b[0m   \u001b[0;32mexcept\u001b[0m \u001b[0merrors\u001b[0m\u001b[0;34m.\u001b[0m\u001b[0mInvalidArgumentError\u001b[0m \u001b[0;32mas\u001b[0m \u001b[0me\u001b[0m\u001b[0;34m:\u001b[0m\u001b[0;34m\u001b[0m\u001b[0;34m\u001b[0m\u001b[0m\n\u001b[1;32m   1609\u001b[0m     \u001b[0;31m# Convert to ValueError for backwards compatibility.\u001b[0m\u001b[0;34m\u001b[0m\u001b[0;34m\u001b[0m\u001b[0;34m\u001b[0m\u001b[0m\n\u001b[0;32m-> 1610\u001b[0;31m     \u001b[0;32mraise\u001b[0m \u001b[0mValueError\u001b[0m\u001b[0;34m(\u001b[0m\u001b[0mstr\u001b[0m\u001b[0;34m(\u001b[0m\u001b[0me\u001b[0m\u001b[0;34m)\u001b[0m\u001b[0;34m)\u001b[0m\u001b[0;34m\u001b[0m\u001b[0;34m\u001b[0m\u001b[0m\n\u001b[0m\u001b[1;32m   1611\u001b[0m \u001b[0;34m\u001b[0m\u001b[0m\n\u001b[1;32m   1612\u001b[0m   \u001b[0;32mreturn\u001b[0m \u001b[0mc_op\u001b[0m\u001b[0;34m\u001b[0m\u001b[0;34m\u001b[0m\u001b[0m\n",
            "\u001b[0;31mValueError\u001b[0m: Dimensions must be equal, but are 3 and 4 for 'MatMul_1' (op: 'MatMul') with input shapes: [?,3], [4,1]."
          ]
        }
      ]
    },
    {
      "cell_type": "code",
      "metadata": {
        "id": "qEqzwNOjfI4R",
        "outputId": "dda65404-e67f-4ef0-c625-9b9b555d9f42",
        "colab": {
          "base_uri": "https://localhost:8080/",
          "height": 172
        }
      },
      "source": [
        "cost2= tf.reduce_mean(tf.square(hypothesis2 - Y))"
      ],
      "execution_count": 31,
      "outputs": [
        {
          "output_type": "error",
          "ename": "NameError",
          "evalue": "ignored",
          "traceback": [
            "\u001b[0;31m---------------------------------------------------------------------------\u001b[0m",
            "\u001b[0;31mNameError\u001b[0m                                 Traceback (most recent call last)",
            "\u001b[0;32m<ipython-input-31-3ee72dcb09be>\u001b[0m in \u001b[0;36m<module>\u001b[0;34m()\u001b[0m\n\u001b[0;32m----> 1\u001b[0;31m \u001b[0mcost\u001b[0m \u001b[0;34m=\u001b[0m \u001b[0mtf\u001b[0m\u001b[0;34m.\u001b[0m\u001b[0mreduce_mean\u001b[0m\u001b[0;34m(\u001b[0m\u001b[0mtf\u001b[0m\u001b[0;34m.\u001b[0m\u001b[0msquare\u001b[0m\u001b[0;34m(\u001b[0m\u001b[0mhypothesis2\u001b[0m \u001b[0;34m-\u001b[0m \u001b[0mY\u001b[0m\u001b[0;34m)\u001b[0m\u001b[0;34m)\u001b[0m\u001b[0;34m\u001b[0m\u001b[0;34m\u001b[0m\u001b[0m\n\u001b[0m",
            "\u001b[0;31mNameError\u001b[0m: name 'hypothesis2' is not defined"
          ]
        }
      ]
    },
    {
      "cell_type": "code",
      "metadata": {
        "id": "vj42MbKtfQkO"
      },
      "source": [
        "optimizer = tf.train.GradientDescentOptimizer(learning_rate=1e-5)\n",
        "train = optimizer.minimize(cost)"
      ],
      "execution_count": 32,
      "outputs": []
    },
    {
      "cell_type": "code",
      "metadata": {
        "id": "XXtUWe11fa1B"
      },
      "source": [
        "sess = tf.Session()\n",
        "sess.run(tf.global_variables_initializer())"
      ],
      "execution_count": 33,
      "outputs": []
    },
    {
      "cell_type": "code",
      "metadata": {
        "id": "YRIxlAb-fgKD"
      },
      "source": [
        "for step in range(201):\n",
        "  cost_val, hy_val, _ = sess.run([cost2,hypothesis2,train], feed_dict={X:x_data, Y:y_data})\n",
        "  print(step, \"Cost:\",cost_val, \"\\nPrediction:\\n\", hy_val)"
      ],
      "execution_count": null,
      "outputs": []
    },
    {
      "cell_type": "markdown",
      "metadata": {
        "id": "j4bRXZCJgNj9"
      },
      "source": [
        "#############################################"
      ]
    },
    {
      "cell_type": "code",
      "metadata": {
        "id": "WM_YFy8dgPEV"
      },
      "source": [
        "def min_max_scaler(data):\n",
        "  numerator = data-np.min(data,0)\n",
        "  denominator = np.max(data,0) - np.min(data,0)\n",
        "  return numerator / (denominator + 1e-7)"
      ],
      "execution_count": 34,
      "outputs": []
    },
    {
      "cell_type": "code",
      "metadata": {
        "id": "Yxge061ugk-N"
      },
      "source": [
        "xy3 = np.array(\n",
        "    [\n",
        "        [828.659973, 833.450012, 908100, 828.349976, 831.659973],\n",
        "        [823.02002, 828.070007, 1828100, 821.655029, 828.070007],\n",
        "        [819.929993, 824.400024, 1438100, 818.97998, 824.159973],\n",
        "        [816, 820.958984, 1008100, 815.48999, 819.23999],\n",
        "        [819.359985, 823, 1188100, 818.469971, 818.97998],\n",
        "        [819, 823, 1198100, 816, 820.450012],\n",
        "        [811.700012, 815.25, 1098100, 809.780029, 813.669983],\n",
        "        [809.51001, 816.659973, 1398100, 804.539978, 809.559998],\n",
        "    ]\n",
        ") #행렬 : 8 * 5"
      ],
      "execution_count": 36,
      "outputs": []
    },
    {
      "cell_type": "code",
      "metadata": {
        "id": "_7Fcox63grWc",
        "outputId": "4e61e1c4-17d0-441d-c5f2-f3fbc5b73c19",
        "colab": {
          "base_uri": "https://localhost:8080/",
          "height": 161
        }
      },
      "source": [
        "xy3 = min_max_scaler(xy3)\n",
        "print(xy3)"
      ],
      "execution_count": 37,
      "outputs": [
        {
          "output_type": "stream",
          "text": [
            "[[0.99999999 0.99999999 0.         1.         1.        ]\n",
            " [0.70548491 0.70439552 1.         0.71881782 0.83755791]\n",
            " [0.54412549 0.50274824 0.57608696 0.606468   0.6606331 ]\n",
            " [0.33890353 0.31368023 0.10869565 0.45989134 0.43800918]\n",
            " [0.51436    0.42582389 0.30434783 0.58504805 0.42624401]\n",
            " [0.49556179 0.42582389 0.31521739 0.48131134 0.49276137]\n",
            " [0.11436064 0.         0.20652174 0.22007776 0.18597238]\n",
            " [0.         0.07747099 0.5326087  0.         0.        ]]\n"
          ],
          "name": "stdout"
        }
      ]
    },
    {
      "cell_type": "code",
      "metadata": {
        "id": "zO3NrtuZg0mf"
      },
      "source": [
        "x_data = xy3[:,0:-1]\n",
        "y_data = xy3[:,[-1]]"
      ],
      "execution_count": 39,
      "outputs": []
    },
    {
      "cell_type": "code",
      "metadata": {
        "id": "QIjJslJthJYh"
      },
      "source": [
        "X = tf.placeholder(tf.float32, shape=[None,4])\n",
        "Y = tf.placeholder(tf.float32, shape=[None,1])"
      ],
      "execution_count": 40,
      "outputs": []
    },
    {
      "cell_type": "code",
      "metadata": {
        "id": "XJIvyrZShWOO"
      },
      "source": [
        "W = tf.Variable(tf.random_normal([4,1], name='weight'))\n",
        "b = tf.Variable(tf.random_normal([1]), name='bias')"
      ],
      "execution_count": 45,
      "outputs": []
    },
    {
      "cell_type": "code",
      "metadata": {
        "id": "0_0vxr9mjp4L"
      },
      "source": [
        "hypothesis3 = tf.matmul(X,W) + b"
      ],
      "execution_count": 47,
      "outputs": []
    },
    {
      "cell_type": "code",
      "metadata": {
        "id": "8FiWhyMsjxPV"
      },
      "source": [
        "cost3 = tf.reduce_mean(tf.square(hypothesis3 - Y))"
      ],
      "execution_count": 48,
      "outputs": []
    },
    {
      "cell_type": "code",
      "metadata": {
        "id": "y--FZ2PRj4Df"
      },
      "source": [
        "train3= tf.train.GradientDescentOptimizer(learning_rate=0.1).minimize(cost3)"
      ],
      "execution_count": 49,
      "outputs": []
    },
    {
      "cell_type": "code",
      "metadata": {
        "id": "vYnOF4m9kCIW",
        "outputId": "3d5cb7f2-0a74-43f1-edaa-877665cdba67",
        "colab": {
          "base_uri": "https://localhost:8080/",
          "height": 1000
        }
      },
      "source": [
        "with tf.Session() as sess:\n",
        "  sess.run(tf.global_variables_initializer())\n",
        "\n",
        "  for step in range(101):\n",
        "    _, cost_val, hy_val = sess.run(\n",
        "        [train3, cost3, hypothesis3], feed_dict={X:x_data, Y:y_data}\n",
        "    )\n",
        "    print(step, \"Cost:\",cost_val,'\\nPrediction:\\n', hy_val)"
      ],
      "execution_count": 50,
      "outputs": [
        {
          "output_type": "stream",
          "text": [
            "0 Cost: 2.856231 \n",
            "Prediction:\n",
            " [[2.1643527]\n",
            " [3.5874953]\n",
            " [2.595638 ]\n",
            " [1.5331168]\n",
            " [2.0152755]\n",
            " [1.9285139]\n",
            " [1.2778398]\n",
            " [1.7916161]]\n",
            "1 Cost: 1.2392161 \n",
            "Prediction:\n",
            " [[1.3753889]\n",
            " [2.781703 ]\n",
            " [1.9276507]\n",
            " [1.0202208]\n",
            " [1.4081426]\n",
            " [1.3399508]\n",
            " [0.870607 ]\n",
            " [1.3777621]]\n",
            "2 Cost: 0.61463785 \n",
            "Prediction:\n",
            " [[0.8981614 ]\n",
            " [2.279999  ]\n",
            " [1.5133642 ]\n",
            " [0.7041696 ]\n",
            " [1.0336943 ]\n",
            " [0.97629917]\n",
            " [0.6154413 ]\n",
            " [1.1139371 ]]\n",
            "3 Cost: 0.36914152 \n",
            "Prediction:\n",
            " [[0.6131731 ]\n",
            " [1.9661922 ]\n",
            " [1.2558218 ]\n",
            " [0.50971377]\n",
            " [0.8029618 ]\n",
            " [0.7515838 ]\n",
            " [0.4543579 ]\n",
            " [0.94305575]]\n",
            "4 Cost: 0.26868942 \n",
            "Prediction:\n",
            " [[0.44662327]\n",
            " [1.7685132 ]\n",
            " [1.095135  ]\n",
            " [0.39037228]\n",
            " [0.66099197]\n",
            " [0.61269903]\n",
            " [0.35153532]\n",
            " [0.8298481 ]]\n",
            "5 Cost: 0.22396478 \n",
            "Prediction:\n",
            " [[0.35293674]\n",
            " [1.6426296 ]\n",
            " [0.99431014]\n",
            " [0.31743437]\n",
            " [0.57384074]\n",
            " [0.5268422 ]\n",
            " [0.2848422 ]\n",
            " [0.7525202 ]]\n",
            "6 Cost: 0.20086718 \n",
            "Prediction:\n",
            " [[0.3039723 ]\n",
            " [1.5611576 ]\n",
            " [0.9304971 ]\n",
            " [0.2731653 ]\n",
            " [0.52054244]\n",
            " [0.47375137]\n",
            " [0.24060313]\n",
            " [0.69760174]]\n",
            "7 Cost: 0.1863641 \n",
            "Prediction:\n",
            " [[0.28235662]\n",
            " [1.5071814 ]\n",
            " [0.88958013]\n",
            " [0.2466098 ]\n",
            " [0.48814666]\n",
            " [0.4409104 ]\n",
            " [0.21036613]\n",
            " [0.65676415]]\n",
            "8 Cost: 0.17546232 \n",
            "Prediction:\n",
            " [[0.27736777]\n",
            " [1.4702512 ]\n",
            " [0.8628397 ]\n",
            " [0.23100092]\n",
            " [0.4686547 ]\n",
            " [0.42058825]\n",
            " [0.18890585]\n",
            " [0.62485534]]\n",
            "9 Cost: 0.16623718 \n",
            "Prediction:\n",
            " [[0.2823912 ]\n",
            " [1.4439108 ]\n",
            " [0.8448889 ]\n",
            " [0.22215769]\n",
            " [0.45712572]\n",
            " [0.40800887]\n",
            " [0.17298979]\n",
            " [0.598685  ]]\n",
            "10 Cost: 0.15793605 \n",
            "Prediction:\n",
            " [[0.29334962]\n",
            " [1.4241719 ]\n",
            " [0.83239967]\n",
            " [0.21749735]\n",
            " [0.45050818]\n",
            " [0.40022177]\n",
            " [0.16061708]\n",
            " [0.5762753 ]]\n",
            "11 Cost: 0.15025456 \n",
            "Prediction:\n",
            " [[0.30773258]\n",
            " [1.4085693 ]\n",
            " [0.8233152 ]\n",
            " [0.21542393]\n",
            " [0.44691724]\n",
            " [0.39540404]\n",
            " [0.15054716]\n",
            " [0.5563972 ]]\n",
            "12 Cost: 0.14306043 \n",
            "Prediction:\n",
            " [[0.32399732]\n",
            " [1.3955793 ]\n",
            " [0.8163645 ]\n",
            " [0.21495116]\n",
            " [0.44518876]\n",
            " [0.3924293 ]\n",
            " [0.1420098 ]\n",
            " [0.5382849 ]]\n",
            "13 Cost: 0.1362881 \n",
            "Prediction:\n",
            " [[0.34119815]\n",
            " [1.3842598 ]\n",
            " [0.8107617 ]\n",
            " [0.21546926]\n",
            " [0.44460386]\n",
            " [0.39060146]\n",
            " [0.13452505]\n",
            " [0.5214583 ]]\n",
            "14 Cost: 0.12989838 \n",
            "Prediction:\n",
            " [[0.35875827]\n",
            " [1.3740276 ]\n",
            " [0.8060204 ]\n",
            " [0.21660109]\n",
            " [0.44471854]\n",
            " [0.38949   ]\n",
            " [0.12779249]\n",
            " [0.50561464]]\n",
            "15 Cost: 0.12386306 \n",
            "Prediction:\n",
            " [[0.37632835]\n",
            " [1.3645215 ]\n",
            " [0.80183953]\n",
            " [0.21811327]\n",
            " [0.44525856]\n",
            " [0.3888288 ]\n",
            " [0.12162283]\n",
            " [0.49056053]]\n",
            "16 Cost: 0.11815886 \n",
            "Prediction:\n",
            " [[0.39369938]\n",
            " [1.3555171 ]\n",
            " [0.7980324 ]\n",
            " [0.21986118]\n",
            " [0.4460548 ]\n",
            " [0.38845298]\n",
            " [0.11589545]\n",
            " [0.47617027]]\n",
            "17 Cost: 0.11276534 \n",
            "Prediction:\n",
            " [[0.41074884]\n",
            " [1.3468753 ]\n",
            " [0.79448295]\n",
            " [0.22175509]\n",
            " [0.44700277]\n",
            " [0.38826025]\n",
            " [0.11053231]\n",
            " [0.46236062]]\n",
            "18 Cost: 0.10766369 \n",
            "Prediction:\n",
            " [[0.42740738]\n",
            " [1.3385088 ]\n",
            " [0.79111886]\n",
            " [0.22373907]\n",
            " [0.44803804]\n",
            " [0.38818735]\n",
            " [0.10548188]\n",
            " [0.44907433]]\n",
            "19 Cost: 0.10283647 \n",
            "Prediction:\n",
            " [[0.44363827]\n",
            " [1.3303626 ]\n",
            " [0.78789467]\n",
            " [0.2257783 ]\n",
            " [0.44912094]\n",
            " [0.38819462]\n",
            " [0.10070883]\n",
            " [0.4362706 ]]\n",
            "20 Cost: 0.098267466 \n",
            "Prediction:\n",
            " [[0.4594247 ]\n",
            " [1.3224022 ]\n",
            " [0.7847818 ]\n",
            " [0.22785085]\n",
            " [0.45022693]\n",
            " [0.3882574 ]\n",
            " [0.09618843]\n",
            " [0.42391893]]\n",
            "21 Cost: 0.09394145 \n",
            "Prediction:\n",
            " [[0.4747621 ]\n",
            " [1.3146052 ]\n",
            " [0.781762  ]\n",
            " [0.22994289]\n",
            " [0.45134112]\n",
            " [0.3883601 ]\n",
            " [0.09190211]\n",
            " [0.4119952 ]]\n",
            "22 Cost: 0.08984408 \n",
            "Prediction:\n",
            " [[0.4896532 ]\n",
            " [1.3069565 ]\n",
            " [0.778823  ]\n",
            " [0.23204544]\n",
            " [0.4524543 ]\n",
            " [0.3884928 ]\n",
            " [0.08783555]\n",
            " [0.40047982]]\n",
            "23 Cost: 0.08596206 \n",
            "Prediction:\n",
            " [[0.50410485]\n",
            " [1.2994463 ]\n",
            " [0.7759572 ]\n",
            " [0.23415267]\n",
            " [0.45356086]\n",
            " [0.38864896]\n",
            " [0.08397701]\n",
            " [0.38935557]]\n",
            "24 Cost: 0.08228282 \n",
            "Prediction:\n",
            " [[0.5181267 ]\n",
            " [1.2920678 ]\n",
            " [0.7731589 ]\n",
            " [0.23626071]\n",
            " [0.45465732]\n",
            " [0.38882446]\n",
            " [0.08031651]\n",
            " [0.3786075 ]]\n",
            "25 Cost: 0.078794554 \n",
            "Prediction:\n",
            " [[0.5317297 ]\n",
            " [1.2848152 ]\n",
            " [0.7704241 ]\n",
            " [0.23836681]\n",
            " [0.4557419 ]\n",
            " [0.38901642]\n",
            " [0.07684517]\n",
            " [0.36822173]]\n",
            "26 Cost: 0.07548627 \n",
            "Prediction:\n",
            " [[0.5449254 ]\n",
            " [1.2776852 ]\n",
            " [0.76775   ]\n",
            " [0.24046908]\n",
            " [0.45681334]\n",
            " [0.38922286]\n",
            " [0.07355507]\n",
            " [0.3581854 ]]\n",
            "27 Cost: 0.07234754 \n",
            "Prediction:\n",
            " [[0.5577256 ]\n",
            " [1.2706739 ]\n",
            " [0.7651341 ]\n",
            " [0.24256612]\n",
            " [0.45787102]\n",
            " [0.3894422 ]\n",
            " [0.07043861]\n",
            " [0.34848624]]\n",
            "28 Cost: 0.06936867 \n",
            "Prediction:\n",
            " [[0.5701423 ]\n",
            " [1.2637787 ]\n",
            " [0.7625744 ]\n",
            " [0.24465671]\n",
            " [0.45891464]\n",
            " [0.38967323]\n",
            " [0.06748894]\n",
            " [0.33911282]]\n",
            "29 Cost: 0.0665405 \n",
            "Prediction:\n",
            " [[0.5821873 ]\n",
            " [1.2569971 ]\n",
            " [0.76006925]\n",
            " [0.2467399 ]\n",
            " [0.45994404]\n",
            " [0.38991514]\n",
            " [0.06469938]\n",
            " [0.33005401]]\n",
            "30 Cost: 0.06385447 \n",
            "Prediction:\n",
            " [[0.5938718 ]\n",
            " [1.2503266 ]\n",
            " [0.7576169 ]\n",
            " [0.24881493]\n",
            " [0.46095932]\n",
            " [0.39016706]\n",
            " [0.06206362]\n",
            " [0.32129925]]\n",
            "31 Cost: 0.061302535 \n",
            "Prediction:\n",
            " [[0.6052072 ]\n",
            " [1.2437652 ]\n",
            " [0.7552161 ]\n",
            " [0.25088108]\n",
            " [0.46196043]\n",
            " [0.39042825]\n",
            " [0.0595756 ]\n",
            " [0.31283826]]\n",
            "32 Cost: 0.058877103 \n",
            "Prediction:\n",
            " [[0.6162045 ]\n",
            " [1.2373108 ]\n",
            " [0.75286555]\n",
            " [0.2529378 ]\n",
            " [0.46294755]\n",
            " [0.39069825]\n",
            " [0.05722953]\n",
            " [0.30466127]]\n",
            "33 Cost: 0.056571115 \n",
            "Prediction:\n",
            " [[0.6268742 ]\n",
            " [1.2309614 ]\n",
            " [0.75056386]\n",
            " [0.25498438]\n",
            " [0.46392092]\n",
            " [0.39097628]\n",
            " [0.05501986]\n",
            " [0.2967588 ]]\n",
            "34 Cost: 0.054377846 \n",
            "Prediction:\n",
            " [[0.6372266 ]\n",
            " [1.2247149 ]\n",
            " [0.74830985]\n",
            " [0.25702035]\n",
            " [0.46488056]\n",
            " [0.3912618 ]\n",
            " [0.05294114]\n",
            " [0.28912154]]\n",
            "35 Cost: 0.052291058 \n",
            "Prediction:\n",
            " [[0.6472717 ]\n",
            " [1.2185696 ]\n",
            " [0.7461023 ]\n",
            " [0.25904524]\n",
            " [0.46582675]\n",
            " [0.39155447]\n",
            " [0.05098827]\n",
            " [0.28174078]]\n",
            "36 Cost: 0.050304838 \n",
            "Prediction:\n",
            " [[0.657019  ]\n",
            " [1.2125236 ]\n",
            " [0.7439399 ]\n",
            " [0.26105857]\n",
            " [0.46675956]\n",
            " [0.3918537 ]\n",
            " [0.0491562 ]\n",
            " [0.27460778]]\n",
            "37 Cost: 0.04841367 \n",
            "Prediction:\n",
            " [[0.66647804]\n",
            " [1.2065752 ]\n",
            " [0.741822  ]\n",
            " [0.26305997]\n",
            " [0.46767932]\n",
            " [0.3921591 ]\n",
            " [0.04744016]\n",
            " [0.26771444]]\n",
            "38 Cost: 0.046612322 \n",
            "Prediction:\n",
            " [[0.6756578 ]\n",
            " [1.2007225 ]\n",
            " [0.73974717]\n",
            " [0.26504904]\n",
            " [0.4685861 ]\n",
            " [0.39247012]\n",
            " [0.04583545]\n",
            " [0.2610526 ]]\n",
            "39 Cost: 0.04489591 \n",
            "Prediction:\n",
            " [[0.6845669 ]\n",
            " [1.1949637 ]\n",
            " [0.7377143 ]\n",
            " [0.2670253 ]\n",
            " [0.46948004]\n",
            " [0.39278638]\n",
            " [0.04433765]\n",
            " [0.25461465]]\n",
            "40 Cost: 0.043259837 \n",
            "Prediction:\n",
            " [[0.69321406]\n",
            " [1.1892974 ]\n",
            " [0.7357229 ]\n",
            " [0.2689885 ]\n",
            " [0.47036147]\n",
            " [0.3931076 ]\n",
            " [0.04294249]\n",
            " [0.24839312]]\n",
            "41 Cost: 0.041699767 \n",
            "Prediction:\n",
            " [[0.7016073 ]\n",
            " [1.183722  ]\n",
            " [0.7337715 ]\n",
            " [0.27093834]\n",
            " [0.4712305 ]\n",
            " [0.3934332 ]\n",
            " [0.04164572]\n",
            " [0.24238066]]\n",
            "42 Cost: 0.040211618 \n",
            "Prediction:\n",
            " [[0.7097545 ]\n",
            " [1.1782357 ]\n",
            " [0.73185915]\n",
            " [0.27287436]\n",
            " [0.4720872 ]\n",
            " [0.39376295]\n",
            " [0.04044341]\n",
            " [0.23657037]]\n",
            "43 Cost: 0.038791575 \n",
            "Prediction:\n",
            " [[0.7176635 ]\n",
            " [1.172837  ]\n",
            " [0.72998524]\n",
            " [0.27479643]\n",
            " [0.4729319 ]\n",
            " [0.39409634]\n",
            " [0.03933159]\n",
            " [0.23095545]]\n",
            "44 Cost: 0.037435986 \n",
            "Prediction:\n",
            " [[0.7253417 ]\n",
            " [1.1675242 ]\n",
            " [0.7281486 ]\n",
            " [0.27670428]\n",
            " [0.4737647 ]\n",
            " [0.3944333 ]\n",
            " [0.03830665]\n",
            " [0.22552943]]\n",
            "45 Cost: 0.036141507 \n",
            "Prediction:\n",
            " [[0.7327962 ]\n",
            " [1.1622962 ]\n",
            " [0.72634864]\n",
            " [0.27859768]\n",
            " [0.47458586]\n",
            " [0.3947734 ]\n",
            " [0.03736493]\n",
            " [0.22028598]]\n",
            "46 Cost: 0.034904893 \n",
            "Prediction:\n",
            " [[0.740034  ]\n",
            " [1.157151  ]\n",
            " [0.72458416]\n",
            " [0.28047627]\n",
            " [0.47539532]\n",
            " [0.3951161 ]\n",
            " [0.03650297]\n",
            " [0.21521889]]\n",
            "47 Cost: 0.033723176 \n",
            "Prediction:\n",
            " [[0.7470618 ]\n",
            " [1.1520877 ]\n",
            " [0.72285444]\n",
            " [0.28233993]\n",
            " [0.47619343]\n",
            " [0.39546132]\n",
            " [0.03571749]\n",
            " [0.21032238]]\n",
            "48 Cost: 0.03259347 \n",
            "Prediction:\n",
            " [[0.75388616]\n",
            " [1.1471043 ]\n",
            " [0.72115874]\n",
            " [0.28418845]\n",
            " [0.47698027]\n",
            " [0.39580876]\n",
            " [0.03500514]\n",
            " [0.20559071]]\n",
            "49 Cost: 0.031513136 \n",
            "Prediction:\n",
            " [[0.7605135 ]\n",
            " [1.1422    ]\n",
            " [0.71949625]\n",
            " [0.28602177]\n",
            " [0.47775602]\n",
            " [0.39615822]\n",
            " [0.03436296]\n",
            " [0.20101835]]\n",
            "50 Cost: 0.030479632 \n",
            "Prediction:\n",
            " [[0.7669497 ]\n",
            " [1.137373  ]\n",
            " [0.7178663 ]\n",
            " [0.28783965]\n",
            " [0.47852087]\n",
            " [0.39650923]\n",
            " [0.03378792]\n",
            " [0.1966    ]]\n",
            "51 Cost: 0.029490601 \n",
            "Prediction:\n",
            " [[0.77320075]\n",
            " [1.1326221 ]\n",
            " [0.71626794]\n",
            " [0.2896418 ]\n",
            " [0.47927487]\n",
            " [0.3968616 ]\n",
            " [0.03327708]\n",
            " [0.1923305 ]]\n",
            "52 Cost: 0.02854378 \n",
            "Prediction:\n",
            " [[0.77927256]\n",
            " [1.1279461 ]\n",
            " [0.71470076]\n",
            " [0.2914284 ]\n",
            " [0.48001844]\n",
            " [0.3972153 ]\n",
            " [0.03282776]\n",
            " [0.18820485]]\n",
            "53 Cost: 0.027637076 \n",
            "Prediction:\n",
            " [[0.7851704 ]\n",
            " [1.1233437 ]\n",
            " [0.7131637 ]\n",
            " [0.293199  ]\n",
            " [0.48075145]\n",
            " [0.39756995]\n",
            " [0.03243724]\n",
            " [0.18421829]]\n",
            "54 Cost: 0.026768476 \n",
            "Prediction:\n",
            " [[0.7908997 ]\n",
            " [1.1188135 ]\n",
            " [0.7116562 ]\n",
            " [0.29495382]\n",
            " [0.4814741 ]\n",
            " [0.39792526]\n",
            " [0.0321029 ]\n",
            " [0.18036605]]\n",
            "55 Cost: 0.02593609 \n",
            "Prediction:\n",
            " [[0.7964657 ]\n",
            " [1.1143541 ]\n",
            " [0.7101777 ]\n",
            " [0.29669255]\n",
            " [0.4821865 ]\n",
            " [0.39828116]\n",
            " [0.03182234]\n",
            " [0.17664371]]\n",
            "56 Cost: 0.025138177 \n",
            "Prediction:\n",
            " [[0.80187356]\n",
            " [1.109965  ]\n",
            " [0.7087276 ]\n",
            " [0.29841524]\n",
            " [0.48288912]\n",
            " [0.3986374 ]\n",
            " [0.03159314]\n",
            " [0.17304696]]\n",
            "57 Cost: 0.02437304 \n",
            "Prediction:\n",
            " [[0.80712783]\n",
            " [1.1056443 ]\n",
            " [0.70730495]\n",
            " [0.30012167]\n",
            " [0.48358166]\n",
            " [0.3989938 ]\n",
            " [0.03141296]\n",
            " [0.1695715 ]]\n",
            "58 Cost: 0.023639087 \n",
            "Prediction:\n",
            " [[0.8122332 ]\n",
            " [1.1013911 ]\n",
            " [0.70590925]\n",
            " [0.30181184]\n",
            " [0.4842644 ]\n",
            " [0.39935008]\n",
            " [0.03127961]\n",
            " [0.1662133 ]]\n",
            "59 Cost: 0.02293482 \n",
            "Prediction:\n",
            " [[0.81719464]\n",
            " [1.0972042 ]\n",
            " [0.7045401 ]\n",
            " [0.30348575]\n",
            " [0.4849376 ]\n",
            " [0.39970624]\n",
            " [0.03119098]\n",
            " [0.16296846]]\n",
            "60 Cost: 0.022258827 \n",
            "Prediction:\n",
            " [[0.8220162 ]\n",
            " [1.0930824 ]\n",
            " [0.7031968 ]\n",
            " [0.30514342]\n",
            " [0.48560125]\n",
            " [0.40006196]\n",
            " [0.03114496]\n",
            " [0.15983315]]\n",
            "61 Cost: 0.021609783 \n",
            "Prediction:\n",
            " [[0.8267023 ]\n",
            " [1.089025  ]\n",
            " [0.7018787 ]\n",
            " [0.3067848 ]\n",
            " [0.4862557 ]\n",
            " [0.40041727]\n",
            " [0.03113967]\n",
            " [0.15680376]]\n",
            "62 Cost: 0.020986408 \n",
            "Prediction:\n",
            " [[0.83125716]\n",
            " [1.0850307 ]\n",
            " [0.70058554]\n",
            " [0.3084098 ]\n",
            " [0.486901  ]\n",
            " [0.40077192]\n",
            " [0.03117312]\n",
            " [0.15387665]]\n",
            "63 Cost: 0.020387512 \n",
            "Prediction:\n",
            " [[0.83568454]\n",
            " [1.0810983 ]\n",
            " [0.69931626]\n",
            " [0.31001845]\n",
            " [0.48753712]\n",
            " [0.40112576]\n",
            " [0.03124347]\n",
            " [0.15104836]]\n",
            "64 Cost: 0.019811958 \n",
            "Prediction:\n",
            " [[0.83998847]\n",
            " [1.0772269 ]\n",
            " [0.6980709 ]\n",
            " [0.31161076]\n",
            " [0.48816425]\n",
            " [0.4014786 ]\n",
            " [0.03134896]\n",
            " [0.14831571]]\n",
            "65 Cost: 0.019258674 \n",
            "Prediction:\n",
            " [[0.84417254]\n",
            " [1.0734153 ]\n",
            " [0.69684845]\n",
            " [0.31318665]\n",
            " [0.48878264]\n",
            " [0.40183038]\n",
            " [0.03148794]\n",
            " [0.14567536]]\n",
            "66 Cost: 0.018726649 \n",
            "Prediction:\n",
            " [[0.8482406 ]\n",
            " [1.0696628 ]\n",
            " [0.6956488 ]\n",
            " [0.31474632]\n",
            " [0.48939234]\n",
            " [0.40218103]\n",
            " [0.03165874]\n",
            " [0.14312428]]\n",
            "67 Cost: 0.018214926 \n",
            "Prediction:\n",
            " [[0.8521959 ]\n",
            " [1.0659683 ]\n",
            " [0.6944711 ]\n",
            " [0.3162896 ]\n",
            " [0.4899934 ]\n",
            " [0.40253037]\n",
            " [0.03185977]\n",
            " [0.1406595 ]]\n",
            "68 Cost: 0.01772258 \n",
            "Prediction:\n",
            " [[0.856042  ]\n",
            " [1.0623306 ]\n",
            " [0.69331527]\n",
            " [0.3178166 ]\n",
            " [0.490586  ]\n",
            " [0.4028783 ]\n",
            " [0.03208955]\n",
            " [0.13827804]]\n",
            "69 Cost: 0.017248753 \n",
            "Prediction:\n",
            " [[0.8597825 ]\n",
            " [1.0587492 ]\n",
            " [0.69218045]\n",
            " [0.3193274 ]\n",
            " [0.49117035]\n",
            " [0.4032247 ]\n",
            " [0.03234661]\n",
            " [0.13597716]]\n",
            "70 Cost: 0.016792648 \n",
            "Prediction:\n",
            " [[0.8634201 ]\n",
            " [1.0552231 ]\n",
            " [0.6910666 ]\n",
            " [0.32082197]\n",
            " [0.49174652]\n",
            " [0.4035696 ]\n",
            " [0.03262956]\n",
            " [0.13375413]]\n",
            "71 Cost: 0.016353445 \n",
            "Prediction:\n",
            " [[0.8669581 ]\n",
            " [1.0517509 ]\n",
            " [0.68997294]\n",
            " [0.32230043]\n",
            " [0.49231452]\n",
            " [0.40391272]\n",
            " [0.03293702]\n",
            " [0.13160628]]\n",
            "72 Cost: 0.015930451 \n",
            "Prediction:\n",
            " [[0.8703993 ]\n",
            " [1.0483323 ]\n",
            " [0.6888991 ]\n",
            " [0.3237627 ]\n",
            " [0.4928745 ]\n",
            " [0.40425408]\n",
            " [0.03326772]\n",
            " [0.12953119]]\n",
            "73 Cost: 0.01552293 \n",
            "Prediction:\n",
            " [[0.87374693]\n",
            " [1.044966  ]\n",
            " [0.68784493]\n",
            " [0.32520908]\n",
            " [0.49342668]\n",
            " [0.40459365]\n",
            " [0.03362043]\n",
            " [0.12752639]]\n",
            "74 Cost: 0.015130253 \n",
            "Prediction:\n",
            " [[0.87700355]\n",
            " [1.0416515 ]\n",
            " [0.68680966]\n",
            " [0.32663938]\n",
            " [0.49397108]\n",
            " [0.40493116]\n",
            " [0.03399391]\n",
            " [0.12558943]]\n",
            "75 Cost: 0.014751764 \n",
            "Prediction:\n",
            " [[0.8801721 ]\n",
            " [1.0383878 ]\n",
            " [0.68579316]\n",
            " [0.32805383]\n",
            " [0.49450797]\n",
            " [0.40526682]\n",
            " [0.03438707]\n",
            " [0.12371813]]\n",
            "76 Cost: 0.014386874 \n",
            "Prediction:\n",
            " [[0.8832549 ]\n",
            " [1.0351739 ]\n",
            " [0.68479484]\n",
            " [0.3294524 ]\n",
            " [0.4950372 ]\n",
            " [0.40560025]\n",
            " [0.03479873]\n",
            " [0.12191018]]\n",
            "77 Cost: 0.014035016 \n",
            "Prediction:\n",
            " [[0.8862548 ]\n",
            " [1.0320094 ]\n",
            " [0.6838145 ]\n",
            " [0.33083522]\n",
            " [0.49555904]\n",
            " [0.40593165]\n",
            " [0.03522788]\n",
            " [0.12016357]]\n",
            "78 Cost: 0.013695636 \n",
            "Prediction:\n",
            " [[0.8891741 ]\n",
            " [1.028893  ]\n",
            " [0.6828517 ]\n",
            " [0.3322024 ]\n",
            " [0.49607357]\n",
            " [0.40626082]\n",
            " [0.03567348]\n",
            " [0.11847609]]\n",
            "79 Cost: 0.01336823 \n",
            "Prediction:\n",
            " [[0.89201516]\n",
            " [1.0258242 ]\n",
            " [0.6819059 ]\n",
            " [0.33355397]\n",
            " [0.49658084]\n",
            " [0.40658778]\n",
            " [0.03613456]\n",
            " [0.11684589]]\n",
            "80 Cost: 0.013052312 \n",
            "Prediction:\n",
            " [[0.8947804 ]\n",
            " [1.0228024 ]\n",
            " [0.68097717]\n",
            " [0.33489   ]\n",
            " [0.49708104]\n",
            " [0.40691245]\n",
            " [0.03661016]\n",
            " [0.11527093]]\n",
            "81 Cost: 0.012747396 \n",
            "Prediction:\n",
            " [[0.8974721 ]\n",
            " [1.0198263 ]\n",
            " [0.68006474]\n",
            " [0.33621067]\n",
            " [0.4975742 ]\n",
            " [0.40723467]\n",
            " [0.03709938]\n",
            " [0.11374937]]\n",
            "82 Cost: 0.012453071 \n",
            "Prediction:\n",
            " [[0.9000922 ]\n",
            " [1.0168959 ]\n",
            " [0.6791685 ]\n",
            " [0.33751595]\n",
            " [0.49806046]\n",
            " [0.40755457]\n",
            " [0.03760137]\n",
            " [0.11227946]]\n",
            "83 Cost: 0.012168881 \n",
            "Prediction:\n",
            " [[0.9026429 ]\n",
            " [1.0140097 ]\n",
            " [0.67828804]\n",
            " [0.33880597]\n",
            " [0.49853987]\n",
            " [0.40787202]\n",
            " [0.03811528]\n",
            " [0.11085944]]\n",
            "84 Cost: 0.011894437 \n",
            "Prediction:\n",
            " [[0.90512645]\n",
            " [1.0111675 ]\n",
            " [0.677423  ]\n",
            " [0.340081  ]\n",
            " [0.49901262]\n",
            " [0.40818694]\n",
            " [0.03864029]\n",
            " [0.10948759]]\n",
            "85 Cost: 0.011629368 \n",
            "Prediction:\n",
            " [[0.90754455]\n",
            " [1.0083687 ]\n",
            " [0.6765733 ]\n",
            " [0.3413409 ]\n",
            " [0.49947876]\n",
            " [0.40849942]\n",
            " [0.03917569]\n",
            " [0.10816231]]\n",
            "86 Cost: 0.011373274 \n",
            "Prediction:\n",
            " [[0.90989935]\n",
            " [1.005612  ]\n",
            " [0.67573833]\n",
            " [0.34258592]\n",
            " [0.49993837]\n",
            " [0.40880936]\n",
            " [0.0397207 ]\n",
            " [0.10688202]]\n",
            "87 Cost: 0.011125833 \n",
            "Prediction:\n",
            " [[0.9121925 ]\n",
            " [1.0028973 ]\n",
            " [0.6749181 ]\n",
            " [0.34381622]\n",
            " [0.50039154]\n",
            " [0.4091167 ]\n",
            " [0.04027461]\n",
            " [0.10564519]]\n",
            "88 Cost: 0.010886708 \n",
            "Prediction:\n",
            " [[0.91442597]\n",
            " [1.0002238 ]\n",
            " [0.6741121 ]\n",
            " [0.34503174]\n",
            " [0.5008384 ]\n",
            " [0.40942144]\n",
            " [0.04083678]\n",
            " [0.1044504 ]]\n",
            "89 Cost: 0.010655569 \n",
            "Prediction:\n",
            " [[0.9166014 ]\n",
            " [0.99759054]\n",
            " [0.67332006]\n",
            " [0.34623265]\n",
            " [0.501279  ]\n",
            " [0.40972364]\n",
            " [0.04140653]\n",
            " [0.10329618]]\n",
            "90 Cost: 0.010432126 \n",
            "Prediction:\n",
            " [[0.9187205 ]\n",
            " [0.99499726]\n",
            " [0.67254174]\n",
            " [0.3474191 ]\n",
            " [0.5017135 ]\n",
            " [0.41002312]\n",
            " [0.04198322]\n",
            " [0.10218114]]\n",
            "91 Cost: 0.0102160815 \n",
            "Prediction:\n",
            " [[0.92078483]\n",
            " [0.9924432 ]\n",
            " [0.671777  ]\n",
            " [0.34859118]\n",
            " [0.50214183]\n",
            " [0.4103199 ]\n",
            " [0.0425663 ]\n",
            " [0.10110399]]\n",
            "92 Cost: 0.010007154 \n",
            "Prediction:\n",
            " [[0.922796  ]\n",
            " [0.98992765]\n",
            " [0.67102534]\n",
            " [0.3497491 ]\n",
            " [0.5025642 ]\n",
            " [0.410614  ]\n",
            " [0.04315516]\n",
            " [0.10006344]]\n",
            "93 Cost: 0.009805083 \n",
            "Prediction:\n",
            " [[0.9247557 ]\n",
            " [0.9874501 ]\n",
            " [0.6702867 ]\n",
            " [0.35089284]\n",
            " [0.50298077]\n",
            " [0.4109056 ]\n",
            " [0.04374929]\n",
            " [0.09905826]]\n",
            "94 Cost: 0.009609619 \n",
            "Prediction:\n",
            " [[0.92666507]\n",
            " [0.9850099 ]\n",
            " [0.66956073]\n",
            " [0.35202253]\n",
            " [0.5033914 ]\n",
            " [0.41119426]\n",
            " [0.04434809]\n",
            " [0.09808722]]\n",
            "95 Cost: 0.009420512 \n",
            "Prediction:\n",
            " [[0.9285259 ]\n",
            " [0.9826064 ]\n",
            " [0.6688471 ]\n",
            " [0.3531383 ]\n",
            " [0.50379634]\n",
            " [0.41148022]\n",
            " [0.04495114]\n",
            " [0.09714922]]\n",
            "96 Cost: 0.009237528 \n",
            "Prediction:\n",
            " [[0.93033946]\n",
            " [0.98023915]\n",
            " [0.6681458 ]\n",
            " [0.3542404 ]\n",
            " [0.5041956 ]\n",
            " [0.41176352]\n",
            " [0.04555792]\n",
            " [0.09624308]]\n",
            "97 Cost: 0.009060453 \n",
            "Prediction:\n",
            " [[0.932107  ]\n",
            " [0.97790754]\n",
            " [0.6674564 ]\n",
            " [0.3553288 ]\n",
            " [0.5045893 ]\n",
            " [0.41204405]\n",
            " [0.046168  ]\n",
            " [0.09536773]]\n",
            "98 Cost: 0.008889077 \n",
            "Prediction:\n",
            " [[0.93382996]\n",
            " [0.97561115]\n",
            " [0.66677874]\n",
            " [0.3564036 ]\n",
            " [0.50497764]\n",
            " [0.41232187]\n",
            " [0.04678093]\n",
            " [0.09452219]]\n",
            "99 Cost: 0.008723176 \n",
            "Prediction:\n",
            " [[0.93550956]\n",
            " [0.9733491 ]\n",
            " [0.66611266]\n",
            " [0.35746512]\n",
            " [0.50536036]\n",
            " [0.4125969 ]\n",
            " [0.04739624]\n",
            " [0.09370536]]\n",
            "100 Cost: 0.0085625695 \n",
            "Prediction:\n",
            " [[0.9371472 ]\n",
            " [0.971121  ]\n",
            " [0.6654577 ]\n",
            " [0.3585133 ]\n",
            " [0.5057379 ]\n",
            " [0.41286916]\n",
            " [0.04801361]\n",
            " [0.09291631]]\n"
          ],
          "name": "stdout"
        }
      ]
    },
    {
      "cell_type": "markdown",
      "metadata": {
        "id": "6zLSkqAHkmIQ"
      },
      "source": [
        "######################################"
      ]
    },
    {
      "cell_type": "markdown",
      "metadata": {
        "id": "cwRqAqnAlhYt"
      },
      "source": [
        "# no.4"
      ]
    },
    {
      "cell_type": "code",
      "metadata": {
        "id": "Tsh7MNcFklkB"
      },
      "source": [
        "import matplotlib.pyplot as plt\n",
        "import random"
      ],
      "execution_count": 51,
      "outputs": []
    },
    {
      "cell_type": "code",
      "metadata": {
        "id": "xHLwn83nkt65"
      },
      "source": [
        "tf.set_random_seed(777)"
      ],
      "execution_count": 52,
      "outputs": []
    },
    {
      "cell_type": "code",
      "metadata": {
        "id": "Yl-tSWEgkwnM",
        "outputId": "b4e395c4-f70b-496a-e33c-4b72e2596b0b",
        "colab": {
          "base_uri": "https://localhost:8080/",
          "height": 316
        }
      },
      "source": [
        "from tensorflow.exaples.tutorials.mnist import input_data"
      ],
      "execution_count": 53,
      "outputs": [
        {
          "output_type": "error",
          "ename": "ModuleNotFoundError",
          "evalue": "ignored",
          "traceback": [
            "\u001b[0;31m---------------------------------------------------------------------------\u001b[0m",
            "\u001b[0;31mModuleNotFoundError\u001b[0m                       Traceback (most recent call last)",
            "\u001b[0;32m<ipython-input-53-5c2923a4943e>\u001b[0m in \u001b[0;36m<module>\u001b[0;34m()\u001b[0m\n\u001b[0;32m----> 1\u001b[0;31m \u001b[0;32mfrom\u001b[0m \u001b[0mtensorflow\u001b[0m\u001b[0;34m.\u001b[0m\u001b[0mexaples\u001b[0m\u001b[0;34m.\u001b[0m\u001b[0mtutorials\u001b[0m\u001b[0;34m.\u001b[0m\u001b[0mmnist\u001b[0m \u001b[0;32mimport\u001b[0m \u001b[0minput_data\u001b[0m\u001b[0;34m\u001b[0m\u001b[0;34m\u001b[0m\u001b[0m\n\u001b[0m",
            "\u001b[0;31mModuleNotFoundError\u001b[0m: No module named 'tensorflow.exaples'",
            "",
            "\u001b[0;31m---------------------------------------------------------------------------\u001b[0;32m\nNOTE: If your import is failing due to a missing package, you can\nmanually install dependencies using either !pip or !apt.\n\nTo view examples of installing some common dependencies, click the\n\"Open Examples\" button below.\n\u001b[0;31m---------------------------------------------------------------------------\u001b[0m\n"
          ]
        }
      ]
    },
    {
      "cell_type": "code",
      "metadata": {
        "id": "KURueohak2k3"
      },
      "source": [
        "mnist = input_data.read_data_sets('mnist_data', one_not=True)"
      ],
      "execution_count": null,
      "outputs": []
    },
    {
      "cell_type": "code",
      "metadata": {
        "id": "j28bK1UVl09C"
      },
      "source": [
        "nb_classes = 10"
      ],
      "execution_count": null,
      "outputs": []
    },
    {
      "cell_type": "code",
      "metadata": {
        "id": "bd2Fstgzl29B"
      },
      "source": [
        "X = tf.placeholder(tf.flaot32, [None,784])\n",
        "Y = tf.placeholder(tf.float32, [None, nb_classes])"
      ],
      "execution_count": null,
      "outputs": []
    },
    {
      "cell_type": "code",
      "metadata": {
        "id": "fqRmBCL3mV48"
      },
      "source": [
        "W = tf.Variable(tf.random_normal([784, nb_classes]))\n",
        "b = tf.Variable(tf.random_normal([nb_classes]))"
      ],
      "execution_count": null,
      "outputs": []
    },
    {
      "cell_type": "code",
      "metadata": {
        "id": "3Z3K27RgmjBX"
      },
      "source": [
        "hypothesis4 = tf.nn.softmax(tf.matmul(X,W)+b)"
      ],
      "execution_count": null,
      "outputs": []
    },
    {
      "cell_type": "code",
      "metadata": {
        "id": "eza6XZlwmoTd"
      },
      "source": [
        "cost4 = tf.reduce_mean(-tf.reduce_sum(Y*tf.log(hypothesis4), axis=1))\n",
        "train4 = tf.train.GradientDescentOptimizer(learning_rate=0.1).minimize(cost)"
      ],
      "execution_count": null,
      "outputs": []
    },
    {
      "cell_type": "code",
      "metadata": {
        "id": "tQaO5oVpm47x"
      },
      "source": [
        "is_correct4 = tf.equal(tf.armax(hypothesis,1), tf.argmax(,Y,1))\n",
        "accuracy4 = tf.reduce_mean(tf.cast(is.correct4, tf.float32))"
      ],
      "execution_count": null,
      "outputs": []
    },
    {
      "cell_type": "code",
      "metadata": {
        "id": "cf5D8CNwoMPb"
      },
      "source": [
        "num_epochs = 15\n",
        "batch_size = 100\n",
        "num_iteration = int(mnist.train.num_examples / batch_size)"
      ],
      "execution_count": null,
      "outputs": []
    },
    {
      "cell_type": "code",
      "metadata": {
        "id": "MGd28lraoXB0"
      },
      "source": [
        "with tf.Session() as sess:\n",
        "  sess.run(tf.global_variables_initializer())\n",
        "  for epoch in range(num_epochs):\n",
        "    avg_cost = 0\n",
        "      \n",
        "      for i in range(num_iterations):\n",
        "        batch_xs, batch_ys = mnist.train.next_batch(batch_size)\n",
        "        _, cost_val = sess.run([train4, cost4], feed_dict={X:batch_xs, Y:batch_ys})\n",
        "        # 이상한데 ? 쁠등 기호가 왜 있어? avg_coast += coast_val / num_iterations\n",
        "      print(\"Epoch : {:04d}, Cost : {:9f}\".formal(epoch+1, avg_cost))\n",
        "   print('learning finished')\n",
        "\n",
        "   print(\"Accuracy :\", accuracy.eval(\n",
        "       session=sess,feed_dict={X:mnist.test.images, Y:mnist.test.labels}\n",
        "         ),\n",
        "   )\n",
        "\n",
        "   r = random.randint(0, mnist.test.num_examples - 1)\n",
        "   print(\"label : \", sess.run(tf.argmax(mnist.test.labels[r:r+1],1)))\n",
        "   print(\n",
        "       \"Prediction:\", sess.run(tf.argmax(hypothesis4,1), feed_dict={X:mnist.test.images[r:r+1]}),\n",
        "   )\n",
        "\n",
        "   plt.imshow(\n",
        "       mnist.test.images=[r:r+1].reshape(28,28)\n",
        "       cmap='Greys', interpolation='nearest'\n",
        "   )\n",
        "   plt.show()"
      ],
      "execution_count": null,
      "outputs": []
    },
    {
      "cell_type": "code",
      "metadata": {
        "id": "cMfV_GCHoccy"
      },
      "source": [
        ""
      ],
      "execution_count": null,
      "outputs": []
    }
  ]
}