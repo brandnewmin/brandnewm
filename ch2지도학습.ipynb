{
  "nbformat": 4,
  "nbformat_minor": 0,
  "metadata": {
    "colab": {
      "name": "ch2지도학습.ipynb",
      "provenance": [],
      "collapsed_sections": [
        "yTdiqGD03P8O"
      ],
      "toc_visible": true,
      "authorship_tag": "ABX9TyMlP3LDzIxOkAwK4Hh1ZIiP",
      "include_colab_link": true
    },
    "kernelspec": {
      "name": "python3",
      "display_name": "Python 3"
    },
    "language_info": {
      "name": "python"
    }
  },
  "cells": [
    {
      "cell_type": "markdown",
      "metadata": {
        "id": "view-in-github",
        "colab_type": "text"
      },
      "source": [
        "<a href=\"https://colab.research.google.com/github/brandnewmin/brandnewm/blob/master/ch2%EC%A7%80%EB%8F%84%ED%95%99%EC%8A%B5.ipynb\" target=\"_parent\"><img src=\"https://colab.research.google.com/assets/colab-badge.svg\" alt=\"Open In Colab\"/></a>"
      ]
    },
    {
      "cell_type": "code",
      "metadata": {
        "colab": {
          "base_uri": "https://localhost:8080/"
        },
        "id": "Y4helGZadp7W",
        "outputId": "206cfdb1-bb29-4971-c471-c02e5e930f35"
      },
      "source": [
        "pip install mglearn"
      ],
      "execution_count": 1,
      "outputs": [
        {
          "output_type": "stream",
          "text": [
            "Collecting mglearn\n",
            "  Downloading mglearn-0.1.9.tar.gz (540 kB)\n",
            "\u001b[?25l\r\u001b[K     |▋                               | 10 kB 20.5 MB/s eta 0:00:01\r\u001b[K     |█▏                              | 20 kB 25.6 MB/s eta 0:00:01\r\u001b[K     |█▉                              | 30 kB 12.6 MB/s eta 0:00:01\r\u001b[K     |██▍                             | 40 kB 9.5 MB/s eta 0:00:01\r\u001b[K     |███                             | 51 kB 5.0 MB/s eta 0:00:01\r\u001b[K     |███▋                            | 61 kB 5.0 MB/s eta 0:00:01\r\u001b[K     |████▎                           | 71 kB 5.7 MB/s eta 0:00:01\r\u001b[K     |████▉                           | 81 kB 6.4 MB/s eta 0:00:01\r\u001b[K     |█████▌                          | 92 kB 6.5 MB/s eta 0:00:01\r\u001b[K     |██████                          | 102 kB 5.1 MB/s eta 0:00:01\r\u001b[K     |██████▊                         | 112 kB 5.1 MB/s eta 0:00:01\r\u001b[K     |███████▎                        | 122 kB 5.1 MB/s eta 0:00:01\r\u001b[K     |███████▉                        | 133 kB 5.1 MB/s eta 0:00:01\r\u001b[K     |████████▌                       | 143 kB 5.1 MB/s eta 0:00:01\r\u001b[K     |█████████                       | 153 kB 5.1 MB/s eta 0:00:01\r\u001b[K     |█████████▊                      | 163 kB 5.1 MB/s eta 0:00:01\r\u001b[K     |██████████▎                     | 174 kB 5.1 MB/s eta 0:00:01\r\u001b[K     |███████████                     | 184 kB 5.1 MB/s eta 0:00:01\r\u001b[K     |███████████▌                    | 194 kB 5.1 MB/s eta 0:00:01\r\u001b[K     |████████████▏                   | 204 kB 5.1 MB/s eta 0:00:01\r\u001b[K     |████████████▊                   | 215 kB 5.1 MB/s eta 0:00:01\r\u001b[K     |█████████████▍                  | 225 kB 5.1 MB/s eta 0:00:01\r\u001b[K     |██████████████                  | 235 kB 5.1 MB/s eta 0:00:01\r\u001b[K     |██████████████▋                 | 245 kB 5.1 MB/s eta 0:00:01\r\u001b[K     |███████████████▏                | 256 kB 5.1 MB/s eta 0:00:01\r\u001b[K     |███████████████▊                | 266 kB 5.1 MB/s eta 0:00:01\r\u001b[K     |████████████████▍               | 276 kB 5.1 MB/s eta 0:00:01\r\u001b[K     |█████████████████               | 286 kB 5.1 MB/s eta 0:00:01\r\u001b[K     |█████████████████▋              | 296 kB 5.1 MB/s eta 0:00:01\r\u001b[K     |██████████████████▏             | 307 kB 5.1 MB/s eta 0:00:01\r\u001b[K     |██████████████████▉             | 317 kB 5.1 MB/s eta 0:00:01\r\u001b[K     |███████████████████▍            | 327 kB 5.1 MB/s eta 0:00:01\r\u001b[K     |████████████████████            | 337 kB 5.1 MB/s eta 0:00:01\r\u001b[K     |████████████████████▋           | 348 kB 5.1 MB/s eta 0:00:01\r\u001b[K     |█████████████████████▎          | 358 kB 5.1 MB/s eta 0:00:01\r\u001b[K     |█████████████████████▉          | 368 kB 5.1 MB/s eta 0:00:01\r\u001b[K     |██████████████████████▌         | 378 kB 5.1 MB/s eta 0:00:01\r\u001b[K     |███████████████████████         | 389 kB 5.1 MB/s eta 0:00:01\r\u001b[K     |███████████████████████▋        | 399 kB 5.1 MB/s eta 0:00:01\r\u001b[K     |████████████████████████▎       | 409 kB 5.1 MB/s eta 0:00:01\r\u001b[K     |████████████████████████▉       | 419 kB 5.1 MB/s eta 0:00:01\r\u001b[K     |█████████████████████████▌      | 430 kB 5.1 MB/s eta 0:00:01\r\u001b[K     |██████████████████████████      | 440 kB 5.1 MB/s eta 0:00:01\r\u001b[K     |██████████████████████████▊     | 450 kB 5.1 MB/s eta 0:00:01\r\u001b[K     |███████████████████████████▎    | 460 kB 5.1 MB/s eta 0:00:01\r\u001b[K     |████████████████████████████    | 471 kB 5.1 MB/s eta 0:00:01\r\u001b[K     |████████████████████████████▌   | 481 kB 5.1 MB/s eta 0:00:01\r\u001b[K     |█████████████████████████████▏  | 491 kB 5.1 MB/s eta 0:00:01\r\u001b[K     |█████████████████████████████▊  | 501 kB 5.1 MB/s eta 0:00:01\r\u001b[K     |██████████████████████████████▍ | 512 kB 5.1 MB/s eta 0:00:01\r\u001b[K     |███████████████████████████████ | 522 kB 5.1 MB/s eta 0:00:01\r\u001b[K     |███████████████████████████████▌| 532 kB 5.1 MB/s eta 0:00:01\r\u001b[K     |████████████████████████████████| 540 kB 5.1 MB/s \n",
            "\u001b[?25hRequirement already satisfied: numpy in /usr/local/lib/python3.7/dist-packages (from mglearn) (1.19.5)\n",
            "Requirement already satisfied: matplotlib in /usr/local/lib/python3.7/dist-packages (from mglearn) (3.2.2)\n",
            "Requirement already satisfied: scikit-learn in /usr/local/lib/python3.7/dist-packages (from mglearn) (0.22.2.post1)\n",
            "Requirement already satisfied: pandas in /usr/local/lib/python3.7/dist-packages (from mglearn) (1.1.5)\n",
            "Requirement already satisfied: pillow in /usr/local/lib/python3.7/dist-packages (from mglearn) (7.1.2)\n",
            "Requirement already satisfied: cycler in /usr/local/lib/python3.7/dist-packages (from mglearn) (0.10.0)\n",
            "Requirement already satisfied: imageio in /usr/local/lib/python3.7/dist-packages (from mglearn) (2.4.1)\n",
            "Requirement already satisfied: joblib in /usr/local/lib/python3.7/dist-packages (from mglearn) (1.0.1)\n",
            "Requirement already satisfied: six in /usr/local/lib/python3.7/dist-packages (from cycler->mglearn) (1.15.0)\n",
            "Requirement already satisfied: pyparsing!=2.0.4,!=2.1.2,!=2.1.6,>=2.0.1 in /usr/local/lib/python3.7/dist-packages (from matplotlib->mglearn) (2.4.7)\n",
            "Requirement already satisfied: python-dateutil>=2.1 in /usr/local/lib/python3.7/dist-packages (from matplotlib->mglearn) (2.8.1)\n",
            "Requirement already satisfied: kiwisolver>=1.0.1 in /usr/local/lib/python3.7/dist-packages (from matplotlib->mglearn) (1.3.1)\n",
            "Requirement already satisfied: pytz>=2017.2 in /usr/local/lib/python3.7/dist-packages (from pandas->mglearn) (2018.9)\n",
            "Requirement already satisfied: scipy>=0.17.0 in /usr/local/lib/python3.7/dist-packages (from scikit-learn->mglearn) (1.4.1)\n",
            "Building wheels for collected packages: mglearn\n",
            "  Building wheel for mglearn (setup.py) ... \u001b[?25l\u001b[?25hdone\n",
            "  Created wheel for mglearn: filename=mglearn-0.1.9-py2.py3-none-any.whl size=582638 sha256=18a9822f2dc5e4ef1ab54eae7627bfb93e79a12d6d222b996d5b23a0b648e542\n",
            "  Stored in directory: /root/.cache/pip/wheels/f1/17/e1/1720d6dcd70187b6b6c3750cb3508798f2b1d57c9d3214b08b\n",
            "Successfully built mglearn\n",
            "Installing collected packages: mglearn\n",
            "Successfully installed mglearn-0.1.9\n"
          ],
          "name": "stdout"
        }
      ]
    },
    {
      "cell_type": "code",
      "metadata": {
        "id": "YXju7DqlyRYK"
      },
      "source": [
        "from IPython.display import display\n",
        "import numpy as np\n",
        "import matplotlib.pyplot as plt\n",
        "import pandas as pd\n",
        "import mglearn"
      ],
      "execution_count": 2,
      "outputs": []
    },
    {
      "cell_type": "markdown",
      "metadata": {
        "id": "bLIaxqHfmdUJ"
      },
      "source": [
        "# 2장-지도학습"
      ]
    },
    {
      "cell_type": "markdown",
      "metadata": {
        "id": "q3iuzmo3molQ"
      },
      "source": [
        "# 지도학습 알고리즘"
      ]
    },
    {
      "cell_type": "code",
      "metadata": {
        "id": "ZkcBF-7zdxWr",
        "colab": {
          "base_uri": "https://localhost:8080/",
          "height": 355
        },
        "outputId": "4a39e818-2fb4-473e-8b3e-113786468aab"
      },
      "source": [
        "#분류용 데이터셋\n",
        "X,y = mglearn.datasets.make_forge() \n",
        "\n",
        "mglearn.discrete_scatter(X[:,0],X[:,1],y) #x,y축으로 특성 2개를 넣고 y도 따로 들어가는군?!\n",
        "#y는 어떻게 들어가는거야? y는 점이야 세모나 동그라미\n",
        "plt.legend(['class 0','class 1'],loc = 4)\n",
        "plt.xlabel('the first feature')\n",
        "plt.ylabel('the second feature')\n",
        "print('X.shape :', X.shape)"
      ],
      "execution_count": 3,
      "outputs": [
        {
          "output_type": "stream",
          "text": [
            "/usr/local/lib/python3.7/dist-packages/sklearn/utils/deprecation.py:87: FutureWarning: Function make_blobs is deprecated; Please import make_blobs directly from scikit-learn\n",
            "  warnings.warn(msg, category=FutureWarning)\n"
          ],
          "name": "stderr"
        },
        {
          "output_type": "stream",
          "text": [
            "X.shape : (26, 2)\n"
          ],
          "name": "stdout"
        },
        {
          "output_type": "display_data",
          "data": {
            "image/png": "[encoded data removed]",
            "text/plain": [
              "<Figure size 432x288 with 1 Axes>"
            ]
          },
          "metadata": {
            "tags": [],
            "needs_background": "light"
          }
        }
      ]
    },
    {
      "cell_type": "code",
      "metadata": {
        "colab": {
          "base_uri": "https://localhost:8080/"
        },
        "id": "mKYP-kLax9AF",
        "outputId": "f7167e33-92f6-44c1-863e-3dcb9c070e50"
      },
      "source": [
        "mglearn.datasets.make_forge()"
      ],
      "execution_count": 4,
      "outputs": [
        {
          "output_type": "stream",
          "text": [
            "/usr/local/lib/python3.7/dist-packages/sklearn/utils/deprecation.py:87: FutureWarning: Function make_blobs is deprecated; Please import make_blobs directly from scikit-learn\n",
            "  warnings.warn(msg, category=FutureWarning)\n"
          ],
          "name": "stderr"
        },
        {
          "output_type": "execute_result",
          "data": {
            "text/plain": [
              "(array([[ 9.96346605,  4.59676542],\n",
              "        [11.0329545 , -0.16816717],\n",
              "        [11.54155807,  5.21116083],\n",
              "        [ 8.69289001,  1.54322016],\n",
              "        [ 8.1062269 ,  4.28695977],\n",
              "        [ 8.30988863,  4.80623966],\n",
              "        [11.93027136,  4.64866327],\n",
              "        [ 9.67284681, -0.20283165],\n",
              "        [ 8.34810316,  5.13415623],\n",
              "        [ 8.67494727,  4.47573059],\n",
              "        [ 9.17748385,  5.09283177],\n",
              "        [10.24028948,  2.45544401],\n",
              "        [ 8.68937095,  1.48709629],\n",
              "        [ 8.92229526, -0.63993225],\n",
              "        [ 9.49123469,  4.33224792],\n",
              "        [ 9.25694192,  5.13284858],\n",
              "        [ 7.99815287,  4.8525051 ],\n",
              "        [ 8.18378052,  1.29564214],\n",
              "        [ 8.7337095 ,  2.49162431],\n",
              "        [ 9.32298256,  5.09840649],\n",
              "        [10.06393839,  0.99078055],\n",
              "        [ 9.50048972, -0.26430318],\n",
              "        [ 8.34468785,  1.63824349],\n",
              "        [ 9.50169345,  1.93824624],\n",
              "        [ 9.15072323,  5.49832246],\n",
              "        [11.563957  ,  1.3389402 ]]),\n",
              " array([1, 0, 1, 0, 0, 1, 1, 0, 1, 1, 1, 1, 0, 0, 1, 1, 1, 0, 0, 1, 0, 0,\n",
              "        0, 0, 1, 0]))"
            ]
          },
          "metadata": {
            "tags": []
          },
          "execution_count": 4
        }
      ]
    },
    {
      "cell_type": "code",
      "metadata": {
        "colab": {
          "base_uri": "https://localhost:8080/"
        },
        "id": "9VgbvSdCybei",
        "outputId": "1fb0b06f-2dc4-4c29-ddcd-d23993e48315"
      },
      "source": [
        "X"
      ],
      "execution_count": 5,
      "outputs": [
        {
          "output_type": "execute_result",
          "data": {
            "text/plain": [
              "array([[ 9.96346605,  4.59676542],\n",
              "       [11.0329545 , -0.16816717],\n",
              "       [11.54155807,  5.21116083],\n",
              "       [ 8.69289001,  1.54322016],\n",
              "       [ 8.1062269 ,  4.28695977],\n",
              "       [ 8.30988863,  4.80623966],\n",
              "       [11.93027136,  4.64866327],\n",
              "       [ 9.67284681, -0.20283165],\n",
              "       [ 8.34810316,  5.13415623],\n",
              "       [ 8.67494727,  4.47573059],\n",
              "       [ 9.17748385,  5.09283177],\n",
              "       [10.24028948,  2.45544401],\n",
              "       [ 8.68937095,  1.48709629],\n",
              "       [ 8.92229526, -0.63993225],\n",
              "       [ 9.49123469,  4.33224792],\n",
              "       [ 9.25694192,  5.13284858],\n",
              "       [ 7.99815287,  4.8525051 ],\n",
              "       [ 8.18378052,  1.29564214],\n",
              "       [ 8.7337095 ,  2.49162431],\n",
              "       [ 9.32298256,  5.09840649],\n",
              "       [10.06393839,  0.99078055],\n",
              "       [ 9.50048972, -0.26430318],\n",
              "       [ 8.34468785,  1.63824349],\n",
              "       [ 9.50169345,  1.93824624],\n",
              "       [ 9.15072323,  5.49832246],\n",
              "       [11.563957  ,  1.3389402 ]])"
            ]
          },
          "metadata": {
            "tags": []
          },
          "execution_count": 5
        }
      ]
    },
    {
      "cell_type": "code",
      "metadata": {
        "colab": {
          "base_uri": "https://localhost:8080/"
        },
        "id": "OBv_Xvafyf_S",
        "outputId": "3526ec02-d450-44f8-d619-e7fe8b5ddf75"
      },
      "source": [
        "y"
      ],
      "execution_count": 6,
      "outputs": [
        {
          "output_type": "execute_result",
          "data": {
            "text/plain": [
              "array([1, 0, 1, 0, 0, 1, 1, 0, 1, 1, 1, 1, 0, 0, 1, 1, 1, 0, 0, 1, 0, 0,\n",
              "       0, 0, 1, 0])"
            ]
          },
          "metadata": {
            "tags": []
          },
          "execution_count": 6
        }
      ]
    },
    {
      "cell_type": "code",
      "metadata": {
        "colab": {
          "base_uri": "https://localhost:8080/",
          "height": 301
        },
        "id": "Jp7775Kkyk1G",
        "outputId": "a3fc4234-53d8-46bc-d9fd-86f703d9b1e9"
      },
      "source": [
        "#회귀예측용 데이터셋\n",
        "X,y = mglearn.datasets.make_wave(n_samples=40)\n",
        "plt.plot(X,y,'o')\n",
        "plt.ylim(-3,3)\n",
        "plt.xlabel('feature')#특성\n",
        "plt.ylabel('target')#타깃"
      ],
      "execution_count": 7,
      "outputs": [
        {
          "output_type": "execute_result",
          "data": {
            "text/plain": [
              "Text(0, 0.5, 'target')"
            ]
          },
          "metadata": {
            "tags": []
          },
          "execution_count": 7
        },
        {
          "output_type": "display_data",
          "data": {
            "image/png": "[encoded data removed]",
            "text/plain": [
              "<Figure size 432x288 with 1 Axes>"
            ]
          },
          "metadata": {
            "tags": [],
            "needs_background": "light"
          }
        }
      ]
    },
    {
      "cell_type": "code",
      "metadata": {
        "id": "1vJuRwMB-AW4",
        "colab": {
          "base_uri": "https://localhost:8080/"
        },
        "outputId": "2e122342-a205-4dd0-b646-3adbce32ca40"
      },
      "source": [
        "from sklearn.datasets import load_breast_cancer\n",
        "cancer = load_breast_cancer()\n",
        "print(\"cnacer.keys():\\n\", cancer.keys())"
      ],
      "execution_count": 8,
      "outputs": [
        {
          "output_type": "stream",
          "text": [
            "cnacer.keys():\n",
            " dict_keys(['data', 'target', 'target_names', 'DESCR', 'feature_names', 'filename'])\n"
          ],
          "name": "stdout"
        }
      ]
    },
    {
      "cell_type": "code",
      "metadata": {
        "colab": {
          "base_uri": "https://localhost:8080/"
        },
        "id": "mzkLAHNn0245",
        "outputId": "3e0a656c-41e7-4f57-9999-32a6f246ffc3"
      },
      "source": [
        "print(\"유방암 데이터의 형태 :\",cancer.data.shape)"
      ],
      "execution_count": 9,
      "outputs": [
        {
          "output_type": "stream",
          "text": [
            "유방암 데이터의 형태 : (569, 30)\n"
          ],
          "name": "stdout"
        }
      ]
    },
    {
      "cell_type": "code",
      "metadata": {
        "colab": {
          "base_uri": "https://localhost:8080/"
        },
        "id": "4nW9qphe1B76",
        "outputId": "4ef2f722-7d4a-4a54-eb51-1c71feb6f62a"
      },
      "source": [
        "print(\"클래스별 샘플 개수 :\\n\",{n : v for n, v in zip(cancer.target_names, np.bincount(cancer.target))})\n",
        "#zip -> 대응\n",
        "#n = cancer.target_names :: malignant, benign\n",
        "#z = np.bincount(cancer.target) :: 212, 357\n",
        "#n:v 출력하라 "
      ],
      "execution_count": 10,
      "outputs": [
        {
          "output_type": "stream",
          "text": [
            "클래스별 샘플 개수 :\n",
            " {'malignant': 212, 'benign': 357}\n"
          ],
          "name": "stdout"
        }
      ]
    },
    {
      "cell_type": "code",
      "metadata": {
        "colab": {
          "base_uri": "https://localhost:8080/"
        },
        "id": "t94BxqhZ1L-2",
        "outputId": "68d8fa0c-7c07-4922-d256-98d807c0b26b"
      },
      "source": [
        "print(\"특성 이름 :\\n\", cancer.feature_names)"
      ],
      "execution_count": 11,
      "outputs": [
        {
          "output_type": "stream",
          "text": [
            "특성 이름 :\n",
            " ['mean radius' 'mean texture' 'mean perimeter' 'mean area'\n",
            " 'mean smoothness' 'mean compactness' 'mean concavity'\n",
            " 'mean concave points' 'mean symmetry' 'mean fractal dimension'\n",
            " 'radius error' 'texture error' 'perimeter error' 'area error'\n",
            " 'smoothness error' 'compactness error' 'concavity error'\n",
            " 'concave points error' 'symmetry error' 'fractal dimension error'\n",
            " 'worst radius' 'worst texture' 'worst perimeter' 'worst area'\n",
            " 'worst smoothness' 'worst compactness' 'worst concavity'\n",
            " 'worst concave points' 'worst symmetry' 'worst fractal dimension']\n"
          ],
          "name": "stdout"
        }
      ]
    },
    {
      "cell_type": "code",
      "metadata": {
        "colab": {
          "base_uri": "https://localhost:8080/"
        },
        "id": "Zah4yrb01oDw",
        "outputId": "f964252c-47a1-485a-d457-682227881a16"
      },
      "source": [
        "#회귀분석용 실제 데이터셋 : 보스턴 주변의 주택 평균 가격 예측이 목표\n",
        "from sklearn.datasets import load_boston\n",
        "boston = load_boston()\n",
        "\n",
        "print(\"데이터의 형태 :\", boston.data.shape)"
      ],
      "execution_count": 12,
      "outputs": [
        {
          "output_type": "stream",
          "text": [
            "데이터의 형태 : (506, 13)\n"
          ],
          "name": "stdout"
        }
      ]
    },
    {
      "cell_type": "code",
      "metadata": {
        "colab": {
          "base_uri": "https://localhost:8080/"
        },
        "id": "igHa2Zd11uNK",
        "outputId": "6a8760f5-fbdd-49b0-9288-e1c514acc76c"
      },
      "source": [
        "type(boston.data)"
      ],
      "execution_count": 13,
      "outputs": [
        {
          "output_type": "execute_result",
          "data": {
            "text/plain": [
              "numpy.ndarray"
            ]
          },
          "metadata": {
            "tags": []
          },
          "execution_count": 13
        }
      ]
    },
    {
      "cell_type": "code",
      "metadata": {
        "colab": {
          "base_uri": "https://localhost:8080/"
        },
        "id": "0Z5W2Xmy2IPa",
        "outputId": "93bea902-9f96-47fe-ec9f-6d0fe3184a5d"
      },
      "source": [
        "type(boston)"
      ],
      "execution_count": 14,
      "outputs": [
        {
          "output_type": "execute_result",
          "data": {
            "text/plain": [
              "sklearn.utils.Bunch"
            ]
          },
          "metadata": {
            "tags": []
          },
          "execution_count": 14
        }
      ]
    },
    {
      "cell_type": "code",
      "metadata": {
        "colab": {
          "base_uri": "https://localhost:8080/",
          "height": 184
        },
        "id": "kdZFi0hU2gjr",
        "outputId": "9a1dcf52-2f36-47b5-f268-d33bd0a7a55b"
      },
      "source": [
        "boston.DESCR\n",
        "#자세한 정보를 확인할 수 있다고 함\n",
        "#그다지 이해되진 않음"
      ],
      "execution_count": 15,
      "outputs": [
        {
          "output_type": "execute_result",
          "data": {
            "application/vnd.google.colaboratory.intrinsic+json": {
              "type": "string"
            },
            "text/plain": [
              "\".. _boston_dataset:\\n\\nBoston house prices dataset\\n---------------------------\\n\\n**Data Set Characteristics:**  \\n\\n    :Number of Instances: 506 \\n\\n    :Number of Attributes: 13 numeric/categorical predictive. Median Value (attribute 14) is usually the target.\\n\\n    :Attribute Information (in order):\\n        - CRIM     per capita crime rate by town\\n        - ZN       proportion of residential land zoned for lots over 25,000 sq.ft.\\n        - INDUS    proportion of non-retail business acres per town\\n        - CHAS     Charles River dummy variable (= 1 if tract bounds river; 0 otherwise)\\n        - NOX      nitric oxides concentration (parts per 10 million)\\n        - RM       average number of rooms per dwelling\\n        - AGE      proportion of owner-occupied units built prior to 1940\\n        - DIS      weighted distances to five Boston employment centres\\n        - RAD      index of accessibility to radial highways\\n        - TAX      full-value property-tax rate per $10,000\\n        - PTRATIO  pupil-teacher ratio by town\\n        - B        1000(Bk - 0.63)^2 where Bk is the proportion of blacks by town\\n        - LSTAT    % lower status of the population\\n        - MEDV     Median value of owner-occupied homes in $1000's\\n\\n    :Missing Attribute Values: None\\n\\n    :Creator: Harrison, D. and Rubinfeld, D.L.\\n\\nThis is a copy of UCI ML housing dataset.\\nhttps://archive.ics.uci.edu/ml/machine-learning-databases/housing/\\n\\n\\nThis dataset was taken from the StatLib library which is maintained at Carnegie Mellon University.\\n\\nThe Boston house-price data of Harrison, D. and Rubinfeld, D.L. 'Hedonic\\nprices and the demand for clean air', J. Environ. Economics & Management,\\nvol.5, 81-102, 1978.   Used in Belsley, Kuh & Welsch, 'Regression diagnostics\\n...', Wiley, 1980.   N.B. Various transformations are used in the table on\\npages 244-261 of the latter.\\n\\nThe Boston house-price data has been used in many machine learning papers that address regression\\nproblems.   \\n     \\n.. topic:: References\\n\\n   - Belsley, Kuh & Welsch, 'Regression diagnostics: Identifying Influential Data and Sources of Collinearity', Wiley, 1980. 244-261.\\n   - Quinlan,R. (1993). Combining Instance-Based and Model-Based Learning. In Proceedings on the Tenth International Conference of Machine Learning, 236-243, University of Massachusetts, Amherst. Morgan Kaufmann.\\n\""
            ]
          },
          "metadata": {
            "tags": []
          },
          "execution_count": 15
        }
      ]
    },
    {
      "cell_type": "code",
      "metadata": {
        "colab": {
          "base_uri": "https://localhost:8080/"
        },
        "id": "of0O-pf72J-2",
        "outputId": "9fd06335-5b29-4483-bc59-aed20e0a9216"
      },
      "source": [
        "#특성끼리 곱하여 데이터셋을 의도적으로 확장(이러면 다중공선성 안생기나?) = \"특성공학\"\n",
        "X,y = mglearn.datasets.load_extended_boston()\n",
        "#특성끼리 어떻게 곱했는지 코딩으로 보여준 것은 아님\n",
        "#original datasets load_boston에서 extended 한 버전이 현재 셀(cell)\n",
        "print(\"X.shape :\", X.shape)\n",
        "#어떻게 이런 값이 나오는가? PolynomialFeatures 함수를 사용해 중복을 포함한 조합 생성(초기하분포)"
      ],
      "execution_count": 16,
      "outputs": [
        {
          "output_type": "stream",
          "text": [
            "X.shape : (506, 104)\n"
          ],
          "name": "stdout"
        }
      ]
    },
    {
      "cell_type": "markdown",
      "metadata": {
        "id": "yTdiqGD03P8O"
      },
      "source": [
        "# k-최근접 이웃\n",
        "  * 새로운 데이터 포인트에 대해 예측할 때 훈련 데이터셋에서 갖아 가까운 데이터 포인트를 찾는다"
      ]
    },
    {
      "cell_type": "code",
      "metadata": {
        "colab": {
          "base_uri": "https://localhost:8080/",
          "height": 0
        },
        "id": "z9XbsnU824Wo",
        "outputId": "0ff5cf4a-ceea-4e81-e363-d154266c433c"
      },
      "source": [
        "mglearn.plots.plot_knn_classification(n_neighbors=1)"
      ],
      "execution_count": 17,
      "outputs": [
        {
          "output_type": "stream",
          "text": [
            "/usr/local/lib/python3.7/dist-packages/sklearn/utils/deprecation.py:87: FutureWarning: Function make_blobs is deprecated; Please import make_blobs directly from scikit-learn\n",
            "  warnings.warn(msg, category=FutureWarning)\n"
          ],
          "name": "stderr"
        },
        {
          "output_type": "display_data",
          "data": {
            "image/png": "[encoded data removed]",
            "text/plain": [
              "<Figure size 432x288 with 1 Axes>"
            ]
          },
          "metadata": {
            "tags": [],
            "needs_background": "light"
          }
        }
      ]
    },
    {
      "cell_type": "code",
      "metadata": {
        "colab": {
          "base_uri": "https://localhost:8080/",
          "height": 0
        },
        "id": "3iQnAMnC4EO4",
        "outputId": "cadad110-b2f0-440b-8a15-0ee9cefb7217"
      },
      "source": [
        "mglearn.plots.plot_knn_classification(n_neighbors=3)"
      ],
      "execution_count": 18,
      "outputs": [
        {
          "output_type": "stream",
          "text": [
            "/usr/local/lib/python3.7/dist-packages/sklearn/utils/deprecation.py:87: FutureWarning: Function make_blobs is deprecated; Please import make_blobs directly from scikit-learn\n",
            "  warnings.warn(msg, category=FutureWarning)\n"
          ],
          "name": "stderr"
        },
        {
          "output_type": "display_data",
          "data": {
            "image/png": "[encoded data removed]",
            "text/plain": [
              "<Figure size 432x288 with 1 Axes>"
            ]
          },
          "metadata": {
            "tags": [],
            "needs_background": "light"
          }
        }
      ]
    },
    {
      "cell_type": "code",
      "metadata": {
        "colab": {
          "base_uri": "https://localhost:8080/"
        },
        "id": "720n8Fyx8Q0P",
        "outputId": "906fa26f-d636-4a0f-a108-38d721b62504"
      },
      "source": [
        "from sklearn.model_selection import train_test_split\n",
        "X, y = mglearn.datasets.make_forge()\n",
        "\n",
        "X_train, X_test, y_train, y_test = train_test_split(X,y, random_state = 0)\n",
        "#X에서 일부 X_train , X_test 이렇게 나누는듯?"
      ],
      "execution_count": 19,
      "outputs": [
        {
          "output_type": "stream",
          "text": [
            "/usr/local/lib/python3.7/dist-packages/sklearn/utils/deprecation.py:87: FutureWarning: Function make_blobs is deprecated; Please import make_blobs directly from scikit-learn\n",
            "  warnings.warn(msg, category=FutureWarning)\n"
          ],
          "name": "stderr"
        }
      ]
    },
    {
      "cell_type": "code",
      "metadata": {
        "colab": {
          "base_uri": "https://localhost:8080/"
        },
        "id": "gBb9UDxE8ifl",
        "outputId": "77acbf55-a0e4-43f6-f317-0080c20aefd3"
      },
      "source": [
        "X"
      ],
      "execution_count": 20,
      "outputs": [
        {
          "output_type": "execute_result",
          "data": {
            "text/plain": [
              "array([[ 9.96346605,  4.59676542],\n",
              "       [11.0329545 , -0.16816717],\n",
              "       [11.54155807,  5.21116083],\n",
              "       [ 8.69289001,  1.54322016],\n",
              "       [ 8.1062269 ,  4.28695977],\n",
              "       [ 8.30988863,  4.80623966],\n",
              "       [11.93027136,  4.64866327],\n",
              "       [ 9.67284681, -0.20283165],\n",
              "       [ 8.34810316,  5.13415623],\n",
              "       [ 8.67494727,  4.47573059],\n",
              "       [ 9.17748385,  5.09283177],\n",
              "       [10.24028948,  2.45544401],\n",
              "       [ 8.68937095,  1.48709629],\n",
              "       [ 8.92229526, -0.63993225],\n",
              "       [ 9.49123469,  4.33224792],\n",
              "       [ 9.25694192,  5.13284858],\n",
              "       [ 7.99815287,  4.8525051 ],\n",
              "       [ 8.18378052,  1.29564214],\n",
              "       [ 8.7337095 ,  2.49162431],\n",
              "       [ 9.32298256,  5.09840649],\n",
              "       [10.06393839,  0.99078055],\n",
              "       [ 9.50048972, -0.26430318],\n",
              "       [ 8.34468785,  1.63824349],\n",
              "       [ 9.50169345,  1.93824624],\n",
              "       [ 9.15072323,  5.49832246],\n",
              "       [11.563957  ,  1.3389402 ]])"
            ]
          },
          "metadata": {
            "tags": []
          },
          "execution_count": 20
        }
      ]
    },
    {
      "cell_type": "code",
      "metadata": {
        "colab": {
          "base_uri": "https://localhost:8080/"
        },
        "id": "566Nmg3g9qqC",
        "outputId": "5b4bd043-9ee7-40e6-d177-af9f3e31e78f"
      },
      "source": [
        "X_train == X"
      ],
      "execution_count": 21,
      "outputs": [
        {
          "output_type": "stream",
          "text": [
            "/usr/local/lib/python3.7/dist-packages/ipykernel_launcher.py:1: DeprecationWarning: elementwise comparison failed; this will raise an error in the future.\n",
            "  \"\"\"Entry point for launching an IPython kernel.\n"
          ],
          "name": "stderr"
        },
        {
          "output_type": "execute_result",
          "data": {
            "text/plain": [
              "False"
            ]
          },
          "metadata": {
            "tags": []
          },
          "execution_count": 21
        }
      ]
    },
    {
      "cell_type": "code",
      "metadata": {
        "id": "8SerKt2E9s_z"
      },
      "source": [
        "from sklearn.neighbors import KNeighborsClassifier\n",
        "clf = KNeighborsClassifier(n_neighbors = 3)"
      ],
      "execution_count": 22,
      "outputs": []
    },
    {
      "cell_type": "code",
      "metadata": {
        "colab": {
          "base_uri": "https://localhost:8080/"
        },
        "id": "Mi4zUix5-omY",
        "outputId": "4dec4db7-9b2d-4b8d-b47a-27bfced90120"
      },
      "source": [
        "#책 65 : 훈련세트를 사용하여 분류 모델을 학습시킵니다.\n",
        "clf.fit(X_train, y_train)\n",
        "#KNeighborsClassifier의 특징 : y값이 범주형, x값이 연속형, 새로운 값을 분류이자 예측\n",
        "#아마도 y가 범주형이니깐 분류로 보는게 좋을듯?"
      ],
      "execution_count": 23,
      "outputs": [
        {
          "output_type": "execute_result",
          "data": {
            "text/plain": [
              "KNeighborsClassifier(algorithm='auto', leaf_size=30, metric='minkowski',\n",
              "                     metric_params=None, n_jobs=None, n_neighbors=3, p=2,\n",
              "                     weights='uniform')"
            ]
          },
          "metadata": {
            "tags": []
          },
          "execution_count": 23
        }
      ]
    },
    {
      "cell_type": "code",
      "metadata": {
        "colab": {
          "base_uri": "https://localhost:8080/"
        },
        "id": "GuLD0Hgt-rc-",
        "outputId": "84ba48d4-b7d7-44ed-cf5d-e5401da9dc96"
      },
      "source": [
        "print(\"테스트 세트 예측 :\", clf.predict(X_test))"
      ],
      "execution_count": 24,
      "outputs": [
        {
          "output_type": "stream",
          "text": [
            "테스트 세트 예측 : [1 0 1 0 1 0 0]\n"
          ],
          "name": "stdout"
        }
      ]
    },
    {
      "cell_type": "code",
      "metadata": {
        "colab": {
          "base_uri": "https://localhost:8080/"
        },
        "id": "D9qeEivy_18f",
        "outputId": "248ba9f3-93b4-4a4c-d281-718cd5904202"
      },
      "source": [
        "print(\"테스트 세트 정확도 : {:.2f}\".format(clf.score(X_test, y_test)))\n",
        "#X_test와 clf.predict(X_test)값은 다른데 왜 후자가 아니라 바로 _test라고 하는거야?"
      ],
      "execution_count": 25,
      "outputs": [
        {
          "output_type": "stream",
          "text": [
            "테스트 세트 정확도 : 0.86\n"
          ],
          "name": "stdout"
        }
      ]
    },
    {
      "cell_type": "code",
      "metadata": {
        "id": "QmUR9rgOAS3Y",
        "colab": {
          "base_uri": "https://localhost:8080/",
          "height": 0
        },
        "outputId": "3f3a95b9-91ce-4ed5-8452-c33568a5a93a"
      },
      "source": [
        "fig, axes = plt.subplots(1,3, figsize = (10,3))\n",
        "\n",
        "for n_neighbors , ax in zip([1,3,9], axes):\n",
        "  clf = KNeighborsClassifier(n_neighbors=n_neighbors).fit(X,y)\n",
        "  #n_neighbors 를 특정한 값으로만 정할 수 없어서.\n",
        "  mglearn.plots.plot_2d_separator(clf, X, fill = True, eps = 0.5, ax =ax , alpha=.4)\n",
        "  mglearn.discrete_scatter(X[:,0],X[:,1], y, ax=ax)\n",
        "  ax.set_title('{} 이웃'.format(n_neighbors))\n",
        "  ax.set_ylabel('feature 0')\n",
        "  ax.set_xlabel('feature 1')\n",
        "axes[0].legend(loc = 3) #loc = 3 : legend(범례) 위치\n",
        "\n",
        "#이웃의 수가 늘어날수록 결정경계가 부드러워지며, 단순한 모델이 되고있음을 말한다."
      ],
      "execution_count": 26,
      "outputs": [
        {
          "output_type": "execute_result",
          "data": {
            "text/plain": [
              "<matplotlib.legend.Legend at 0x7f288d52e8d0>"
            ]
          },
          "metadata": {
            "tags": []
          },
          "execution_count": 26
        },
        {
          "output_type": "stream",
          "text": [
            "/usr/local/lib/python3.7/dist-packages/matplotlib/backends/backend_agg.py:214: RuntimeWarning: Glyph 51060 missing from current font.\n",
            "  font.set_text(s, 0.0, flags=flags)\n",
            "/usr/local/lib/python3.7/dist-packages/matplotlib/backends/backend_agg.py:214: RuntimeWarning: Glyph 50883 missing from current font.\n",
            "  font.set_text(s, 0.0, flags=flags)\n",
            "/usr/local/lib/python3.7/dist-packages/matplotlib/backends/backend_agg.py:183: RuntimeWarning: Glyph 51060 missing from current font.\n",
            "  font.set_text(s, 0, flags=flags)\n",
            "/usr/local/lib/python3.7/dist-packages/matplotlib/backends/backend_agg.py:183: RuntimeWarning: Glyph 50883 missing from current font.\n",
            "  font.set_text(s, 0, flags=flags)\n"
          ],
          "name": "stderr"
        },
        {
          "output_type": "display_data",
          "data": {
            "image/png": "[encoded data removed]",
            "text/plain": [
              "<Figure size 720x216 with 3 Axes>"
            ]
          },
          "metadata": {
            "tags": []
          }
        }
      ]
    },
    {
      "cell_type": "code",
      "metadata": {
        "colab": {
          "base_uri": "https://localhost:8080/",
          "height": 0
        },
        "id": "6PuP2OoIeZS5",
        "outputId": "221d0995-f8ac-4670-f694-6f8b4fbae89b"
      },
      "source": [
        "fig"
      ],
      "execution_count": 27,
      "outputs": [
        {
          "output_type": "stream",
          "text": [
            "/usr/local/lib/python3.7/dist-packages/matplotlib/backends/backend_agg.py:214: RuntimeWarning: Glyph 51060 missing from current font.\n",
            "  font.set_text(s, 0.0, flags=flags)\n",
            "/usr/local/lib/python3.7/dist-packages/matplotlib/backends/backend_agg.py:214: RuntimeWarning: Glyph 50883 missing from current font.\n",
            "  font.set_text(s, 0.0, flags=flags)\n",
            "/usr/local/lib/python3.7/dist-packages/matplotlib/backends/backend_agg.py:183: RuntimeWarning: Glyph 51060 missing from current font.\n",
            "  font.set_text(s, 0, flags=flags)\n",
            "/usr/local/lib/python3.7/dist-packages/matplotlib/backends/backend_agg.py:183: RuntimeWarning: Glyph 50883 missing from current font.\n",
            "  font.set_text(s, 0, flags=flags)\n"
          ],
          "name": "stderr"
        },
        {
          "output_type": "execute_result",
          "data": {
            "image/png": "[encoded data removed]",
            "text/plain": [
              "<Figure size 720x216 with 3 Axes>"
            ]
          },
          "metadata": {
            "tags": []
          },
          "execution_count": 27
        }
      ]
    },
    {
      "cell_type": "code",
      "metadata": {
        "colab": {
          "base_uri": "https://localhost:8080/"
        },
        "id": "n3JuoLfde2ya",
        "outputId": "7daa7df1-1804-4d48-b5f4-6bb34ace5af5"
      },
      "source": [
        "axes"
      ],
      "execution_count": 28,
      "outputs": [
        {
          "output_type": "execute_result",
          "data": {
            "text/plain": [
              "array([<matplotlib.axes._subplots.AxesSubplot object at 0x7f288d597450>,\n",
              "       <matplotlib.axes._subplots.AxesSubplot object at 0x7f288d4c2d10>,\n",
              "       <matplotlib.axes._subplots.AxesSubplot object at 0x7f288d481390>],\n",
              "      dtype=object)"
            ]
          },
          "metadata": {
            "tags": []
          },
          "execution_count": 28
        }
      ]
    },
    {
      "cell_type": "code",
      "metadata": {
        "colab": {
          "base_uri": "https://localhost:8080/",
          "height": 0
        },
        "id": "v4nMDCRie4BF",
        "outputId": "43c1dbab-1def-44c3-c291-bfcee5ee028b"
      },
      "source": [
        "from sklearn.datasets import load_breast_cancer\n",
        "\n",
        "cancer = load_breast_cancer()\n",
        "X_train, X_test, y_train, y_test = train_test_split(\n",
        "    cancer.data, cancer.target, stratify=cancer.target, random_state = 66\n",
        ")\n",
        "\n",
        "training_accuracy = []\n",
        "test_accuracy = []\n",
        "neighbors_settings = range(1,11)\n",
        "\n",
        "for n_neighbors in neighbors_settings:\n",
        "  clf = KNeighborsClassifier(n_neighbors=n_neighbors)\n",
        "  clf.fit(X_train, y_train)\n",
        "  training_accuracy.append(clf.score(X_train, y_train))\n",
        "  test_accuracy.append(clf.score(X_test, y_test))\n",
        "\n",
        "plt.plot(neighbors_settings, training_accuracy, label = 'train-accuracy')#훈련 정확도\n",
        "plt.plot(neighbors_settings, test_accuracy, label = 'test-accuracy')#테스트 정확도\n",
        "plt.ylabel('accuracy') #정확도\n",
        "plt.xlabel('n_neighbors') #n_neighbors 수\n",
        "plt.legend() #있으면 범례가 있고 없으면 없는"
      ],
      "execution_count": 29,
      "outputs": [
        {
          "output_type": "execute_result",
          "data": {
            "text/plain": [
              "<matplotlib.legend.Legend at 0x7f288d185f50>"
            ]
          },
          "metadata": {
            "tags": []
          },
          "execution_count": 29
        },
        {
          "output_type": "display_data",
          "data": {
            "image/png": "[encoded data removed]",
            "text/plain": [
              "<Figure size 432x288 with 1 Axes>"
            ]
          },
          "metadata": {
            "tags": [],
            "needs_background": "light"
          }
        }
      ]
    },
    {
      "cell_type": "markdown",
      "metadata": {
        "id": "IjQ06iW7mKSP"
      },
      "source": [
        "  # k-최근접 이웃 회귀"
      ]
    },
    {
      "cell_type": "code",
      "metadata": {
        "colab": {
          "base_uri": "https://localhost:8080/",
          "height": 414
        },
        "id": "4hOEOZTokrYo",
        "outputId": "a6b03ef8-e5c3-4062-c3d9-3f0a25184294"
      },
      "source": [
        "mglearn.plots.plot_knn_regression(n_neighbors=1)"
      ],
      "execution_count": 30,
      "outputs": [
        {
          "output_type": "display_data",
          "data": {
            "image/png": "[encoded data removed]",
            "text/plain": [
              "<Figure size 720x432 with 1 Axes>"
            ]
          },
          "metadata": {
            "tags": [],
            "needs_background": "light"
          }
        }
      ]
    },
    {
      "cell_type": "code",
      "metadata": {
        "colab": {
          "base_uri": "https://localhost:8080/",
          "height": 414
        },
        "id": "oFam57wsm-G0",
        "outputId": "91b56904-8237-4a61-9ca0-3f24be355f48"
      },
      "source": [
        "mglearn.plots.plot_knn_regression(n_neighbors=3)"
      ],
      "execution_count": 31,
      "outputs": [
        {
          "output_type": "display_data",
          "data": {
            "image/png": "[encoded data removed]",
            "text/plain": [
              "<Figure size 720x432 with 1 Axes>"
            ]
          },
          "metadata": {
            "tags": [],
            "needs_background": "light"
          }
        }
      ]
    },
    {
      "cell_type": "code",
      "metadata": {
        "colab": {
          "base_uri": "https://localhost:8080/"
        },
        "id": "11rfW5l_nB5e",
        "outputId": "d6e098e1-9861-42ca-b17c-b623db558602"
      },
      "source": [
        "from sklearn.neighbors import KNeighborsRegressor\n",
        "\n",
        "X, y = mglearn.datasets.make_wave(n_samples=40)\n",
        "\n",
        "X_train, X_test, y_train, y_test = train_test_split(X,y, random_state=0)\n",
        "\n",
        "reg = KNeighborsRegressor(n_neighbors=3)\n",
        "reg.fit(X_train, y_train)"
      ],
      "execution_count": 32,
      "outputs": [
        {
          "output_type": "execute_result",
          "data": {
            "text/plain": [
              "KNeighborsRegressor(algorithm='auto', leaf_size=30, metric='minkowski',\n",
              "                    metric_params=None, n_jobs=None, n_neighbors=3, p=2,\n",
              "                    weights='uniform')"
            ]
          },
          "metadata": {
            "tags": []
          },
          "execution_count": 32
        }
      ]
    },
    {
      "cell_type": "code",
      "metadata": {
        "colab": {
          "base_uri": "https://localhost:8080/"
        },
        "id": "bPNW4sArnoAL",
        "outputId": "5cb2831a-b6fa-4f77-c92f-43fd226ab9c0"
      },
      "source": [
        "print(\"테스트 세트 예측:\\n\", reg.predict(X_test))"
      ],
      "execution_count": 33,
      "outputs": [
        {
          "output_type": "stream",
          "text": [
            "테스트 세트 예측:\n",
            " [-0.05396539  0.35686046  1.13671923 -1.89415682 -1.13881398 -1.63113382\n",
            "  0.35686046  0.91241374 -0.44680446 -1.13881398]\n"
          ],
          "name": "stdout"
        }
      ]
    },
    {
      "cell_type": "code",
      "metadata": {
        "colab": {
          "base_uri": "https://localhost:8080/"
        },
        "id": "8wkdpyscoXRC",
        "outputId": "cbd03738-62bf-4433-fdb1-b6d47d908905"
      },
      "source": [
        "print(\"테스트 세트 r^2 : {:.2f}\".format(reg.score(X_test,y_test)))\n",
        "#결정계수 : 모델링이 얼마나 잘 설명하는가"
      ],
      "execution_count": 34,
      "outputs": [
        {
          "output_type": "stream",
          "text": [
            "테스트 세트 r^2 : 0.83\n"
          ],
          "name": "stdout"
        }
      ]
    },
    {
      "cell_type": "code",
      "metadata": {
        "colab": {
          "base_uri": "https://localhost:8080/",
          "height": 282
        },
        "id": "Au4JCBehoWsw",
        "outputId": "90009533-5ca4-4451-bc22-fbce82a0cd00"
      },
      "source": [
        "fig, axes = plt.subplots(1,3, figsize = (15,4))\n",
        "line = np.linspace(-3,3, 1000).reshape(-1,1)\n",
        "for n_neighbors, ax in zip([1,3,9], axes):\n",
        "  reg = KNeighborsRegressor(n_neighbors=n_neighbors)\n",
        "  reg.fit(X_train, y_train)\n",
        "  ax.plot(line, reg.predict(line))\n",
        "  ax.plot(X_train, y_train, '^', c = mglearn.cm2(0), markersize = 8)\n",
        "  ax.plot(X_test, y_test, 'v', c = mglearn.cm2(1), markersize = 8)\n",
        "\n",
        "  ax.set_title(\n",
        "      'train-score of {}neighbors : {:.2f} test-score : {:.2f}'.format(\n",
        "          n_neighbors, reg.score(X_train, y_train), reg.score(X_test, y_test))\n",
        "  )\n",
        "  #{}이웃의 훈련 스코어, 테스트 스코어\n",
        "  ax.set_xlabel('feature')\n",
        "  ax.set_ylabel('target')\n",
        "axes[0].legend(['model predictin','train data/target','test data/target'], loc = 'best')\n",
        "                #모델 예측, 훈련 데이터/타깃, 테스트 데이터/타깃"
      ],
      "execution_count": 35,
      "outputs": [
        {
          "output_type": "execute_result",
          "data": {
            "text/plain": [
              "<matplotlib.legend.Legend at 0x7f288cfd2bd0>"
            ]
          },
          "metadata": {
            "tags": []
          },
          "execution_count": 35
        },
        {
          "output_type": "display_data",
          "data": {
            "image/png": "[encoded data removed]",
            "text/plain": [
              "<Figure size 1080x288 with 3 Axes>"
            ]
          },
          "metadata": {
            "tags": [],
            "needs_background": "light"
          }
        }
      ]
    },
    {
      "cell_type": "markdown",
      "metadata": {
        "id": "gNGiKvJ7XOdL"
      },
      "source": [
        "# 선형모델"
      ]
    },
    {
      "cell_type": "code",
      "metadata": {
        "id": "0TBcUJROp5cm",
        "colab": {
          "base_uri": "https://localhost:8080/",
          "height": 465
        },
        "outputId": "549d5bab-8c54-43d1-c984-3aefe798ca4a"
      },
      "source": [
        "mglearn.plots.plot_linear_regression_wave()"
      ],
      "execution_count": 36,
      "outputs": [
        {
          "output_type": "stream",
          "text": [
            "w[0]: 0.393906  b: -0.031804\n"
          ],
          "name": "stdout"
        },
        {
          "output_type": "display_data",
          "data": {
            "image/png": "[encoded data removed]",
            "text/plain": [
              "<Figure size 576x576 with 1 Axes>"
            ]
          },
          "metadata": {
            "tags": [],
            "needs_background": "light"
          }
        }
      ]
    },
    {
      "cell_type": "code",
      "metadata": {
        "id": "s8j19nG3XXgz"
      },
      "source": [
        "#선형회귀/최소제곱법 : 회귀용 알고리즘\n",
        "#평균제곱오차를 최소화하는 파라미터를 찾기\n",
        "\n",
        "from sklearn.linear_model import LinearRegression\n",
        "X,y = mglearn.datasets.make_wave(n_samples=60)\n",
        "X_train, X_test, y_train, y_test = train_test_split(X,y, random_state = 42)\n",
        "\n",
        "lr = LinearRegression().fit(X_train, y_train)"
      ],
      "execution_count": 37,
      "outputs": []
    },
    {
      "cell_type": "code",
      "metadata": {
        "colab": {
          "base_uri": "https://localhost:8080/"
        },
        "id": "-0kZX9GQX3k0",
        "outputId": "967ce30f-6c6a-4f9f-b55d-723d9489b387"
      },
      "source": [
        "print(\"lr.coef_ : \",lr.coef_)\n",
        "#너는 언제부터 그런 모양이었니? 각 입력특성에 하나씩 대응되는 numpy 배열\n",
        "#입력특성이 하나라서 lr.coef_원소를 하나만 가지고 있을뿐\n",
        "##그렇다면 다중회귀에선 lr.coef_ 원소가 여러개인걸 확인할 수 있어?\n",
        "\n",
        "print(\"lr.intercept_ : {:.2f}\".format(lr.intercept_))"
      ],
      "execution_count": 38,
      "outputs": [
        {
          "output_type": "stream",
          "text": [
            "lr.coef_ :  [0.39390555]\n",
            "lr.intercept_ : -0.03\n"
          ],
          "name": "stdout"
        }
      ]
    },
    {
      "cell_type": "code",
      "metadata": {
        "colab": {
          "base_uri": "https://localhost:8080/"
        },
        "id": "hO0Dim18YASf",
        "outputId": "3e9183c3-8083-4153-b94b-804a8baabe08"
      },
      "source": [
        "print(\"훈련 세트 점수 : {:.2f}\".format(lr.score(X_train, y_train)))\n",
        "#.score 함수 : 결정계수 계산 함수 : 결정계수란? 함수식을 얼마나 잘 설명하는지"
      ],
      "execution_count": 39,
      "outputs": [
        {
          "output_type": "stream",
          "text": [
            "훈련 세트 점수 : 0.67\n"
          ],
          "name": "stdout"
        }
      ]
    },
    {
      "cell_type": "code",
      "metadata": {
        "colab": {
          "base_uri": "https://localhost:8080/"
        },
        "id": "BgG58qT8aHj_",
        "outputId": "ee216f01-cda1-46e9-8aaf-8a1b17bdeb30"
      },
      "source": [
        "print(\"테스트 세트 점수 : {:.2f}\".format(lr.score(X_test, y_test)))"
      ],
      "execution_count": 40,
      "outputs": [
        {
          "output_type": "stream",
          "text": [
            "테스트 세트 점수 : 0.66\n"
          ],
          "name": "stdout"
        }
      ]
    },
    {
      "cell_type": "code",
      "metadata": {
        "id": "PWh4Ts7OgDqE",
        "colab": {
          "base_uri": "https://localhost:8080/"
        },
        "outputId": "c325c929-24d8-402e-aaa1-e127fa3ba07f"
      },
      "source": [
        "X, y = mglearn.datasets.load_extended_boston()\n",
        "\n",
        "X_train, X_test, y_train, y_test = train_test_split(X,y, random_state = 0)\n",
        "lr = LinearRegression().fit(X_train, y_train)\n",
        "\n",
        "print(\"훈련 세트 점수 : {:.2f}\".format(lr.score(X_train, y_train)))\n",
        "print(\"테스트 세트 점수 : {:.2f}\".format(lr.score(X_test,y_test)))\n",
        "#훈련세트점수와 테스트세트 점수 간의 차이가 너무 크다. 과대적합되었다고 판단"
      ],
      "execution_count": 41,
      "outputs": [
        {
          "output_type": "stream",
          "text": [
            "훈련 세트 점수 : 0.95\n",
            "테스트 세트 점수 : 0.61\n"
          ],
          "name": "stdout"
        }
      ]
    },
    {
      "cell_type": "markdown",
      "metadata": {
        "id": "nhHNvWTksOuS"
      },
      "source": [
        "* 리지 회귀"
      ]
    },
    {
      "cell_type": "code",
      "metadata": {
        "colab": {
          "base_uri": "https://localhost:8080/"
        },
        "id": "2MrQ4rcwsIaE",
        "outputId": "10f5980e-a2dd-49e0-ccad-247816bbc6c9"
      },
      "source": [
        "from sklearn.linear_model import Ridge\n",
        "\n",
        "ridge = Ridge().fit(X_train, y_train)\n",
        "print(\"훈련 세트 점수 : {:.2f}\".format(ridge.score(X_train, y_train)))"
      ],
      "execution_count": 42,
      "outputs": [
        {
          "output_type": "stream",
          "text": [
            "훈련 세트 점수 : 0.89\n"
          ],
          "name": "stdout"
        }
      ]
    },
    {
      "cell_type": "code",
      "metadata": {
        "colab": {
          "base_uri": "https://localhost:8080/"
        },
        "id": "oIKI2Tm-sin2",
        "outputId": "def7a56f-8b51-43b6-f565-059b28ded1c8"
      },
      "source": [
        "print(\"테스트 세트 점수 : {:.2f}\".format(ridge.score(X_test, y_test)))"
      ],
      "execution_count": 43,
      "outputs": [
        {
          "output_type": "stream",
          "text": [
            "테스트 세트 점수 : 0.75\n"
          ],
          "name": "stdout"
        }
      ]
    },
    {
      "cell_type": "code",
      "metadata": {
        "colab": {
          "base_uri": "https://localhost:8080/"
        },
        "id": "wCW5QzeXsoV4",
        "outputId": "37a785ea-769d-46a3-9a4b-fdc2bda2769d"
      },
      "source": [
        "ridge10 = Ridge(alpha = 10).fit(X_train, y_train)\n",
        "#alpha의 기능 : alpha 값이 클수록 계수를 0에 가깝게 한다. (값이 클수록 모델을 단순호함)\n",
        "print(\"훈련 세트 점수 : {:.2f}\".format(ridge10.score(X_train, y_train)))\n",
        "print(\"테스트 세트 점수 : {:.2f}\".format(ridge10.score(X_test, y_test)))"
      ],
      "execution_count": 44,
      "outputs": [
        {
          "output_type": "stream",
          "text": [
            "훈련 세트 점수 : 0.79\n",
            "테스트 세트 점수 : 0.64\n"
          ],
          "name": "stdout"
        }
      ]
    },
    {
      "cell_type": "code",
      "metadata": {
        "colab": {
          "base_uri": "https://localhost:8080/"
        },
        "id": "m_kjarjptG8M",
        "outputId": "9f81b96e-4a58-4d5d-c030-1fa0f9811d80"
      },
      "source": [
        "#alpha = 0.1은 위의 셀보다 모델이 복잡함\n",
        "#구체적으로 식이 어떻게 생겼는지는 나도 몰라 근데 이렇게 모르고 식을 써도 되는거야?\n",
        "ridge01 = Ridge(alpha = 0.1).fit(X_train, y_train)\n",
        "print(\"훈련 세트 점수 : {:.2f}\".format(ridge01.score(X_train, y_train)))\n",
        "print(\"테스트 세트 점수 : {:.2f}\".format(ridge01.score(X_test,y_test)))"
      ],
      "execution_count": 45,
      "outputs": [
        {
          "output_type": "stream",
          "text": [
            "훈련 세트 점수 : 0.93\n",
            "테스트 세트 점수 : 0.77\n"
          ],
          "name": "stdout"
        }
      ]
    },
    {
      "cell_type": "code",
      "metadata": {
        "colab": {
          "base_uri": "https://localhost:8080/",
          "height": 744
        },
        "id": "qMc11oXDuX54",
        "outputId": "db0e7772-62db-4d42-8206-c08cc12e4123"
      },
      "source": [
        "plt.plot(ridge10.coef_, '^', label = 'Ridge alpha = 10')\n",
        "plt.plot(ridge.coef_, 's', label = 'Ridge alpha = 1')\n",
        "plt.plot(ridge.coef_, 'v', label = 'Ridge alpha = 0.1')\n",
        "#그림을 해석해봐 : ridge모델의 alpha 값에 따라서 그림을 그렸는데 x축과 y축은 각각 뭐야?#\n",
        "\n",
        "plt.plot(lr.coef_,'o',label = 'Linear Regression')\n",
        "plt.xlabel('계수 목록')\n",
        "plt.ylabel('계수 크기')\n",
        "\"\"\"\n",
        "77쪽에서 특성은 104개가 있다고 했잖아\n",
        "ridge 모델링을 했을 때 데이터 프레임 104개에 대해서 표현한 것인가?\n",
        "x=1의 계수크기가 0인 ridge10 모델이면, ridge10 식에는 x1이 없는건가?\n",
        "81쪽에 설명이 자세히 나온듯? 대강 맥락은 맞는 것 같고, 다만 x=1이 x1이 아니라 x2인듯\n",
        "\"\"\"\n",
        "xlims = plt.xlim() #이건 왜 있는지 모르겠어\n",
        "plt.hlines(0, xlims[0], xlims[1]) #hlines y, x(range(a,b))\n",
        "plt.xlim(xlims) #x축 범위 지정\n",
        "plt.ylim(-25,25) #y축 범위 지정\n",
        "plt.legend() #범례"
      ],
      "execution_count": 46,
      "outputs": [
        {
          "output_type": "execute_result",
          "data": {
            "text/plain": [
              "<matplotlib.legend.Legend at 0x7f2882deca90>"
            ]
          },
          "metadata": {
            "tags": []
          },
          "execution_count": 46
        },
        {
          "output_type": "stream",
          "text": [
            "/usr/local/lib/python3.7/dist-packages/matplotlib/backends/backend_agg.py:214: RuntimeWarning: Glyph 44228 missing from current font.\n",
            "  font.set_text(s, 0.0, flags=flags)\n",
            "/usr/local/lib/python3.7/dist-packages/matplotlib/backends/backend_agg.py:214: RuntimeWarning: Glyph 49688 missing from current font.\n",
            "  font.set_text(s, 0.0, flags=flags)\n",
            "/usr/local/lib/python3.7/dist-packages/matplotlib/backends/backend_agg.py:214: RuntimeWarning: Glyph 47785 missing from current font.\n",
            "  font.set_text(s, 0.0, flags=flags)\n",
            "/usr/local/lib/python3.7/dist-packages/matplotlib/backends/backend_agg.py:214: RuntimeWarning: Glyph 47197 missing from current font.\n",
            "  font.set_text(s, 0.0, flags=flags)\n",
            "/usr/local/lib/python3.7/dist-packages/matplotlib/backends/backend_agg.py:183: RuntimeWarning: Glyph 44228 missing from current font.\n",
            "  font.set_text(s, 0, flags=flags)\n",
            "/usr/local/lib/python3.7/dist-packages/matplotlib/backends/backend_agg.py:183: RuntimeWarning: Glyph 49688 missing from current font.\n",
            "  font.set_text(s, 0, flags=flags)\n",
            "/usr/local/lib/python3.7/dist-packages/matplotlib/backends/backend_agg.py:183: RuntimeWarning: Glyph 47785 missing from current font.\n",
            "  font.set_text(s, 0, flags=flags)\n",
            "/usr/local/lib/python3.7/dist-packages/matplotlib/backends/backend_agg.py:183: RuntimeWarning: Glyph 47197 missing from current font.\n",
            "  font.set_text(s, 0, flags=flags)\n",
            "/usr/local/lib/python3.7/dist-packages/matplotlib/backends/backend_agg.py:214: RuntimeWarning: Glyph 53356 missing from current font.\n",
            "  font.set_text(s, 0.0, flags=flags)\n",
            "/usr/local/lib/python3.7/dist-packages/matplotlib/backends/backend_agg.py:214: RuntimeWarning: Glyph 44592 missing from current font.\n",
            "  font.set_text(s, 0.0, flags=flags)\n",
            "/usr/local/lib/python3.7/dist-packages/matplotlib/backends/backend_agg.py:183: RuntimeWarning: Glyph 53356 missing from current font.\n",
            "  font.set_text(s, 0, flags=flags)\n",
            "/usr/local/lib/python3.7/dist-packages/matplotlib/backends/backend_agg.py:183: RuntimeWarning: Glyph 44592 missing from current font.\n",
            "  font.set_text(s, 0, flags=flags)\n"
          ],
          "name": "stderr"
        },
        {
          "output_type": "display_data",
          "data": {
            "image/png": "[encoded data removed]",
            "text/plain": [
              "<Figure size 432x288 with 1 Axes>"
            ]
          },
          "metadata": {
            "tags": [],
            "needs_background": "light"
          }
        }
      ]
    },
    {
      "cell_type": "code",
      "metadata": {
        "colab": {
          "base_uri": "https://localhost:8080/",
          "height": 91
        },
        "id": "UUA_6N-VvNv2",
        "outputId": "87909d7a-7fb1-47ce-a0e8-ac4f6aa0a940"
      },
      "source": [
        "\"\"\"\n",
        "plt.plot(ridge10.coef_, '^', label = 'Ridge alpha = 10')\n",
        "\n",
        "#xlims = plt.xlim() #굳이 왜 넣은거지?\n",
        "#print(xlims)\n",
        "plt.hlines(1, xlims[0], 50) #xlim[0] = -5.15, xlim[1] = 108.15인듯\n",
        "#hlines가 어디서부터 어디까지 그어질지 선을 지정해줌\n",
        "#1은 hlines의 y값 정해줌\n",
        "#plt.xlim(xlims) #x값 범위\n",
        "plt.xlim()\n",
        "#plt.ylim(-25,25) #y값 범위\n",
        "#plt.legend()#범례 표시\n",
        "\"\"\""
      ],
      "execution_count": 47,
      "outputs": [
        {
          "output_type": "execute_result",
          "data": {
            "application/vnd.google.colaboratory.intrinsic+json": {
              "type": "string"
            },
            "text/plain": [
              "\"\\nplt.plot(ridge10.coef_, '^', label = 'Ridge alpha = 10')\\n\\n#xlims = plt.xlim() #굳이 왜 넣은거지?\\n#print(xlims)\\nplt.hlines(1, xlims[0], 50) #xlim[0] = -5.15, xlim[1] = 108.15인듯\\n#hlines가 어디서부터 어디까지 그어질지 선을 지정해줌\\n#1은 hlines의 y값 정해줌\\n#plt.xlim(xlims) #x값 범위\\nplt.xlim()\\n#plt.ylim(-25,25) #y값 범위\\n#plt.legend()#범례 표시\\n\""
            ]
          },
          "metadata": {
            "tags": []
          },
          "execution_count": 47
        }
      ]
    },
    {
      "cell_type": "code",
      "metadata": {
        "colab": {
          "base_uri": "https://localhost:8080/",
          "height": 325
        },
        "id": "mXRz1Dnyww3r",
        "outputId": "67cc8ed6-ce87-4ccc-c99c-f64c40ad170d"
      },
      "source": [
        "#규제의 효과를 이해하는 또 다른 방법 : alpha 값 고정, 훈련 데이터 크기 변화\n",
        "mglearn.plots.plot_ridge_n_samples()"
      ],
      "execution_count": 48,
      "outputs": [
        {
          "output_type": "display_data",
          "data": {
            "image/png": "[encoded data removed]",
            "text/plain": [
              "<Figure size 432x288 with 1 Axes>"
            ]
          },
          "metadata": {
            "tags": [],
            "needs_background": "light"
          }
        }
      ]
    },
    {
      "cell_type": "markdown",
      "metadata": {
        "id": "EeAndeMUq1Hd"
      },
      "source": [
        "* 라소\n",
        ": 리지회귀와 같이 라소도 회귀계수를 0으로 만들려고 한다.(특성 선택이 자동으로 이루어진다)\n",
        "L1규제라고도 한다."
      ]
    },
    {
      "cell_type": "code",
      "metadata": {
        "id": "piH71jTsx-bZ",
        "colab": {
          "base_uri": "https://localhost:8080/"
        },
        "outputId": "dab4c00a-0568-4e24-aca3-2d72491b06fd"
      },
      "source": [
        "from sklearn.linear_model import Lasso\n",
        "\n",
        "lasso = Lasso().fit(X_train, y_train)\n",
        "print(\"훈련 세트 점수 : {:.2f}\".format(lasso.score(X_train, y_train)))\n",
        "print(\"테스트 세트 점수 : {:.2f}\".format(lasso.score(X_test, y_test)))\n",
        "print(\"사용한 특성의 개수 : \", np.sum(lasso.coef_ != 0))"
      ],
      "execution_count": 49,
      "outputs": [
        {
          "output_type": "stream",
          "text": [
            "훈련 세트 점수 : 0.29\n",
            "테스트 세트 점수 : 0.21\n",
            "사용한 특성의 개수 :  4\n"
          ],
          "name": "stdout"
        }
      ]
    },
    {
      "cell_type": "code",
      "metadata": {
        "colab": {
          "base_uri": "https://localhost:8080/"
        },
        "id": "kdOy7jEgrbiS",
        "outputId": "bc3a861e-fea8-4057-e684-0112b6b20925"
      },
      "source": [
        "lasso.coef_"
      ],
      "execution_count": 53,
      "outputs": [
        {
          "output_type": "execute_result",
          "data": {
            "text/plain": [
              "array([-0.        ,  0.        , -0.        ,  0.        , -0.        ,\n",
              "        0.        , -0.        ,  0.        , -0.        , -0.        ,\n",
              "       -0.        ,  0.        , -5.3529079 , -0.        ,  0.        ,\n",
              "       -0.        ,  0.        , -0.        , -0.        , -0.        ,\n",
              "       -0.        , -0.        , -0.        , -0.        , -0.        ,\n",
              "       -0.        ,  0.        ,  0.        ,  0.        ,  0.        ,\n",
              "        0.        ,  0.        ,  0.        ,  0.        ,  0.        ,\n",
              "        0.        ,  0.        ,  0.        , -0.        ,  0.        ,\n",
              "       -0.        , -0.        , -0.        , -0.        , -0.        ,\n",
              "       -0.        , -0.        , -0.        , -0.        ,  0.        ,\n",
              "        0.        ,  0.        ,  0.        ,  0.        ,  0.        ,\n",
              "        0.        ,  0.        ,  0.        , -0.        , -0.        ,\n",
              "       -0.        , -0.        , -0.        , -0.        , -0.        ,\n",
              "       -0.        , -0.        , -0.        ,  0.        ,  0.        ,\n",
              "        0.        , -0.        , -0.        , -0.        ,  0.        ,\n",
              "       -0.        , -0.        ,  0.        , -0.        , -1.05063037,\n",
              "       -3.3104274 , -0.        , -0.        ,  0.        , -0.        ,\n",
              "       -0.        , -0.        ,  0.        , -0.        , -0.41386744,\n",
              "       -0.        , -0.        , -0.        , -0.        , -0.        ,\n",
              "       -0.        , -0.        , -0.        , -0.        , -0.        ,\n",
              "       -0.        ,  0.        , -0.        , -0.        ])"
            ]
          },
          "metadata": {
            "tags": []
          },
          "execution_count": 53
        }
      ]
    },
    {
      "cell_type": "code",
      "metadata": {
        "colab": {
          "base_uri": "https://localhost:8080/"
        },
        "id": "2MFT2mYWrcnf",
        "outputId": "62cbcfde-d43e-4ecc-df93-bd5856234862"
      },
      "source": [
        "lasso001 = Lasso(alpha = 0.01, max_iter = 100000).fit(X_train,y_train)\n",
        "print(\"훈련 세트 점수 : {:.2f}\".format(lasso001.score(X_train, y_train)))\n",
        "print(\"테스트 세트 점수 : {:.2f}\".format(lasso001.score(X_test, y_test)))\n",
        "#score함수 : 결정계수\n",
        "print(\"사용한 특성의 개수 : \", np.sum(lasso001.coef_ != 0))"
      ],
      "execution_count": 54,
      "outputs": [
        {
          "output_type": "stream",
          "text": [
            "훈련 세트 점수 : 0.90\n",
            "테스트 세트 점수 : 0.77\n",
            "사용한 특성의 개수 :  33\n"
          ],
          "name": "stdout"
        }
      ]
    },
    {
      "cell_type": "code",
      "metadata": {
        "id": "xzNOdX-0toe3"
      },
      "source": [
        "#모델을 더 복잡하게\n",
        "#alpha값을 더 낮추면 규제의 효과가 없다. 아 특성을 많이 반영한다 이 말인가?\n",
        "#복잡한 모델은 특성이 더 많음을 의미하잖아. 그러니깐 규제의 효과가 떨어지는거지\n",
        "#규제란? 아마도..  모델의 특성을 줄이는 일?\n"
      ],
      "execution_count": 55,
      "outputs": []
    },
    {
      "cell_type": "code",
      "metadata": {
        "colab": {
          "base_uri": "https://localhost:8080/"
        },
        "id": "h2QKGLYOuMh_",
        "outputId": "9332502a-c7da-46a5-d3af-87593ead44cf"
      },
      "source": [
        "lasso00001 = Lasso(alpha = 0.0001, max_iter = 100000).fit(X_train, y_train)\n",
        "print(\"훈련 세트 점수 : {:.2f}\".format(lasso00001.score(X_train,y_train)))\n",
        "print(\"테스트 세트 점수: {:.2f}\".format(lasso00001.score(X_test,y_test)))\n",
        "print(\"사용한 특성의 개수 : \", np.sum(lasso00001.coef_ != 0))"
      ],
      "execution_count": 56,
      "outputs": [
        {
          "output_type": "stream",
          "text": [
            "훈련 세트 점수 : 0.95\n",
            "테스트 세트 점수: 0.64\n",
            "사용한 특성의 개수 :  96\n"
          ],
          "name": "stdout"
        }
      ]
    },
    {
      "cell_type": "code",
      "metadata": {
        "colab": {
          "base_uri": "https://localhost:8080/",
          "height": 342
        },
        "id": "-DnKsqx8un4P",
        "outputId": "cbd0337f-f4c9-4617-b07c-5b5baa1ec17f"
      },
      "source": [
        "plt.plot(lasso.coef_, 's',label = 'Lasso alpha == 1')\n",
        "plt.plot(lasso001.coef_,'^',label = 'Lasso alpha == 0.01')\n",
        "plt.plot(lasso00001.coef_, 'v',label = 'Lasso alpha == 0.0001')\n",
        "\n",
        "plt.plot(ridge01.coef_,'o',label = 'Ridge alpha == 0.1')\n",
        "plt.legend(ncol = 2, loc = (0,1.05))\n",
        "#legend 모양과 위치 설정 : ncol = 2 (legend 내에 칼럼 2개) , loc = (0,1.05) (legend 위치 x = 0, y = 1.05 위치)\n",
        "plt.ylim(-25,25)\n",
        "plt.xlabel(\"coef num\") #계수 목록\n",
        "plt.ylabel(\"coef size\") #계수 크기"
      ],
      "execution_count": 61,
      "outputs": [
        {
          "output_type": "execute_result",
          "data": {
            "text/plain": [
              "Text(0, 0.5, 'coef size')"
            ]
          },
          "metadata": {
            "tags": []
          },
          "execution_count": 61
        },
        {
          "output_type": "display_data",
          "data": {
            "image/png": "[encoded data removed]",
            "text/plain": [
              "<Figure size 432x288 with 1 Axes>"
            ]
          },
          "metadata": {
            "tags": [],
            "needs_background": "light"
          }
        }
      ]
    },
    {
      "cell_type": "code",
      "metadata": {
        "id": "nOdKZkRzvSMl"
      },
      "source": [
        "#L1 L2규제의 정의를 모르는 것 같고"
      ],
      "execution_count": null,
      "outputs": []
    },
    {
      "cell_type": "markdown",
      "metadata": {
        "id": "7GRrmHRXwZhT"
      },
      "source": [
        "* 분류용 선형 모델"
      ]
    },
    {
      "cell_type": "code",
      "metadata": {
        "id": "Tb5tlgiNwbF6"
      },
      "source": [
        "#이진 분류\n",
        "#86쪽"
      ],
      "execution_count": 62,
      "outputs": []
    },
    {
      "cell_type": "code",
      "metadata": {
        "colab": {
          "base_uri": "https://localhost:8080/",
          "height": 300
        },
        "id": "GZLmHMaCx1ax",
        "outputId": "add2b0f7-087d-4620-f4cb-e4e26a45883a"
      },
      "source": [
        "from sklearn.linear_model import LogisticRegression\n",
        "from sklearn.svm import LinearSVC\n",
        "\n",
        "X, y = mglearn.datasets.make_forge()\n",
        "\n",
        "fig ,axes = plt.subplots(1,2, figsize = (10,3))\n",
        "for model, ax in zip([LinearSVC(max_iter = 5000), LogisticRegression()], axes):\n",
        "  clf = model.fit(X,y)\n",
        "  mglearn.plots.plot_2d_separator(clf, X, fill = False, eps = 0.5,\n",
        "                                 ax= ax, alpha = .7) #이게 없으면 평면을 나누는 선이 없어\n",
        "  #2차원 데이터셋 분할 평면 그리기(모델명, X, fill = 배경색 아니요(false),\n",
        "                                  #eps = (점-세모와 동그라미-를 이동시켜), alpha = 선의 진함정도)\n",
        "  mglearn.discrete_scatter(X[:,0], X[:,1], y, ax=ax)\n",
        "  ax.set_title(clf.__class__.__name__)\n",
        "  ax.set_xlabel('feature 0')\n",
        "  ax.set_ylabel('feature 1')\n",
        "axes[0].legend()\n",
        "#L2 규제를 사용한다 (L2 norm을 활용한 값)"
      ],
      "execution_count": 81,
      "outputs": [
        {
          "output_type": "stream",
          "text": [
            "/usr/local/lib/python3.7/dist-packages/sklearn/utils/deprecation.py:87: FutureWarning: Function make_blobs is deprecated; Please import make_blobs directly from scikit-learn\n",
            "  warnings.warn(msg, category=FutureWarning)\n"
          ],
          "name": "stderr"
        },
        {
          "output_type": "execute_result",
          "data": {
            "text/plain": [
              "<matplotlib.legend.Legend at 0x7f287d478fd0>"
            ]
          },
          "metadata": {
            "tags": []
          },
          "execution_count": 81
        },
        {
          "output_type": "display_data",
          "data": {
            "image/png": "[encoded data removed]",
            "text/plain": [
              "<Figure size 720x216 with 2 Axes>"
            ]
          },
          "metadata": {
            "tags": []
          }
        }
      ]
    },
    {
      "cell_type": "code",
      "metadata": {
        "id": "QLyrq7j3y0GX"
      },
      "source": [
        "#linearregression, linearsvc 의 규제 강도를 C가 결정한다.(앞서 모델-리지,라소-은 alpha값으로 조정했던듯)"
      ],
      "execution_count": 82,
      "outputs": []
    },
    {
      "cell_type": "code",
      "metadata": {
        "colab": {
          "base_uri": "https://localhost:8080/",
          "height": 268
        },
        "id": "_fcaHFb62af8",
        "outputId": "bd6457bd-caac-48fd-fb28-f659712731c0"
      },
      "source": [
        "mglearn.plots.plot_linear_svc_regularization()\n",
        "#그림만 봐선 분류 선의 뭐가 더 복잡한 지 잘 모르겠어\n",
        "#왼쪽일수록 규제가 크고 오른쪽일수록 규제가 작다\n",
        "#규제가 크다는건 모델이 단순하다는 의미 = feature 개수가 적다  alpha랑 반대"
      ],
      "execution_count": 83,
      "outputs": [
        {
          "output_type": "display_data",
          "data": {
            "image/png": "[encoded data removed]",
            "text/plain": [
              "<Figure size 864x288 with 3 Axes>"
            ]
          },
          "metadata": {
            "tags": []
          }
        }
      ]
    },
    {
      "cell_type": "code",
      "metadata": {
        "colab": {
          "base_uri": "https://localhost:8080/"
        },
        "id": "IddX7p5G2d7g",
        "outputId": "c5ce8375-b303-4ccd-d6b7-1aa0587134d0"
      },
      "source": [
        "from sklearn.datasets import load_breast_cancer #유방암 데이터\n",
        "\n",
        "cancer = load_breast_cancer()\n",
        "\n",
        "X_train, X_test, y_train, y_test = train_test_split(\n",
        "    cancer.data, cancer.target, stratify = cancer.target , random_state = 42)\n",
        "#stratify : \n",
        "logreg = LogisticRegression(max_iter=5000).fit(X_train, y_train)\n",
        "\n",
        "print(\"훈련 세트 점수 : {:.2f}\".format(logreg.score(X_train, y_train)))"
      ],
      "execution_count": 84,
      "outputs": [
        {
          "output_type": "stream",
          "text": [
            "훈련 세트 점수 : 0.96\n"
          ],
          "name": "stdout"
        }
      ]
    },
    {
      "cell_type": "markdown",
      "metadata": {
        "id": "rHRZj0hz4Dbg"
      },
      "source": [
        "stratify : 훈련 데이터를 나눌 때 무작위로 샘플링을 하지만, original datasets의 클래스 비율이 train, test set에서도 동일하게 유지되도록 함\n",
        "_(무작위로 샘플링 방법은 random_state  = 42)_를 택한듯함\n",
        "random_state = 42 : 다음에 계산할 때도 동일한 결과 반복 재현 가능하게 한 것"
      ]
    },
    {
      "cell_type": "code",
      "metadata": {
        "id": "uay2Ksjo3e_s"
      },
      "source": [
        ""
      ],
      "execution_count": null,
      "outputs": []
    }
  ]
}